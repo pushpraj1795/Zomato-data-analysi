{
 "cells": [
  {
   "cell_type": "markdown",
   "metadata": {},
   "source": [
    "# ZOMATO DATA ANALYSIS\n",
    "\n",
    "I got the very interesting zomato data for the city Pune, we have lots of features telling lots of stories about the food habits in pune.\n",
    "I am curious to know the answers of some of the questions like...\n",
    "\n",
    "\n",
    "<b>\n",
    "    \n",
    "Ques-1 Which are the best rated restaurants in Pune?\n",
    "\n",
    "Ques-2 Which is the best rated location for food in Pune?\n",
    "\n",
    "Ques-3 What is most liked cuisine in Pune?\n",
    "\n",
    "Ques-4 Which are the cheap but best restaurants in Pune?\n",
    "\n",
    "Ques-5 Which restaurant serves the best \"BIRYANI\" in Pune?\n",
    "\n",
    "Ques-6 Baner being my favourite place in Pune, Which are the best restaurants in Baner?\n",
    "    \n",
    "</b>\n",
    "\n",
    "and so many other questions i have...\n",
    "    \n",
    "\n",
    "\n",
    "\n",
    "Lets explore this data and try to find the answers of these questions...\n"
   ]
  },
  {
   "cell_type": "code",
   "execution_count": 25,
   "metadata": {},
   "outputs": [],
   "source": [
    "#importing libraries\n",
    "import numpy as np \n",
    "import pandas as pd # data processing, CSV file I/O (e.g. pd.read_csv)\n",
    "import seaborn as sns\n",
    "import matplotlib.pyplot as plt\n",
    "\n",
    "\n",
    "\n"
   ]
  },
  {
   "cell_type": "code",
   "execution_count": 26,
   "metadata": {},
   "outputs": [],
   "source": [
    "#removing warnings\n",
    "import warnings\n",
    "warnings.filterwarnings('ignore')"
   ]
  },
  {
   "cell_type": "code",
   "execution_count": 27,
   "metadata": {},
   "outputs": [
    {
     "data": {
      "text/html": [
       "<div>\n",
       "<style scoped>\n",
       "    .dataframe tbody tr th:only-of-type {\n",
       "        vertical-align: middle;\n",
       "    }\n",
       "\n",
       "    .dataframe tbody tr th {\n",
       "        vertical-align: top;\n",
       "    }\n",
       "\n",
       "    .dataframe thead th {\n",
       "        text-align: right;\n",
       "    }\n",
       "</style>\n",
       "<table border=\"1\" class=\"dataframe\">\n",
       "  <thead>\n",
       "    <tr style=\"text-align: right;\">\n",
       "      <th></th>\n",
       "      <th>link</th>\n",
       "      <th>rest_name</th>\n",
       "      <th>rest_type</th>\n",
       "      <th>loc</th>\n",
       "      <th>dine_rating</th>\n",
       "      <th>dine_reviews</th>\n",
       "      <th>delivery_rating</th>\n",
       "      <th>delivery_reviews</th>\n",
       "      <th>cuisine</th>\n",
       "      <th>Unnamed: 9</th>\n",
       "      <th>Cost (RS)</th>\n",
       "      <th>cost</th>\n",
       "      <th>liked</th>\n",
       "    </tr>\n",
       "  </thead>\n",
       "  <tbody>\n",
       "    <tr>\n",
       "      <th>0</th>\n",
       "      <td>https://www.zomato.com/pune/mix@36-the-westin-...</td>\n",
       "      <td>Mix@36 - The Westin\\r\\r\\n                     ...</td>\n",
       "      <td>Lounge</td>\n",
       "      <td>The Westin, Mundhwa</td>\n",
       "      <td>4.2</td>\n",
       "      <td>(707 Reviews)</td>\n",
       "      <td>NaN</td>\n",
       "      <td>NaN</td>\n",
       "      <td>North Indian,Continental,Asian,Finger Food,</td>\n",
       "      <td>NaN</td>\n",
       "      <td>4300</td>\n",
       "      <td>Rs. 4300</td>\n",
       "      <td>Cocktails, Chaat, Beer</td>\n",
       "    </tr>\n",
       "    <tr>\n",
       "      <th>1</th>\n",
       "      <td>https://www.zomato.com/pune/kangan-the-westin-...</td>\n",
       "      <td>Kangan - The Westin\\r\\r\\n                     ...</td>\n",
       "      <td>Fine Dining</td>\n",
       "      <td>The Westin, Mundhwa</td>\n",
       "      <td>4.1</td>\n",
       "      <td>(344 Reviews)</td>\n",
       "      <td>NaN</td>\n",
       "      <td>NaN</td>\n",
       "      <td>North Indian,Mughlai,</td>\n",
       "      <td>NaN</td>\n",
       "      <td>3500</td>\n",
       "      <td>Rs. 3500</td>\n",
       "      <td>Biryani, Veg Platter, Dal Makhani, Butter Chic...</td>\n",
       "    </tr>\n",
       "    <tr>\n",
       "      <th>2</th>\n",
       "      <td>https://www.zomato.com/pune/coriander-kitchen-...</td>\n",
       "      <td>Coriander Kitchen - Conrad Pune\\r\\r\\n         ...</td>\n",
       "      <td>Fine Dining</td>\n",
       "      <td>Conrad Pune, Bund Garden Road</td>\n",
       "      <td>4.5</td>\n",
       "      <td>(541 Reviews)</td>\n",
       "      <td>NaN</td>\n",
       "      <td>NaN</td>\n",
       "      <td>Mediterranean,Asian,North Indian,</td>\n",
       "      <td>NaN</td>\n",
       "      <td>3200</td>\n",
       "      <td>Rs. 3200</td>\n",
       "      <td>Pasta, Panipuri, Waffles, Pizza, Salad, Chaat,...</td>\n",
       "    </tr>\n",
       "    <tr>\n",
       "      <th>3</th>\n",
       "      <td>https://www.zomato.com/pune/the-market-the-wes...</td>\n",
       "      <td>The Market - The Westin\\r\\r\\n                 ...</td>\n",
       "      <td>Fine Dining</td>\n",
       "      <td>The Westin, Mundhwa</td>\n",
       "      <td>4.0</td>\n",
       "      <td>(55 Reviews)</td>\n",
       "      <td>NaN</td>\n",
       "      <td>NaN</td>\n",
       "      <td>Asian,European,North Indian,</td>\n",
       "      <td>NaN</td>\n",
       "      <td>3200</td>\n",
       "      <td>Rs. 3200</td>\n",
       "      <td>Vanilla Ice Cream, Chaat, Sushi</td>\n",
       "    </tr>\n",
       "    <tr>\n",
       "      <th>4</th>\n",
       "      <td>https://www.zomato.com/pune/vandaag-vivanta-pu...</td>\n",
       "      <td>Vandaag - Vivanta Pune\\r\\r\\n                  ...</td>\n",
       "      <td>Pub,Casual Dining</td>\n",
       "      <td>Vivanta Pune, Hinjewadi</td>\n",
       "      <td>3.9</td>\n",
       "      <td>(113 Reviews)</td>\n",
       "      <td>NaN</td>\n",
       "      <td>NaN</td>\n",
       "      <td>Finger Food,Continental,</td>\n",
       "      <td>NaN</td>\n",
       "      <td>3100</td>\n",
       "      <td>Rs. 3100</td>\n",
       "      <td>Cocktails, Beer, Peri Peri Chicken, Fish, Veg ...</td>\n",
       "    </tr>\n",
       "  </tbody>\n",
       "</table>\n",
       "</div>"
      ],
      "text/plain": [
       "                                                link  \\\n",
       "0  https://www.zomato.com/pune/mix@36-the-westin-...   \n",
       "1  https://www.zomato.com/pune/kangan-the-westin-...   \n",
       "2  https://www.zomato.com/pune/coriander-kitchen-...   \n",
       "3  https://www.zomato.com/pune/the-market-the-wes...   \n",
       "4  https://www.zomato.com/pune/vandaag-vivanta-pu...   \n",
       "\n",
       "                                           rest_name          rest_type  \\\n",
       "0  Mix@36 - The Westin\\r\\r\\n                     ...             Lounge   \n",
       "1  Kangan - The Westin\\r\\r\\n                     ...        Fine Dining   \n",
       "2  Coriander Kitchen - Conrad Pune\\r\\r\\n         ...        Fine Dining   \n",
       "3  The Market - The Westin\\r\\r\\n                 ...        Fine Dining   \n",
       "4  Vandaag - Vivanta Pune\\r\\r\\n                  ...  Pub,Casual Dining   \n",
       "\n",
       "                             loc  dine_rating   dine_reviews  delivery_rating  \\\n",
       "0            The Westin, Mundhwa          4.2  (707 Reviews)              NaN   \n",
       "1            The Westin, Mundhwa          4.1  (344 Reviews)              NaN   \n",
       "2  Conrad Pune, Bund Garden Road          4.5  (541 Reviews)              NaN   \n",
       "3            The Westin, Mundhwa          4.0   (55 Reviews)              NaN   \n",
       "4        Vivanta Pune, Hinjewadi          3.9  (113 Reviews)              NaN   \n",
       "\n",
       "  delivery_reviews                                      cuisine  Unnamed: 9  \\\n",
       "0              NaN  North Indian,Continental,Asian,Finger Food,         NaN   \n",
       "1              NaN                        North Indian,Mughlai,         NaN   \n",
       "2              NaN            Mediterranean,Asian,North Indian,         NaN   \n",
       "3              NaN                 Asian,European,North Indian,         NaN   \n",
       "4              NaN                     Finger Food,Continental,         NaN   \n",
       "\n",
       "   Cost (RS)      cost                                              liked  \n",
       "0       4300  Rs. 4300                             Cocktails, Chaat, Beer  \n",
       "1       3500  Rs. 3500  Biryani, Veg Platter, Dal Makhani, Butter Chic...  \n",
       "2       3200  Rs. 3200  Pasta, Panipuri, Waffles, Pizza, Salad, Chaat,...  \n",
       "3       3200  Rs. 3200                    Vanilla Ice Cream, Chaat, Sushi  \n",
       "4       3100  Rs. 3100  Cocktails, Beer, Peri Peri Chicken, Fish, Veg ...  "
      ]
     },
     "execution_count": 27,
     "metadata": {},
     "output_type": "execute_result"
    }
   ],
   "source": [
    "#loading the csv file\n",
    "df= pd.read_csv(\"zomato_outlet_final (11).csv\")\n",
    "df.head(5)"
   ]
  },
  {
   "cell_type": "code",
   "execution_count": 16,
   "metadata": {},
   "outputs": [
    {
     "data": {
      "text/plain": [
       "Index(['rest_name', 'rest_type', 'loc', 'dine_rating', 'dine_reviews',\n",
       "       'delivery_rating', 'delivery_reviews', 'cuisine', 'Cost (RS)', 'cost',\n",
       "       'liked'],\n",
       "      dtype='object')"
      ]
     },
     "execution_count": 16,
     "metadata": {},
     "output_type": "execute_result"
    }
   ],
   "source": [
    "df.columns"
   ]
  },
  {
   "cell_type": "code",
   "execution_count": 17,
   "metadata": {},
   "outputs": [
    {
     "ename": "KeyError",
     "evalue": "\"['link', 'Unnamed: 9'] not found in axis\"",
     "output_type": "error",
     "traceback": [
      "\u001b[1;31m---------------------------------------------------------------------------\u001b[0m",
      "\u001b[1;31mKeyError\u001b[0m                                  Traceback (most recent call last)",
      "Cell \u001b[1;32mIn[17], line 2\u001b[0m\n\u001b[0;32m      1\u001b[0m \u001b[38;5;66;03m#removing the unncessary column \"link\"\u001b[39;00m\n\u001b[1;32m----> 2\u001b[0m df\u001b[38;5;241m=\u001b[39mdf\u001b[38;5;241m.\u001b[39mdrop([\u001b[38;5;124m'\u001b[39m\u001b[38;5;124mlink\u001b[39m\u001b[38;5;124m'\u001b[39m,\u001b[38;5;124m'\u001b[39m\u001b[38;5;124mUnnamed: 9\u001b[39m\u001b[38;5;124m'\u001b[39m],axis\u001b[38;5;241m=\u001b[39m\u001b[38;5;241m0\u001b[39m)\n\u001b[0;32m      3\u001b[0m df\u001b[38;5;241m.\u001b[39mhead()\n",
      "File \u001b[1;32mC:\\ProgramData\\anaconda3\\Lib\\site-packages\\pandas\\util\\_decorators.py:331\u001b[0m, in \u001b[0;36mdeprecate_nonkeyword_arguments.<locals>.decorate.<locals>.wrapper\u001b[1;34m(*args, **kwargs)\u001b[0m\n\u001b[0;32m    325\u001b[0m \u001b[38;5;28;01mif\u001b[39;00m \u001b[38;5;28mlen\u001b[39m(args) \u001b[38;5;241m>\u001b[39m num_allow_args:\n\u001b[0;32m    326\u001b[0m     warnings\u001b[38;5;241m.\u001b[39mwarn(\n\u001b[0;32m    327\u001b[0m         msg\u001b[38;5;241m.\u001b[39mformat(arguments\u001b[38;5;241m=\u001b[39m_format_argument_list(allow_args)),\n\u001b[0;32m    328\u001b[0m         \u001b[38;5;167;01mFutureWarning\u001b[39;00m,\n\u001b[0;32m    329\u001b[0m         stacklevel\u001b[38;5;241m=\u001b[39mfind_stack_level(),\n\u001b[0;32m    330\u001b[0m     )\n\u001b[1;32m--> 331\u001b[0m \u001b[38;5;28;01mreturn\u001b[39;00m func(\u001b[38;5;241m*\u001b[39margs, \u001b[38;5;241m*\u001b[39m\u001b[38;5;241m*\u001b[39mkwargs)\n",
      "File \u001b[1;32mC:\\ProgramData\\anaconda3\\Lib\\site-packages\\pandas\\core\\frame.py:5399\u001b[0m, in \u001b[0;36mDataFrame.drop\u001b[1;34m(self, labels, axis, index, columns, level, inplace, errors)\u001b[0m\n\u001b[0;32m   5251\u001b[0m \u001b[38;5;129m@deprecate_nonkeyword_arguments\u001b[39m(version\u001b[38;5;241m=\u001b[39m\u001b[38;5;28;01mNone\u001b[39;00m, allowed_args\u001b[38;5;241m=\u001b[39m[\u001b[38;5;124m\"\u001b[39m\u001b[38;5;124mself\u001b[39m\u001b[38;5;124m\"\u001b[39m, \u001b[38;5;124m\"\u001b[39m\u001b[38;5;124mlabels\u001b[39m\u001b[38;5;124m\"\u001b[39m])\n\u001b[0;32m   5252\u001b[0m \u001b[38;5;28;01mdef\u001b[39;00m \u001b[38;5;21mdrop\u001b[39m(  \u001b[38;5;66;03m# type: ignore[override]\u001b[39;00m\n\u001b[0;32m   5253\u001b[0m     \u001b[38;5;28mself\u001b[39m,\n\u001b[1;32m   (...)\u001b[0m\n\u001b[0;32m   5260\u001b[0m     errors: IgnoreRaise \u001b[38;5;241m=\u001b[39m \u001b[38;5;124m\"\u001b[39m\u001b[38;5;124mraise\u001b[39m\u001b[38;5;124m\"\u001b[39m,\n\u001b[0;32m   5261\u001b[0m ) \u001b[38;5;241m-\u001b[39m\u001b[38;5;241m>\u001b[39m DataFrame \u001b[38;5;241m|\u001b[39m \u001b[38;5;28;01mNone\u001b[39;00m:\n\u001b[0;32m   5262\u001b[0m \u001b[38;5;250m    \u001b[39m\u001b[38;5;124;03m\"\"\"\u001b[39;00m\n\u001b[0;32m   5263\u001b[0m \u001b[38;5;124;03m    Drop specified labels from rows or columns.\u001b[39;00m\n\u001b[0;32m   5264\u001b[0m \n\u001b[1;32m   (...)\u001b[0m\n\u001b[0;32m   5397\u001b[0m \u001b[38;5;124;03m            weight  1.0     0.8\u001b[39;00m\n\u001b[0;32m   5398\u001b[0m \u001b[38;5;124;03m    \"\"\"\u001b[39;00m\n\u001b[1;32m-> 5399\u001b[0m     \u001b[38;5;28;01mreturn\u001b[39;00m \u001b[38;5;28msuper\u001b[39m()\u001b[38;5;241m.\u001b[39mdrop(\n\u001b[0;32m   5400\u001b[0m         labels\u001b[38;5;241m=\u001b[39mlabels,\n\u001b[0;32m   5401\u001b[0m         axis\u001b[38;5;241m=\u001b[39maxis,\n\u001b[0;32m   5402\u001b[0m         index\u001b[38;5;241m=\u001b[39mindex,\n\u001b[0;32m   5403\u001b[0m         columns\u001b[38;5;241m=\u001b[39mcolumns,\n\u001b[0;32m   5404\u001b[0m         level\u001b[38;5;241m=\u001b[39mlevel,\n\u001b[0;32m   5405\u001b[0m         inplace\u001b[38;5;241m=\u001b[39minplace,\n\u001b[0;32m   5406\u001b[0m         errors\u001b[38;5;241m=\u001b[39merrors,\n\u001b[0;32m   5407\u001b[0m     )\n",
      "File \u001b[1;32mC:\\ProgramData\\anaconda3\\Lib\\site-packages\\pandas\\util\\_decorators.py:331\u001b[0m, in \u001b[0;36mdeprecate_nonkeyword_arguments.<locals>.decorate.<locals>.wrapper\u001b[1;34m(*args, **kwargs)\u001b[0m\n\u001b[0;32m    325\u001b[0m \u001b[38;5;28;01mif\u001b[39;00m \u001b[38;5;28mlen\u001b[39m(args) \u001b[38;5;241m>\u001b[39m num_allow_args:\n\u001b[0;32m    326\u001b[0m     warnings\u001b[38;5;241m.\u001b[39mwarn(\n\u001b[0;32m    327\u001b[0m         msg\u001b[38;5;241m.\u001b[39mformat(arguments\u001b[38;5;241m=\u001b[39m_format_argument_list(allow_args)),\n\u001b[0;32m    328\u001b[0m         \u001b[38;5;167;01mFutureWarning\u001b[39;00m,\n\u001b[0;32m    329\u001b[0m         stacklevel\u001b[38;5;241m=\u001b[39mfind_stack_level(),\n\u001b[0;32m    330\u001b[0m     )\n\u001b[1;32m--> 331\u001b[0m \u001b[38;5;28;01mreturn\u001b[39;00m func(\u001b[38;5;241m*\u001b[39margs, \u001b[38;5;241m*\u001b[39m\u001b[38;5;241m*\u001b[39mkwargs)\n",
      "File \u001b[1;32mC:\\ProgramData\\anaconda3\\Lib\\site-packages\\pandas\\core\\generic.py:4505\u001b[0m, in \u001b[0;36mNDFrame.drop\u001b[1;34m(self, labels, axis, index, columns, level, inplace, errors)\u001b[0m\n\u001b[0;32m   4503\u001b[0m \u001b[38;5;28;01mfor\u001b[39;00m axis, labels \u001b[38;5;129;01min\u001b[39;00m axes\u001b[38;5;241m.\u001b[39mitems():\n\u001b[0;32m   4504\u001b[0m     \u001b[38;5;28;01mif\u001b[39;00m labels \u001b[38;5;129;01mis\u001b[39;00m \u001b[38;5;129;01mnot\u001b[39;00m \u001b[38;5;28;01mNone\u001b[39;00m:\n\u001b[1;32m-> 4505\u001b[0m         obj \u001b[38;5;241m=\u001b[39m obj\u001b[38;5;241m.\u001b[39m_drop_axis(labels, axis, level\u001b[38;5;241m=\u001b[39mlevel, errors\u001b[38;5;241m=\u001b[39merrors)\n\u001b[0;32m   4507\u001b[0m \u001b[38;5;28;01mif\u001b[39;00m inplace:\n\u001b[0;32m   4508\u001b[0m     \u001b[38;5;28mself\u001b[39m\u001b[38;5;241m.\u001b[39m_update_inplace(obj)\n",
      "File \u001b[1;32mC:\\ProgramData\\anaconda3\\Lib\\site-packages\\pandas\\core\\generic.py:4546\u001b[0m, in \u001b[0;36mNDFrame._drop_axis\u001b[1;34m(self, labels, axis, level, errors, only_slice)\u001b[0m\n\u001b[0;32m   4544\u001b[0m         new_axis \u001b[38;5;241m=\u001b[39m axis\u001b[38;5;241m.\u001b[39mdrop(labels, level\u001b[38;5;241m=\u001b[39mlevel, errors\u001b[38;5;241m=\u001b[39merrors)\n\u001b[0;32m   4545\u001b[0m     \u001b[38;5;28;01melse\u001b[39;00m:\n\u001b[1;32m-> 4546\u001b[0m         new_axis \u001b[38;5;241m=\u001b[39m axis\u001b[38;5;241m.\u001b[39mdrop(labels, errors\u001b[38;5;241m=\u001b[39merrors)\n\u001b[0;32m   4547\u001b[0m     indexer \u001b[38;5;241m=\u001b[39m axis\u001b[38;5;241m.\u001b[39mget_indexer(new_axis)\n\u001b[0;32m   4549\u001b[0m \u001b[38;5;66;03m# Case for non-unique axis\u001b[39;00m\n\u001b[0;32m   4550\u001b[0m \u001b[38;5;28;01melse\u001b[39;00m:\n",
      "File \u001b[1;32mC:\\ProgramData\\anaconda3\\Lib\\site-packages\\pandas\\core\\indexes\\base.py:6934\u001b[0m, in \u001b[0;36mIndex.drop\u001b[1;34m(self, labels, errors)\u001b[0m\n\u001b[0;32m   6932\u001b[0m \u001b[38;5;28;01mif\u001b[39;00m mask\u001b[38;5;241m.\u001b[39many():\n\u001b[0;32m   6933\u001b[0m     \u001b[38;5;28;01mif\u001b[39;00m errors \u001b[38;5;241m!=\u001b[39m \u001b[38;5;124m\"\u001b[39m\u001b[38;5;124mignore\u001b[39m\u001b[38;5;124m\"\u001b[39m:\n\u001b[1;32m-> 6934\u001b[0m         \u001b[38;5;28;01mraise\u001b[39;00m \u001b[38;5;167;01mKeyError\u001b[39;00m(\u001b[38;5;124mf\u001b[39m\u001b[38;5;124m\"\u001b[39m\u001b[38;5;132;01m{\u001b[39;00m\u001b[38;5;28mlist\u001b[39m(labels[mask])\u001b[38;5;132;01m}\u001b[39;00m\u001b[38;5;124m not found in axis\u001b[39m\u001b[38;5;124m\"\u001b[39m)\n\u001b[0;32m   6935\u001b[0m     indexer \u001b[38;5;241m=\u001b[39m indexer[\u001b[38;5;241m~\u001b[39mmask]\n\u001b[0;32m   6936\u001b[0m \u001b[38;5;28;01mreturn\u001b[39;00m \u001b[38;5;28mself\u001b[39m\u001b[38;5;241m.\u001b[39mdelete(indexer)\n",
      "\u001b[1;31mKeyError\u001b[0m: \"['link', 'Unnamed: 9'] not found in axis\""
     ]
    }
   ],
   "source": [
    "#removing the unncessary column \"link\"\n",
    "df=df.drop(['link','Unnamed: 9'],axis=0)\n",
    "df.head()\n",
    "\n",
    "#deleting the row. axis=0\n",
    "#deleting the columns, axis=1"
   ]
  },
  {
   "cell_type": "code",
   "execution_count": 28,
   "metadata": {
    "scrolled": true
   },
   "outputs": [
    {
     "data": {
      "text/plain": [
       "(5433, 13)"
      ]
     },
     "execution_count": 28,
     "metadata": {},
     "output_type": "execute_result"
    }
   ],
   "source": [
    "#we have 5433 restaurats in our data, including small tapris, medium size restaurants,\n",
    "#Bakeries, Dessert Parlours, Cake Shops, Bars, Big Restaurants, Casual Dinings etc.\n",
    "df.shape"
   ]
  },
  {
   "cell_type": "code",
   "execution_count": 29,
   "metadata": {
    "scrolled": true
   },
   "outputs": [
    {
     "name": "stdout",
     "output_type": "stream",
     "text": [
      "<class 'pandas.core.frame.DataFrame'>\n",
      "RangeIndex: 5433 entries, 0 to 5432\n",
      "Data columns (total 13 columns):\n",
      " #   Column            Non-Null Count  Dtype  \n",
      "---  ------            --------------  -----  \n",
      " 0   link              5433 non-null   object \n",
      " 1   rest_name         5433 non-null   object \n",
      " 2   rest_type         4336 non-null   object \n",
      " 3   loc               5433 non-null   object \n",
      " 4   dine_rating       5433 non-null   float64\n",
      " 5   dine_reviews      4829 non-null   object \n",
      " 6   delivery_rating   2539 non-null   float64\n",
      " 7   delivery_reviews  2539 non-null   object \n",
      " 8   cuisine           5433 non-null   object \n",
      " 9   Unnamed: 9        0 non-null      float64\n",
      " 10  Cost (RS)         5433 non-null   int64  \n",
      " 11  cost              5433 non-null   object \n",
      " 12  liked             2603 non-null   object \n",
      "dtypes: float64(3), int64(1), object(9)\n",
      "memory usage: 551.9+ KB\n"
     ]
    }
   ],
   "source": [
    "df.info()"
   ]
  },
  {
   "cell_type": "markdown",
   "metadata": {},
   "source": [
    "We have some null values in some colums, we will handle them step by step"
   ]
  },
  {
   "cell_type": "code",
   "execution_count": 8,
   "metadata": {},
   "outputs": [
    {
     "data": {
      "text/plain": [
       "250"
      ]
     },
     "execution_count": 8,
     "metadata": {},
     "output_type": "execute_result"
    }
   ],
   "source": [
    "# lets find the duplicates in the data\n",
    "\n",
    "df.duplicated().sum()\n"
   ]
  },
  {
   "cell_type": "code",
   "execution_count": 9,
   "metadata": {},
   "outputs": [
    {
     "data": {
      "text/plain": [
       "(5183, 11)"
      ]
     },
     "execution_count": 9,
     "metadata": {},
     "output_type": "execute_result"
    }
   ],
   "source": [
    "#we have 250 rows which are duplicates, lets remove the duplicate values\n",
    "\n",
    "df=df.drop_duplicates()\n",
    "df.shape\n",
    "\n",
    "#after removing duplicate rows, we got 5183 restaurants in our dataset"
   ]
  },
  {
   "cell_type": "markdown",
   "metadata": {},
   "source": [
    "# Exploratory Data Analysis\n",
    "\n",
    "Lets do the EDA on Zomato to understand the data in depth.\n",
    "\n",
    "We gonna do Univariate Data Analysis and Bivariate Data Analysis\n",
    "\n"
   ]
  },
  {
   "cell_type": "markdown",
   "metadata": {},
   "source": [
    "# FEATURE-1(dine_rating)"
   ]
  },
  {
   "cell_type": "code",
   "execution_count": 10,
   "metadata": {},
   "outputs": [
    {
     "data": {
      "text/plain": [
       "Text(0, 0.5, 'count of restaurants')"
      ]
     },
     "execution_count": 10,
     "metadata": {},
     "output_type": "execute_result"
    },
    {
     "data": {
      "image/png": "[encoded data removed]",
      "text/plain": [
       "<Figure size 432x288 with 1 Axes>"
      ]
     },
     "metadata": {
      "needs_background": "light"
     },
     "output_type": "display_data"
    }
   ],
   "source": [
    "#lets plot the histogram\n",
    "plt.hist(df['dine_rating'])\n",
    "plt.xlabel(\"dine_rating\")#\n",
    "plt.ylabel(\"count of restaurants\")\n",
    "\n",
    "\n"
   ]
  },
  {
   "cell_type": "markdown",
   "metadata": {},
   "source": [
    "# OBSERVATIONS\n",
    "\n",
    "1.More than 500 restaurnants have 0 ratings\n",
    "\n",
    "2.Most of the restaurants got rating between 3.5 to 4 and thats a good news for zomato.\n",
    "\n",
    "3.There are no restaurants which got 1 as a rating in our data."
   ]
  },
  {
   "cell_type": "code",
   "execution_count": 9,
   "metadata": {},
   "outputs": [
    {
     "data": {
      "text/plain": [
       "(array([  2.,   0.,  19.,  78., 152., 396., 992., 671., 204.,  25.]),\n",
       " array([2.  , 2.28, 2.56, 2.84, 3.12, 3.4 , 3.68, 3.96, 4.24, 4.52, 4.8 ]),\n",
       " <BarContainer object of 10 artists>)"
      ]
     },
     "execution_count": 9,
     "metadata": {},
     "output_type": "execute_result"
    },
    {
     "data": {
      "image/png": "[encoded data removed]",
      "text/plain": [
       "<Figure size 640x480 with 1 Axes>"
      ]
     },
     "metadata": {},
     "output_type": "display_data"
    }
   ],
   "source": [
    "plt.hist(df['delivery_rating'])\n"
   ]
  },
  {
   "cell_type": "code",
   "execution_count": 8,
   "metadata": {},
   "outputs": [
    {
     "data": {
      "text/plain": [
       "Index(['link', 'rest_name', 'rest_type', 'loc', 'dine_rating', 'dine_reviews',\n",
       "       'delivery_rating', 'delivery_reviews', 'cuisine', 'Unnamed: 9',\n",
       "       'Cost (RS)', 'cost', 'liked'],\n",
       "      dtype='object')"
      ]
     },
     "execution_count": 8,
     "metadata": {},
     "output_type": "execute_result"
    }
   ],
   "source": [
    "df.columns"
   ]
  },
  {
   "cell_type": "code",
   "execution_count": 12,
   "metadata": {
    "scrolled": true
   },
   "outputs": [
    {
     "data": {
      "image/png": "[encoded data removed]",
      "text/plain": [
       "<Figure size 300x300 with 1 Axes>"
      ]
     },
     "metadata": {},
     "output_type": "display_data"
    }
   ],
   "source": [
    "#probability density function\n",
    "\n",
    "sns.FacetGrid(df, height=3) \\\n",
    "   .map(sns.distplot, \"dine_rating\")\n",
    "plt.show()"
   ]
  },
  {
   "cell_type": "code",
   "execution_count": 13,
   "metadata": {},
   "outputs": [
    {
     "data": {
      "image/png": "[encoded data removed]",
      "text/plain": [
       "<Figure size 300x300 with 1 Axes>"
      ]
     },
     "metadata": {},
     "output_type": "display_data"
    }
   ],
   "source": [
    "sns.FacetGrid(df, height=3) \\\n",
    "   .map(sns.distplot, \"delivery_rating\")\n",
    "plt.show()"
   ]
  },
  {
   "cell_type": "code",
   "execution_count": 14,
   "metadata": {},
   "outputs": [
    {
     "data": {
      "text/plain": [
       "(array([  2.,   0.,  19.,  74., 146., 377., 938., 641., 190.,  22.]),\n",
       " array([2.  , 2.28, 2.56, 2.84, 3.12, 3.4 , 3.68, 3.96, 4.24, 4.52, 4.8 ]),\n",
       " <BarContainer object of 10 artists>)"
      ]
     },
     "execution_count": 14,
     "metadata": {},
     "output_type": "execute_result"
    },
    {
     "data": {
      "image/png": "[encoded data removed]",
      "text/plain": [
       "<Figure size 640x480 with 1 Axes>"
      ]
     },
     "metadata": {},
     "output_type": "display_data"
    }
   ],
   "source": [
    "plt.hist(df.delivery_rating)"
   ]
  },
  {
   "cell_type": "code",
   "execution_count": 21,
   "metadata": {
    "scrolled": true
   },
   "outputs": [
    {
     "name": "stdout",
     "output_type": "stream",
     "text": [
      "0.0    566\n",
      "3.9    495\n",
      "3.8    384\n",
      "4.0    375\n",
      "3.7    345\n",
      "3.6    326\n",
      "4.1    309\n",
      "4.2    270\n",
      "3.5    270\n",
      "3.4    241\n",
      "3.3    200\n",
      "3.1    195\n",
      "3.2    178\n",
      "4.3    171\n",
      "3.0    144\n",
      "2.9    124\n",
      "4.4    102\n",
      "2.8     92\n",
      "4.5     84\n",
      "2.7     73\n",
      "2.6     60\n",
      "4.6     44\n",
      "2.5     35\n",
      "2.4     22\n",
      "4.7     16\n",
      "2.3     16\n",
      "4.8     12\n",
      "2.0     11\n",
      "4.9     10\n",
      "2.2     10\n",
      "2.1      3\n",
      "Name: dine_rating, dtype: int64\n"
     ]
    },
    {
     "data": {
      "text/plain": [
       "<Axes: xlabel='dine_rating', ylabel='Count'>"
      ]
     },
     "execution_count": 21,
     "metadata": {},
     "output_type": "execute_result"
    },
    {
     "data": {
      "image/png": "[encoded data removed]",
      "text/plain": [
       "<Figure size 1500x1000 with 1 Axes>"
      ]
     },
     "metadata": {},
     "output_type": "display_data"
    }
   ],
   "source": [
    "#bar plot\n",
    "dine=df['dine_rating'].value_counts()\n",
    "print(dine)\n",
    "plt.figure(figsize=(15,10))\n",
    "\n",
    "plt.xlabel(\"dine_rating\")\n",
    "plt.ylabel(\"Count\")\n",
    "sns.barplot(x=dine.index,y=dine.values)\n",
    "#sns.barplot(x,y)"
   ]
  },
  {
   "cell_type": "code",
   "execution_count": 22,
   "metadata": {},
   "outputs": [
    {
     "name": "stdout",
     "output_type": "stream",
     "text": [
      "3.9    446\n",
      "3.8    280\n",
      "4.0    242\n",
      "4.1    227\n",
      "3.7    212\n",
      "4.2    172\n",
      "3.6    164\n",
      "3.5    123\n",
      "4.3     96\n",
      "3.4     90\n",
      "3.3     88\n",
      "4.4     58\n",
      "3.2     58\n",
      "3.1     37\n",
      "4.5     36\n",
      "3.0     24\n",
      "4.6     18\n",
      "2.9     13\n",
      "2.7      7\n",
      "2.6      6\n",
      "2.8      6\n",
      "4.7      3\n",
      "4.8      1\n",
      "2.0      1\n",
      "2.2      1\n",
      "Name: delivery_rating, dtype: int64\n"
     ]
    },
    {
     "data": {
      "text/plain": [
       "<Axes: xlabel='delievery_rating', ylabel='Count'>"
      ]
     },
     "execution_count": 22,
     "metadata": {},
     "output_type": "execute_result"
    },
    {
     "data": {
      "image/png": "[encoded data removed]",
      "text/plain": [
       "<Figure size 1500x1000 with 1 Axes>"
      ]
     },
     "metadata": {},
     "output_type": "display_data"
    }
   ],
   "source": [
    "dine2=df['delivery_rating'].value_counts()\n",
    "print(dine2)\n",
    "plt.figure(figsize=(15,10))\n",
    "\n",
    "plt.xlabel(\"delievery_rating\")\n",
    "plt.ylabel(\"Count\")\n",
    "sns.barplot(x=dine2.index,y=dine2.values)\n",
    "#sns.barplot(x,y)"
   ]
  },
  {
   "cell_type": "markdown",
   "metadata": {},
   "source": [
    "# Observation\n",
    "\n",
    "1. Most of the restarants have an average of 3.9 rating.\n",
    "\n",
    "\n",
    "2. There are lots of restaurants which got 0 ratings.\n",
    "\n"
   ]
  },
  {
   "cell_type": "code",
   "execution_count": 13,
   "metadata": {},
   "outputs": [
    {
     "data": {
      "text/plain": [
       "<AxesSubplot:xlabel='dine_rating'>"
      ]
     },
     "execution_count": 13,
     "metadata": {},
     "output_type": "execute_result"
    },
    {
     "data": {
      "image/png": "[encoded data removed]",
      "text/plain": [
       "<Figure size 432x288 with 1 Axes>"
      ]
     },
     "metadata": {
      "needs_background": "light"
     },
     "output_type": "display_data"
    }
   ],
   "source": [
    "#box plot\n",
    "\n",
    "sns.boxplot(df['dine_rating'])"
   ]
  },
  {
   "cell_type": "markdown",
   "metadata": {},
   "source": [
    "# Observation\n",
    "\n",
    "1. 25% of the dine ratings on zomato is less than 3.\n",
    "\n",
    "\n",
    "2. 50% of the dine ratings on zomato is approximately less tha 3.8.\n",
    "\n",
    "\n",
    "3. 75% of the dine rating on zomato is less than 4.\n",
    "\n",
    "\n",
    "4. 50% of the restaurants have rating between 3 to 4 and thats a good news for a company like Zomato."
   ]
  },
  {
   "cell_type": "markdown",
   "metadata": {},
   "source": [
    "# Feature-2(Rest_type- Restaurant_type)"
   ]
  },
  {
   "cell_type": "code",
   "execution_count": 24,
   "metadata": {},
   "outputs": [
    {
     "name": "stdout",
     "output_type": "stream",
     "text": [
      "67\n"
     ]
    }
   ],
   "source": [
    "print(len(df['rest_type'].unique()))"
   ]
  },
  {
   "cell_type": "markdown",
   "metadata": {},
   "source": [
    "There are 67 types of restaurant types in pune"
   ]
  },
  {
   "cell_type": "code",
   "execution_count": 15,
   "metadata": {
    "scrolled": true
   },
   "outputs": [
    {
     "data": {
      "text/plain": [
       "Quick Bites                  1467\n",
       "Casual Dining                 911\n",
       "Bakery                        329\n",
       "Dessert Parlor                308\n",
       "Casual Dining,Bar             241\n",
       "                             ... \n",
       "Casual Dining,Bakery            1\n",
       "Quick Bites,Casual Dining       1\n",
       "Confectionery                   1\n",
       "Food Truck,Dessert Parlor       1\n",
       "Food Court,Fast Food            1\n",
       "Name: rest_type, Length: 66, dtype: int64"
      ]
     },
     "execution_count": 15,
     "metadata": {},
     "output_type": "execute_result"
    }
   ],
   "source": [
    "#lets count the number of each Type\n",
    "df['rest_type'].value_counts()"
   ]
  },
  {
   "cell_type": "markdown",
   "metadata": {},
   "source": [
    "# Which Types of restaurants are leaders in pune?"
   ]
  },
  {
   "cell_type": "code",
   "execution_count": 25,
   "metadata": {},
   "outputs": [
    {
     "name": "stdout",
     "output_type": "stream",
     "text": [
      "Quick Bites              1467\n",
      "Casual Dining             911\n",
      "Bakery                    329\n",
      "Dessert Parlor            308\n",
      "Casual Dining,Bar         241\n",
      "Café                      204\n",
      "Bar,Casual Dining         126\n",
      "Bakery,Dessert Parlor      69\n",
      "Sweet Shop                 54\n",
      "Beverage Shop              54\n",
      "Name: rest_type, dtype: int64\n"
     ]
    }
   ],
   "source": [
    "rest_type_values=df['rest_type'].value_counts()[:10]\n",
    "print(rest_type_values)"
   ]
  },
  {
   "cell_type": "code",
   "execution_count": 26,
   "metadata": {},
   "outputs": [
    {
     "data": {
      "text/plain": [
       "<Axes: >"
      ]
     },
     "execution_count": 26,
     "metadata": {},
     "output_type": "execute_result"
    },
    {
     "data": {
      "image/png": "[encoded data removed]",
      "text/plain": [
       "<Figure size 1500x800 with 1 Axes>"
      ]
     },
     "metadata": {},
     "output_type": "display_data"
    }
   ],
   "source": [
    "plt.figure(figsize=(15,8))\n",
    "\n",
    "sns.barplot(x=rest_type_values.values,y=rest_type_values.index)"
   ]
  },
  {
   "cell_type": "markdown",
   "metadata": {},
   "source": [
    "We can see, there are mostly quick bites restaurants, followed by casual dining and bakery"
   ]
  },
  {
   "cell_type": "code",
   "execution_count": 28,
   "metadata": {},
   "outputs": [
    {
     "data": {
      "text/plain": [
       "(-1.0999991332514731,\n",
       " 1.0999999587262606,\n",
       " -1.0999996749570857,\n",
       " 1.0999935062037256)"
      ]
     },
     "execution_count": 28,
     "metadata": {},
     "output_type": "execute_result"
    },
    {
     "data": {
      "image/png": "[encoded data removed]",
      "text/plain": [
       "<Figure size 640x480 with 1 Axes>"
      ]
     },
     "metadata": {},
     "output_type": "display_data"
    }
   ],
   "source": [
    "#pie chart\n",
    "\n",
    "\n",
    "labels = rest_type_values.index\n",
    "sizes =rest_type_values.values \n",
    "\n",
    "plt.pie(sizes, labels=labels,autopct='%1.1f%%',\n",
    "        shadow=True)\n",
    "plt.axis('equal')"
   ]
  },
  {
   "cell_type": "markdown",
   "metadata": {},
   "source": [
    "# Observation\n",
    "\n",
    "1. 39% of the restaurants in pune are Quick bites.\n",
    "\n",
    "\n",
    "2. 24.2% of the restaurants in pune are Casual dining.\n",
    "\n",
    "\n",
    "3. 8.7 % of the restaurants in pune are Bakeries."
   ]
  },
  {
   "cell_type": "markdown",
   "metadata": {},
   "source": [
    "# Feature-3(Cuisines)"
   ]
  },
  {
   "cell_type": "code",
   "execution_count": 19,
   "metadata": {},
   "outputs": [
    {
     "data": {
      "text/plain": [
       "0       North Indian,Continental,Asian,Finger Food,\n",
       "1                             North Indian,Mughlai,\n",
       "2                 Mediterranean,Asian,North Indian,\n",
       "3                      Asian,European,North Indian,\n",
       "4                          Finger Food,Continental,\n",
       "                           ...                     \n",
       "5428             South Indian,Chinese,North Indian,\n",
       "5429                               Mughlai,Iranian,\n",
       "5430                Chinese,Fast Food,North Indian,\n",
       "5431       Beverages,Chinese,Street Food,Fast Food,\n",
       "5432                                  Thai,Chinese,\n",
       "Name: cuisine, Length: 5183, dtype: object"
      ]
     },
     "execution_count": 19,
     "metadata": {},
     "output_type": "execute_result"
    }
   ],
   "source": [
    "# we can see that a restaurant can have multiple cuisine\n",
    "df['cuisine']"
   ]
  },
  {
   "cell_type": "markdown",
   "metadata": {},
   "source": [
    "# Lets see what all cuisine Pune serves to us..."
   ]
  },
  {
   "cell_type": "code",
   "execution_count": 20,
   "metadata": {
    "scrolled": true
   },
   "outputs": [
    {
     "name": "stdout",
     "output_type": "stream",
     "text": [
      "['North Indian', 'Continental', 'Asian', 'Finger Food', '', 'Mughlai', 'Mediterranean', 'European', 'Salad', 'Malaysian', 'Vietnamese', 'Thai', 'Chinese', 'Japanese', 'Biryani', 'Kebab', 'Italian', 'Bar Food', 'Seafood', 'Fast Food', 'Healthy Food', 'Mexican', 'Desserts', 'American', 'Greek', 'Maharashtrian', 'Beverages', 'South American', 'Steak', 'Brazilian', 'Malwani', 'South Indian', 'Chettinad', 'Kerala', 'Mangalorean', 'Pizza', 'Iranian', 'Goan', 'Charcoal Chicken', 'Cafe', 'Modern Indian', 'Korean', 'Sushi', 'Cantonese', 'Momos', 'Bakery', 'Tea', 'BBQ', 'Mongolian', 'Tex-Mex', 'Lebanese', 'Street Food', 'Cuisine Varies', 'Sandwich', 'Middle Eastern', 'African', 'Ethiopian', 'Burger', 'Hyderabadi', 'Parsi', 'German', 'Konkan', 'Rolls', 'Singaporean', 'Indonesian', 'Rajasthani', 'Lucknowi', 'Burmese', 'Bengali', 'Ice Cream', 'Kashmiri', 'Arabian', 'Gujarati', 'French', 'Tibetan', 'Coffee', 'Mithai', 'Bihari', 'Wraps', 'Odia', 'Juices', 'Raw Meats', 'Turkish', 'Frozen Yogurt', 'Awadhi', 'Afghan', 'Paan', 'Assamese', 'Andhra', 'Panini', 'Mishti', 'Naga']\n",
      "92\n"
     ]
    }
   ],
   "source": [
    "#NUMBER OF CUISINE IN PUNE\n",
    "cuisine=[]\n",
    "for i in df['cuisine']:\n",
    "    for j in i.split(\",\"):\n",
    "        if j not in cuisine:\n",
    "            cuisine.append(j)\n",
    "print(cuisine)\n",
    "print(len(cuisine))\n",
    "\n",
    "#there are 92 total cuisine in all the restaurant in pune"
   ]
  },
  {
   "cell_type": "code",
   "execution_count": 29,
   "metadata": {},
   "outputs": [
    {
     "name": "stdout",
     "output_type": "stream",
     "text": [
      "['hey', 'this', 'is', 'nishesh']\n"
     ]
    }
   ],
   "source": [
    "a=\"hey this is nishesh\"\n",
    "b=a.split(\" \")\n",
    "print(b)"
   ]
  },
  {
   "cell_type": "markdown",
   "metadata": {},
   "source": [
    "We can see there are lots of cuisines in pune, some of them are are not cuisines like Coffee, Mithai etc but in data we have it like that\n"
   ]
  },
  {
   "cell_type": "markdown",
   "metadata": {},
   "source": [
    "# Total number of restaurants serving biryani in Pune"
   ]
  },
  {
   "cell_type": "code",
   "execution_count": 21,
   "metadata": {
    "scrolled": true
   },
   "outputs": [
    {
     "name": "stdout",
     "output_type": "stream",
     "text": [
      "566\n"
     ]
    }
   ],
   "source": [
    "count=0\n",
    "for i in df['cuisine']:\n",
    "    for j in i.split(\",\"):\n",
    "        if j ==\"Biryani\":\n",
    "            count=count+1\n",
    "print(count)\n",
    "\n",
    "#There are 566 restaurant in pune which serves biryani"
   ]
  },
  {
   "cell_type": "code",
   "execution_count": 80,
   "metadata": {},
   "outputs": [
    {
     "data": {
      "text/html": [
       "<div>\n",
       "<style scoped>\n",
       "    .dataframe tbody tr th:only-of-type {\n",
       "        vertical-align: middle;\n",
       "    }\n",
       "\n",
       "    .dataframe tbody tr th {\n",
       "        vertical-align: top;\n",
       "    }\n",
       "\n",
       "    .dataframe thead th {\n",
       "        text-align: right;\n",
       "    }\n",
       "</style>\n",
       "<table border=\"1\" class=\"dataframe\">\n",
       "  <thead>\n",
       "    <tr style=\"text-align: right;\">\n",
       "      <th></th>\n",
       "      <th>cuisine</th>\n",
       "      <th>rest_name</th>\n",
       "    </tr>\n",
       "  </thead>\n",
       "  <tbody>\n",
       "    <tr>\n",
       "      <th>0</th>\n",
       "      <td>North Indian,Continental,Asian,Finger Food,</td>\n",
       "      <td>Mix@36 - The Westin\\r\\r\\n                     ...</td>\n",
       "    </tr>\n",
       "    <tr>\n",
       "      <th>1</th>\n",
       "      <td>North Indian,Mughlai,</td>\n",
       "      <td>Kangan - The Westin\\r\\r\\n                     ...</td>\n",
       "    </tr>\n",
       "    <tr>\n",
       "      <th>2</th>\n",
       "      <td>Mediterranean,Asian,North Indian,</td>\n",
       "      <td>Coriander Kitchen - Conrad Pune\\r\\r\\n         ...</td>\n",
       "    </tr>\n",
       "    <tr>\n",
       "      <th>3</th>\n",
       "      <td>Asian,European,North Indian,</td>\n",
       "      <td>The Market - The Westin\\r\\r\\n                 ...</td>\n",
       "    </tr>\n",
       "    <tr>\n",
       "      <th>4</th>\n",
       "      <td>Finger Food,Continental,</td>\n",
       "      <td>Vandaag - Vivanta Pune\\r\\r\\n                  ...</td>\n",
       "    </tr>\n",
       "    <tr>\n",
       "      <th>...</th>\n",
       "      <td>...</td>\n",
       "      <td>...</td>\n",
       "    </tr>\n",
       "    <tr>\n",
       "      <th>5428</th>\n",
       "      <td>South Indian,Chinese,North Indian,</td>\n",
       "      <td>Murli Pure Veg\\r\\n                            ...</td>\n",
       "    </tr>\n",
       "    <tr>\n",
       "      <th>5429</th>\n",
       "      <td>Mughlai,Iranian,</td>\n",
       "      <td>The Irani Cafe Restaurant\\r\\n                 ...</td>\n",
       "    </tr>\n",
       "    <tr>\n",
       "      <th>5430</th>\n",
       "      <td>Chinese,Fast Food,North Indian,</td>\n",
       "      <td>Hotel Shilpa Gavran\\r\\n                       ...</td>\n",
       "    </tr>\n",
       "    <tr>\n",
       "      <th>5431</th>\n",
       "      <td>Beverages,Chinese,Street Food,Fast Food,</td>\n",
       "      <td>MH 12 Pav Bhaji &amp; Juice Center\\r\\n            ...</td>\n",
       "    </tr>\n",
       "    <tr>\n",
       "      <th>5432</th>\n",
       "      <td>Thai,Chinese,</td>\n",
       "      <td>Liyo China\\r\\n                                ...</td>\n",
       "    </tr>\n",
       "  </tbody>\n",
       "</table>\n",
       "<p>5183 rows × 2 columns</p>\n",
       "</div>"
      ],
      "text/plain": [
       "                                          cuisine  \\\n",
       "0     North Indian,Continental,Asian,Finger Food,   \n",
       "1                           North Indian,Mughlai,   \n",
       "2               Mediterranean,Asian,North Indian,   \n",
       "3                    Asian,European,North Indian,   \n",
       "4                        Finger Food,Continental,   \n",
       "...                                           ...   \n",
       "5428           South Indian,Chinese,North Indian,   \n",
       "5429                             Mughlai,Iranian,   \n",
       "5430              Chinese,Fast Food,North Indian,   \n",
       "5431     Beverages,Chinese,Street Food,Fast Food,   \n",
       "5432                                Thai,Chinese,   \n",
       "\n",
       "                                              rest_name  \n",
       "0     Mix@36 - The Westin\\r\\r\\n                     ...  \n",
       "1     Kangan - The Westin\\r\\r\\n                     ...  \n",
       "2     Coriander Kitchen - Conrad Pune\\r\\r\\n         ...  \n",
       "3     The Market - The Westin\\r\\r\\n                 ...  \n",
       "4     Vandaag - Vivanta Pune\\r\\r\\n                  ...  \n",
       "...                                                 ...  \n",
       "5428  Murli Pure Veg\\r\\n                            ...  \n",
       "5429  The Irani Cafe Restaurant\\r\\n                 ...  \n",
       "5430  Hotel Shilpa Gavran\\r\\n                       ...  \n",
       "5431  MH 12 Pav Bhaji & Juice Center\\r\\n            ...  \n",
       "5432  Liyo China\\r\\n                                ...  \n",
       "\n",
       "[5183 rows x 2 columns]"
      ]
     },
     "execution_count": 80,
     "metadata": {},
     "output_type": "execute_result"
    }
   ],
   "source": [
    "dfnew=df[[\"cuisine\",\"rest_name\"]]\n",
    "dfnew.head(30)"
   ]
  },
  {
   "cell_type": "code",
   "execution_count": 97,
   "metadata": {},
   "outputs": [
    {
     "ename": "KeyError",
     "evalue": "837",
     "output_type": "error",
     "traceback": [
      "\u001b[1;31m---------------------------------------------------------------------------\u001b[0m",
      "\u001b[1;31mKeyError\u001b[0m                                  Traceback (most recent call last)",
      "File \u001b[1;32m~\\anaconda3\\Lib\\site-packages\\pandas\\core\\indexes\\base.py:3802\u001b[0m, in \u001b[0;36mIndex.get_loc\u001b[1;34m(self, key, method, tolerance)\u001b[0m\n\u001b[0;32m   3801\u001b[0m \u001b[38;5;28;01mtry\u001b[39;00m:\n\u001b[1;32m-> 3802\u001b[0m     \u001b[38;5;28;01mreturn\u001b[39;00m \u001b[38;5;28mself\u001b[39m\u001b[38;5;241m.\u001b[39m_engine\u001b[38;5;241m.\u001b[39mget_loc(casted_key)\n\u001b[0;32m   3803\u001b[0m \u001b[38;5;28;01mexcept\u001b[39;00m \u001b[38;5;167;01mKeyError\u001b[39;00m \u001b[38;5;28;01mas\u001b[39;00m err:\n",
      "File \u001b[1;32m~\\anaconda3\\Lib\\site-packages\\pandas\\_libs\\index.pyx:138\u001b[0m, in \u001b[0;36mpandas._libs.index.IndexEngine.get_loc\u001b[1;34m()\u001b[0m\n",
      "File \u001b[1;32m~\\anaconda3\\Lib\\site-packages\\pandas\\_libs\\index.pyx:165\u001b[0m, in \u001b[0;36mpandas._libs.index.IndexEngine.get_loc\u001b[1;34m()\u001b[0m\n",
      "File \u001b[1;32mpandas\\_libs\\hashtable_class_helper.pxi:2263\u001b[0m, in \u001b[0;36mpandas._libs.hashtable.Int64HashTable.get_item\u001b[1;34m()\u001b[0m\n",
      "File \u001b[1;32mpandas\\_libs\\hashtable_class_helper.pxi:2273\u001b[0m, in \u001b[0;36mpandas._libs.hashtable.Int64HashTable.get_item\u001b[1;34m()\u001b[0m\n",
      "\u001b[1;31mKeyError\u001b[0m: 837",
      "\nThe above exception was the direct cause of the following exception:\n",
      "\u001b[1;31mKeyError\u001b[0m                                  Traceback (most recent call last)",
      "Cell \u001b[1;32mIn[97], line 5\u001b[0m\n\u001b[0;32m      3\u001b[0m     \u001b[38;5;28;01mfor\u001b[39;00m j \u001b[38;5;129;01min\u001b[39;00m k\u001b[38;5;241m.\u001b[39msplit(\u001b[38;5;124m\"\u001b[39m\u001b[38;5;124m,\u001b[39m\u001b[38;5;124m\"\u001b[39m):\n\u001b[0;32m      4\u001b[0m         \u001b[38;5;28;01mif\u001b[39;00m j \u001b[38;5;241m==\u001b[39m\u001b[38;5;124m\"\u001b[39m\u001b[38;5;124mBiryani\u001b[39m\u001b[38;5;124m\"\u001b[39m:\n\u001b[1;32m----> 5\u001b[0m             rest_name\u001b[38;5;241m.\u001b[39mappend(df[\u001b[38;5;124m\"\u001b[39m\u001b[38;5;124mrest_name\u001b[39m\u001b[38;5;124m\"\u001b[39m][i])\n\u001b[0;32m      7\u001b[0m \u001b[38;5;28mprint\u001b[39m(rest_name)\n",
      "File \u001b[1;32m~\\anaconda3\\Lib\\site-packages\\pandas\\core\\series.py:981\u001b[0m, in \u001b[0;36mSeries.__getitem__\u001b[1;34m(self, key)\u001b[0m\n\u001b[0;32m    978\u001b[0m     \u001b[38;5;28;01mreturn\u001b[39;00m \u001b[38;5;28mself\u001b[39m\u001b[38;5;241m.\u001b[39m_values[key]\n\u001b[0;32m    980\u001b[0m \u001b[38;5;28;01melif\u001b[39;00m key_is_scalar:\n\u001b[1;32m--> 981\u001b[0m     \u001b[38;5;28;01mreturn\u001b[39;00m \u001b[38;5;28mself\u001b[39m\u001b[38;5;241m.\u001b[39m_get_value(key)\n\u001b[0;32m    983\u001b[0m \u001b[38;5;28;01mif\u001b[39;00m is_hashable(key):\n\u001b[0;32m    984\u001b[0m     \u001b[38;5;66;03m# Otherwise index.get_value will raise InvalidIndexError\u001b[39;00m\n\u001b[0;32m    985\u001b[0m     \u001b[38;5;28;01mtry\u001b[39;00m:\n\u001b[0;32m    986\u001b[0m         \u001b[38;5;66;03m# For labels that don't resolve as scalars like tuples and frozensets\u001b[39;00m\n",
      "File \u001b[1;32m~\\anaconda3\\Lib\\site-packages\\pandas\\core\\series.py:1089\u001b[0m, in \u001b[0;36mSeries._get_value\u001b[1;34m(self, label, takeable)\u001b[0m\n\u001b[0;32m   1086\u001b[0m     \u001b[38;5;28;01mreturn\u001b[39;00m \u001b[38;5;28mself\u001b[39m\u001b[38;5;241m.\u001b[39m_values[label]\n\u001b[0;32m   1088\u001b[0m \u001b[38;5;66;03m# Similar to Index.get_value, but we do not fall back to positional\u001b[39;00m\n\u001b[1;32m-> 1089\u001b[0m loc \u001b[38;5;241m=\u001b[39m \u001b[38;5;28mself\u001b[39m\u001b[38;5;241m.\u001b[39mindex\u001b[38;5;241m.\u001b[39mget_loc(label)\n\u001b[0;32m   1090\u001b[0m \u001b[38;5;28;01mreturn\u001b[39;00m \u001b[38;5;28mself\u001b[39m\u001b[38;5;241m.\u001b[39mindex\u001b[38;5;241m.\u001b[39m_get_values_for_loc(\u001b[38;5;28mself\u001b[39m, loc, label)\n",
      "File \u001b[1;32m~\\anaconda3\\Lib\\site-packages\\pandas\\core\\indexes\\base.py:3804\u001b[0m, in \u001b[0;36mIndex.get_loc\u001b[1;34m(self, key, method, tolerance)\u001b[0m\n\u001b[0;32m   3802\u001b[0m     \u001b[38;5;28;01mreturn\u001b[39;00m \u001b[38;5;28mself\u001b[39m\u001b[38;5;241m.\u001b[39m_engine\u001b[38;5;241m.\u001b[39mget_loc(casted_key)\n\u001b[0;32m   3803\u001b[0m \u001b[38;5;28;01mexcept\u001b[39;00m \u001b[38;5;167;01mKeyError\u001b[39;00m \u001b[38;5;28;01mas\u001b[39;00m err:\n\u001b[1;32m-> 3804\u001b[0m     \u001b[38;5;28;01mraise\u001b[39;00m \u001b[38;5;167;01mKeyError\u001b[39;00m(key) \u001b[38;5;28;01mfrom\u001b[39;00m \u001b[38;5;21;01merr\u001b[39;00m\n\u001b[0;32m   3805\u001b[0m \u001b[38;5;28;01mexcept\u001b[39;00m \u001b[38;5;167;01mTypeError\u001b[39;00m:\n\u001b[0;32m   3806\u001b[0m     \u001b[38;5;66;03m# If we have a listlike key, _check_indexing_error will raise\u001b[39;00m\n\u001b[0;32m   3807\u001b[0m     \u001b[38;5;66;03m#  InvalidIndexError. Otherwise we fall through and re-raise\u001b[39;00m\n\u001b[0;32m   3808\u001b[0m     \u001b[38;5;66;03m#  the TypeError.\u001b[39;00m\n\u001b[0;32m   3809\u001b[0m     \u001b[38;5;28mself\u001b[39m\u001b[38;5;241m.\u001b[39m_check_indexing_error(key)\n",
      "\u001b[1;31mKeyError\u001b[0m: 837"
     ]
    }
   ],
   "source": [
    "rest_name=[]\n",
    "for i,k in enumerate(df[\"cuisine\"]):\n",
    "    for j in k.split(\",\"):\n",
    "        if j ==\"Biryani\":\n",
    "            rest_name.append(df[\"rest_name\"][i])\n",
    "            \n",
    "print(rest_name)"
   ]
  },
  {
   "cell_type": "code",
   "execution_count": 76,
   "metadata": {},
   "outputs": [
    {
     "ename": "KeyError",
     "evalue": "60",
     "output_type": "error",
     "traceback": [
      "\u001b[1;31m---------------------------------------------------------------------------\u001b[0m",
      "\u001b[1;31mKeyError\u001b[0m                                  Traceback (most recent call last)",
      "File \u001b[1;32m~\\anaconda3\\Lib\\site-packages\\pandas\\core\\indexes\\base.py:3802\u001b[0m, in \u001b[0;36mIndex.get_loc\u001b[1;34m(self, key, method, tolerance)\u001b[0m\n\u001b[0;32m   3801\u001b[0m \u001b[38;5;28;01mtry\u001b[39;00m:\n\u001b[1;32m-> 3802\u001b[0m     \u001b[38;5;28;01mreturn\u001b[39;00m \u001b[38;5;28mself\u001b[39m\u001b[38;5;241m.\u001b[39m_engine\u001b[38;5;241m.\u001b[39mget_loc(casted_key)\n\u001b[0;32m   3803\u001b[0m \u001b[38;5;28;01mexcept\u001b[39;00m \u001b[38;5;167;01mKeyError\u001b[39;00m \u001b[38;5;28;01mas\u001b[39;00m err:\n",
      "File \u001b[1;32m~\\anaconda3\\Lib\\site-packages\\pandas\\_libs\\index.pyx:138\u001b[0m, in \u001b[0;36mpandas._libs.index.IndexEngine.get_loc\u001b[1;34m()\u001b[0m\n",
      "File \u001b[1;32m~\\anaconda3\\Lib\\site-packages\\pandas\\_libs\\index.pyx:165\u001b[0m, in \u001b[0;36mpandas._libs.index.IndexEngine.get_loc\u001b[1;34m()\u001b[0m\n",
      "File \u001b[1;32mpandas\\_libs\\hashtable_class_helper.pxi:2263\u001b[0m, in \u001b[0;36mpandas._libs.hashtable.Int64HashTable.get_item\u001b[1;34m()\u001b[0m\n",
      "File \u001b[1;32mpandas\\_libs\\hashtable_class_helper.pxi:2273\u001b[0m, in \u001b[0;36mpandas._libs.hashtable.Int64HashTable.get_item\u001b[1;34m()\u001b[0m\n",
      "\u001b[1;31mKeyError\u001b[0m: 60",
      "\nThe above exception was the direct cause of the following exception:\n",
      "\u001b[1;31mKeyError\u001b[0m                                  Traceback (most recent call last)",
      "Cell \u001b[1;32mIn[76], line 1\u001b[0m\n\u001b[1;32m----> 1\u001b[0m df[\u001b[38;5;124m\"\u001b[39m\u001b[38;5;124mrest_name\u001b[39m\u001b[38;5;124m\"\u001b[39m][\u001b[38;5;241m60\u001b[39m]\n",
      "File \u001b[1;32m~\\anaconda3\\Lib\\site-packages\\pandas\\core\\series.py:981\u001b[0m, in \u001b[0;36mSeries.__getitem__\u001b[1;34m(self, key)\u001b[0m\n\u001b[0;32m    978\u001b[0m     \u001b[38;5;28;01mreturn\u001b[39;00m \u001b[38;5;28mself\u001b[39m\u001b[38;5;241m.\u001b[39m_values[key]\n\u001b[0;32m    980\u001b[0m \u001b[38;5;28;01melif\u001b[39;00m key_is_scalar:\n\u001b[1;32m--> 981\u001b[0m     \u001b[38;5;28;01mreturn\u001b[39;00m \u001b[38;5;28mself\u001b[39m\u001b[38;5;241m.\u001b[39m_get_value(key)\n\u001b[0;32m    983\u001b[0m \u001b[38;5;28;01mif\u001b[39;00m is_hashable(key):\n\u001b[0;32m    984\u001b[0m     \u001b[38;5;66;03m# Otherwise index.get_value will raise InvalidIndexError\u001b[39;00m\n\u001b[0;32m    985\u001b[0m     \u001b[38;5;28;01mtry\u001b[39;00m:\n\u001b[0;32m    986\u001b[0m         \u001b[38;5;66;03m# For labels that don't resolve as scalars like tuples and frozensets\u001b[39;00m\n",
      "File \u001b[1;32m~\\anaconda3\\Lib\\site-packages\\pandas\\core\\series.py:1089\u001b[0m, in \u001b[0;36mSeries._get_value\u001b[1;34m(self, label, takeable)\u001b[0m\n\u001b[0;32m   1086\u001b[0m     \u001b[38;5;28;01mreturn\u001b[39;00m \u001b[38;5;28mself\u001b[39m\u001b[38;5;241m.\u001b[39m_values[label]\n\u001b[0;32m   1088\u001b[0m \u001b[38;5;66;03m# Similar to Index.get_value, but we do not fall back to positional\u001b[39;00m\n\u001b[1;32m-> 1089\u001b[0m loc \u001b[38;5;241m=\u001b[39m \u001b[38;5;28mself\u001b[39m\u001b[38;5;241m.\u001b[39mindex\u001b[38;5;241m.\u001b[39mget_loc(label)\n\u001b[0;32m   1090\u001b[0m \u001b[38;5;28;01mreturn\u001b[39;00m \u001b[38;5;28mself\u001b[39m\u001b[38;5;241m.\u001b[39mindex\u001b[38;5;241m.\u001b[39m_get_values_for_loc(\u001b[38;5;28mself\u001b[39m, loc, label)\n",
      "File \u001b[1;32m~\\anaconda3\\Lib\\site-packages\\pandas\\core\\indexes\\base.py:3804\u001b[0m, in \u001b[0;36mIndex.get_loc\u001b[1;34m(self, key, method, tolerance)\u001b[0m\n\u001b[0;32m   3802\u001b[0m     \u001b[38;5;28;01mreturn\u001b[39;00m \u001b[38;5;28mself\u001b[39m\u001b[38;5;241m.\u001b[39m_engine\u001b[38;5;241m.\u001b[39mget_loc(casted_key)\n\u001b[0;32m   3803\u001b[0m \u001b[38;5;28;01mexcept\u001b[39;00m \u001b[38;5;167;01mKeyError\u001b[39;00m \u001b[38;5;28;01mas\u001b[39;00m err:\n\u001b[1;32m-> 3804\u001b[0m     \u001b[38;5;28;01mraise\u001b[39;00m \u001b[38;5;167;01mKeyError\u001b[39;00m(key) \u001b[38;5;28;01mfrom\u001b[39;00m \u001b[38;5;21;01merr\u001b[39;00m\n\u001b[0;32m   3805\u001b[0m \u001b[38;5;28;01mexcept\u001b[39;00m \u001b[38;5;167;01mTypeError\u001b[39;00m:\n\u001b[0;32m   3806\u001b[0m     \u001b[38;5;66;03m# If we have a listlike key, _check_indexing_error will raise\u001b[39;00m\n\u001b[0;32m   3807\u001b[0m     \u001b[38;5;66;03m#  InvalidIndexError. Otherwise we fall through and re-raise\u001b[39;00m\n\u001b[0;32m   3808\u001b[0m     \u001b[38;5;66;03m#  the TypeError.\u001b[39;00m\n\u001b[0;32m   3809\u001b[0m     \u001b[38;5;28mself\u001b[39m\u001b[38;5;241m.\u001b[39m_check_indexing_error(key)\n",
      "\u001b[1;31mKeyError\u001b[0m: 60"
     ]
    }
   ],
   "source": [
    "df[\"rest_name\"][]"
   ]
  },
  {
   "cell_type": "code",
   "execution_count": 71,
   "metadata": {},
   "outputs": [
    {
     "data": {
      "text/plain": [
       "'North Indian,Continental,Asian,Finger Food,'"
      ]
     },
     "execution_count": 71,
     "metadata": {},
     "output_type": "execute_result"
    }
   ],
   "source": [
    "df['cuisine'][0]"
   ]
  },
  {
   "cell_type": "markdown",
   "metadata": {},
   "source": [
    "# Total number of restaurants serving North Indian Food in Pune"
   ]
  },
  {
   "cell_type": "code",
   "execution_count": 22,
   "metadata": {},
   "outputs": [
    {
     "name": "stdout",
     "output_type": "stream",
     "text": [
      "2057\n"
     ]
    }
   ],
   "source": [
    "count=0\n",
    "for i in df['cuisine']:\n",
    "    for j in i.split(\",\"):\n",
    "        if j ==\"North Indian\":\n",
    "            count=count+1\n",
    "print(count)\n",
    "\n",
    "#There are 2057 restaurants out of 5183 restaurants(almost 40%) which serves North Indian Food"
   ]
  },
  {
   "cell_type": "code",
   "execution_count": 23,
   "metadata": {},
   "outputs": [
    {
     "name": "stdout",
     "output_type": "stream",
     "text": [
      " 5183\n",
      "North Indian 2057\n",
      "Chinese 1431\n",
      "Fast Food 1419\n",
      "Beverages 1058\n",
      "Desserts 996\n",
      "Bakery 581\n",
      "Biryani 566\n",
      "Street Food 494\n",
      "Mughlai 493\n",
      "Continental 478\n",
      "Italian 461\n",
      "Maharashtrian 395\n",
      "South Indian 358\n",
      "Ice Cream 328\n",
      "Pizza 326\n",
      "Sandwich 279\n",
      "Cafe 269\n",
      "Asian 251\n",
      "Seafood 233\n",
      "Burger 217\n",
      "Salad 164\n",
      "Finger Food 154\n",
      "Rolls 145\n",
      "Kebab 130\n",
      "Thai 120\n",
      "Malwani 115\n",
      "Healthy Food 109\n",
      "Mexican 98\n",
      "European 83\n",
      "Mithai 83\n",
      "Wraps 77\n",
      "Tea 72\n",
      "American 71\n",
      "Momos 67\n",
      "Bar Food 55\n",
      "Lebanese 55\n",
      "Modern Indian 46\n",
      "Coffee 44\n",
      "Hyderabadi 37\n",
      "Japanese 33\n",
      "Mediterranean 27\n",
      "Bengali 27\n",
      "Mangalorean 22\n",
      "Sushi 21\n",
      "Goan 19\n",
      "BBQ 17\n",
      "Juices 17\n",
      "Kerala 15\n",
      "Korean 15\n",
      "Rajasthani 15\n",
      "Arabian 14\n",
      "Malaysian 11\n",
      "Gujarati 11\n",
      "Konkan 10\n",
      "Tibetan 10\n",
      "Lucknowi 9\n",
      "Iranian 8\n",
      "German 8\n",
      "Steak 7\n",
      "Parsi 7\n",
      "Vietnamese 6\n",
      "Chettinad 6\n",
      "Andhra 6\n",
      "Panini 5\n",
      "Brazilian 4\n",
      "Charcoal Chicken 4\n",
      "Cuisine Varies 4\n",
      "Indonesian 4\n",
      "French 4\n",
      "Afghan 4\n",
      "Middle Eastern 3\n",
      "Singaporean 3\n",
      "Kashmiri 3\n",
      "Odia 3\n",
      "Awadhi 3\n",
      "South American 2\n",
      "Burmese 2\n",
      "Bihari 2\n",
      "Assamese 2\n",
      "Greek 1\n",
      "Cantonese 1\n",
      "Mongolian 1\n",
      "Tex-Mex 1\n",
      "African 1\n",
      "Ethiopian 1\n",
      "Raw Meats 1\n",
      "Turkish 1\n",
      "Frozen Yogurt 1\n",
      "Paan 1\n",
      "Mishti 1\n",
      "Naga 1\n"
     ]
    }
   ],
   "source": [
    "list_res=[]\n",
    "d={}\n",
    "for i in df[\"cuisine\"]:\n",
    "    for j in i.split(\",\"):\n",
    "        list_res.append(j)\n",
    "\n",
    "        \n",
    "for i in list_res:\n",
    "    if i in d:\n",
    "        d[i]+=1\n",
    "    else:\n",
    "        d[i]=1\n",
    "        \n",
    "for w in sorted(d, key=d.get, reverse=True):\n",
    "    print(w, d[w])\n",
    "\n",
    "        \n",
    "        "
   ]
  },
  {
   "cell_type": "code",
   "execution_count": 30,
   "metadata": {},
   "outputs": [
    {
     "name": "stdout",
     "output_type": "stream",
     "text": [
      "['North Indian', 'Continental', 'Asian', 'Finger Food', '', 'North Indian', 'Mughlai', '', 'Mediterranean', 'Asian', 'North Indian', '', 'Asian', 'European', 'North Indian', '', 'Finger Food', 'Continental', '', 'Salad', 'Asian', 'Malaysian', 'Vietnamese', 'Thai', 'Chinese', '', 'North Indian', '', 'Thai', 'Japanese', 'Chinese', '', 'European', 'Asian', 'North Indian', '', 'Mughlai', 'Biryani', 'Kebab', 'North Indian', '', 'Italian', 'Continental', '', 'Asian', '', 'Bar Food', 'Mughlai', 'North Indian', '', 'North Indian', 'European', 'Italian', '', 'Kebab', 'Seafood', 'North Indian', '', 'Fast Food', 'Finger Food', '', 'Asian', '', 'Finger Food', '', 'Continental', 'Asian', 'North Indian', '', 'Healthy Food', 'Italian', 'North Indian', 'Continental', '', 'Finger Food', 'Continental', '', 'Biryani', 'Kebab', 'North Indian', '', 'Mexican', 'Kebab', 'Bar Food', '', 'Fast Food', 'North Indian', '', 'Asian', 'Japanese', '', 'Finger Food', '', 'Desserts', 'Salad', 'Italian', 'Mexican', 'American', '', 'Mughlai', 'North Indian', '', 'Continental', 'Asian', '', 'Asian', 'Chinese', '', 'Salad', 'Greek', 'Mediterranean', 'Italian', 'Finger Food', '', 'Maharashtrian', 'Mughlai', 'North Indian', '', 'Finger Food', '', 'North Indian', '', 'Chinese', 'North Indian', 'Beverages', 'Finger Food', '', 'Continental', 'Finger Food', '', 'Finger Food', '', 'North Indian', 'Maharashtrian', '', 'South American', 'Steak', 'Brazilian', '', 'Fast Food', 'Malwani', 'North Indian', 'Continental', '', 'Beverages', 'Fast Food', 'Mughlai', 'Continental', 'Italian', 'Healthy Food', 'North Indian', '', 'Chinese', 'North Indian', 'Italian', 'Bar Food', '', 'European', 'South Indian', 'North Indian', 'Asian', 'Italian', '', 'Bar Food', 'Seafood', 'Mughlai', 'North Indian', '', 'Beverages', 'North Indian', 'Italian', 'Continental', 'Finger Food', '', 'North Indian', 'Mughlai', '', 'Finger Food', '', 'Finger Food', '', 'North Indian', 'Continental', 'Finger Food', '', 'Chettinad', 'Kerala', 'Mangalorean', 'South Indian', '', 'Desserts', 'Continental', 'Chinese', 'North Indian', '', 'Beverages', 'Desserts', 'North Indian', 'Thai', 'Fast Food', 'Maharashtrian', '', 'Desserts', 'Italian', 'Fast Food', 'Salad', 'North Indian', 'Asian', 'Continental', '', 'Asian', 'North Indian', 'Italian', 'European', 'Continental', '', 'North Indian', '', 'North Indian', 'Continental', '', 'Finger Food', 'North Indian', '', 'Beverages', 'Salad', 'Pizza', 'Mexican', 'Italian', '', 'Asian', 'Italian', 'Mughlai', 'North Indian', 'Continental', '', 'European', 'North Indian', 'Chinese', '', 'Beverages', 'Salad', 'Pizza', 'Mexican', 'Italian', '', 'Beverages', 'Mexican', 'Italian', '', 'Beverages', 'Mexican', 'Italian', '', 'Mexican', 'Italian', '', 'Continental', 'North Indian', 'Iranian', '', 'Thai', 'Seafood', 'North Indian', 'Chinese', 'Italian', 'Continental', '', 'Italian', 'Continental', 'Asian', 'European', '', 'Salad', 'South Indian', 'European', 'Italian', 'Mediterranean', 'North Indian', '', 'Beverages', 'Desserts', 'Italian', '', 'North Indian', 'Goan', 'Continental', 'Italian', '', 'North Indian', 'European', 'Asian', '', 'Beverages', 'Biryani', 'Charcoal Chicken', 'Salad', 'Desserts', 'North Indian', 'Italian', 'Continental', '', 'European', 'Asian', 'North Indian', '', 'Beverages', 'Continental', 'Cafe', '', 'North Indian', 'Finger Food', '', 'Cafe', 'Continental', 'Modern Indian', 'Asian', '', 'Italian', 'Continental', 'European', '', 'North Indian', 'Asian', 'Italian', 'Continental', 'Bar Food', '', 'Mughlai', 'North Indian', '', 'Italian', '', 'Chinese', 'Mughlai', 'North Indian', '', 'Mexican', 'Continental', 'Asian', '', 'Italian', 'Asian', 'South Indian', 'North Indian', '', 'Finger Food', '', 'Korean', '', 'Mughlai', 'North Indian', 'European', 'Finger Food', '', 'Chinese', 'North Indian', 'Continental', '', 'Bar Food', 'Asian', 'Finger Food', 'Sushi', 'Continental', 'Modern Indian', '', 'Mughlai', 'Continental', 'North Indian', '', 'American', 'Italian', 'North Indian', '', 'North Indian', 'Continental', 'Asian', 'Italian', '', 'Finger Food', '', 'European', 'Bar Food', 'Fast Food', '', 'Finger Food', '', 'Chinese', 'Continental', 'North Indian', '', 'Cantonese', 'Chinese', '', 'American', 'Chinese', 'South Indian', 'Mughlai', 'Continental', '', 'Mediterranean', 'Italian', '', 'North Indian', 'Chinese', 'Continental', '', 'Chinese', 'Mughlai', 'Malwani', 'North Indian', 'Continental', '', 'Finger Food', '', 'Italian', 'North Indian', 'Chinese', 'Continental', '', 'Desserts', 'Salad', 'Italian', 'Mughlai', 'Continental', 'Chinese', 'North Indian', '', 'Finger Food', 'Asian', 'North Indian', '', 'Finger Food', 'Asian', 'North Indian', '', 'Salad', 'Asian', 'Korean', 'Japanese', 'Vietnamese', 'Thai', 'Malaysian', '', 'Finger Food', 'Chinese', 'North Indian', '', 'Thai', 'Japanese', 'Momos', 'Sushi', 'Asian', 'Chinese', '', 'Beverages', 'Desserts', 'Mughlai', 'Kebab', 'Continental', 'Chinese', 'North Indian', '', 'Thai', 'Japanese', 'Momos', 'Sushi', 'Asian', 'Chinese', '', 'Thai', 'Japanese', 'Sushi', 'Asian', 'Chinese', '', 'Thai', 'Japanese', 'Momos', 'Sushi', 'Asian', 'Chinese', '', 'Chinese', 'North Indian', '', 'Biryani', 'Mughlai', 'North Indian', '', 'Chinese', 'Asian', '', 'Desserts', 'Bakery', 'Tea', 'Cafe', '', 'BBQ', 'Brazilian', 'Finger Food', '', 'Mongolian', 'Thai', 'Chinese', '', 'South Indian', 'European', 'Continental', 'Finger Food', '', 'Maharashtrian', 'Italian', 'North Indian', 'Finger Food', 'Continental', 'Salad', '', 'Tex-Mex', 'Asian', 'North Indian', 'Continental', '', 'Finger Food', '', 'Continental', 'Chinese', 'North Indian', '', 'Mughlai', 'Continental', 'Chinese', 'North Indian', '', 'Mughlai', 'South Indian', 'North Indian', '', 'Bar Food', 'Chinese', 'North Indian', 'Italian', '', 'North Indian', 'Mexican', '', 'Asian', 'North Indian', 'European', '', 'Cafe', '', 'Finger Food', '', 'Italian', 'Chinese', '', 'Desserts', 'Chinese', 'Mediterranean', 'North Indian', 'Continental', '', 'Chinese', '', 'Finger Food', '', 'Finger Food', '', 'Sushi', 'Thai', 'Asian', '', 'Italian', 'Asian', 'Mughlai', 'Mexican', 'Continental', '', 'Italian', 'Continental', 'Finger Food', '', 'Desserts', 'Thai', 'Fast Food', 'Continental', 'Kebab', 'Malwani', 'Chinese', 'North Indian', '', 'BBQ', 'Kebab', 'Salad', 'Mughlai', 'North Indian', '', 'North Indian', 'Continental', '', 'Mughlai', 'Asian', 'Italian', 'Mexican', 'Lebanese', 'Continental', '', 'Continental', 'Asian', 'North Indian', 'Italian', 'Bar Food', 'Finger Food', '', 'Asian', 'Continental', 'Salad', 'Fast Food', 'Finger Food', 'European', '', 'Salad', 'North Indian', 'Mughlai', 'Asian', '', 'Asian', 'Seafood', 'Italian', 'Lebanese', 'Continental', 'North Indian', '', 'Chinese', 'Seafood', 'Continental', 'North Indian', '', 'Momos', 'Salad', 'Italian', 'Chinese', 'North Indian', 'Continental', '', 'Asian', 'Sushi', 'Japanese', '', 'Salad', 'North Indian', 'Italian', 'Mexican', 'Continental', '', 'Italian', 'Asian', 'Mediterranean', 'Chinese', 'Continental', 'European', 'North Indian', '', 'Continental', 'Chinese', 'North Indian', '', 'Cafe', '', 'Chinese', 'North Indian', '', 'Mediterranean', 'Italian', '', 'Continental', 'Chinese', 'North Indian', 'Finger Food', '', 'Chinese', 'Italian', 'North Indian', 'American', '', 'Fast Food', 'Chinese', 'Salad', 'North Indian', '', 'Continental', 'Chinese', 'North Indian', '', 'Beverages', 'Chinese', 'Continental', '', 'Desserts', 'Seafood', 'Continental', 'Chinese', 'North Indian', '', 'Salad', 'Mediterranean', 'Chinese', 'North Indian', 'Continental', '', 'Fast Food', 'Chinese', 'North Indian', '', 'Italian', 'European', 'Thai', 'Chinese', 'North Indian', '', 'Fast Food', 'Asian', 'North Indian', 'Bar Food', '', 'Beverages', 'Mughlai', 'North Indian', '', 'Street Food', 'Mexican', 'Italian', 'North Indian', '', 'Salad', 'American', 'Italian', 'European', '', 'Beverages', 'Healthy Food', 'Salad', 'Mexican', 'Continental', 'Italian', '', 'Seafood', 'Italian', 'North Indian', 'Continental', 'Chinese', '', 'Asian', 'Chinese', 'Korean', 'Thai', 'Vietnamese', 'Sushi', 'Japanese', '', 'Mughlai', 'North Indian', 'Continental', 'Asian', '', 'Beverages', 'Chinese', 'Continental', 'North Indian', '', 'Beverages', 'Italian', 'Continental', 'Chinese', 'North Indian', '', 'Italian', 'North Indian', 'Continental', '', 'North Indian', 'Maharashtrian', 'Seafood', '', 'Seafood', 'Chinese', 'Goan', 'Mughlai', 'Continental', 'Cuisine Varies', 'Cafe', '', 'Mughlai', 'North Indian', 'Asian', 'Continental', '', 'Continental', 'North Indian', '', 'Sandwich', 'Italian', 'Seafood', 'Chinese', 'Mughlai', 'North Indian', '', 'Beverages', 'Desserts', 'Mughlai', 'Kebab', 'Continental', 'Chinese', 'North Indian', '', 'European', 'Middle Eastern', 'Continental', 'North Indian', 'Chinese', '', 'Mughlai', 'Continental', 'North Indian', '', 'Chinese', 'Mughlai', 'North Indian', '', 'North Indian', '', 'Seafood', 'Fast Food', 'Mughlai', 'Chinese', 'North Indian', '', 'Salad', 'Modern Indian', 'North Indian', 'Italian', 'Finger Food', '', 'Chinese', 'Malwani', 'North Indian', '', 'Chinese', 'North Indian', 'Continental', 'Bar Food', '', 'North Indian', 'Chinese', '', 'Seafood', 'Mughlai', 'North Indian', '', 'Asian', 'Fast Food', 'North Indian', '', 'African', 'Ethiopian', '', 'Salad', 'North Indian', 'Chinese', 'Burger', 'Pizza', 'Italian', 'Continental', '', 'Modern Indian', 'Mughlai', 'Biryani', '', 'Continental', 'Asian', 'Italian', 'South Indian', 'North Indian', '', 'Thai', 'Continental', 'Chinese', 'North Indian', '', 'Hyderabadi', 'North Indian', 'Maharashtrian', 'Chinese', '', 'Bar Food', 'Fast Food', 'Chinese', 'North Indian', '', 'Malwani', 'Chinese', 'North Indian', 'Finger Food', '', 'Bar Food', 'Asian', 'North Indian', 'Continental', '', 'Finger Food', 'Chinese', 'Continental', 'North Indian', '', 'Fast Food', 'Chinese', 'North Indian', '', 'Salad', 'Continental', 'South Indian', 'Chinese', 'North Indian', '', 'Kebab', 'Chinese', 'North Indian', 'Continental', '', 'Bar Food', 'Continental', '', 'Chinese', 'North Indian', '', 'North Indian', 'Parsi', '', 'Mughlai', 'Seafood', 'Fast Food', 'Chinese', 'North Indian', '', 'Chinese', 'Continental', 'Finger Food', '', 'Desserts', 'Italian', 'Continental', 'Chinese', 'North Indian', '', 'Italian', 'Mexican', 'Chinese', 'North Indian', '', 'Finger Food', 'North Indian', 'Asian', 'Continental', '', 'Continental', 'American', 'Biryani', 'Chinese', 'North Indian', '', 'Beverages', 'Momos', 'Chinese', 'Sushi', 'Thai', 'Malaysian', '', 'Beverages', 'Fast Food', 'Healthy Food', 'Italian', 'Asian', 'Continental', '', 'Desserts', 'Continental', 'Asian', 'North Indian', 'Italian', 'European', '', 'Italian', 'American', 'Modern Indian', '', 'Mangalorean', 'Kebab', 'Seafood', 'Mexican', 'Thai', 'Continental', 'Chinese', 'North Indian', '', 'Salad', 'Continental', 'Finger Food', '', 'Beverages', 'Modern Indian', 'Continental', 'Mexican', 'Italian', '', 'Beverages', 'Cuisine Varies', 'Seafood', 'Continental', 'Chinese', '', 'Fast Food', 'Italian', 'European', '', 'Chinese', 'Pizza', 'Kebab', 'Continental', 'North Indian', '', 'Italian', 'Beverages', 'Continental', 'German', '', 'Bar Food', 'Chinese', 'North Indian', '', 'Healthy Food', 'Salad', 'Sandwich', 'Continental', 'European', 'Cafe', '', 'Desserts', 'Modern Indian', 'European', 'Cafe', '', 'Finger Food', '', 'Continental', 'Mexican', 'North Indian', 'Asian', 'Italian', '', 'Beverages', 'Salad', 'Mexican', 'Italian', '', 'Italian', 'Mughlai', 'Chinese', 'North Indian', '', 'Beverages', 'Cafe', 'Italian', 'German', '', 'Beverages', 'Desserts', 'Cafe', 'Italian', 'Continental', 'German', '', 'Beverages', 'Desserts', 'Continental', '', 'Cafe', 'Italian', 'German', '', 'Continental', 'Italian', 'North Indian', 'Finger Food', '', 'Chinese', 'North Indian', 'American', '', 'Mangalorean', 'Mughlai', 'North Indian', 'Chinese', 'European', '', 'Thai', 'Continental', 'Italian', 'Chinese', 'North Indian', '', 'Italian', 'Seafood', 'Continental', 'South Indian', 'North Indian', 'Asian', '', 'Beverages', 'Fast Food', 'Asian', 'North Indian', 'Continental', '', 'Asian', 'Italian', 'North Indian', 'Continental', '', 'Beverages', 'North Indian', 'Fast Food', 'European', 'Italian', 'Continental', '', 'Chinese', 'North Indian', 'Seafood', '', 'Fast Food', 'Chinese', 'Mughlai', 'North Indian', '', 'Beverages', 'Mughlai', 'Salad', 'Continental', 'Seafood', 'Chinese', 'North Indian', '', 'Maharashtrian', 'Chinese', 'Italian', 'Asian', 'North Indian', '', 'Italian', 'Chinese', 'North Indian', '', 'Chinese', 'Continental', 'North Indian', '', 'Mexican', 'North Indian', 'Italian', 'Continental', 'Finger Food', '', 'Mangalorean', 'Thai', 'Seafood', 'Chinese', 'Mughlai', 'North Indian', '', 'Fast Food', 'Mughlai', 'Chinese', 'North Indian', '', 'Continental', 'Mediterranean', '', 'Finger Food', 'Continental', 'North Indian', '', 'Fast Food', 'North Indian', 'Bar Food', '', 'Konkan', 'Goan', 'Seafood', '', 'Fast Food', 'Continental', 'Bakery', 'Desserts', 'North Indian', '', 'Beverages', 'Continental', 'Italian', '', 'Malwani', 'Maharashtrian', 'North Indian', 'Finger Food', '', 'Beverages', 'Sandwich', 'Italian', 'European', '', 'Chinese', 'Italian', 'North Indian', 'Continental', '', 'Beverages', 'Italian', 'European', 'Cafe', '', 'Chinese', 'Continental', 'North Indian', '', 'Mughlai', 'Continental', 'Chinese', 'North Indian', '', 'North Indian', 'Thai', 'Bar Food', 'Continental', '', 'American', 'North Indian', 'European', 'Asian', '', 'South Indian', 'Continental', 'Chinese', 'North Indian', '', 'Mughlai', 'North Indian', '', 'Beverages', 'Seafood', 'Chinese', 'North Indian', '', 'Seafood', 'Chinese', 'North Indian', '', 'Desserts', 'Bakery', '', 'North Indian', 'Fast Food', 'Chinese', '', 'Chinese', 'Maharashtrian', 'North Indian', '', 'Fast Food', 'Continental', 'North Indian', 'Finger Food', '', 'Continental', 'Chinese', 'North Indian', '', 'Continental', 'North Indian', '', 'Salad', 'Italian', 'Continental', 'Chinese', 'North Indian', '', 'Salad', 'Continental', 'Asian', 'North Indian', '', 'Italian', 'Seafood', 'Chinese', 'Continental', 'North Indian', '', 'Salad', 'Mughlai', 'Seafood', 'Italian', 'Continental', 'Chinese', 'North Indian', '', 'European', 'Bar Food', 'North Indian', '', 'South Indian', 'North Indian', '', 'Seafood', 'Asian', 'Continental', 'Thai', 'Mexican', 'North Indian', '', 'Continental', 'Chinese', 'North Indian', '', 'Continental', 'Chinese', 'North Indian', '', 'Malwani', 'Mughlai', 'Continental', 'Chinese', 'North Indian', '', 'South Indian', 'North Indian', '', 'South Indian', 'Chinese', 'North Indian', 'Fast Food', '', 'Kebab', 'Chinese', 'Italian', 'Mexican', 'North Indian', '', 'Continental', 'Chinese', 'North Indian', 'Cafe', '', 'Mangalorean', 'Seafood', 'Continental', 'Chinese', 'North Indian', '', 'Fast Food', 'Finger Food', 'Asian', 'North Indian', 'Italian', 'Continental', '', 'Chinese', 'North Indian', '', 'Italian', 'Continental', 'North Indian', '', 'Chinese', 'North Indian', '', 'Continental', 'Chinese', 'North Indian', '', 'Seafood', 'Thai', 'Chinese', 'North Indian', '', 'North Indian', 'Mexican', 'Salad', 'Continental', '', 'Italian', 'Mediterranean', 'North Indian', 'European', '', 'Fast Food', 'North Indian', 'Chinese', '', 'Italian', '', 'Asian', 'Continental', 'North Indian', '', 'North Indian', 'Finger Food', '', 'Seafood', 'Chinese', 'North Indian', '', 'North Indian', '', 'Bar Food', 'Finger Food', '', 'Mughlai', 'Chinese', 'North Indian', '', 'Maharashtrian', 'Mughlai', 'North Indian', '', 'Continental', 'North Indian', '', 'Chinese', 'Continental', 'North Indian', '', 'North Indian', 'Biryani', 'Chinese', '', 'Continental', 'Asian', 'North Indian', '', 'Healthy Food', '', 'Finger Food', '', 'Desserts', '', 'Seafood', 'Chinese', 'North Indian', '', 'American', 'Bar Food', 'North Indian', 'Kebab', 'Korean', 'Finger Food', 'Chinese', 'Mexican', '', 'Maharashtrian', 'Kebab', 'Finger Food', 'Italian', 'North Indian', 'Continental', '', 'Finger Food', 'Italian', 'Chinese', 'North Indian', '', 'Continental', 'Mughlai', 'Chinese', 'North Indian', '', 'Mexican', 'Italian', '', 'Fast Food', 'Mughlai', 'North Indian', '', 'Beverages', 'Continental', 'Chinese', 'North Indian', '', 'Desserts', 'Fast Food', 'Modern Indian', 'North Indian', '', 'Italian', 'Continental', 'Chinese', 'North Indian', '', 'Mughlai', 'Chinese', 'North Indian', '', 'Beverages', 'Desserts', 'Thai', 'Italian', 'Fast Food', 'Mexican', '', 'Salad', 'Parsi', 'Continental', '', 'North Indian', 'Mediterranean', 'Asian', '', 'North Indian', 'Asian', 'Italian', 'Continental', '', 'Asian', 'Mughlai', 'North Indian', 'Bar Food', '', 'Continental', 'Mediterranean', 'Chinese', 'North Indian', '', 'Maharashtrian', 'North Indian', '', 'Chinese', 'Continental', 'North Indian', '', 'Finger Food', 'North Indian', 'Italian', 'Continental', '', 'Salad', 'European', 'Asian', 'North Indian', '', 'Mughlai', 'North Indian', 'Fast Food', 'Chinese', '', 'Seafood', 'Chinese', 'North Indian', '', 'Continental', 'North Indian', 'Asian', '', 'Seafood', 'Mughlai', 'Bar Food', 'Asian', 'North Indian', 'Italian', 'Continental', '', 'Mughlai', 'North Indian', 'Seafood', 'Chinese', '', 'Street Food', 'South Indian', 'Italian', 'Mexican', 'Chinese', 'North Indian', '', 'Italian', 'Mughlai', 'Seafood', 'North Indian', '', 'North Indian', 'Continental', '', 'Seafood', 'North Indian', 'Chinese', '', 'Continental', 'Finger Food', 'North Indian', '', 'North Indian', 'Chinese', 'Italian', 'Continental', '', 'Chinese', 'Italian', 'North Indian', '', 'Chinese', 'North Indian', 'Maharashtrian', 'Bar Food', '', 'Mughlai', 'Maharashtrian', 'Chinese', 'North Indian', '', 'Beverages', 'Mughlai', 'Chinese', 'North Indian', '', 'Italian', 'Maharashtrian', 'Chinese', 'North Indian', '', 'Fast Food', 'Continental', 'Chinese', 'North Indian', '', 'Chinese', 'North Indian', '', 'Desserts', 'Fast Food', 'Italian', 'Continental', 'Chinese', 'North Indian', '', 'Chinese', 'Continental', 'Mughlai', 'North Indian', '', 'Italian', 'Continental', 'North Indian', '', 'Mughlai', 'Seafood', 'Finger Food', 'Chinese', 'North Indian', '', 'Asian', 'Finger Food', '', 'Mughlai', 'Asian', 'Continental', 'North Indian', '', 'Continental', '', 'Beverages', 'Continental', 'Chinese', 'North Indian', '', 'Fast Food', 'North Indian', 'Thai', 'Chinese', 'Continental', '', 'Continental', 'Finger Food', 'North Indian', '', 'Italian', 'Mexican', 'North Indian', '', 'Fast Food', 'Chinese', 'North Indian', '', 'Continental', 'North Indian', '', 'South Indian', 'North Indian', 'Italian', 'American', '', 'Maharashtrian', 'Seafood', 'North Indian', '', 'Maharashtrian', '', 'Continental', 'Chinese', 'North Indian', '', 'Goan', 'Chinese', 'North Indian', 'Bar Food', '', 'European', 'Continental', 'Chinese', 'North Indian', '', 'Continental', 'North Indian', 'Bar Food', '', 'Salad', 'Continental', 'Chinese', 'North Indian', '', 'Beverages', 'Desserts', 'Biryani', 'Mughlai', 'Chinese', 'North Indian', '', 'Chinese', 'Fast Food', 'North Indian', '', 'Chinese', 'Mughlai', 'Malwani', 'North Indian', '', 'Pizza', 'Mediterranean', 'Healthy Food', 'Continental', 'Salad', '', 'Desserts', 'Italian', 'Sandwich', 'Beverages', 'Salad', 'Bakery', 'American', 'European', '', 'North Indian', 'Italian', 'Modern Indian', 'Continental', '', 'Chinese', 'Mughlai', 'Asian', 'Continental', 'North Indian', '', 'Kebab', 'Malwani', 'Fast Food', 'Continental', 'Chinese', 'North Indian', '', 'Chinese', 'Mughlai', 'North Indian', '', 'Beverages', 'Desserts', 'Rolls', 'Biryani', 'Continental', 'Chinese', 'North Indian', '', 'Chinese', 'Fast Food', 'North Indian', '', 'Fast Food', 'Chinese', 'South Indian', 'North Indian', '', 'Fast Food', 'Chinese', 'South Indian', 'North Indian', '', 'Beverages', 'Fast Food', 'South Indian', 'North Indian', 'Chinese', '', 'Fast Food', 'Chinese', 'South Indian', 'North Indian', '', 'Chinese', 'Mughlai', 'North Indian', '', 'Chinese', 'Mughlai', 'North Indian', '', 'Chinese', 'Mughlai', 'North Indian', '', 'Chinese', 'Mughlai', 'North Indian', '', 'Chinese', 'Mughlai', 'North Indian', '', 'Chinese', 'North Indian', '', 'Chinese', 'North Indian', '', 'North Indian', 'Italian', 'Bar Food', '', 'North Indian', 'Italian', '', 'Desserts', 'Bakery', 'Cafe', '', 'Italian', 'Continental', 'North Indian', '', 'Asian', 'North Indian', 'Mexican', '', 'Thai', 'Salad', 'Continental', 'Italian', '', 'Chinese', 'Seafood', 'Mangalorean', 'North Indian', '', 'Bar Food', 'North Indian', 'Mexican', 'Italian', '', 'Salad', 'Steak', 'Continental', '', 'Healthy Food', 'Salad', 'North Indian', 'Italian', '', 'Continental', 'Finger Food', 'Beverages', 'Healthy Food', 'Steak', 'European', 'Salad', '', 'Beverages', 'Sushi', 'Thai', 'Asian', '', 'European', 'Finger Food', 'North Indian', 'Italian', 'Continental', '', 'Chinese', 'Malwani', 'North Indian', '', 'Finger Food', 'Pizza', 'Continental', '', 'Continental', 'Chinese', 'North Indian', '', 'Seafood', 'Konkan', 'North Indian', 'Biryani', '', 'Singaporean', 'Indonesian', 'Japanese', 'Thai', 'Malaysian', 'Chinese', '', 'Seafood', 'Finger Food', 'North Indian', 'Continental', '', 'Mughlai', 'Seafood', 'North Indian', 'Chinese', '', 'Pizza', 'Chinese', 'Momos', 'Finger Food', '', 'Bar Food', '', 'Mughlai', 'Bar Food', 'North Indian', '', 'Desserts', 'Pizza', 'Seafood', 'Chinese', 'Asian', 'Continental', 'North Indian', '', 'Rajasthani', '', 'Mexican', 'Italian', 'Chinese', 'North Indian', '', 'Continental', 'Chinese', 'North Indian', '', 'Kebab', 'Continental', 'Chinese', 'North Indian', '', 'Burger', 'Italian', 'Salad', 'Asian', 'Continental', 'North Indian', '', 'Italian', 'North Indian', 'Chinese', 'Continental', '', 'Desserts', 'North Indian', 'Chinese', 'Mexican', 'Italian', '', 'Continental', 'Italian', 'Chinese', 'North Indian', '', 'Chinese', 'Thai', 'North Indian', '', 'Maharashtrian', 'Malwani', 'Seafood', '', 'Continental', 'Chinese', 'North Indian', '', 'Finger Food', 'Bar Food', 'Continental', 'Chinese', 'North Indian', '', 'Continental', 'Chinese', 'North Indian', 'South Indian', '', 'Biryani', 'Chinese', 'North Indian', '', 'Seafood', 'Mughlai', 'Chinese', 'North Indian', '', 'Continental', 'North Indian', 'Japanese', 'Chinese', '', 'BBQ', 'Fast Food', 'Italian', 'Chinese', 'Modern Indian', '', 'Beverages', 'Chinese', 'North Indian', '', 'Mughlai', 'Chinese', 'North Indian', '', 'Continental', 'Thai', 'Japanese', 'Chinese', 'North Indian', '', 'Finger Food', 'Bar Food', '', 'Continental', 'Chinese', 'North Indian', '', 'Italian', 'Thai', 'Chinese', 'Continental', 'North Indian', '', 'Bar Food', 'Chinese', 'Continental', 'Asian', 'North Indian', '', 'Biryani', 'Seafood', 'Chinese', 'North Indian', '', 'Finger Food', '', 'Fast Food', 'Continental', 'Seafood', 'Kebab', 'North Indian', 'Asian', 'Finger Food', '', 'Biryani', 'Mughlai', 'Continental', 'Asian', 'North Indian', '', 'North Indian', 'Italian', 'Continental', '', 'Finger Food', '', 'Continental', 'Chinese', 'North Indian', '', 'Chinese', 'North Indian', '', 'Continental', 'Chinese', 'North Indian', '', 'Chinese', 'North Indian', '', 'Continental', 'Chinese', 'North Indian', '', 'Italian', '', 'Chinese', 'North Indian', 'South Indian', 'Seafood', '', 'Pizza', 'Fast Food', 'Desserts', 'Continental', '', 'Bar Food', 'Seafood', 'Asian', 'Thai', 'Chinese', '', 'Maharashtrian', 'Malwani', 'Goan', 'Seafood', '', 'Continental', 'Fast Food', 'North Indian', '', 'Burger', 'American', '', 'Desserts', 'Mediterranean', 'Continental', 'Cafe', '', 'Lucknowi', 'Mughlai', 'North Indian', 'Biryani', '', 'Seafood', 'Chinese', 'South Indian', 'North Indian', '', 'Indonesian', 'Burmese', 'Japanese', 'Malaysian', 'Thai', '', 'Beverages', 'Desserts', 'Mexican', 'Italian', 'Continental', 'Salad', '', 'Thai', 'Chinese', '', 'Salad', 'Bengali', 'North Indian', 'Chinese', '', 'Seafood', 'Chinese', 'Maharashtrian', 'North Indian', '', 'Mughlai', 'Seafood', 'North Indian', 'Biryani', '', 'Desserts', 'Mediterranean', 'Continental', 'Cafe', '', 'Desserts', 'Mediterranean', 'Continental', 'Cafe', '', 'Desserts', 'Mediterranean', 'Continental', 'Cafe', '', 'Beverages', 'Italian', 'Continental', 'North Indian', '', 'Biryani', 'Mughlai', 'North Indian', '', 'North Indian', 'Finger Food', 'Continental', 'Asian', '', 'Seafood', 'Asian', 'Chinese', '', 'Continental', 'North Indian', '', 'Salad', 'Japanese', 'Thai', 'Chinese', '', 'Beverages', 'Mughlai', 'Chinese', 'North Indian', '', 'Beverages', 'Continental', 'Fast Food', 'North Indian', 'Italian', '', 'Seafood', 'Chinese', 'Mughlai', 'North Indian', '', 'Sushi', 'Chinese', 'Asian', 'Beverages', '', 'Maharashtrian', '', 'Fast Food', 'Salad', 'Italian', 'Mughlai', 'Chinese', 'North Indian', '', 'American', 'Italian', 'European', '', 'Beverages', 'Chinese', 'North Indian', '', 'Finger Food', 'Bar Food', 'Ice Cream', 'Biryani', 'Continental', 'Mughlai', 'Chinese', 'North Indian', '', 'Chinese', 'European', 'North Indian', 'Asian', 'Continental', '', 'Mughlai', 'Seafood', 'Chinese', 'North Indian', '', 'Continental', 'Asian', 'Chinese', 'North Indian', '', 'Beverages', 'Kebab', 'Chinese', 'North Indian', '', 'Seafood', 'Chinese', 'North Indian', '', 'Seafood', 'Chinese', 'North Indian', '', 'Italian', 'Asian', 'European', 'North Indian', '', 'Asian', 'Japanese', 'Korean', '', 'Salad', 'Chinese', 'Italian', 'Continental', 'North Indian', '', 'Mangalorean', 'Seafood', 'Chinese', 'North Indian', '', 'Beverages', 'Chinese', 'North Indian', '', 'Beverages', 'Desserts', 'Continental', 'Italian', 'European', '', 'North Indian', 'Chettinad', 'Seafood', 'Mangalorean', '', 'Asian', 'Italian', 'Fast Food', 'Street Food', 'Salad', 'South Indian', 'North Indian', 'Continental', '', 'Asian', 'Italian', 'North Indian', '', 'Biryani', 'Mughlai', 'Continental', 'Chinese', 'North Indian', '', 'Beverages', 'Mughlai', 'Chinese', 'Fast Food', 'North Indian', '', 'Italian', 'Continental', 'Chinese', 'Mughlai', 'North Indian', '', 'North Indian', 'Fast Food', 'Chinese', '', 'Seafood', 'Thai', 'Malaysian', 'Chinese', '', 'Finger Food', 'Continental', 'North Indian', '', 'Chinese', 'Continental', 'North Indian', '', 'Mughlai', 'Chinese', 'North Indian', '', 'Asian', 'North Indian', '', 'Continental', 'Italian', 'Chinese', 'North Indian', '', 'Chinese', 'Italian', 'Mughlai', 'North Indian', '', 'Chinese', 'North Indian', '', 'Italian', 'Chinese', 'Continental', 'European', 'North Indian', '', 'Mughlai', 'Seafood', 'Chinese', 'North Indian', '', 'Italian', 'Chinese', '', 'Chinese', 'Fast Food', 'Continental', '', 'Chinese', 'Italian', 'Asian', 'Mughlai', 'North Indian', '', 'Fast Food', 'Mexican', 'Italian', 'Chinese', 'North Indian', 'South Indian', '', 'Bar Food', 'Continental', 'Chinese', 'North Indian', '', 'Goan', 'Mughlai', 'North Indian', '', 'Continental', 'Chinese', 'North Indian', '', 'Continental', 'Chinese', 'North Indian', '', 'Mughlai', 'Italian', 'Asian', 'Continental', 'North Indian', '', 'Fast Food', 'Kebab', 'Malwani', 'North Indian', '', 'Chinese', 'Seafood', 'North Indian', 'Mughlai', '', 'Chinese', 'Thai', 'North Indian', '', 'Malwani', 'Mughlai', 'Chinese', 'North Indian', '', 'Seafood', 'North Indian', 'Chinese', 'Continental', '', 'Thai', 'Italian', 'North Indian', 'Asian', '', 'Maharashtrian', 'Chinese', 'North Indian', '', 'Beverages', 'Ice Cream', 'Fast Food', 'Mexican', 'North Indian', 'Chinese', 'Street Food', 'South Indian', '', 'Beverages', 'Ice Cream', 'North Indian', 'Chinese', 'Fast Food', 'South Indian', '', 'Beverages', 'Ice Cream', 'North Indian', 'Chinese', 'Fast Food', 'South Indian', '', 'Chinese', 'North Indian', '', 'Beverages', 'Biryani', 'Mughlai', 'Continental', 'North Indian', 'Italian', '', 'Fast Food', 'Continental', 'Chinese', 'North Indian', '', 'Fast Food', 'Bar Food', 'North Indian', 'Chinese', 'Continental', '', 'Seafood', 'Mughlai', 'North Indian', 'Chinese', '', 'Biryani', 'Chinese', 'North Indian', '', 'Beverages', 'South Indian', 'Sandwich', 'Continental', 'Italian', 'Chinese', 'North Indian', '', 'Continental', 'Seafood', 'North Indian', '', 'Desserts', 'Italian', 'Continental', 'Chinese', 'Seafood', 'North Indian', 'Kebab', '', 'Mughlai', 'Continental', 'Chinese', 'North Indian', '', 'North Indian', 'Chinese', '', 'Italian', 'Asian', 'Kebab', 'Continental', 'North Indian', '', 'Chinese', 'North Indian', '', 'Chinese', 'North Indian', '', 'Beverages', 'Italian', 'Continental', 'Chinese', 'North Indian', '', 'Continental', 'Chinese', 'North Indian', '', 'Chettinad', 'Chinese', 'Continental', 'North Indian', '', 'Continental', 'Asian', 'Chinese', 'North Indian', '', 'Continental', 'Malwani', 'Seafood', 'Chinese', 'North Indian', '', 'Chinese', 'American', 'Italian', 'Continental', 'North Indian', '', 'Chinese', 'North Indian', '', 'Mughlai', 'Chinese', 'North Indian', '', 'Salad', 'Mughlai', 'Bar Food', 'Finger Food', 'Chinese', 'North Indian', '', 'Chinese', 'North Indian', '', 'North Indian', 'Continental', '', 'Continental', 'Chinese', 'South Indian', 'North Indian', '', 'Mughlai', 'Biryani', 'Chinese', 'North Indian', '', 'South Indian', 'Chinese', 'North Indian', '', 'North Indian', 'Italian', 'Chinese', '', 'Bar Food', 'Fast Food', 'North Indian', '', 'Finger Food', 'North Indian', '', 'Continental', 'Italian', 'South Indian', 'North Indian', '', 'Fast Food', 'North Indian', '', 'Beverages', 'Continental', 'Asian', 'North Indian', '', 'Continental', 'Maharashtrian', 'Mughlai', 'Chinese', 'North Indian', '', 'Chinese', 'North Indian', '', 'Mughlai', 'Chinese', 'Continental', 'North Indian', '', 'Momos', 'Continental', '', 'Seafood', 'European', 'Maharashtrian', 'Chinese', '', 'Italian', 'Chinese', 'North Indian', '', 'Thai', 'Continental', 'Italian', '', 'Finger Food', 'Continental', '', 'Chinese', 'Mughlai', 'North Indian', '', 'Beverages', 'Healthy Food', 'South Indian', 'Continental', 'Chinese', 'North Indian', '', 'Beverages', 'Continental', 'North Indian', '', 'North Indian', 'Maharashtrian', 'Fast Food', '', 'Mexican', 'Continental', 'North Indian', '', 'Chinese', 'Mughlai', 'North Indian', '', 'Mughlai', 'Malwani', 'Chinese', 'North Indian', '', 'Chinese', 'North Indian', '', 'Chinese', 'North Indian', '', 'Biryani', 'Seafood', 'Chinese', 'North Indian', '', 'Maharashtrian', 'Mughlai', 'North Indian', 'Seafood', 'Biryani', '', 'Maharashtrian', '', 'Beverages', 'Desserts', 'Mughlai', 'Seafood', 'Chinese', 'North Indian', '', 'Biryani', 'North Indian', 'Mughlai', '', 'Beverages', 'Continental', 'Seafood', 'Asian', 'Mughlai', 'North Indian', '', 'Korean', '', 'Seafood', 'North Indian', 'Chinese', '', 'Salad', 'Continental', 'Finger Food', '', 'Chinese', 'North Indian', 'South Indian', 'Mangalorean', '', 'North Indian', 'Malwani', 'Chinese', 'Asian', '', 'Seafood', 'Goan', '', 'Maharashtrian', '', 'Seafood', 'Mughlai', 'North Indian', 'Kashmiri', '', 'South Indian', 'Malwani', 'Kebab', 'Chinese', 'North Indian', '', 'Momos', 'Fast Food', 'North Indian', '', 'Seafood', 'Asian', 'North Indian', 'Modern Indian', 'Fast Food', '', 'Chinese', 'North Indian', 'Seafood', '', 'Seafood', 'Chinese', 'North Indian', '', 'Beverages', 'Kebab', 'Mughlai', 'North Indian', '', 'Mughlai', 'Chinese', 'Seafood', 'North Indian', '', 'Beverages', 'Fast Food', '', 'Chinese', 'North Indian', '', 'Beverages', 'Maharashtrian', 'Malwani', 'Mughlai', 'Chinese', 'North Indian', '', 'Mexican', 'Italian', 'Seafood', 'Mughlai', 'Thai', 'North Indian', 'Chinese', 'Continental', '', 'Pizza', 'North Indian', 'Continental', 'Asian', 'Finger Food', '', 'Mexican', 'Italian', '', 'Italian', 'Mughlai', 'Asian', 'Continental', 'North Indian', '', 'Italian', 'Continental', 'Asian', 'American', '', 'Maharashtrian', 'Chinese', 'Bar Food', 'North Indian', 'Continental', '', 'Continental', 'Chinese', 'North Indian', '', 'Seafood', 'Chinese', 'North Indian', '', 'Biryani', 'Mughlai', 'Chinese', 'South Indian', 'North Indian', '', 'Mangalorean', 'Chinese', 'North Indian', '', 'Pizza', 'Beverages', 'Fast Food', 'Mughlai', 'North Indian', '', 'North Indian', '', 'Malwani', 'Chinese', 'North Indian', '', 'Chinese', 'North Indian', 'Mangalorean', 'Maharashtrian', 'Seafood', '', 'Malwani', 'Mughlai', 'Chinese', 'North Indian', '', 'Seafood', 'Malwani', 'Mughlai', 'Chinese', 'North Indian', '', 'Beverages', 'Mughlai', 'North Indian', '', 'Italian', 'Chinese', 'North Indian', '', 'Biryani', 'Mughlai', 'Chinese', 'North Indian', '', 'Maharashtrian', 'Kebab', 'Mughlai', 'Chinese', 'North Indian', '', 'Chinese', 'North Indian', '', 'Chinese', 'North Indian', '', 'Mughlai', 'Italian', 'Chinese', 'North Indian', '', 'Fast Food', 'North Indian', '', 'Continental', 'Chinese', 'Mughlai', 'North Indian', '', 'Chinese', 'Continental', 'North Indian', '', 'Continental', 'Chinese', 'North Indian', '', 'Chinese', 'North Indian', '', 'Fast Food', 'North Indian', '', 'North Indian', 'Kebab', 'Seafood', 'Chinese', '', 'Continental', 'South Indian', 'North Indian', '', 'Cafe', 'Continental', 'Italian', 'European', '', 'Seafood', 'North Indian', 'Konkan', '', 'Fast Food', 'Asian', 'Chinese', '', 'Fast Food', 'Seafood', 'Asian', 'North Indian', '', 'Asian', 'Salad', 'European', 'Continental', 'Cafe', '', 'Seafood', 'Chinese', '', 'Malwani', 'Arabian', 'Kebab', 'Biryani', 'Chinese', 'North Indian', '', 'Seafood', 'Chinese', 'North Indian', '', 'Desserts', 'Beverages', 'Italian', 'Sandwich', 'Healthy Food', 'Salad', 'Cafe', '', 'Italian', 'Continental', 'North Indian', '', 'Italian', 'Healthy Food', 'Salad', 'Continental', 'Mediterranean', 'European', 'Cafe', '', 'Seafood', 'Chinese', 'North Indian', '', 'Beverages', 'Fast Food', 'Italian', 'Pizza', '', 'Chinese', 'North Indian', '', 'Chinese', 'North Indian', '', 'Seafood', 'Biryani', 'North Indian', '', 'Seafood', 'North Indian', '', 'Maharashtrian', 'Chinese', 'North Indian', '', 'Beverages', 'Biryani', 'Mughlai', 'Chinese', 'North Indian', '', 'Continental', 'Italian', 'Cafe', '', 'Continental', 'Chinese', 'North Indian', '', 'Beverages', 'Mughlai', 'Italian', 'Fast Food', 'North Indian', 'Continental', '', 'Kebab', 'Chinese', 'North Indian', 'Biryani', 'Seafood', '', 'Asian', '', 'Continental', 'Chinese', 'North Indian', '', 'Mughlai', 'Kebab', 'North Indian', 'Biryani', '', 'Beverages', 'Desserts', 'North Indian', '', 'Rajasthani', 'Gujarati', 'North Indian', '', 'Beverages', 'Maharashtrian', 'Chinese', 'North Indian', '', 'Fast Food', 'Seafood', 'Kebab', 'Malwani', 'Hyderabadi', 'Chinese', 'North Indian', '', 'Italian', 'Continental', 'Cafe', '', 'Thai', 'South Indian', 'North Indian', '', 'Malwani', 'Hyderabadi', 'North Indian', 'Chinese', '', 'Beverages', 'Maharashtrian', 'Chinese', 'North Indian', '', 'Beverages', 'Maharashtrian', 'Chinese', 'North Indian', '', 'Beverages', 'Maharashtrian', 'Chinese', 'North Indian', '', 'Beverages', 'Maharashtrian', 'Chinese', 'North Indian', '', 'North Indian', '', 'Beverages', 'Maharashtrian', 'Chinese', 'North Indian', '', 'Chinese', 'Maharashtrian', 'North Indian', '', 'Chinese', 'Thai', 'North Indian', '', 'Seafood', 'Chinese', 'North Indian', '', 'European', 'French', '', 'Chinese', 'Mughlai', 'North Indian', 'Seafood', '', 'Beverages', 'Fast Food', 'Continental', 'Italian', 'Chinese', 'North Indian', '', 'Seafood', 'Thai', '', 'Seafood', 'North Indian', 'Continental', '', 'North Indian', '', 'Mughlai', 'Biryani', 'Bengali', '', 'Fast Food', 'Chinese', 'North Indian', '', 'North Indian', 'Maharashtrian', 'Chinese', '', 'Malwani', 'Maharashtrian', 'Mughlai', 'North Indian', '', 'Chinese', 'Mughlai', 'Seafood', 'North Indian', '', 'Chinese', 'Biryani', 'Asian', 'North Indian', '', 'North Indian', 'Mughlai', 'Seafood', '', 'Mughlai', 'Chinese', 'North Indian', 'Seafood', '', 'Beverages', 'Desserts', 'South Indian', 'North Indian', 'Sandwich', '', 'Mughlai', 'Kebab', 'Seafood', 'Chinese', 'North Indian', '', 'Mughlai', 'Asian', 'Chinese', 'Seafood', 'North Indian', '', 'Seafood', 'Mughlai', 'Kebab', 'Chinese', 'North Indian', '', 'Beverages', 'Seafood', 'Malwani', 'Chinese', 'North Indian', 'South Indian', '', 'Continental', 'Chinese', 'North Indian', '', 'BBQ', 'North Indian', '', 'Continental', 'Chinese', 'Mughlai', 'North Indian', '', 'North Indian', 'Maharashtrian', 'Continental', '', 'Kebab', 'Continental', 'Maharashtrian', 'Chinese', 'North Indian', '', 'Chinese', 'North Indian', 'Fast Food', 'Italian', 'BBQ', 'Bar Food', '', 'Asian', 'Continental', 'Chinese', 'North Indian', '', 'Kebab', 'North Indian', 'Chinese', 'Biryani', '', 'Chinese', 'Maharashtrian', 'North Indian', '', 'Cafe', 'Continental', 'Italian', 'North Indian', '', 'Seafood', 'North Indian', 'Konkan', '', 'North Indian', 'Seafood', 'Mughlai', 'Chinese', 'Lucknowi', '', 'Kebab', 'Continental', 'Chinese', 'North Indian', '', 'Mughlai', 'Chinese', 'North Indian', 'Seafood', 'Continental', '', 'Chinese', 'Malwani', 'North Indian', '', 'Chinese', 'North Indian', '', 'Continental', 'Chinese', 'North Indian', '', 'Fast Food', 'South Indian', 'Chinese', 'North Indian', '', 'Chinese', 'North Indian', '', 'North Indian', 'Mughlai', '', 'Continental', 'Italian', 'Chinese', 'North Indian', '', 'Chinese', 'North Indian', 'South Indian', '', 'Chinese', 'Mughlai', 'North Indian', '', 'Maharashtrian', 'Chinese', 'North Indian', '', 'Mughlai', 'Chinese', 'North Indian', '', 'Chinese', 'South Indian', 'North Indian', '', 'Desserts', 'Cafe', 'Bakery', '', 'Italian', 'Kebab', 'Fast Food', 'Seafood', 'Chinese', 'North Indian', '', 'Chinese', 'North Indian', '', 'Beverages', 'Malwani', 'Italian', 'North Indian', 'Chinese', '', 'Maharashtrian', 'Kebab', 'Mughlai', 'Chinese', 'North Indian', '', 'Salad', 'Seafood', 'North Indian', 'Mughlai', 'Chinese', '', 'Malwani', 'Maharashtrian', '', 'Chinese', 'North Indian', '', 'Mughlai', 'Malwani', 'Chinese', 'North Indian', '', 'Bar Food', 'Chinese', 'Continental', 'Asian', 'Mughlai', 'North Indian', '', 'Desserts', 'Mughlai', 'Chinese', 'North Indian', '', 'Fast Food', 'Seafood', 'Chinese', 'North Indian', '', 'North Indian', 'Chinese', '', 'Bar Food', 'Chinese', 'North Indian', 'Malwani', 'Maharashtrian', '', 'Chinese', 'North Indian', 'Continental', '', 'Seafood', 'Chinese', 'North Indian', '', 'Chinese', 'North Indian', 'Seafood', '', 'Chinese', 'Mughlai', 'North Indian', '', 'Italian', 'Seafood', 'Chinese', 'Mughlai', 'North Indian', '', 'Beverages', 'Chinese', 'North Indian', 'Italian', 'Pizza', 'Asian', '', 'Biryani', 'Mughlai', 'North Indian', 'Seafood', 'Kebab', 'Chinese', '', 'Chinese', 'North Indian', '', 'Thai', 'Italian', 'Continental', '', 'Asian', 'North Indian', 'Mughlai', '', 'Mughlai', 'Chinese', 'North Indian', '', 'Malwani', 'Mughlai', 'North Indian', 'Chinese', '', 'Mughlai', 'North Indian', 'Chinese', 'Bar Food', '', 'Beverages', 'Finger Food', 'Fast Food', 'Burger', '', 'Mughlai', 'Chinese', 'North Indian', '', 'Mughlai', 'Biryani', 'North Indian', 'Continental', 'Kebab', '', 'Italian', 'Continental', 'Cafe', '', 'Beverages', 'Fast Food', 'Sandwich', 'South Indian', '', 'Arabian', '', 'Desserts', 'Malwani', 'Mughlai', 'Chinese', 'North Indian', '', 'Fast Food', 'Burger', '', 'Finger Food', 'North Indian', 'Asian', 'Continental', '', 'Seafood', 'North Indian', 'Biryani', '', 'Cafe', 'Continental', 'Italian', 'European', '', 'Biryani', 'North Indian', 'Maharashtrian', '', 'Chinese', 'Mughlai', 'Biryani', 'North Indian', '', 'Biryani', 'Maharashtrian', 'North Indian', '', 'Beverages', 'Fast Food', 'Desserts', 'Bakery', '', 'Beverages', 'Finger Food', 'Fast Food', 'Burger', '', 'Beverages', 'Finger Food', 'Fast Food', 'Burger', '', 'Beverages', 'Finger Food', 'Fast Food', 'Burger', '', 'Beverages', 'Finger Food', 'Fast Food', 'Burger', '', 'Beverages', 'Finger Food', 'Fast Food', 'Burger', '', 'Beverages', 'Finger Food', 'Fast Food', 'Burger', '', 'Beverages', 'Finger Food', 'Fast Food', 'Burger', '', 'Beverages', 'Finger Food', 'Fast Food', 'Burger', '', 'Beverages', 'Finger Food', 'Fast Food', 'Burger', '', 'Beverages', 'Finger Food', 'Fast Food', 'Burger', '', 'Beverages', 'Finger Food', 'Fast Food', 'Burger', '', 'Fast Food', 'Burger', '', 'Beverages', 'Finger Food', 'Fast Food', 'Burger', '', 'Beverages', 'Finger Food', 'Fast Food', 'Burger', '', 'Beverages', 'Finger Food', 'Fast Food', 'Burger', '', 'Beverages', 'Finger Food', 'Fast Food', 'Burger', '', 'Fast Food', 'Burger', '', 'Fast Food', 'Burger', '', 'Fast Food', 'Burger', '', 'Fast Food', 'Burger', '', 'Fast Food', 'Burger', '', 'Fast Food', 'Burger', '', 'Fast Food', 'Burger', '', 'Fast Food', 'Burger', '', 'Fast Food', 'Burger', '', 'Fast Food', 'Burger', '', 'Fast Food', 'Burger', '', 'Fast Food', 'Burger', '', 'Fast Food', 'Burger', '', 'Fast Food', 'Burger', '', 'Fast Food', 'Burger', '', 'Fast Food', 'Burger', '', 'Fast Food', 'Burger', '', 'Fast Food', 'Burger', '', 'Fast Food', 'Burger', '', 'Fast Food', 'Burger', '', 'Fast Food', 'Burger', '', 'Fast Food', 'Burger', '', 'Fast Food', 'Burger', '', 'Fast Food', 'Burger', '', 'Fast Food', 'Burger', '', 'Fast Food', 'Burger', '', 'Fast Food', 'Burger', '', 'Fast Food', 'Burger', '', 'Fast Food', 'Burger', '', 'Fast Food', 'Burger', '', 'Fast Food', 'Burger', '', 'Fast Food', 'Burger', '', 'Fast Food', 'Burger', '', 'Fast Food', 'Burger', '', 'Fast Food', 'Burger', '', 'Chinese', 'Mughlai', 'Biryani', 'North Indian', '', 'Chinese', 'Mughlai', 'Biryani', 'North Indian', '', 'Chinese', 'Mughlai', 'Biryani', 'North Indian', '', 'Chinese', 'Mughlai', 'Biryani', 'North Indian', '', 'Chinese', 'Mughlai', 'Biryani', 'North Indian', '', 'Chinese', 'Mughlai', 'Biryani', 'North Indian', '', 'Chinese', 'Mughlai', 'Biryani', 'North Indian', '', 'Beverages', 'Fast Food', 'Desserts', 'Bakery', '', 'Beverages', 'Fast Food', 'Desserts', 'Bakery', '', 'Beverages', 'Fast Food', 'Desserts', 'Bakery', '', 'Beverages', 'Fast Food', 'Desserts', 'Bakery', '', 'Beverages', 'Fast Food', 'Desserts', 'Bakery', '', 'Biryani', 'North Indian', 'Chinese', '', 'Street Food', '', 'Chinese', 'Street Food', 'North Indian', 'South Indian', '', 'North Indian', 'Mughlai', 'Chinese', '', 'North Indian', 'Maharashtrian', 'Chinese', '', 'Bakery', '', 'Fast Food', 'Burger', '', 'Beverages', 'Tibetan', 'Momos', '', 'Italian', 'Pizza', '', 'Beverages', 'Fast Food', 'Burger', '', 'Biryani', 'Fast Food', 'Bengali', 'Seafood', 'Mughlai', 'Chinese', 'North Indian', '', 'Italian', 'European', 'Thai', 'Chinese', 'North Indian', '', 'Mughlai', 'Chinese', 'Kebab', 'North Indian', '', 'Biryani', 'Chinese', 'North Indian', '', 'South Indian', 'Chinese', 'Seafood', 'North Indian', '', 'Italian', 'Pizza', '', 'Italian', 'Pizza', '', 'Italian', 'Pizza', '', 'Italian', 'Pizza', '', 'Italian', 'Pizza', '', 'Italian', 'Pizza', '', 'Italian', 'Pizza', '', 'Italian', 'Pizza', '', 'Italian', 'Pizza', '', 'Italian', 'Pizza', '', 'Italian', 'Pizza', '', 'Italian', 'Pizza', '', 'Italian', 'Pizza', '', 'Italian', 'Pizza', '', 'Italian', 'Pizza', '', 'Italian', 'Pizza', '', 'Italian', 'Pizza', '', 'Italian', 'Pizza', '', 'Italian', 'Pizza', '', 'Italian', 'Pizza', '', 'Italian', 'Pizza', '', 'Italian', 'Pizza', '', 'Italian', 'Pizza', '', 'Italian', 'Pizza', '', 'Italian', 'Pizza', '', 'Italian', 'Pizza', '', 'Italian', 'Pizza', '', 'Italian', 'Pizza', '', 'Italian', 'Pizza', '', 'Italian', 'Pizza', '', 'Italian', 'Pizza', '', 'Italian', 'Pizza', '', 'Italian', 'Pizza', '', 'Italian', 'Pizza', '', 'Italian', 'Pizza', '', 'Italian', 'Pizza', '', 'Italian', 'Pizza', '', 'Italian', 'Pizza', '', 'Italian', 'Pizza', '', 'Italian', 'Pizza', '', 'Italian', 'Pizza', '', 'Italian', 'Pizza', '', 'Italian', 'Pizza', '', 'Italian', 'Pizza', '', 'Italian', 'Pizza', '', 'Italian', 'Pizza', '', 'Italian', 'Pizza', '', 'Italian', 'Pizza', '', 'Italian', 'Pizza', '', 'Italian', 'Pizza', '', 'Italian', 'Pizza', '', 'Italian', 'Pizza', '', 'Italian', 'Pizza', '', 'Italian', 'Pizza', '', 'Italian', 'Pizza', '', 'Italian', 'Pizza', '', 'Italian', 'Pizza', '', 'Italian', 'Pizza', '', 'Italian', 'Pizza', '', 'Italian', 'Pizza', '', 'Italian', 'Pizza', '', 'Italian', 'Pizza', '', 'Italian', 'Pizza', '', 'Italian', 'Pizza', '', 'Italian', 'Pizza', '', 'Italian', 'Pizza', '', 'Italian', 'Pizza', '', 'Beverages', 'Fast Food', 'Burger', '', 'Beverages', 'Fast Food', 'Burger', '', 'Beverages', 'Fast Food', 'Burger', '', 'Beverages', 'Fast Food', 'Burger', '', 'Beverages', 'Fast Food', 'Burger', '', 'Beverages', 'Fast Food', 'Burger', '', 'Beverages', 'Fast Food', 'Burger', '', 'Beverages', 'Fast Food', 'Burger', '', 'Beverages', 'Fast Food', 'Burger', '', 'Beverages', 'Fast Food', 'Burger', '', 'Beverages', 'Fast Food', 'Burger', '', 'Mughlai', 'Chinese', 'Kebab', 'North Indian', '', 'Mughlai', 'Chinese', 'Kebab', 'North Indian', '', 'Desserts', 'Biryani', 'Mughlai', 'Chinese', 'Kebab', 'North Indian', '', 'Mughlai', 'Chinese', 'Kebab', 'North Indian', '', 'Desserts', '', 'Fast Food', 'Pizza', '', 'Beverages', 'Desserts', 'Fast Food', 'North Indian', 'Mexican', 'Street Food', '', 'Asian', 'Italian', 'American', 'Mughlai', 'North Indian', '', 'Desserts', 'Street Food', 'North Indian', '', 'Beverages', 'Sandwich', 'Fast Food', 'South Indian', 'Cafe', '', 'Biryani', '', 'Desserts', 'Bakery', '', 'Goan', '', 'Hyderabadi', 'Kebab', 'Mughlai', 'Biryani', '', 'Biryani', 'Mughlai', 'North Indian', '', 'North Indian', 'Maharashtrian', '', 'Beverages', 'Desserts', 'Fast Food', '', 'Chinese', 'Fast Food', 'Street Food', 'North Indian', 'South Indian', '', 'Desserts', 'Biryani', 'Maharashtrian', 'Mughlai', 'North Indian', '', 'Fast Food', 'Pizza', '', 'Fast Food', 'Pizza', '', 'Fast Food', 'Pizza', '', 'Fast Food', 'Pizza', '', 'Fast Food', 'Pizza', '', 'Fast Food', 'Pizza', '', 'Fast Food', 'Pizza', '', 'Desserts', 'Bakery', '', 'Desserts', 'Bakery', '', 'Desserts', 'Bakery', '', 'Desserts', 'Bakery', '', 'Bakery', 'Desserts', '', 'Hyderabadi', 'Kebab', 'Mughlai', 'Biryani', '', 'Hyderabadi', 'Kebab', 'Mughlai', 'Biryani', '', 'Hyderabadi', 'Kebab', 'Mughlai', 'Biryani', '', 'Beverages', 'Sandwich', 'Biryani', 'Mughlai', 'North Indian', '', 'North Indian', '', 'Fast Food', 'North Indian', '', 'Maharashtrian', 'Chinese', 'North Indian', 'Sandwich', 'South Indian', '', 'Desserts', 'Tea', 'Coffee', 'Cafe', '', 'Mughlai', 'Chinese', '', 'Bakery', '', 'North Indian', '', 'Beverages', 'Rolls', 'Fast Food', '', 'Biryani', 'Sandwich', 'Street Food', 'North Indian', 'Burger', 'Chinese', '', 'Asian', 'Thai', 'Chinese', '', 'Desserts', 'Maharashtrian', '', 'Chinese', 'Kebab', 'North Indian', 'Biryani', '', 'Beverages', 'North Indian', 'South Indian', 'Street Food', 'Mithai', '', 'Chinese', 'Maharashtrian', 'North Indian', '', 'Beverages', 'Sandwich', 'Biryani', 'Mughlai', 'North Indian', '', 'Beverages', 'Sandwich', 'Biryani', 'Mughlai', 'North Indian', '', 'Beverages', 'Sandwich', 'Biryani', 'Mughlai', 'North Indian', '', 'Beverages', 'Sandwich', 'Biryani', 'Mughlai', 'North Indian', '', 'Desserts', 'Tea', 'Coffee', 'Cafe', '', 'Desserts', 'Tea', 'Coffee', 'Cafe', '', 'Desserts', 'Tea', 'Coffee', 'Cafe', '', 'Desserts', 'Tea', 'Coffee', 'Cafe', '', 'Desserts', 'Tea', 'Coffee', 'Cafe', '', 'Desserts', 'Tea', 'Coffee', 'Cafe', '', 'Desserts', 'Tea', 'Coffee', 'Cafe', '', 'Desserts', 'Tea', 'Coffee', 'Cafe', '', 'Desserts', 'Tea', 'Coffee', 'Cafe', '', 'Desserts', 'Tea', 'Coffee', 'Cafe', '', 'Desserts', 'Tea', 'Coffee', 'Cafe', '', 'Desserts', 'Tea', 'Coffee', 'Cafe', '', 'North Indian', 'Mughlai', '', 'Chinese', 'Mughlai', '', 'North Indian', 'Kebab', 'Chinese', '', 'Mughlai', 'Chinese', '', 'Fast Food', 'Chinese', '', 'North Indian', 'Chinese', '', 'Mughlai', '', 'Mughlai', '', 'Mughlai', 'Chinese', '', 'North Indian', 'Mughlai', '', 'North Indian', 'Mughlai', '', 'Desserts', 'Maharashtrian', '', 'Desserts', 'Maharashtrian', '', 'Desserts', 'Maharashtrian', '', 'Fast Food', 'Beverages', 'Maharashtrian', 'Chinese', 'South Indian', 'North Indian', '', 'Fast Food', 'Burger', '', 'North Indian', 'Chinese', '', 'Bakery', '', 'Beverages', 'Sandwich', 'Pizza', 'North Indian', 'Fast Food', '', 'Street Food', '', 'Fast Food', 'Pizza', '', 'Mughlai', 'North Indian', 'Biryani', '', 'Momos', '', 'Beverages', 'Momos', 'Pizza', 'Burger', 'Sandwich', '', 'Seafood', 'North Indian', 'Konkan', '', 'European', 'Bakery', 'French', 'Desserts', 'Cafe', '', 'Maharashtrian', 'North Indian', '', 'Kebab', 'Burger', '', 'Biryani', '', 'Fast Food', 'Pizza', '', 'Fast Food', 'Pizza', '', 'Fast Food', 'Pizza', '', 'Fast Food', 'Pizza', '', 'Mughlai', 'North Indian', 'Biryani', '', 'Mughlai', 'North Indian', 'Biryani', '', 'Mughlai', 'North Indian', 'Biryani', '', 'Mughlai', 'North Indian', 'Biryani', '', 'Mughlai', 'North Indian', 'Biryani', '', 'Mughlai', 'North Indian', 'Biryani', '', 'Mughlai', 'North Indian', 'Biryani', '', 'Mughlai', 'North Indian', 'Biryani', '', 'Mughlai', 'North Indian', 'Biryani', '', 'Mughlai', 'North Indian', 'Biryani', '', 'Mughlai', 'North Indian', 'Biryani', '', 'Mughlai', 'North Indian', 'Biryani', '', 'Mughlai', 'North Indian', 'Biryani', '', 'Mughlai', 'North Indian', 'Biryani', '', 'Mughlai', 'North Indian', 'Biryani', '', 'Mughlai', 'North Indian', 'Biryani', '', 'Mughlai', 'North Indian', 'Biryani', '', 'Mughlai', 'North Indian', 'Biryani', '', 'Mughlai', 'North Indian', 'Biryani', '', 'Mughlai', 'North Indian', 'Biryani', '', 'Mughlai', 'North Indian', 'Biryani', '', 'Mughlai', 'North Indian', 'Biryani', '', 'Mughlai', 'North Indian', 'Biryani', '', 'Mughlai', 'North Indian', 'Biryani', '', 'Mughlai', 'North Indian', 'Biryani', '', 'Mughlai', 'North Indian', 'Biryani', '', 'Mughlai', 'North Indian', 'Biryani', '', 'Mughlai', 'North Indian', 'Biryani', '', 'Mughlai', 'North Indian', 'Biryani', '', 'Mughlai', 'North Indian', 'Biryani', '', 'Mughlai', 'North Indian', 'Biryani', '', 'Mughlai', 'North Indian', 'Biryani', '', 'Beverages', 'Momos', 'Pizza', 'Burger', 'Sandwich', '', 'Beverages', 'Momos', 'Pizza', 'Burger', 'Sandwich', '', 'Beverages', 'Momos', 'Pizza', 'Burger', 'Sandwich', '', 'Beverages', 'Momos', 'Pizza', 'Burger', 'Sandwich', '', 'Beverages', 'Momos', 'Pizza', 'Burger', 'Sandwich', '', 'North Indian', 'Chinese', '', 'Burger', 'Fast Food', '', 'Beverages', 'Salad', 'Pizza', 'Mexican', 'Italian', '', 'Maharashtrian', 'North Indian', '', 'Mithai', 'Rajasthani', 'Maharashtrian', 'Chinese', 'North Indian', '', 'American', 'Finger Food', 'Fast Food', 'Pizza', '', 'Chinese', 'North Indian', '', 'Beverages', 'Fast Food', 'Sandwich', 'Pizza', 'Chinese', 'North Indian', 'Maharashtrian', 'Street Food', '', 'Desserts', 'Fast Food', 'Bakery', '', 'Chinese', '', 'Fast Food', '', 'Salad', 'Asian', 'Korean', 'Japanese', 'Vietnamese', 'Thai', 'Malaysian', '', 'American', 'Burger', '', 'Fast Food', 'North Indian', 'Biryani', '', 'Sandwich', 'Tea', 'Beverages', 'Street Food', 'Fast Food', '', 'Beverages', 'Mexican', 'Italian', '', 'Beverages', 'Salad', 'Pizza', 'Mexican', 'Italian', '', 'Beverages', 'Mexican', 'Italian', '', 'Mexican', 'Italian', '', 'American', 'Finger Food', 'Fast Food', 'Pizza', '', 'American', 'Finger Food', 'Fast Food', 'Pizza', '', 'American', 'Finger Food', 'Fast Food', 'Pizza', '', 'American', 'Finger Food', 'Fast Food', 'Pizza', '', 'American', 'Finger Food', 'Fast Food', 'Pizza', '', 'American', 'Finger Food', 'Fast Food', 'Pizza', '', 'American', 'Finger Food', 'Fast Food', 'Pizza', '', 'American', 'Finger Food', 'Fast Food', 'Pizza', '', 'American', 'Finger Food', 'Fast Food', 'Pizza', '', 'American', 'Finger Food', 'Fast Food', 'Pizza', '', 'American', 'Finger Food', 'Fast Food', 'Pizza', '', 'American', 'Finger Food', 'Fast Food', 'Pizza', '', 'American', 'Finger Food', 'Fast Food', 'Pizza', '', 'American', 'Finger Food', 'Fast Food', 'Pizza', '', 'American', 'Finger Food', 'Fast Food', 'Pizza', '', 'American', 'Finger Food', 'Fast Food', 'Pizza', '', 'American', 'Finger Food', 'Fast Food', 'Pizza', '', 'American', 'Finger Food', 'Fast Food', 'Pizza', '', 'American', 'Finger Food', 'Fast Food', 'Pizza', '', 'American', 'Finger Food', 'Fast Food', 'Pizza', '', 'American', 'Finger Food', 'Fast Food', 'Pizza', '', 'North Indian', 'South Indian', '', 'Beverages', 'Fast Food', '', 'Beverages', 'Chinese', 'Street Food', 'North Indian', '', 'Fast Food', 'Asian', 'Chinese', '', 'Street Food', '', 'Mughlai', 'North Indian', 'Biryani', '', 'Beverages', 'Desserts', 'Fast Food', 'Street Food', 'Chinese', 'South Indian', 'North Indian', '', 'North Indian', '', 'Beverages', 'Italian', 'Pizza', '', 'Fast Food', 'Korean', 'Asian', 'Cafe', '', 'Bihari', 'Rajasthani', '', 'Fast Food', 'Burger', '', 'Street Food', 'Fast Food', '', 'Desserts', 'Bakery', '', 'Pizza', 'Mughlai', 'Beverages', 'North Indian', 'Fast Food', 'Street Food', '', 'North Indian', '', 'North Indian', '', 'North Indian', '', 'Beverages', 'Italian', 'Pizza', '', 'Beverages', 'Italian', 'Pizza', '', 'Beverages', 'Italian', 'Pizza', '', 'Coffee', 'Desserts', 'Continental', 'Korean', 'Japanese', 'Cafe', '', 'Coffee', 'Desserts', 'Continental', 'Korean', 'Japanese', 'Cafe', '', 'Beverages', 'Desserts', 'Italian', 'Asian', 'Cafe', '', 'Korean', 'Fast Food', 'Asian', 'Cafe', '', 'Beverages', 'Desserts', 'Healthy Food', 'Italian', 'Fast Food', 'Cafe', '', 'Italian', 'Continental', 'Fast Food', 'Desserts', 'Cafe', '', 'Coffee', 'Desserts', 'Continental', 'Korean', 'Japanese', 'Cafe', '', 'Beverages', 'Fast Food', 'Cafe', '', 'Desserts', 'Bakery', '', 'Bakery', '', 'Desserts', 'Bakery', '', 'Biryani', 'Chinese', '', 'Biryani', 'Maharashtrian', 'Mughlai', 'North Indian', 'Chinese', '', 'Malwani', 'Mughlai', 'Chinese', 'North Indian', '', 'Beverages', 'Fast Food', 'Burger', '', 'Beverages', 'Chinese', 'North Indian', 'South Indian', 'Street Food', 'Fast Food', '', 'Continental', 'American', 'Biryani', 'Chinese', 'North Indian', '', 'Beverages', 'Fast Food', 'Bakery', 'Cafe', '', 'South Indian', '', 'Chinese', 'Mughlai', 'North Indian', '', 'Chinese', '', 'Rolls', '', 'Biryani', '', 'Momos', '', 'Beverages', 'Momos', 'Chinese', 'Sushi', 'Thai', 'Malaysian', '', 'Chinese', 'North Indian', '', 'Beverages', 'South Indian', 'Street Food', 'Fast Food', '', 'Street Food', 'South Indian', 'Fast Food', 'Beverages', 'Coffee', '', 'Street Food', 'South Indian', 'Fast Food', 'Beverages', 'Coffee', '', 'Beverages', 'Burger', 'Sandwich', 'Fast Food', 'North Indian', 'Street Food', '', 'Beverages', 'South Indian', 'Fast Food', 'Chinese', '', 'Beverages', 'South Indian', 'Street Food', 'Fast Food', '', 'Beverages', 'South Indian', 'Street Food', 'Fast Food', '', 'Beverages', 'South Indian', 'Street Food', 'Fast Food', '', 'South Indian', 'Fast Food', '', 'Fast Food', '', 'Beverages', 'Fast Food', 'Chinese', '', 'Beverages', 'Fast Food', 'South Indian', '', 'Beverages', 'South Indian', 'Street Food', 'Fast Food', '', 'South Indian', 'North Indian', 'Street Food', '', 'Street Food', 'South Indian', 'Fast Food', 'Beverages', 'Coffee', '', 'Beverages', 'South Indian', '', 'Beverages', 'Coffee', 'Street Food', 'Sandwich', 'Chinese', 'South Indian', 'Fast Food', '', 'Beverages', 'South Indian', 'Street Food', 'Fast Food', '', 'Beverages', 'South Indian', 'Street Food', 'Fast Food', '', 'Beverages', 'North Indian', 'Maharashtrian', 'South Indian', 'Fast Food', '', 'Street Food', 'South Indian', 'Fast Food', 'Beverages', 'Coffee', '', 'Beverages', 'South Indian', 'Street Food', 'Fast Food', '', 'Beverages', 'South Indian', 'Street Food', 'Fast Food', '', 'Beverages', 'Chinese', 'South Indian', 'North Indian', '', 'Street Food', 'South Indian', 'Fast Food', 'Beverages', 'Coffee', '', 'Beverages', 'South Indian', 'Sandwich', 'Street Food', 'North Indian', 'Chinese', '', 'Street Food', 'South Indian', 'Fast Food', 'Beverages', 'Coffee', '', 'Fast Food', '', 'Beverages', 'South Indian', 'Street Food', 'Fast Food', '', 'Beverages', 'South Indian', 'Street Food', 'Fast Food', '', 'Beverages', 'Chinese', 'South Indian', 'Street Food', 'Fast Food', '', 'Fast Food', 'Street Food', '', 'Beverages', 'South Indian', 'Street Food', 'Fast Food', '', 'South Indian', 'Fast Food', '', 'Beverages', 'South Indian', 'Street Food', 'Fast Food', '', 'Maharashtrian', 'Street Food', 'Beverages', '', 'Beverages', 'Fast Food', 'South Indian', '', 'Beverages', 'South Indian', 'Street Food', 'Fast Food', '', 'Beverages', 'South Indian', 'Street Food', 'Fast Food', '', 'Street Food', 'South Indian', '', 'Beverages', 'South Indian', 'Street Food', 'Fast Food', '', 'Chinese', 'Mughlai', 'Malwani', 'North Indian', '', 'Chinese', 'North Indian', '', 'Chinese', 'Mughlai', 'North Indian', '', 'Chinese', 'North Indian', '', 'Chinese', 'Mughlai', 'North Indian', '', 'Chinese', 'Mughlai', 'North Indian', '', 'Chinese', 'Mughlai', 'North Indian', '', 'Momos', '', 'Momos', '', 'Momos', '', 'Beverages', 'Fast Food', '', 'Beverages', 'Seafood', 'Mughlai', 'Chinese', 'Kebab', 'North Indian', '', 'Finger Food', 'Chinese', 'North Indian', '', 'Fast Food', 'Asian', 'North Indian', 'Bar Food', '', 'Maharashtrian', 'Chinese', 'North Indian', '', 'Malwani', 'Maharashtrian', 'Kebab', 'North Indian', '', 'Mithai', 'Street Food', '', 'Desserts', 'Continental', 'Biryani', 'North Indian', 'Healthy Food', '', 'Beverages', 'Fast Food', 'Sandwich', 'Pizza', '', 'Biryani', '', 'Chinese', '', 'Chinese', 'North Indian', '', 'Wraps', 'Burger', '', 'Italian', '', 'North Indian', 'Biryani', '', 'Mithai', 'Street Food', '', 'Street Food', '', 'Mithai', 'Street Food', '', 'Mithai', 'Street Food', '', 'Mithai', 'Street Food', '', 'Desserts', 'Continental', 'Biryani', 'North Indian', 'Healthy Food', '', 'Desserts', 'Continental', 'Biryani', 'North Indian', 'Healthy Food', '', 'Desserts', 'Continental', 'Biryani', 'North Indian', 'Healthy Food', '', 'North Indian', 'Biryani', '', 'North Indian', 'Biryani', '', 'North Indian', 'Biryani', '', 'North Indian', 'Biryani', '', 'North Indian', 'Biryani', '', 'North Indian', 'Biryani', '', 'North Indian', 'Biryani', '', 'North Indian', 'Biryani', '', 'North Indian', 'Biryani', '', 'North Indian', 'Biryani', '', 'North Indian', 'Biryani', '', 'North Indian', 'Biryani', '', 'North Indian', 'Biryani', '', 'North Indian', 'Biryani', '', 'North Indian', 'Biryani', '', 'North Indian', 'Biryani', '', 'North Indian', 'Biryani', '', 'North Indian', 'Biryani', '', 'North Indian', 'Biryani', '', 'North Indian', 'Biryani', '', 'North Indian', 'Biryani', '', 'North Indian', 'Biryani', '', 'North Indian', 'Biryani', '', 'North Indian', 'Biryani', '', 'North Indian', 'Biryani', '', 'North Indian', 'Biryani', '', 'North Indian', 'Biryani', '', 'North Indian', 'Biryani', '', 'North Indian', 'Biryani', '', 'North Indian', 'Biryani', '', 'North Indian', 'Biryani', '', 'North Indian', 'Biryani', '', 'Pizza', 'Italian', '', 'Desserts', 'Bakery', '', 'Chinese', 'North Indian', '', 'Mughlai', 'Maharashtrian', '', 'Street Food', '', 'Maharashtrian', '', 'Odia', '', 'Continental', 'North Indian', 'Bar Food', '', 'Chinese', 'North Indian', '', 'Chinese', 'North Indian', '', 'Fast Food', 'South Indian', 'North Indian', '', 'Asian', 'Thai', 'Chinese', '', 'Biryani', 'North Indian', 'Chinese', '', 'Kebab', 'Chinese', '', 'Beverages', 'Desserts', 'Mughlai', 'Seafood', 'Chinese', 'North Indian', '', 'Chinese', 'North Indian', '', 'Chinese', 'North Indian', '', 'Chinese', 'North Indian', '', 'North Indian', 'Chinese', '', 'Chinese', 'North Indian', '', 'Chinese', 'North Indian', '', 'Desserts', 'Bakery', '', 'Beverages', 'Fast Food', 'North Indian', 'Maharashtrian', 'Rolls', 'Sandwich', 'Street Food', 'Pizza', '', 'Ice Cream', 'Beverages', 'Italian', 'Desserts', '', 'Desserts', 'Bakery', '', 'Chinese', 'North Indian', 'Maharashtrian', '', 'Beverages', 'Fast Food', 'Healthy Food', 'Italian', 'Asian', 'Continental', '', 'Beverages', 'Desserts', 'Fast Food', 'Bakery', '', 'Lebanese', 'Rolls', '', 'Beverages', 'Fast Food', 'Desserts', 'Bakery', '', 'Beverages', 'Cafe', 'Italian', 'German', '', 'North Indian', 'Mughlai', 'Chinese', '', 'Beverages', 'Chinese', 'Mughlai', 'North Indian', '', 'Chinese', '', 'Salad', 'Continental', 'Chinese', 'North Indian', '', 'Fast Food', 'North Indian', '', 'Italian', 'Beverages', 'Continental', 'German', '', 'Beverages', 'Desserts', 'Cafe', 'Italian', 'Continental', 'German', '', 'Beverages', 'Desserts', 'Continental', '', 'Cafe', 'Italian', 'German', '', 'North Indian', 'Chinese', '', 'Italian', 'Maharashtrian', 'Mughlai', 'Chinese', 'North Indian', '', 'Fast Food', 'Burger', '', 'Chinese', 'North Indian', 'Biryani', '', 'Beverages', 'Street Food', 'Fast Food', 'South Indian', 'Continental', 'Chinese', 'North Indian', '', 'Maharashtrian', 'Fast Food', 'Chinese', 'Mughlai', 'North Indian', '', 'Chinese', '', 'Fast Food', 'Pizza', '', 'Fast Food', 'Burger', '', 'Street Food', 'South Indian', '', 'Fast Food', 'Sandwich', 'Pizza', '', 'North Indian', 'Chinese', 'Biryani', '', 'Beverages', 'Pizza', '', 'Mughlai', 'Biryani', 'Chinese', 'North Indian', '', 'Desserts', 'North Indian', 'Chinese', 'Fast Food', '', 'Maharashtrian', 'Italian', 'Chinese', 'North Indian', '', 'Italian', 'Maharashtrian', 'Mughlai', 'Chinese', 'North Indian', '', 'Maharashtrian', 'Italian', 'Chinese', 'North Indian', '', 'Hyderabadi', 'Italian', 'Chinese', 'North Indian', '', 'Desserts', 'Seafood', 'Kebab', 'Fast Food', 'Chinese', 'North Indian', '', 'Italian', 'Maharashtrian', 'Mughlai', 'Chinese', 'North Indian', '', 'Italian', 'Maharashtrian', 'Mughlai', 'Chinese', 'North Indian', '', 'Beverages', 'Fast Food', 'Pizza', '', 'Desserts', 'Beverages', 'Pizza', '', 'Beverages', 'Pizza', '', 'Beverages', 'Pizza', '', 'Mughlai', 'Biryani', 'Chinese', 'North Indian', '', 'Mughlai', 'Biryani', 'Chinese', 'North Indian', '', 'Biryani', 'Mughlai', 'Chinese', 'North Indian', '', 'Rolls', 'Biryani', 'Chinese', 'North Indian', '', 'Biryani', 'Mughlai', 'Chinese', 'North Indian', '', 'Biryani', 'Mughlai', 'Chinese', 'North Indian', '', 'Maharashtrian', 'Biryani', 'Mughlai', 'Chinese', 'North Indian', '', 'Biryani', 'Mughlai', 'Chinese', 'North Indian', '', 'Biryani', 'North Indian', 'Mughlai', '', 'Desserts', 'Street Food', 'Fast Food', 'Mexican', 'Chinese', 'Continental', 'Italian', '', 'Sushi', 'Thai', 'Asian', '', 'Pizza', '', 'Biryani', 'Seafood', 'Chinese', 'North Indian', '', 'Beverages', 'Fast Food', 'Rolls', '', 'Desserts', '', 'Seafood', 'South Indian', 'Kerala', '', 'Beverages', 'Fast Food', 'Pizza', '', 'Fast Food', 'Seafood', 'Asian', 'North Indian', '', 'Desserts', 'Continental', 'Asian', 'North Indian', 'Italian', 'European', '', 'Street Food', '', 'Maharashtrian', 'North Indian', '', 'Beverages', 'Desserts', 'Biryani', 'Mughlai', 'Chinese', 'North Indian', '', 'Mughlai', 'Chinese', 'North Indian', '', 'Pizza', '', 'Pizza', '', 'Pizza', '', 'Pizza', '', 'Pizza', '', 'Pizza', '', 'Pizza', '', 'Pizza', '', 'Pizza', '', 'Pizza', '', 'Pizza', '', 'Pizza', '', 'Pizza', '', 'Pizza', '', 'Pizza', '', 'Pizza', '', 'Pizza', '', 'Pizza', '', 'Pizza', '', 'Pizza', '', 'Pizza', '', 'Pizza', '', 'Pizza', '', 'Pizza', '', 'Pizza', '', 'Pizza', '', 'Pizza', '', 'Beverages', 'Fast Food', 'Rolls', '', 'Beverages', 'Fast Food', 'Rolls', '', 'Beverages', 'Fast Food', 'Rolls', '', 'Beverages', 'Fast Food', 'Rolls', '', 'Beverages', 'Fast Food', 'Rolls', '', 'Beverages', 'Fast Food', 'Rolls', '', 'Beverages', 'Fast Food', 'Rolls', '', 'Beverages', 'Fast Food', 'Rolls', '', 'Beverages', 'Fast Food', 'Rolls', '', 'Fast Food', 'Rolls', 'North Indian', '', 'Beverages', 'Fast Food', 'Rolls', '', 'Beverages', 'Fast Food', 'Rolls', '', 'Beverages', 'Fast Food', 'Rolls', '', 'Beverages', 'Fast Food', 'Rolls', '', 'Beverages', 'Fast Food', 'Rolls', '', 'Beverages', 'Fast Food', 'Rolls', '', 'Beverages', 'Fast Food', 'Rolls', '', 'Beverages', 'Fast Food', 'Rolls', '', 'Beverages', 'Fast Food', 'Rolls', '', 'Beverages', 'Fast Food', 'Rolls', '', 'Beverages', 'Fast Food', 'Rolls', '', 'Beverages', 'Fast Food', 'Rolls', '', 'Beverages', 'Fast Food', 'Rolls', '', 'Beverages', 'Fast Food', 'Rolls', '', 'Beverages', 'Fast Food', 'Rolls', '', 'Fast Food', 'Rolls', 'North Indian', '', 'Beverages', 'Fast Food', 'Rolls', '', 'Beverages', 'Fast Food', 'Rolls', '', 'Beverages', 'Fast Food', 'Rolls', '', 'Beverages', 'Fast Food', 'Rolls', '', 'Beverages', 'Fast Food', 'Rolls', '', 'Beverages', 'Fast Food', 'Rolls', '', 'Beverages', 'Fast Food', 'Rolls', '', 'Beverages', 'Fast Food', 'Rolls', '', 'Beverages', 'Fast Food', 'Rolls', '', 'Fast Food', 'Rolls', '', 'Beverages', 'Fast Food', 'Rolls', '', 'Beverages', 'Fast Food', 'Rolls', '', 'Beverages', 'Fast Food', 'Rolls', '', 'Beverages', 'Fast Food', 'Rolls', '', 'Beverages', 'Fast Food', 'Rolls', '', 'Italian', 'Asian', 'Mughlai', 'Mexican', 'Continental', '', 'Fast Food', 'Iranian', '', 'Biryani', 'Lebanese', 'Mughlai', 'North Indian', '', 'South Indian', '', 'Desserts', 'Bakery', '', 'Beverages', 'Maharashtrian', 'Street Food', 'Chinese', 'North Indian', 'Fast Food', '', 'North Indian', '', 'Desserts', 'Bakery', '', 'Chinese', 'Fast Food', 'North Indian', '', 'Chinese', 'North Indian', 'South Indian', 'Seafood', '', 'Juices', 'Beverages', 'Street Food', 'Fast Food', '', 'Chinese', 'Maharashtrian', 'Street Food', '', 'Beverages', 'Fast Food', 'South Indian', '', 'Chinese', '', 'North Indian', 'Sandwich', 'Beverages', '', 'Fast Food', 'Iranian', '', 'Fast Food', 'Iranian', '', 'Desserts', 'Bakery', 'North Indian', 'Fast Food', 'Iranian', '', 'Bakery', 'Cafe', '', 'Fast Food', 'Iranian', '', 'Biryani', 'Lebanese', 'Mughlai', 'North Indian', '', 'Biryani', 'Lebanese', 'Mughlai', 'North Indian', '', 'Biryani', 'Lebanese', 'Mughlai', 'North Indian', '', 'Biryani', 'Lebanese', 'Mughlai', 'North Indian', '', 'Biryani', 'Lebanese', 'Mughlai', 'North Indian', '', 'Biryani', 'Lebanese', 'Mughlai', 'North Indian', '', 'Biryani', 'Lebanese', 'Mughlai', 'North Indian', '', 'Biryani', 'Lebanese', 'Mughlai', 'North Indian', '', 'Biryani', 'Lebanese', 'Mughlai', 'North Indian', '', 'Biryani', 'Lebanese', 'Mughlai', 'North Indian', '', 'Biryani', 'Lebanese', 'Mughlai', 'North Indian', '', 'Biryani', 'Lebanese', 'Mughlai', 'North Indian', '', 'Beverages', 'Fast Food', 'Desserts', 'Bakery', '', 'Desserts', 'Bakery', '', 'Desserts', 'Bakery', '', 'Desserts', 'Bakery', '', 'Desserts', 'Bakery', '', 'Desserts', 'Bakery', '', 'Fast Food', 'Chinese', 'South Indian', 'North Indian', '', 'Beverages', 'Fast Food', 'South Indian', 'North Indian', 'Chinese', '', 'Fast Food', 'Chinese', 'South Indian', 'North Indian', '', 'Chinese', 'Fast Food', 'North Indian', '', 'Fast Food', 'Chinese', 'South Indian', 'North Indian', '', 'Juices', 'Beverages', 'Street Food', 'Fast Food', '', 'Juices', 'Beverages', 'Street Food', 'Fast Food', '', 'Juices', 'Beverages', 'Street Food', 'Fast Food', '', 'Juices', 'Beverages', 'Street Food', 'Fast Food', '', 'Juices', 'Beverages', 'Street Food', 'Fast Food', '', 'Juices', 'Beverages', 'Street Food', 'Fast Food', '', 'Beverages', 'Seafood', 'Chinese', 'Mughlai', 'North Indian', '', 'North Indian', '', 'Desserts', 'Ice Cream', '', 'Fast Food', '', 'Desserts', 'Bakery', '', 'Chinese', '', 'Salad', 'Desserts', 'European', 'French', 'Cafe', '', 'Beverages', 'Rolls', 'Fast Food', 'Sandwich', '', 'North Indian', 'Fast Food', 'Momos', 'Biryani', '', 'Maharashtrian', '', 'Fast Food', 'Pizza', '', 'North Indian', 'Maharashtrian', '', 'Fast Food', 'Seafood', 'Chinese', '', 'Fast Food', 'Pizza', '', 'Beverages', 'Chinese', 'North Indian', '', 'Beverages', 'Seafood', 'Chinese', 'Mughlai', 'North Indian', '', 'Beverages', 'Seafood', 'Chinese', 'Mughlai', 'North Indian', '', 'Beverages', 'Seafood', 'Chinese', 'Mughlai', 'North Indian', '', 'Beverages', 'Desserts', 'Chinese', 'Seafood', 'Mughlai', 'North Indian', '', 'North Indian', '', 'North Indian', '', 'North Indian', '', 'Desserts', 'Ice Cream', '', 'Desserts', 'Ice Cream', '', 'Desserts', 'Ice Cream', '', 'Desserts', 'Ice Cream', '', 'Desserts', 'Ice Cream', '', 'Desserts', 'Ice Cream', '', 'Desserts', 'Ice Cream', '', 'Desserts', 'Ice Cream', '', 'Desserts', 'Ice Cream', '', 'Desserts', 'Ice Cream', '', 'Desserts', 'Ice Cream', '', 'Desserts', 'Ice Cream', '', 'Desserts', 'Ice Cream', '', 'Desserts', 'Ice Cream', '', 'Desserts', 'Ice Cream', '', 'Desserts', 'Ice Cream', '', 'Desserts', 'Ice Cream', '', 'Desserts', 'Ice Cream', '', 'Desserts', 'Ice Cream', '', 'Fast Food', 'Pizza', '', 'Fast Food', 'Pizza', '', 'Fast Food', 'Pizza', '', 'Fast Food', 'Pizza', '', 'Fast Food', 'Pizza', '', 'Fast Food', 'Pizza', '', 'Fast Food', 'Pizza', '', 'Fast Food', 'Pizza', '', 'Mughlai', 'Seafood', 'Chinese', 'North Indian', '', 'Bakery', '', 'Asian', 'Italian', 'Mughlai', 'North Indian', 'Continental', '', 'Fast Food', 'Maharashtrian', '', 'Chinese', '', 'Lebanese', 'Kebab', 'Biryani', '', 'Chinese', 'Thai', 'Asian', '', 'Burger', '', 'North Indian', '', 'North Indian', '', 'Biryani', 'Chinese', 'North Indian', '', 'Mithai', '', 'Beverages', 'North Indian', 'Kebab', 'Biryani', '', 'Maharashtrian', 'Fast Food', 'Chinese', 'North Indian', '', 'Beverages', 'Chinese', 'North Indian', 'Fast Food', 'South Indian', '', 'Ice Cream', 'Mithai', 'Chinese', 'North Indian', 'Street Food', '', 'Fast Food', 'South Indian', '', 'North Indian', 'Fast Food', '', 'Beverages', 'Fast Food', 'Street Food', '', 'Asian', '', 'Beverages', 'Street Food', '', 'Chinese', 'Momos', 'Mughlai', 'Biryani', 'Fast Food', 'North Indian', '', 'Malwani', 'Chinese', 'North Indian', 'Biryani', '', 'Beverages', 'Fast Food', 'Street Food', '', 'Chinese', '', 'European', 'North Indian', 'Chinese', '', 'Chinese', 'North Indian', 'Biryani', 'Kebab', '', 'Seafood', 'Biryani', 'North Indian', '', 'Desserts', 'Bakery', '', 'Fast Food', 'South Indian', '', 'Fast Food', 'South Indian', '', 'Street Food', 'South Indian', '', 'Street Food', 'South Indian', '', 'Fast Food', 'South Indian', '', 'Fast Food', 'South Indian', '', 'Fast Food', 'South Indian', '', 'South Indian', '', 'South Indian', '', 'Fast Food', 'South Indian', '', 'Fast Food', 'South Indian', '', 'South Indian', '', 'Street Food', 'South Indian', '', 'Fast Food', 'South Indian', '', 'Fast Food', 'South Indian', '', 'North Indian', 'Fast Food', '', 'North Indian', 'Fast Food', '', 'Raw Meats', 'Fast Food', '', 'North Indian', 'Fast Food', '', 'North Indian', 'Fast Food', '', 'North Indian', 'Fast Food', '', 'North Indian', 'Fast Food', '', 'North Indian', 'Fast Food', '', 'North Indian', 'Fast Food', '', 'North Indian', 'Fast Food', '', 'North Indian', 'Fast Food', '', 'North Indian', 'Fast Food', '', 'North Indian', 'Fast Food', '', 'North Indian', 'Fast Food', '', 'North Indian', 'Fast Food', '', 'North Indian', 'Fast Food', '', 'Beverages', 'Fast Food', 'Street Food', '', 'Beverages', 'Fast Food', 'Street Food', '', 'Beverages', 'Fast Food', 'Street Food', '', 'Fast Food', 'Street Food', '', 'Beverages', 'Fast Food', 'Street Food', '', 'Fast Food', 'Street Food', '', 'Chinese', 'North Indian', '', 'Maharashtrian', 'Chinese', 'North Indian', '', 'Chinese', 'North Indian', '', 'Seafood', 'North Indian', '', 'Maharashtrian', 'Chinese', 'North Indian', '', 'Seafood', 'Mughlai', 'Chinese', 'North Indian', '', 'Mughlai', 'Kebab', 'North Indian', '', 'Chinese', 'Momos', '', 'Biryani', 'Mughlai', 'North Indian', '', 'Bengali', 'North Indian', '', 'Pizza', 'Fast Food', 'Desserts', 'Continental', '', 'North Indian', '', 'Italian', 'American', 'Modern Indian', '', 'North Indian', 'Chinese', 'Biryani', '', 'Mughlai', 'Malwani', 'Maharashtrian', 'North Indian', '', 'Maharashtrian', 'North Indian', 'Chinese', '', 'Bar Food', 'Seafood', 'Asian', 'Thai', 'Chinese', '', 'Asian', 'Salad', 'European', 'Continental', 'Cafe', '', 'North Indian', '', 'Biryani', 'Mughlai', 'North Indian', '', 'Biryani', 'Mughlai', 'North Indian', '', 'Biryani', 'Mughlai', 'North Indian', '', 'Biryani', 'Mughlai', 'North Indian', '', 'Bengali', 'Rolls', 'Chinese', 'Mughlai', 'North Indian', '', 'Street Food', 'South Indian', 'Fast Food', '', 'Pizza', 'Sandwich', 'Desserts', 'Fast Food', '', 'Street Food', '', 'South Indian', 'Biryani', '', 'Kebab', 'Seafood', 'North Indian', 'Chinese', '', 'Biryani', 'Maharashtrian', 'Kebab', 'North Indian', 'Chinese', '', 'Maharashtrian', 'Malwani', 'Goan', 'Seafood', '', 'Desserts', 'Bakery', '', 'Biryani', 'Mughlai', 'Chinese', 'North Indian', '', 'Beverages', 'Fast Food', 'Maharashtrian', '', 'Fast Food', 'Momos', '', 'Fast Food', 'Rolls', 'North Indian', '', 'Beverages', 'Mughlai', 'North Indian', '', 'Maharashtrian', '', 'Beverages', 'Momos', '', 'Fast Food', 'Street Food', '', 'Desserts', 'Ice Cream', '', 'Chinese', 'Maharashtrian', 'South Indian', 'North Indian', '', 'Healthy Food', 'North Indian', '', 'Beverages', 'Desserts', 'Bakery', '', 'Beverages', 'Fast Food', 'Sandwich', 'South Indian', '', 'Beverages', 'Mughlai', 'Thai', 'Chinese', 'South Indian', 'North Indian', '', 'Continental', 'Fast Food', 'North Indian', '', 'Bakery', '', 'Street Food', 'Mithai', '', 'Seafood', 'Kerala', '', 'Street Food', 'North Indian', 'South Indian', '', 'Biryani', '', 'Chinese', 'South Indian', 'North Indian', '', 'Desserts', 'Ice Cream', '', 'Desserts', 'Ice Cream', '', 'Desserts', 'Ice Cream', '', 'Desserts', 'Ice Cream', '', 'Desserts', 'Ice Cream', '', 'Desserts', 'Ice Cream', '', 'Desserts', 'Ice Cream', '', 'Desserts', 'Ice Cream', '', 'Desserts', 'Ice Cream', '', 'Desserts', 'Ice Cream', '', 'Desserts', 'Ice Cream', '', 'Desserts', 'Ice Cream', '', 'Desserts', 'Ice Cream', '', 'Desserts', 'Ice Cream', '', 'Desserts', 'Ice Cream', '', 'Beverages', 'Fast Food', 'Sandwich', 'South Indian', '', 'Beverages', 'Fast Food', 'Sandwich', 'South Indian', '', 'Beverages', 'Fast Food', 'Sandwich', 'South Indian', '', 'Street Food', 'Fast Food', 'South Indian', '', 'South Indian', '', 'Beverages', 'Healthy Food', 'Fast Food', 'South Indian', '', 'Street Food', 'Mithai', '', 'Street Food', 'Mithai', '', 'Street Food', 'Mithai', '', 'Street Food', 'Mexican', 'Italian', 'North Indian', '', 'Street Food', '', 'Italian', 'Pizza', '', 'Hyderabadi', 'Biryani', '', 'Street Food', 'Mughlai', 'North Indian', '', 'Kebab', 'Biryani', '', 'South Indian', '', 'Chinese', '', 'Continental', 'Mughlai', 'Chinese', 'North Indian', '', 'Street Food', '', 'Beverages', 'Chinese', 'North Indian', 'Fast Food', 'Street Food', 'South Indian', '', 'Maharashtrian', 'Chinese', 'Biryani', 'North Indian', '', 'Biryani', 'North Indian', '', 'Fast Food', 'Mughlai', 'Chinese', 'North Indian', '', 'Fast Food', 'Desserts', 'Bakery', '', 'Hyderabadi', 'Biryani', '', 'Hyderabadi', 'Biryani', '', 'Hyderabadi', 'Biryani', '', 'Hyderabadi', 'Biryani', '', 'Hyderabadi', 'Biryani', '', 'Street Food', '', 'Maharashtrian', '', 'North Indian', '', 'Momos', 'Rolls', 'Chinese', '', 'Rolls', 'Lebanese', 'Burger', '', 'Beverages', 'Fast Food', 'Burger', 'Sandwich', 'Cafe', '', 'Fast Food', 'Burger', 'Chinese', 'Momos', '', 'Bakery', 'Desserts', '', 'Burger', 'American', '', 'Sandwich', 'Pizza', 'Fast Food', 'Desserts', '', 'Salad', 'American', 'Italian', 'European', '', 'Desserts', 'Ice Cream', '', 'Fast Food', 'North Indian', '', 'Italian', 'Bakery', 'Desserts', 'Cafe', '', 'Thai', 'Chinese', '', 'Momos', 'Rolls', 'Chinese', '', 'Momos', 'Rolls', 'Chinese', '', 'Momos', 'Rolls', 'Chinese', '', 'Rolls', 'Lebanese', 'Burger', '', 'Rolls', 'Lebanese', 'Burger', '', 'Rolls', 'Lebanese', 'Burger', '', 'Rolls', 'Lebanese', 'Burger', '', 'Rolls', 'Lebanese', 'Burger', '', 'Desserts', 'Ice Cream', '', 'Desserts', 'Ice Cream', '', 'Desserts', 'Ice Cream', '', 'Desserts', 'Ice Cream', '', 'Desserts', 'Ice Cream', '', 'Desserts', 'Ice Cream', '', 'Desserts', 'Ice Cream', '', 'Desserts', 'Ice Cream', '', 'Desserts', 'Ice Cream', '', 'Desserts', 'Ice Cream', '', 'Beverages', 'Fast Food', 'South Indian', '', 'Desserts', 'Mediterranean', 'Continental', 'Cafe', '', 'Fast Food', '', 'Cafe', 'Desserts', 'Bakery', '', 'Seafood', '', 'North Indian', 'Street Food', 'Mithai', '', 'North Indian', 'Fast Food', 'Burger', 'Rolls', '', 'Mughlai', 'North Indian', 'Chinese', '', 'Fast Food', 'Biryani', 'North Indian', 'Wraps', '', 'Maharashtrian', 'North Indian', '', 'North Indian', '', 'North Indian', 'Chinese', 'Biryani', '', 'Biryani', 'Mughlai', 'Chinese', 'North Indian', '', 'Chinese', '', 'South Indian', 'North Indian', 'Fast Food', 'Chinese', '', 'Desserts', 'Mediterranean', 'Continental', 'Cafe', '', 'Desserts', 'Mediterranean', 'Continental', 'Cafe', '', 'Desserts', 'Mediterranean', 'Continental', 'Cafe', '', 'Beverages', 'Italian', 'Street Food', 'South Indian', 'Chinese', 'North Indian', 'Mithai', '', 'North Indian', 'Street Food', 'Mithai', '', 'North Indian', 'Street Food', 'Mithai', '', 'Fast Food', 'Biryani', 'North Indian', 'Wraps', '', 'Fast Food', 'Biryani', 'North Indian', 'Wraps', '', 'Fast Food', 'Biryani', 'North Indian', 'Wraps', '', 'Fast Food', 'Biryani', 'North Indian', 'Wraps', '', 'Fast Food', 'Biryani', 'North Indian', 'Wraps', '', 'Fast Food', 'Biryani', 'North Indian', 'Wraps', '', 'Fast Food', 'Biryani', 'North Indian', 'Wraps', '', 'Fast Food', 'Biryani', 'North Indian', 'Wraps', '', 'Fast Food', 'Biryani', 'North Indian', 'Wraps', '', 'Fast Food', 'Biryani', 'North Indian', 'Wraps', '', 'Fast Food', 'Biryani', 'North Indian', 'Wraps', '', 'Fast Food', 'Biryani', 'North Indian', 'Wraps', '', 'Fast Food', 'Biryani', 'North Indian', 'Wraps', '', 'Fast Food', 'Biryani', 'North Indian', 'Wraps', '', 'Fast Food', 'Biryani', 'North Indian', 'Wraps', '', 'Fast Food', 'Biryani', 'North Indian', 'Wraps', '', 'Fast Food', 'Biryani', 'North Indian', 'Wraps', '', 'Fast Food', 'Biryani', 'North Indian', 'Wraps', '', 'Fast Food', 'Biryani', 'North Indian', 'Wraps', '', 'Fast Food', 'Biryani', 'North Indian', 'Wraps', '', 'Fast Food', 'Biryani', 'North Indian', 'Wraps', '', 'Fast Food', 'Biryani', 'North Indian', 'Wraps', '', 'Fast Food', 'Biryani', 'North Indian', 'Wraps', '', 'Fast Food', 'Biryani', 'North Indian', 'Wraps', '', 'Fast Food', 'Biryani', 'North Indian', 'Wraps', '', 'Fast Food', 'Biryani', 'North Indian', 'Wraps', '', 'Fast Food', 'Biryani', 'North Indian', 'Wraps', '', 'Fast Food', 'Biryani', 'North Indian', 'Wraps', '', 'Fast Food', 'Biryani', 'North Indian', 'Wraps', '', 'Fast Food', 'Biryani', 'North Indian', 'Wraps', '', 'Fast Food', 'Biryani', 'North Indian', 'Wraps', '', 'North Indian', 'Chinese', 'Biryani', '', 'North Indian', 'Chinese', 'Biryani', '', 'North Indian', 'Chinese', 'Biryani', '', 'North Indian', 'Chinese', 'Biryani', '', 'Mughlai', 'Chinese', 'North Indian', 'Chettinad', 'South Indian', '', 'Biryani', 'Mughlai', 'Chinese', 'North Indian', '', 'Biryani', 'Mughlai', 'Chinese', 'North Indian', '', 'Chinese', 'North Indian', '', 'Mughlai', 'Chinese', 'North Indian', 'Chettinad', 'South Indian', '', 'Biryani', '', 'Thai', 'Chinese', 'Tibetan', 'Momos', '', 'Fast Food', '', 'Street Food', '', 'Malwani', '', 'Mangalorean', 'Kebab', 'Seafood', 'Mexican', 'Thai', 'Continental', 'Chinese', 'North Indian', '', 'South Indian', 'North Indian', 'Fast Food', 'Chinese', '', 'Salad', 'Sandwich', 'Healthy Food', 'Fast Food', '', 'Chinese', '', 'Chinese', 'North Indian', '', 'Thai', 'Japanese', 'Momos', 'Sushi', 'Asian', 'Chinese', '', 'Ice Cream', 'Desserts', '', 'Beverages', 'Fast Food', 'Burger', 'Pizza', '', 'Mughlai', 'Kebab', 'Biryani', '', 'Chinese', '', 'Fast Food', '', 'Fast Food', '', 'Fast Food', '', 'Fast Food', '', 'Fast Food', '', 'Fast Food', '', 'Fast Food', '', 'Fast Food', '', 'Fast Food', '', 'Fast Food', '', 'Fast Food', '', 'Fast Food', '', 'Fast Food', '', 'Salad', 'Sandwich', 'Healthy Food', 'Fast Food', '', 'Salad', 'Sandwich', 'Healthy Food', 'Fast Food', '', 'Salad', 'Sandwich', 'Healthy Food', 'Fast Food', '', 'Salad', 'Sandwich', 'Healthy Food', 'Fast Food', '', 'Salad', 'Sandwich', 'Healthy Food', 'Fast Food', '', 'Salad', 'Sandwich', 'Healthy Food', 'Fast Food', '', 'Salad', 'Sandwich', 'Healthy Food', 'Fast Food', '', 'Salad', 'Sandwich', 'Healthy Food', 'Fast Food', '', 'Salad', 'Sandwich', 'Healthy Food', 'Fast Food', '', 'Salad', 'Sandwich', 'Healthy Food', 'Fast Food', '', 'Salad', 'Sandwich', 'Healthy Food', 'Fast Food', '', 'Salad', 'Sandwich', 'Healthy Food', 'Fast Food', '', 'Salad', 'Sandwich', 'Healthy Food', 'Fast Food', '', 'Salad', 'Sandwich', 'Healthy Food', 'Fast Food', '', 'Salad', 'Sandwich', 'Healthy Food', 'Fast Food', '', 'Salad', 'Sandwich', 'Healthy Food', 'Fast Food', '', 'Salad', 'Sandwich', 'Healthy Food', 'Fast Food', '', 'Salad', 'Sandwich', 'Healthy Food', 'Fast Food', '', 'Salad', 'Sandwich', 'Healthy Food', 'Fast Food', '', 'Salad', 'Sandwich', 'Healthy Food', 'Fast Food', '', 'Salad', 'Sandwich', 'Healthy Food', 'Fast Food', '', 'Salad', 'Sandwich', 'Healthy Food', 'Fast Food', '', 'Salad', 'Sandwich', 'Healthy Food', 'Fast Food', '', 'Salad', 'Sandwich', 'Healthy Food', 'Fast Food', '', 'Salad', 'Sandwich', 'Healthy Food', 'Fast Food', '', 'Salad', 'Sandwich', 'Healthy Food', 'Fast Food', '', 'Salad', 'Sandwich', 'Healthy Food', 'Fast Food', '', 'Salad', 'Sandwich', 'Healthy Food', 'Fast Food', '', 'Salad', 'Sandwich', 'Healthy Food', 'Fast Food', '', 'Salad', 'Sandwich', 'Healthy Food', 'Fast Food', '', 'Salad', 'Sandwich', 'Healthy Food', 'Fast Food', '', 'Salad', 'Sandwich', 'Healthy Food', 'Fast Food', '', 'Salad', 'Sandwich', 'Healthy Food', 'Fast Food', '', 'Salad', 'Sandwich', 'Healthy Food', 'Fast Food', '', 'Salad', 'Sandwich', 'Healthy Food', 'Fast Food', '', 'Salad', 'Sandwich', 'Healthy Food', 'Fast Food', '', 'Salad', 'Sandwich', 'Healthy Food', 'Fast Food', '', 'Salad', 'Sandwich', 'Healthy Food', 'Fast Food', '', 'Salad', 'Sandwich', 'Healthy Food', 'Fast Food', '', 'Salad', 'Sandwich', 'Healthy Food', 'Fast Food', '', 'Salad', 'Sandwich', 'Healthy Food', 'Fast Food', '', 'Thai', 'Japanese', 'Momos', 'Sushi', 'Asian', 'Chinese', '', 'Thai', 'Japanese', 'Sushi', 'Asian', 'Chinese', '', 'Thai', 'Japanese', 'Momos', 'Sushi', 'Asian', 'Chinese', '', 'Ice Cream', 'Desserts', '', 'Ice Cream', 'Desserts', '', 'Ice Cream', 'Desserts', '', 'Ice Cream', 'Desserts', '', 'Ice Cream', 'Desserts', '', 'Ice Cream', 'Desserts', '', 'Beverages', 'Cafe', '', 'Ice Cream', 'Desserts', 'Beverages', '', 'Kerala', 'Chinese', 'North Indian', '', 'Beverages', 'Desserts', 'Ice Cream', '', 'Desserts', 'European', 'Cafe', '', 'Biryani', 'Parsi', '', 'Bakery', 'Cafe', 'Desserts', '', 'Fast Food', 'Wraps', 'Healthy Food', 'Turkish', '', 'BBQ', 'Kebab', 'Biryani', 'North Indian', '', 'Street Food', 'Maharashtrian', '', 'Kebab', 'Biryani', 'North Indian', 'Mughlai', '', 'North Indian', 'Biryani', 'Maharashtrian', '', 'North Indian', 'Mughlai', 'Chinese', '', 'North Indian', 'Chinese', '', 'Chinese', 'North Indian', '', 'Ice Cream', 'Desserts', 'Beverages', '', 'Ice Cream', 'Desserts', 'Beverages', '', 'Ice Cream', 'Desserts', 'Beverages', '', 'Ice Cream', 'Desserts', 'Beverages', '', 'Ice Cream', 'Desserts', 'Beverages', '', 'Ice Cream', 'Desserts', 'Beverages', '', 'BBQ', 'Kebab', 'Biryani', 'North Indian', '', 'BBQ', 'Kebab', 'Biryani', 'North Indian', '', 'BBQ', 'Kebab', 'Biryani', 'North Indian', '', 'BBQ', 'Kebab', 'Biryani', 'North Indian', '', 'BBQ', 'Kebab', 'Biryani', 'North Indian', '', 'Seafood', 'Chinese', 'North Indian', '', 'South Indian', '', 'Beverages', 'Healthy Food', 'Salad', 'Mexican', 'Continental', 'Italian', '', 'Mughlai', 'Chinese', 'Biryani', 'Seafood', 'North Indian', '', 'Desserts', 'Fast Food', 'Italian', 'Pizza', '', 'Chinese', 'North Indian', '', 'Mughlai', 'Biryani', '', 'North Indian', 'Beverages', 'Ice Cream', 'Biryani', 'South Indian', '', 'North Indian', 'Maharashtrian', '', 'Beverages', 'Desserts', 'Chinese', 'Momos', '', 'Beverages', 'Ice Cream', 'Fast Food', 'Mexican', 'North Indian', 'Chinese', 'Street Food', 'South Indian', '', 'Fast Food', 'Desserts', 'Bakery', '', 'Bakery', '', 'Japanese', 'Chinese', 'Thai', 'Asian', '', 'Beverages', 'Street Food', 'Fast Food', 'South Indian', 'North Indian', 'Maharashtrian', '', 'Biryani', '', 'Mughlai', 'Biryani', '', 'Mughlai', 'Biryani', '', 'Mughlai', 'Biryani', '', 'Mughlai', 'Biryani', '', 'Mughlai', 'Biryani', '', 'Biryani', '', 'Mughlai', 'Biryani', '', 'Mughlai', 'Biryani', '', 'Mughlai', 'Biryani', '', 'Beverages', 'Ice Cream', 'North Indian', 'Chinese', 'Fast Food', 'South Indian', '', 'Fast Food', 'Mexican', 'Italian', 'Chinese', 'North Indian', 'South Indian', '', 'Beverages', 'Ice Cream', 'North Indian', 'Chinese', 'Fast Food', 'South Indian', '', 'Fast Food', 'Desserts', 'Bakery', '', 'Fast Food', 'Desserts', 'Bakery', '', 'Fast Food', 'Desserts', 'Bakery', '', 'Fast Food', 'Desserts', 'Bakery', '', 'Fast Food', 'Desserts', 'Bakery', '', 'Fast Food', 'Desserts', 'Bakery', '', 'Fast Food', 'Desserts', 'Bakery', '', 'Fast Food', 'Desserts', 'Bakery', '', 'Fast Food', 'Desserts', 'Bakery', '', 'Fast Food', 'Desserts', 'Bakery', '', 'Fast Food', 'Desserts', 'Bakery', '', 'Fast Food', 'Desserts', 'Bakery', '', 'Fast Food', 'Desserts', 'Bakery', '', 'Fast Food', 'Desserts', 'Bakery', '', 'Street Food', 'Chinese', 'North Indian', 'South Indian', '', 'Beverages', 'Street Food', 'Fast Food', 'South Indian', 'North Indian', 'Maharashtrian', '', 'Maharashtrian', 'Street Food', '', 'Fast Food', 'Street Food', '', 'Maharashtrian', 'Street Food', '', 'Maharashtrian', 'Street Food', '', 'Street Food', 'Maharashtrian', '', 'Beverages', 'Street Food', 'Fast Food', 'South Indian', 'North Indian', 'Maharashtrian', '', 'Street Food', '', 'Beverages', 'Street Food', '', 'Street Food', '', 'Beverages', 'Maharashtrian', '', 'South Indian', 'North Indian', 'Fast Food', 'Mexican', 'Italian', '', 'Mughlai', 'North Indian', 'Maharashtrian', '', 'Fast Food', 'Chinese', 'North Indian', '', 'Frozen Yogurt', 'Desserts', '', 'Desserts', 'Beverages', 'European', 'Italian', 'Continental', '', 'North Indian', '', 'Chinese', '', 'Mughlai', 'North Indian', 'Chinese', '', 'Rolls', 'Fast Food', 'Maharashtrian', 'Chinese', '', 'Mithai', '', 'North Indian', 'Chinese', '', 'Chinese', '', 'South Indian', '', 'Asian', 'Continental', 'North Indian', '', 'Fast Food', 'Sandwich', 'Pizza', '', 'Street Food', 'Mithai', '', 'Street Food', 'Mithai', '', 'Street Food', 'Mithai', '', 'Street Food', 'Mithai', '', 'Street Food', 'Mithai', '', 'North Indian', 'Chinese', '', 'Biryani', 'Chinese', 'North Indian', '', 'North Indian', 'Chinese', '', 'Street Food', 'North Indian', '', 'Rolls', '', 'Maharashtrian', 'North Indian', 'Gujarati', '', 'Fast Food', 'Malwani', 'North Indian', 'Chinese', '', 'Chinese', '', 'Pizza', '', 'Fast Food', 'Street Food', 'Chinese', 'North Indian', '', 'Beverages', 'Healthy Food', 'Fast Food', '', 'Mughlai', 'Lebanese', '', 'Italian', 'Continental', 'Finger Food', '', 'Fast Food', 'Chinese', 'North Indian', 'South Indian', '', 'Chinese', 'Kebab', 'Mughlai', 'North Indian', '', 'North Indian', '', 'Beverages', 'Fast Food', 'Middle Eastern', 'Arabian', '', 'Maharashtrian', 'Chinese', 'North Indian', '', 'Biryani', 'Lebanese', 'Fast Food', 'Arabian', '', 'Biryani', 'Lebanese', 'Fast Food', 'Arabian', '', 'Biryani', 'Lebanese', 'Fast Food', 'Arabian', '', 'Biryani', 'Lebanese', 'Fast Food', 'Arabian', '', 'Biryani', 'Lebanese', 'Fast Food', 'Arabian', '', 'Biryani', 'Lebanese', 'Fast Food', 'Arabian', '', 'Lucknowi', 'Mughlai', 'North Indian', 'Biryani', '', 'South Indian', '', 'Malwani', 'Mughlai', 'Chinese', 'North Indian', '', 'Maharashtrian', 'North Indian', '', 'Fast Food', '', 'Healthy Food', 'North Indian', '', 'Chinese', 'North Indian', '', 'Fast Food', 'Chinese', 'South Indian', 'North Indian', '', 'Beverages', 'Fast Food', '', 'Hyderabadi', 'Chinese', 'North Indian', '', 'North Indian', '', 'Beverages', 'Sandwich', 'Desserts', 'Ice Cream', '', 'Mexican', 'Italian', '', 'Beverages', 'Biryani', 'Chinese', 'North Indian', '', 'Seafood', 'Italian', 'North Indian', 'Continental', 'Chinese', '', 'Chinese', 'North Indian', '', 'Chinese', 'North Indian', '', 'Chinese', 'North Indian', '', 'Chinese', 'North Indian', '', 'Beverages', 'Biryani', 'Chinese', 'North Indian', '', 'Beverages', 'Biryani', 'Chinese', 'North Indian', '', 'Beverages', 'Biryani', 'Chinese', 'North Indian', '', 'Beverages', 'Biryani', 'Chinese', 'North Indian', '', 'Beverages', 'Biryani', 'Chinese', 'North Indian', '', 'Beverages', 'Desserts', 'Maharashtrian', 'Fast Food', 'Street Food', 'Chinese', 'North Indian', 'South Indian', '', 'Momos', 'Chinese', '', 'Desserts', 'Bakery', '', 'Maharashtrian', 'North Indian', '', 'Chinese', '', 'Biryani', 'Mughlai', '', 'North Indian', 'Healthy Food', '', 'Mughlai', 'Maharashtrian', 'Chinese', 'North Indian', '', 'Chinese', 'North Indian', '', 'Fast Food', 'Biryani', 'Chinese', 'North Indian', '', 'Street Food', '', 'Rolls', 'Mughlai', 'North Indian', '', 'Pizza', 'Mediterranean', 'Healthy Food', 'Continental', 'Salad', '', 'North Indian', 'Maharashtrian', 'Biryani', '', 'Chinese', 'North Indian', '', 'Biryani', 'Mughlai', '', 'Biryani', 'Mughlai', '', 'Biryani', 'Mughlai', '', 'North Indian', 'Healthy Food', '', 'North Indian', 'Healthy Food', '', 'North Indian', 'Healthy Food', '', 'North Indian', 'Healthy Food', '', 'North Indian', 'Healthy Food', '', 'Fast Food', 'Biryani', 'Chinese', 'North Indian', '', 'Fast Food', 'Biryani', 'Chinese', 'North Indian', '', 'Fast Food', 'Biryani', 'Chinese', 'North Indian', '', 'Fast Food', 'Biryani', 'Chinese', 'North Indian', '', 'Chinese', 'North Indian', '', 'Chinese', 'North Indian', '', 'Chinese', 'North Indian', '', 'Biryani', 'Chinese', 'North Indian', '', 'Desserts', 'Bakery', '', 'Desserts', 'Continental', 'Italian', 'Cafe', '', 'European', 'American', '', 'Seafood', 'Chinese', 'North Indian', '', 'Desserts', 'Fast Food', 'Chinese', 'North Indian', '', 'Seafood', 'Chinese', 'Mughlai', 'North Indian', '', 'Salad', 'Burger', 'Rolls', 'Fast Food', '', 'Fast Food', 'Burger', '', 'Chinese', '', 'South Indian', '', 'North Indian', 'Biryani', '', 'Beverages', 'Fast Food', 'Chinese', 'Asian', '', 'European', 'Bakery', '', 'Kebab', 'Chinese', 'North Indian', '', 'Rolls', 'Burger', 'Fast Food', '', 'Salad', 'Burger', 'Rolls', 'Fast Food', '', 'Salad', 'Burger', 'Rolls', 'Fast Food', '', 'Salad', 'Burger', 'Rolls', 'Fast Food', '', 'Salad', 'Burger', 'Rolls', 'Fast Food', '', 'Salad', 'Burger', 'Rolls', 'Fast Food', '', 'Salad', 'Burger', 'Rolls', 'Fast Food', '', 'Salad', 'Burger', 'Rolls', 'Fast Food', '', 'South Indian', '', 'South Indian', '', 'South Indian', '', 'South Indian', '', 'Beverages', 'Maharashtrian', 'Rolls', 'North Indian', '', 'Seafood', 'Chinese', 'South Indian', 'North Indian', '', 'Beverages', 'Burger', 'Salad', 'Parsi', 'American', 'Continental', 'Cafe', '', 'Chinese', 'North Indian', 'Biryani', '', 'Chinese', '', 'Beverages', 'Chinese', 'North Indian', '', 'Malwani', 'Seafood', 'Biryani', 'Kebab', 'Maharashtrian', '', 'Beverages', 'Pizza', 'Fast Food', 'Burger', '', 'Maharashtrian', '', 'Chinese', 'Mughlai', 'North Indian', '', 'Fast Food', 'North Indian', 'Chinese', 'South Indian', '', 'Seafood', 'Chinese', '', 'Beverages', 'Fast Food', '', 'Seafood', 'Continental', 'North Indian', '', 'Biryani', 'North Indian', '', 'Salad', 'Continental', 'Finger Food', '', 'European', 'Bakery', '', 'Maharashtrian', 'Kebab', 'Chinese', 'Charcoal Chicken', 'Mughlai', 'North Indian', '', 'Odia', 'North Indian', '', 'Rolls', '', 'Desserts', 'Ice Cream', '', 'Beverages', 'Desserts', 'Chinese', 'South Indian', 'Street Food', 'Fast Food', 'North Indian', '', 'Continental', 'North Indian', 'Iranian', '', 'Steak', '', 'Beverages', 'Fast Food', 'North Indian', '', 'Chinese', 'Mughlai', 'North Indian', '', 'Beverages', 'Chinese', 'North Indian', '', 'Beverages', 'Street Food', 'South Indian', '', 'Street Food', '', 'South Indian', 'Chinese', 'Fast Food', 'North Indian', '', 'Beverages', 'Ice Cream', '', 'Desserts', 'Ice Cream', '', 'Desserts', 'Ice Cream', '', 'Desserts', 'Ice Cream', '', 'Beverages', 'Ice Cream', '', 'Beverages', 'Ice Cream', '', 'Beverages', 'Ice Cream', '', 'Beverages', 'Ice Cream', '', 'Desserts', 'Ice Cream', '', 'Desserts', 'Ice Cream', '', 'Beverages', 'Ice Cream', '', 'Desserts', 'Ice Cream', '', 'Beverages', 'Ice Cream', '', 'Desserts', 'Ice Cream', '', 'Desserts', 'Ice Cream', '', 'Desserts', 'Ice Cream', '', 'Beverages', 'Ice Cream', '', 'Desserts', 'Ice Cream', '', 'Desserts', 'Ice Cream', '', 'Desserts', 'Ice Cream', '', 'Desserts', 'Ice Cream', '', 'Desserts', 'Ice Cream', '', 'Desserts', 'Ice Cream', '', 'Desserts', 'Ice Cream', '', 'Beverages', 'Ice Cream', '', 'Desserts', 'Ice Cream', '', 'Ice Cream', 'Desserts', '', 'Desserts', 'Ice Cream', '', 'Beverages', 'Ice Cream', '', 'Desserts', 'Ice Cream', '', 'Beverages', 'Ice Cream', '', 'Desserts', 'Ice Cream', '', 'Beverages', 'Ice Cream', '', 'Beverages', 'Ice Cream', '', 'Ice Cream', 'Desserts', '', 'Beverages', 'Ice Cream', '', 'Malwani', 'Arabian', 'Kebab', 'Biryani', 'Chinese', 'North Indian', '', 'Beverages', 'Mughlai', 'Fast Food', 'Chinese', 'South Indian', 'North Indian', '', 'Thai', 'Chinese', 'Italian', 'North Indian', '', 'North Indian', '', 'Beverages', 'Fast Food', 'Sandwich', '', 'North Indian', '', 'Chinese', 'South Indian', 'North Indian', '', 'Maharashtrian', '', 'Chinese', '', 'Fast Food', 'Beverages', 'Desserts', '', 'Maharashtrian', '', 'Asian', 'Fast Food', 'Chinese', '', 'Chinese', 'North Indian', '', 'Mexican', 'Italian', 'Fast Food', 'Chinese', 'North Indian', '', 'Fast Food', 'Cafe', '', 'Fast Food', 'Beverages', 'Desserts', '', 'Fast Food', 'Beverages', 'Desserts', '', 'Fast Food', 'Beverages', 'Desserts', '', 'Fast Food', 'Beverages', 'Desserts', '', 'Fast Food', 'Beverages', 'Desserts', '', 'Fast Food', 'Beverages', 'Desserts', '', 'Fast Food', 'Beverages', 'Desserts', '', 'Fast Food', 'Beverages', 'Desserts', '', 'Fast Food', 'Beverages', 'Desserts', '', 'Fast Food', 'Beverages', 'Desserts', '', 'Fast Food', 'Beverages', 'Desserts', '', 'Fast Food', 'Beverages', 'Desserts', '', 'Fast Food', 'Beverages', 'Desserts', '', 'Fast Food', 'Beverages', 'Desserts', '', 'Mughlai', 'Seafood', 'North Indian', 'Chinese', '', 'Desserts', 'Bakery', '', 'Biryani', 'Awadhi', '', 'Beverages', 'Fast Food', 'Sandwich', '', 'Italian', 'Chinese', 'North Indian', '', 'Seafood', 'Chinese', 'North Indian', '', 'Beverages', 'Modern Indian', 'Continental', 'Mexican', 'Italian', '', 'Maharashtrian', '', 'Pizza', 'Fast Food', 'Burger', '', 'Chinese', '', 'Maharashtrian', 'North Indian', '', 'Desserts', 'Ice Cream', '', 'Beverages', 'Sandwich', 'Pizza', 'Cafe', '', 'Lebanese', 'Healthy Food', 'Fast Food', '', 'Desserts', 'Beverages', 'Italian', 'Sandwich', 'Healthy Food', 'Salad', 'Cafe', '', 'Desserts', 'Bakery', '', 'Desserts', 'Bakery', '', 'Desserts', 'Bakery', '', 'Sandwich', '', 'Beverages', 'Fast Food', 'Sandwich', '', 'Sandwich', '', 'Beverages', 'Fast Food', 'Sandwich', '', 'Beverages', 'Fast Food', 'Sandwich', '', 'Beverages', 'Fast Food', 'Sandwich', '', 'Sandwich', 'Fast Food', '', 'Desserts', 'Ice Cream', '', 'Desserts', 'Ice Cream', '', 'Desserts', 'Ice Cream', '', 'Desserts', 'Ice Cream', '', 'Desserts', 'Ice Cream', '', 'Desserts', 'Ice Cream', '', 'Street Food', '', 'Desserts', 'Thai', 'Fast Food', 'Continental', 'Kebab', 'Malwani', 'Chinese', 'North Indian', '', 'Beverages', 'North Indian', '', 'Beverages', 'Fast Food', 'South Indian', 'Chinese', 'North Indian', '', 'Chinese', '', 'Desserts', 'Beverages', 'Biryani', 'Rolls', 'North Indian', '', 'Rolls', 'Sandwich', 'North Indian', '', 'Salad', 'Fast Food', 'American', 'Cafe', '', 'Indonesian', 'Burmese', 'Japanese', 'Malaysian', 'Thai', '', 'Desserts', 'Bakery', '', 'Chinese', 'North Indian', '', 'Mithai', '', 'Rolls', 'Chinese', 'Parsi', 'Lebanese', 'Fast Food', '', 'North Indian', '', 'Street Food', '', 'Salad', 'Fast Food', 'American', 'Cafe', '', 'Beverages', 'Mexican', 'Italian', 'American', 'Fast Food', 'Burger', '', 'Italian', 'Rolls', 'Salad', 'Burger', '', 'Salad', 'Fast Food', 'American', 'Cafe', '', 'Beverages', 'Desserts', '', 'Fast Food', 'Chinese', 'North Indian', '', 'Fast Food', 'Malwani', 'North Indian', '', 'Mangalorean', '', 'Fast Food', '', 'Seafood', 'Bengali', '', 'Beverages', 'Burger', 'Momos', '', 'Street Food', '', 'Beverages', 'Desserts', 'Ice Cream', '', 'North Indian', '', 'Salad', 'Healthy Food', 'North Indian', 'Cafe', '', 'Beverages', 'Desserts', 'Mexican', 'Italian', 'Continental', 'Salad', '', 'Italian', 'Continental', 'North Indian', '', 'Beverages', 'Cuisine Varies', 'Seafood', 'Continental', 'Chinese', '', 'Fast Food', 'Chinese', 'North Indian', '', 'Beverages', 'Desserts', '', 'Sandwich', 'Desserts', '', 'Beverages', 'Desserts', '', 'Beverages', 'Desserts', '', 'Beverages', 'Desserts', '', 'Beverages', 'Desserts', '', 'Beverages', 'Desserts', '', 'Beverages', 'Desserts', '', 'Beverages', 'Desserts', '', 'Beverages', 'Desserts', '', 'Beverages', 'Desserts', '', 'Beverages', 'Desserts', '', 'Beverages', 'Desserts', '', 'Beverages', 'Desserts', '', 'Desserts', '', 'Beverages', 'Desserts', '', 'Beverages', 'Desserts', 'Ice Cream', '', 'Beverages', 'Desserts', 'Ice Cream', '', 'Beverages', 'Desserts', 'Ice Cream', '', 'Beverages', 'Desserts', 'Ice Cream', '', 'Beverages', 'Desserts', 'Ice Cream', '', 'Beverages', 'Desserts', 'Ice Cream', '', 'Beverages', 'Desserts', 'Ice Cream', '', 'Beverages', 'Desserts', 'Ice Cream', '', 'Beverages', 'Desserts', 'Ice Cream', '', 'Beverages', 'Desserts', 'Ice Cream', '', 'Beverages', 'Desserts', 'Ice Cream', '', 'Beverages', 'Desserts', 'Ice Cream', '', 'Beverages', 'Desserts', 'Ice Cream', '', 'Beverages', 'Desserts', 'Ice Cream', '', 'Beverages', 'Desserts', 'Ice Cream', '', 'Beverages', 'Desserts', 'Ice Cream', '', 'Beverages', 'Desserts', 'Ice Cream', '', 'Beverages', 'Desserts', 'Ice Cream', '', 'Beverages', 'Desserts', 'Ice Cream', '', 'Beverages', 'Desserts', 'Ice Cream', '', 'Beverages', 'Desserts', 'Ice Cream', '', 'Beverages', 'Desserts', 'Ice Cream', '', 'Beverages', 'Desserts', 'Ice Cream', '', 'Beverages', 'Desserts', 'Ice Cream', '', 'Beverages', 'North Indian', '', 'Beverages', 'North Indian', '', 'Beverages', 'North Indian', '', 'Beverages', 'North Indian', '', 'Beverages', 'North Indian', '', 'Street Food', 'Mithai', '', 'North Indian', '', 'Fast Food', '', 'Maharashtrian', 'Street Food', 'Chinese', 'South Indian', 'North Indian', '', 'Desserts', 'Beverages', 'Fast Food', 'Healthy Food', 'Cafe', '', 'Chinese', 'North Indian', 'Maharashtrian', '', 'Beverages', 'Italian', 'Continental', 'Fast Food', '', 'Biryani', 'Seafood', 'Kerala', '', 'Seafood', 'Chinese', 'North Indian', '', 'Chinese', 'North Indian', '', 'North Indian', '', 'Maharashtrian', 'Street Food', '', 'Thai', 'Seafood', 'North Indian', 'Chinese', 'Italian', 'Continental', '', 'Chinese', '', 'Maharashtrian', 'Street Food', '', 'Maharashtrian', 'Street Food', '', 'Street Food', '', 'Street Food', '', 'Maharashtrian', 'Street Food', '', 'Maharashtrian', 'Street Food', '', 'South Indian', '', 'Beverages', 'Chinese', 'North Indian', 'Fast Food', 'Biryani', '', 'Beverages', 'Desserts', 'Fast Food', 'Street Food', 'Chinese', 'North Indian', 'South Indian', '', 'Maharashtrian', 'Chinese', 'North Indian', '', 'South Indian', 'Beverages', 'Fast Food', 'Chinese', 'North Indian', '', 'Desserts', 'Wraps', 'Biryani', 'Fast Food', 'North Indian', '', 'Beverages', 'Street Food', 'South Indian', '', 'Fast Food', '', 'Beverages', 'Chinese', 'Fast Food', 'Street Food', 'South Indian', 'North Indian', '', 'Biryani', 'Maharashtrian', 'Chinese', 'North Indian', '', 'Chinese', 'Mughlai', 'North Indian', '', 'Continental', 'South Indian', 'Chinese', 'North Indian', '', 'Chinese', 'North Indian', '', 'North Indian', 'Maharashtrian', '', 'Seafood', 'Konkan', 'North Indian', '', 'Desserts', 'Wraps', 'Biryani', 'Fast Food', 'North Indian', '', 'Desserts', 'Wraps', 'Biryani', 'Fast Food', 'North Indian', '', 'Desserts', 'Wraps', 'Biryani', 'Fast Food', 'North Indian', '', 'Desserts', 'Wraps', 'Biryani', 'Fast Food', 'North Indian', '', 'Desserts', 'Wraps', 'Biryani', 'Fast Food', 'North Indian', '', 'Desserts', 'Wraps', 'Biryani', 'Fast Food', 'North Indian', '', 'Desserts', 'Wraps', 'Biryani', 'Fast Food', 'North Indian', '', 'Desserts', 'Wraps', 'Biryani', 'Fast Food', 'North Indian', '', 'Desserts', 'Wraps', 'Biryani', 'Fast Food', 'North Indian', '', 'Desserts', 'Wraps', 'Biryani', 'Fast Food', 'North Indian', '', 'Desserts', 'Wraps', 'Biryani', 'Fast Food', 'North Indian', '', 'Desserts', 'Wraps', 'Biryani', 'Fast Food', 'North Indian', '', 'Desserts', 'Wraps', 'Biryani', 'Fast Food', 'North Indian', '', 'Desserts', 'Wraps', 'Biryani', 'Fast Food', 'North Indian', '', 'Desserts', 'Wraps', 'Biryani', 'Fast Food', 'North Indian', '', 'Desserts', 'Wraps', 'Biryani', 'Fast Food', 'North Indian', '', 'Desserts', 'Wraps', 'Biryani', 'Fast Food', 'North Indian', '', 'Desserts', 'Wraps', 'Biryani', 'Fast Food', 'North Indian', '', 'Desserts', 'Wraps', 'Biryani', 'Fast Food', 'North Indian', '', 'Desserts', 'Wraps', 'Biryani', 'Fast Food', 'North Indian', '', 'Desserts', 'Wraps', 'Biryani', 'Fast Food', 'North Indian', '', 'Desserts', 'Wraps', 'Biryani', 'Fast Food', 'North Indian', '', 'European', 'South Indian', 'North Indian', 'Asian', 'Italian', '', 'Beverages', 'Lucknowi', 'North Indian', '', 'Momos', '', 'Chinese', '', 'Beverages', 'Chinese', 'Tibetan', 'Fast Food', 'Momos', '', 'Desserts', 'Bakery', '', 'Street Food', '', 'Beverages', 'Fast Food', 'Burger', '', 'Chinese', 'Mughlai', 'North Indian', '', 'Maharashtrian', '', 'BBQ', 'Kebab', 'Salad', 'Mughlai', 'North Indian', '', 'Rolls', '', 'Mughlai', 'North Indian', 'Lucknowi', '', 'Chinese', '', 'Desserts', 'Beverages', 'Fast Food', 'Cafe', '', 'South Indian', '', 'Chinese', 'Kebab', 'North Indian', 'Biryani', '', 'North Indian', 'Fast Food', 'South Indian', 'Chinese', '', 'Beverages', 'Street Food', 'North Indian', '', 'Chinese', '', 'Biryani', 'Mughlai', 'Rolls', 'Kebab', '', 'Beverages', 'Fast Food', '', 'Beverages', 'Pizza', 'Desserts', '', 'Rolls', 'Chinese', '', 'Continental', 'Chinese', 'North Indian', '', 'Italian', 'Healthy Food', 'Salad', 'Continental', 'Mediterranean', 'European', 'Cafe', '', 'Fast Food', 'Burger', '', 'Fast Food', 'Burger', 'Chinese', 'Momos', '', 'Beverages', 'North Indian', '', 'Fast Food', 'North Indian', 'Finger Food', 'Wraps', '', 'Beverages', 'Pizza', 'Desserts', '', 'Beverages', 'Pizza', 'Desserts', '', 'Beverages', 'Pizza', 'Desserts', '', 'Beverages', 'Pizza', 'Desserts', '', 'Beverages', 'Pizza', 'Desserts', '', 'Fast Food', 'North Indian', 'Finger Food', 'Wraps', '', 'Fast Food', 'North Indian', 'Finger Food', 'Wraps', '', 'Fast Food', 'North Indian', 'Finger Food', 'Wraps', '', 'Rolls', 'North Indian', 'Street Food', '', 'Fast Food', 'North Indian', 'Finger Food', 'Wraps', '', 'Fast Food', 'North Indian', 'Finger Food', 'Wraps', '', 'Fast Food', 'North Indian', 'Finger Food', 'Wraps', '', 'Fast Food', 'North Indian', 'Finger Food', 'Wraps', '', 'Fast Food', 'North Indian', 'Finger Food', 'Wraps', '', 'Fast Food', 'North Indian', 'Finger Food', 'Wraps', '', 'Fast Food', 'North Indian', 'Finger Food', 'Wraps', '', 'Fast Food', 'North Indian', 'Finger Food', 'Wraps', '', 'Fast Food', 'North Indian', 'Finger Food', 'Wraps', '', 'Fast Food', 'North Indian', 'Finger Food', 'Wraps', '', 'Fast Food', 'North Indian', 'Finger Food', 'Wraps', '', 'Mughlai', 'Chinese', 'North Indian', '', 'Desserts', 'Street Food', 'Fast Food', 'North Indian', '', 'North Indian', '', 'Fast Food', 'Sandwich', 'North Indian', 'Street Food', '', 'Street Food', '', 'Italian', 'Continental', 'Beverages', 'Desserts', 'Chinese', 'Fast Food', '', 'Burger', 'North Indian', 'Chinese', '', 'South Indian', '', 'Biryani', 'Malwani', 'Chinese', 'North Indian', '', 'Beverages', 'North Indian', 'Fast Food', '', 'Desserts', 'Fast Food', 'Pizza', '', 'Beverages', 'Street Food', 'Italian', '', 'Maharashtrian', 'Chinese', 'North Indian', '', 'North Indian', '', 'Seafood', 'Chinese', 'North Indian', '', 'Biryani', '', 'Mithai', 'Mughlai', 'Chinese', 'North Indian', '', 'Street Food', 'North Indian', '', 'North Indian', '', 'Sandwich', 'Fast Food', 'Cafe', '', 'North Indian', 'Maharashtrian', '', 'Beverages', 'Fast Food', 'Italian', 'Pizza', '', 'Beverages', 'Ice Cream', '', 'Desserts', 'Italian', 'Pizza', '', 'Thai', 'Chinese', '', 'Seafood', 'Chinese', 'North Indian', '', 'Beverages', 'Street Food', 'South Indian', '', 'Ice Cream', 'Desserts', 'Bakery', '', 'Fast Food', 'Healthy Food', '', 'Wraps', 'Fast Food', 'North Indian', '', 'Beverages', 'Ice Cream', '', 'Beverages', 'Ice Cream', '', 'Beverages', 'Ice Cream', '', 'Beverages', 'Ice Cream', '', 'Beverages', 'Ice Cream', '', 'Beverages', 'Ice Cream', '', 'Beverages', 'Ice Cream', '', 'Beverages', 'Ice Cream', '', 'Beverages', 'Ice Cream', '', 'Beverages', 'Ice Cream', '', 'Beverages', 'Ice Cream', '', 'Beverages', 'Ice Cream', '', 'Beverages', 'Ice Cream', '', 'Beverages', 'Ice Cream', '', 'Beverages', 'Ice Cream', '', 'Beverages', 'Ice Cream', '', 'Beverages', 'Ice Cream', '', 'Beverages', 'Ice Cream', '', 'Beverages', 'Ice Cream', '', 'Beverages', 'Ice Cream', '', 'Beverages', 'Ice Cream', '', 'Beverages', 'Ice Cream', '', 'Beverages', 'Ice Cream', '', 'Beverages', 'Ice Cream', '', 'Beverages', 'Ice Cream', '', 'Beverages', 'Ice Cream', '', 'Beverages', 'Ice Cream', '', 'Desserts', 'Italian', 'Pizza', '', 'Desserts', 'Italian', 'Pizza', '', 'Desserts', 'Italian', 'Pizza', '', 'Desserts', 'Italian', 'Pizza', '', 'Desserts', 'Italian', 'Pizza', '', 'Desserts', 'Italian', 'Pizza', '', 'Desserts', 'Italian', 'Pizza', '', 'Desserts', 'Italian', 'Pizza', '', 'Desserts', 'Italian', 'Pizza', '', 'Desserts', 'Italian', 'Pizza', '', 'Desserts', 'Italian', 'Pizza', '', 'Desserts', 'Italian', 'Pizza', '', 'Desserts', 'Italian', 'Pizza', '', 'Desserts', 'Italian', 'Pizza', '', 'Desserts', 'Italian', 'Pizza', '', 'Desserts', 'Italian', 'Pizza', '', 'Desserts', 'Italian', 'Pizza', '', 'Desserts', 'Italian', 'Pizza', '', 'Desserts', 'Italian', 'Pizza', '', 'Desserts', 'Italian', 'Pizza', '', 'Desserts', 'Italian', 'Pizza', '', 'Desserts', 'Italian', 'Pizza', '', 'North Indian', 'Fast Food', '', 'Fast Food', 'Pizza', '', 'Mughlai', 'Chinese', 'North Indian', '', 'Desserts', 'Italian', 'Sandwich', 'Beverages', 'Salad', 'Bakery', 'American', 'European', '', 'North Indian', 'Italian', 'Modern Indian', 'Continental', '', 'Beverages', 'Continental', 'Seafood', 'Asian', 'Mughlai', 'North Indian', '', 'Beverages', 'Fast Food', '', 'Chinese', '', 'Maharashtrian', '', 'Biryani', 'North Indian', '', 'Mughlai', 'Malwani', 'Chinese', 'North Indian', '', 'Fast Food', 'Italian', 'Cafe', '', 'Beverages', 'Desserts', 'Italian', 'Rolls', 'Sandwich', 'Burger', 'Fast Food', 'Cafe', '', 'Chinese', 'North Indian', 'South Indian', '', 'Afghan', 'Mughlai', 'North Indian', 'Biryani', '', 'Pizza', '', 'Fast Food', 'Pizza', '', 'Fast Food', 'Pizza', '', 'Fast Food', 'Pizza', '', 'Fast Food', 'Pizza', '', 'Fast Food', 'Pizza', '', 'Fast Food', 'Pizza', '', 'Fast Food', 'Pizza', '', 'Fast Food', 'Pizza', '', 'Fast Food', 'Pizza', '', 'Fast Food', 'Pizza', '', 'Fast Food', 'Pizza', '', 'Fast Food', 'Pizza', '', 'Fast Food', 'Pizza', '', 'Mughlai', 'Chinese', 'North Indian', '', 'Kebab', 'Chinese', 'North Indian', '', 'Mughlai', 'Chinese', 'North Indian', '', 'Chinese', '', 'Beverages', 'Burger', 'Fast Food', '', 'Chinese', '', 'North Indian', 'Hyderabadi', '', 'Mediterranean', 'Asian', 'North Indian', '', 'North Indian', '', 'Chinese', 'North Indian', '', 'Rolls', '', 'Pizza', '', 'Desserts', 'Bakery', '', 'Burger', 'Sandwich', 'Momos', 'Rolls', 'Chinese', '', 'Fast Food', 'South Indian', 'Chinese', 'North Indian', '', 'Maharashtrian', '', 'Korean', '', 'Fast Food', 'Burger', '', 'Desserts', 'Bakery', '', 'Desserts', 'Bakery', '', 'Desserts', 'Bakery', '', 'Desserts', 'Bakery', '', 'Desserts', 'Bakery', '', 'Desserts', 'Bakery', '', 'Desserts', 'Bakery', '', 'Desserts', 'Bakery', '', 'Desserts', 'Bakery', '', 'Desserts', 'Bakery', '', 'Desserts', 'Bakery', '', 'Desserts', 'Bakery', '', 'Desserts', 'Bakery', '', 'Desserts', 'Bakery', '', 'Desserts', 'Bakery', '', 'Desserts', 'Bakery', '', 'Desserts', 'Bakery', '', 'Desserts', 'Bakery', '', 'Desserts', 'Bakery', '', 'Desserts', 'Bakery', '', 'Desserts', 'Bakery', '', 'Desserts', 'Bakery', '', 'Desserts', 'Bakery', '', 'Desserts', 'Bakery', '', 'Desserts', 'Bakery', '', 'Desserts', 'Bakery', '', 'Desserts', 'Bakery', '', 'Desserts', 'Bakery', '', 'Desserts', 'Bakery', '', 'Desserts', 'Bakery', '', 'Desserts', 'Bakery', '', 'Desserts', 'Bakery', '', 'Desserts', 'Bakery', '', 'Desserts', 'Bakery', '', 'Desserts', 'Bakery', '', 'Desserts', 'Bakery', '', 'Desserts', 'Bakery', '', 'Desserts', 'Bakery', '', 'Desserts', 'Bakery', '', 'Bakery', '', 'Chinese', '', 'North Indian', 'Hyderabadi', 'Biryani', '', 'Chinese', '', 'Street Food', '', 'Bengali', '', 'Beverages', 'Desserts', 'Mughlai', 'Kebab', 'Continental', 'Chinese', 'North Indian', '', 'Asian', 'Chinese', 'Korean', 'Thai', 'Vietnamese', 'Sushi', 'Japanese', '', 'Beverages', 'North Indian', 'South Indian', 'Fast Food', '', 'Sandwich', 'Italian', 'Fast Food', '', 'Street Food', 'Mithai', '', 'Chinese', 'Mughlai', 'North Indian', '', 'North Indian', 'Hyderabadi', 'Biryani', '', 'Chinese', '', 'Sandwich', 'Beverages', 'Ice Cream', 'Fast Food', '', 'Mithai', '', 'Mithai', '', 'Street Food', 'Mithai', '', 'Mithai', '', 'Mithai', '', 'Mithai', '', 'Mithai', '', 'Street Food', 'Mithai', '', 'Mithai', '', 'Mithai', '', 'Mithai', '', 'Street Food', '', 'Seafood', 'Kebab', 'Biryani', 'Chinese', 'North Indian', '', 'Street Food', '', 'Fast Food', 'Pizza', '', 'Chinese', '', 'North Indian', 'Lucknowi', 'Rolls', '', 'Beverages', 'Street Food', '', 'Sandwich', 'Fast Food', 'Maharashtrian', 'Chinese', 'North Indian', '', 'Beverages', 'Fast Food', 'Italian', 'Burger', 'North Indian', 'Cafe', '', 'Beverages', 'Chinese', 'Maharashtrian', 'North Indian', 'Street Food', 'Fast Food', '', 'Beverages', 'Ice Cream', 'Fast Food', 'Street Food', 'South Indian', '', 'Fast Food', 'Sandwich', 'Burger', '', 'Biryani', 'Chinese', 'North Indian', '', 'Beverages', 'Desserts', 'Fast Food', 'South Indian', 'Chinese', 'North Indian', '', 'Kebab', 'Maharashtrian', 'Mughlai', 'Biryani', 'Chinese', 'North Indian', 'Kerala', '', 'Fast Food', 'Pizza', '', 'Fast Food', 'Pizza', '', 'Fast Food', 'Pizza', '', 'Beverages', 'Street Food', '', 'Beverages', 'Street Food', '', 'Beverages', 'Street Food', '', 'Malwani', 'Maharashtrian', 'North Indian', 'Chinese', '', 'Desserts', 'North Indian', 'Biryani', 'Asian', '', 'Fast Food', 'Burger', '', 'Chinese', 'Mughlai', 'North Indian', '', 'Fast Food', 'South Indian', 'Chinese', 'North Indian', '', 'North Indian', 'Chinese', 'South Indian', '', 'Fast Food', 'Bakery', '', 'Italian', 'Continental', 'Asian', 'European', '', 'Salad', 'Bengali', 'North Indian', 'Chinese', '', 'Chinese', 'North Indian', '', 'Maharashtrian', 'Mughlai', 'Chinese', 'North Indian', '', 'Chinese', 'North Indian', '', 'Thai', 'Momos', 'Chinese', '', 'South American', 'Steak', 'Brazilian', '', 'Desserts', 'Beverages', '', 'Desserts', 'North Indian', 'Biryani', 'Asian', '', 'Desserts', 'North Indian', 'Biryani', 'Asian', '', 'Desserts', 'North Indian', 'Biryani', 'Asian', '', 'Desserts', 'North Indian', 'Biryani', 'Asian', '', 'Desserts', 'North Indian', 'Biryani', 'Asian', '', 'Desserts', 'North Indian', 'Biryani', 'Asian', '', 'Desserts', 'North Indian', 'Biryani', 'Asian', '', 'Desserts', 'North Indian', 'Biryani', 'Asian', '', 'Desserts', 'North Indian', 'Biryani', 'Asian', '', 'Desserts', 'North Indian', 'Biryani', 'Asian', '', 'Desserts', 'North Indian', 'Biryani', 'Asian', '', 'Desserts', 'North Indian', 'Biryani', 'Asian', '', 'Desserts', 'North Indian', 'Biryani', 'Asian', '', 'Desserts', 'North Indian', 'Biryani', 'Asian', '', 'Desserts', 'North Indian', 'Biryani', 'Asian', '', 'Desserts', 'North Indian', 'Biryani', 'Asian', '', 'Desserts', 'North Indian', 'Biryani', 'Asian', '', 'Desserts', 'North Indian', 'Biryani', 'Asian', '', 'Desserts', 'North Indian', 'Biryani', 'Asian', '', 'Desserts', 'North Indian', 'Biryani', 'Asian', '', 'Desserts', 'North Indian', 'Biryani', 'Asian', '', 'Desserts', 'North Indian', 'Biryani', 'Asian', '', 'Desserts', 'North Indian', 'Biryani', 'Asian', '', 'Desserts', 'North Indian', 'Biryani', 'Asian', '', 'Desserts', 'North Indian', 'Biryani', 'Asian', '', 'Desserts', 'North Indian', 'Biryani', 'Asian', '', 'Desserts', 'North Indian', 'Biryani', 'Asian', '', 'Desserts', 'North Indian', 'Biryani', 'Asian', '', 'Desserts', 'North Indian', 'Biryani', 'Asian', '', 'Desserts', 'North Indian', 'Biryani', 'Asian', '', 'Desserts', 'North Indian', 'Biryani', 'Asian', '', 'Chinese', 'North Indian', '', 'Chinese', 'North Indian', '', 'Chinese', 'North Indian', '', 'Chinese', 'North Indian', '', 'Desserts', 'Beverages', '', 'Desserts', 'Beverages', '', 'Desserts', 'Beverages', '', 'Desserts', 'Beverages', '', 'Desserts', 'Beverages', '', 'Desserts', 'Beverages', '', 'Desserts', 'Beverages', '', 'Wraps', 'Sandwich', 'Burger', 'Fast Food', '', 'Seafood', 'Chinese', 'Maharashtrian', 'North Indian', '', 'North Indian', 'South Indian', 'Street Food', '', 'Desserts', 'Bakery', '', 'Desserts', 'Bakery', '', 'Seafood', 'Chinese', '', 'Tea', 'Fast Food', 'Beverages', '', 'Mithai', '', 'Fast Food', 'Mughlai', 'Biryani', 'North Indian', '', 'Lebanese', 'Chinese', '', 'Mughlai', 'Chinese', 'North Indian', '', 'Biryani', 'Mughlai', 'North Indian', '', 'Street Food', '', 'Seafood', 'Chinese', 'Mughlai', 'North Indian', '', 'North Indian', '', 'Desserts', 'Bakery', '', 'Desserts', 'Bakery', '', 'Desserts', 'Bakery', '', 'Desserts', 'Bakery', '', 'Desserts', 'Bakery', '', 'Desserts', 'Bakery', '', 'Desserts', 'Bakery', '', 'Desserts', 'Bakery', '', 'Desserts', 'Bakery', '', 'Fast Food', 'Bakery', '', 'Fast Food', 'Bakery', '', 'Desserts', 'Bakery', '', 'Desserts', 'Bakery', '', 'Desserts', 'Bakery', '', 'Desserts', 'Bakery', '', 'Desserts', 'Bakery', '', 'Desserts', 'Bakery', '', 'Desserts', 'Bakery', '', 'Desserts', 'Bakery', '', 'Street Food', '', 'Street Food', '', 'Street Food', '', 'Street Food', '', 'Chinese', '', 'Desserts', 'Bakery', '', 'Beverages', 'Fast Food', '', 'Street Food', 'Mithai', '', 'Desserts', 'Bakery', '', 'Mughlai', 'North Indian', '', 'Kerala', 'South Indian', '', 'Biryani', 'Seafood', 'Chinese', 'North Indian', '', 'Beverages', 'Burger', 'Italian', 'Chinese', '', 'Maharashtrian', 'Chinese', 'North Indian', '', 'Biryani', 'Malwani', '', 'Fast Food', 'Mughlai', 'North Indian', '', 'Mughlai', 'Seafood', 'North Indian', 'Biryani', '', 'Bakery', '', 'Beverages', 'Fast Food', 'Rolls', '', 'Beverages', 'Fast Food', '', 'Beverages', 'Ice Cream', 'Fast Food', '', 'Beverages', 'Ice Cream', 'Fast Food', '', 'Beverages', 'Ice Cream', 'Fast Food', '', 'Beverages', '', 'Beverages', 'Fast Food', 'Desserts', 'Ice Cream', '', 'Street Food', 'Seafood', 'North Indian', 'Chinese', '', 'Continental', 'American', 'Cafe', '', 'Beverages', 'Sandwich', 'Fast Food', 'Chinese', 'South Indian', 'Maharashtrian', '', 'Fast Food', 'Chinese', 'North Indian', '', 'Asian', 'Chinese', '', 'Ice Cream', 'Desserts', 'Bakery', '', 'Beverages', 'Pizza', 'Sandwich', 'Fast Food', '', 'Biryani', 'Kerala', '', 'North Indian', '', 'Chinese', 'North Indian', '', 'Fast Food', 'Burger', '', 'Rolls', '', 'Beverages', 'Desserts', 'Fast Food', 'Cafe', 'Bakery', '', 'Fast Food', 'Italian', 'European', '', 'Ice Cream', 'Desserts', 'Bakery', '', 'Ice Cream', 'Desserts', 'Bakery', '', 'Ice Cream', 'Desserts', 'Bakery', '', 'Ice Cream', 'Desserts', 'Bakery', '', 'Ice Cream', 'Desserts', 'Bakery', '', 'Ice Cream', 'Desserts', 'Bakery', '', 'Ice Cream', 'Desserts', 'Bakery', '', 'Ice Cream', 'Desserts', 'Bakery', '', 'Ice Cream', 'Desserts', 'Bakery', '', 'Ice Cream', 'Desserts', 'Bakery', '', 'Ice Cream', 'Desserts', 'Bakery', '', 'Ice Cream', 'Desserts', 'Bakery', '', 'Ice Cream', 'Desserts', 'Bakery', '', 'Ice Cream', 'Desserts', 'Bakery', '', 'Ice Cream', 'Desserts', 'Bakery', '', 'Ice Cream', 'Desserts', 'Bakery', '', 'Ice Cream', 'Desserts', 'Bakery', '', 'Ice Cream', 'Desserts', 'Bakery', '', 'Ice Cream', 'Desserts', 'Bakery', '', 'Ice Cream', 'Desserts', 'Bakery', '', 'Ice Cream', 'Desserts', 'Bakery', '', 'Ice Cream', 'Desserts', 'Bakery', '', 'Ice Cream', 'Desserts', 'Bakery', '', 'Ice Cream', 'Desserts', 'Bakery', '', 'Ice Cream', 'Desserts', 'Bakery', '', 'Ice Cream', 'Desserts', 'Bakery', '', 'Ice Cream', 'Desserts', 'Bakery', '', 'Ice Cream', 'Desserts', 'Bakery', '', 'Ice Cream', 'Desserts', 'Bakery', '', 'Ice Cream', 'Desserts', 'Bakery', '', 'Ice Cream', 'Desserts', 'Bakery', '', 'Ice Cream', 'Desserts', 'Bakery', '', 'Ice Cream', 'Desserts', 'Bakery', '', 'Ice Cream', 'Desserts', 'Bakery', '', 'Ice Cream', 'Desserts', 'Bakery', '', 'Fast Food', 'Cafe', '', 'Beverages', 'Pizza', 'Sandwich', 'Fast Food', '', 'South Indian', 'North Indian', 'Fast Food', 'Chinese', '', 'Desserts', 'Beverages', 'Fast Food', 'Sandwich', 'North Indian', 'Cafe', 'Bakery', '', 'Desserts', 'Beverages', 'Fast Food', 'Sandwich', 'North Indian', 'Cafe', 'Bakery', '', 'Desserts', 'Beverages', 'Fast Food', 'Sandwich', 'North Indian', 'Cafe', 'Bakery', '', 'Biryani', 'Seafood', 'Chinese', 'Rolls', 'North Indian', '', 'Beverages', 'Fast Food', 'Sandwich', 'Pizza', '', 'Sandwich', 'South Indian', 'North Indian', 'Chinese', 'Fast Food', '', 'Burger', '', 'Chinese', 'North Indian', '', 'Chinese', '', 'Biryani', 'Maharashtrian', 'Chinese', 'North Indian', '', 'Sandwich', 'Street Food', '', 'Beverages', 'Fast Food', '', 'Maharashtrian', '', 'North Indian', 'Sandwich', 'Coffee', 'Street Food', 'Ice Cream', 'Desserts', 'Fast Food', 'Beverages', '', 'Maharashtrian', 'North Indian', '', 'Beverages', 'Street Food', '', 'Kebab', 'Malwani', 'Chinese', 'North Indian', '', 'Beverages', 'Italian', 'Continental', 'North Indian', '', 'Beverages', 'Biryani', 'Mughlai', 'Chinese', 'North Indian', '', 'South Indian', '', 'Beverages', 'Desserts', 'Fast Food', 'Sandwich', '', 'Momos', 'Burger', 'Sandwich', '', 'Biryani', 'Kebab', 'Chinese', 'Maharashtrian', 'North Indian', 'Seafood', '', 'North Indian', '', 'Mughlai', 'North Indian', 'Chinese', '', 'Beverages', 'Coffee', '', 'Mughlai', 'Biryani', 'North Indian', 'Fast Food', '', 'Chinese', 'Asian', '', 'Chinese', 'North Indian', '', 'Beverages', 'Maharashtrian', 'North Indian', 'Fast Food', 'Chinese', '', 'North Indian', 'Chinese', '', 'Rolls', '', 'Mughlai', 'North Indian', 'Biryani', '', 'Beverages', 'Coffee', '', 'Beverages', 'Coffee', '', 'Beverages', 'Coffee', '', 'Beverages', 'Coffee', '', 'Beverages', 'Coffee', '', 'Beverages', 'Coffee', '', 'Beverages', 'Coffee', '', 'Beverages', 'Coffee', '', 'Beverages', 'Coffee', '', 'Beverages', 'Coffee', '', 'Beverages', 'Coffee', '', 'Beverages', 'Coffee', '', 'Beverages', 'Coffee', '', 'Beverages', 'Coffee', '', 'Beverages', 'Coffee', '', 'Mughlai', 'Biryani', 'North Indian', 'Fast Food', '', 'Mughlai', 'Biryani', 'North Indian', 'Fast Food', '', 'Mughlai', 'Biryani', 'North Indian', 'Fast Food', '', 'Mughlai', 'Biryani', 'North Indian', 'Fast Food', '', 'Italian', '', 'Paan', '', 'Chinese', 'North Indian', '', 'Beverages', 'Fast Food', 'Healthy Food', '', 'Sandwich', 'Street Food', '', 'Fast Food', 'Rolls', 'Chinese', '', 'Mithai', '', 'Fast Food', 'Burger', 'Pizza', '', 'North Indian', '', 'Chinese', 'North Indian', 'Momos', '', 'Chinese', 'Seafood', 'Mughlai', 'North Indian', '', 'Street Food', '', 'Bengali', '', 'Street Food', '', 'Fast Food', '', 'Sandwich', 'Street Food', '', 'Sandwich', 'Street Food', '', 'Sandwich', 'Street Food', '', 'Fast Food', 'Street Food', '', 'Sandwich', 'Street Food', '', 'Sandwich', 'Street Food', '', 'Sandwich', 'Street Food', '', 'Street Food', '', 'Sandwich', 'Street Food', '', 'Sandwich', 'Street Food', '', 'Street Food', '', 'Sandwich', 'Street Food', '', 'Sandwich', 'Street Food', '', 'Fast Food', 'Street Food', '', 'Sandwich', 'Street Food', '', 'Sandwich', 'Street Food', '', 'South Indian', 'Fast Food', 'Street Food', '', 'Sandwich', 'Street Food', '', 'Sandwich', 'Street Food', '', 'Street Food', '', 'Street Food', 'Maharashtrian', '', 'Beverages', 'Street Food', '', 'Fast Food', 'Street Food', '', 'Beverages', 'Street Food', '', 'Salad', 'South Indian', 'European', 'Italian', 'Mediterranean', 'North Indian', '', 'Street Food', 'Maharashtrian', '', 'Beverages', 'Rolls', 'Chinese', 'North Indian', '', 'Mughlai', 'North Indian', 'Continental', 'Asian', '', 'North Indian', 'Chinese', '', 'Beverages', 'Tea', 'Fast Food', '', 'Mithai', 'Street Food', '', 'Arabian', '', 'Continental', 'Italian', 'Cafe', '', 'Beverages', 'Desserts', 'Street Food', 'Fast Food', 'Chinese', 'South Indian', 'North Indian', '', 'Ice Cream', 'Desserts', '', 'Fast Food', 'Bengali', '', 'North Indian', 'Chinese', 'Fast Food', 'South Indian', '', 'Beverages', 'Fast Food', 'Street Food', '', 'North Indian', '', 'Beverages', 'Tea', 'Fast Food', '', 'Beverages', 'Tea', 'Fast Food', 'Street Food', '', 'Beverages', 'Tea', 'Fast Food', '', 'Beverages', 'Tea', 'Fast Food', '', 'Beverages', 'Tea', 'Fast Food', '', 'Beverages', 'Tea', 'Fast Food', '', 'Mithai', 'Street Food', '', 'Mithai', 'Street Food', '', 'Mithai', 'Street Food', '', 'Mithai', 'Street Food', '', 'Mithai', 'Street Food', '', 'Mithai', 'Street Food', '', 'Mithai', 'Street Food', '', 'Mithai', 'Street Food', '', 'Mithai', 'Street Food', '', 'Mithai', 'Street Food', '', 'Mithai', 'Street Food', '', 'Mithai', 'Street Food', '', 'Mithai', 'Street Food', '', 'Mithai', 'Street Food', '', 'Beverages', 'Fast Food', 'Street Food', '', 'Beverages', 'Street Food', 'Fast Food', '', 'Fast Food', 'Street Food', '', 'Beverages', 'Fast Food', 'Street Food', '', 'Beverages', 'Fast Food', '', 'Ice Cream', 'Cafe', '', 'Beverages', 'Fast Food', 'Street Food', '', 'Beverages', 'Fast Food', 'Street Food', '', 'Beverages', 'Fast Food', 'Street Food', '', 'Beverages', 'Fast Food', 'Street Food', '', 'Beverages', 'Fast Food', 'Street Food', '', 'Beverages', 'Street Food', '', 'Beverages', 'Fast Food', 'Street Food', '', 'Bakery', '', 'Arabian', 'Chinese', 'North Indian', '', 'Beverages', 'Desserts', 'Italian', '', 'Beverages', 'North Indian', 'Fast Food', 'Chinese', 'Street Food', 'South Indian', '', 'Chinese', 'Mughlai', 'Asian', 'Continental', 'North Indian', '', 'Biryani', 'Mughlai', 'North Indian', '', 'North Indian', 'Chinese', 'Maharashtrian', '', 'South Indian', 'North Indian', 'Maharashtrian', '', 'Ice Cream', '', 'North Indian', '', 'Sandwich', 'Salad', '', 'Chinese', 'Fast Food', 'Italian', 'North Indian', '', 'Chinese', 'Mughlai', 'North Indian', '', 'North Indian', 'Biryani', '', 'South Indian', 'North Indian', '', 'Sandwich', 'Salad', '', 'Sandwich', 'Salad', '', 'Sandwich', 'Salad', '', 'Sandwich', 'Salad', '', 'Sandwich', 'Salad', '', 'Desserts', 'Beverages', 'South Indian', 'North Indian', 'Chinese', 'Biryani', '', 'Malwani', 'Chinese', 'Mughlai', 'North Indian', '', 'Seafood', 'North Indian', 'Chinese', '', 'Maharashtrian', 'North Indian', '', 'Beverages', 'Maharashtrian', 'Street Food', '', 'North Indian', '', 'Biryani', '', 'Beverages', 'Desserts', 'Ice Cream', '', 'Chinese', 'Pizza', 'Kebab', 'Continental', 'North Indian', '', 'Beverages', 'Ice Cream', '', 'Bakery', '', 'North Indian', '', 'North Indian', 'Maharashtrian', 'Chinese', 'Biryani', '', 'Maharashtrian', 'Chinese', 'North Indian', '', 'Mughlai', 'Biryani', 'North Indian', '', 'Bakery', '', 'Bakery', '', 'Bakery', '', 'Bakery', '', 'Bakery', '', 'Bakery', '', 'Bakery', '', 'Bakery', '', 'Bakery', '', 'Bakery', '', 'Bakery', '', 'Bakery', '', 'Bakery', '', 'Bakery', '', 'Bakery', '', 'Bakery', '', 'Bakery', '', 'Bakery', '', 'Bakery', '', 'Bakery', '', 'Bakery', '', 'Bakery', '', 'Bakery', '', 'Bakery', '', 'Bakery', '', 'Bakery', '', 'Bakery', '', 'Bakery', '', 'Bakery', '', 'Bakery', '', 'Bakery', '', 'Bakery', '', 'Bakery', '', 'Bakery', '', 'Bakery', '', 'Bakery', '', 'Bakery', '', 'Bakery', '', 'Bakery', '', 'Bakery', '', 'Bakery', '', 'Bakery', '', 'Bakery', '', 'Bakery', '', 'Bakery', '', 'Bakery', '', 'Bakery', '', 'Bakery', '', 'Bakery', '', 'Bakery', '', 'Bakery', '', 'Bakery', '', 'Bakery', '', 'Bakery', '', 'Bakery', '', 'Bakery', '', 'Bakery', '', 'Bakery', '', 'Bakery', '', 'Bakery', '', 'Bakery', '', 'Bakery', '', 'Bakery', '', 'Bakery', '', 'Bakery', '', 'Bakery', '', 'Bakery', '', 'Bakery', '', 'Bakery', '', 'Bakery', '', 'Bakery', '', 'Bakery', '', 'Bakery', '', 'Maharashtrian', 'Chinese', 'North Indian', '', 'Maharashtrian', 'Chinese', 'North Indian', '', 'Maharashtrian', 'Chinese', 'North Indian', '', 'Maharashtrian', 'Chinese', 'North Indian', '', 'Maharashtrian', 'Chinese', 'North Indian', '', 'Maharashtrian', 'Chinese', 'North Indian', '', 'Maharashtrian', 'Chinese', 'North Indian', '', 'Mughlai', 'Biryani', 'North Indian', '', 'Mughlai', 'Biryani', 'North Indian', '', 'Mughlai', 'Biryani', 'North Indian', '', 'Desserts', 'Beverages', 'Street Food', 'South Indian', '', 'Fast Food', 'Beverages', '', 'Beverages', 'Fast Food', '', 'Beverages', 'Desserts', 'Salad', 'Italian', 'Continental', '', 'Chinese', '', 'Chinese', '', 'Modern Indian', 'Italian', 'Mexican', '', 'Thai', 'Chinese', '', 'Beverages', 'Chinese', 'South Indian', '', 'Continental', 'Chinese', 'North Indian', '', 'North Indian', 'Goan', 'Continental', 'Italian', '', 'Kerala', 'Sandwich', 'Goan', 'North Indian', '', 'North Indian', '', 'Beverages', '', 'Italian', 'Pizza', '', 'Modern Indian', 'Italian', 'Mexican', '', 'Modern Indian', 'Italian', 'Mexican', '', 'Modern Indian', 'Italian', 'Mexican', '', 'Modern Indian', 'Italian', 'Mexican', '', 'Modern Indian', 'Italian', 'Mexican', '', 'Modern Indian', 'Italian', 'Mexican', '', 'Modern Indian', 'Italian', 'Mexican', '', 'Modern Indian', 'Italian', 'Mexican', '', 'Modern Indian', 'Italian', 'Mexican', '', 'Modern Indian', 'Italian', 'Mexican', '', 'Modern Indian', 'Italian', 'Mexican', '', 'Modern Indian', 'Italian', 'Mexican', '', 'Modern Indian', 'Italian', 'Mexican', '', 'Modern Indian', 'Italian', 'Mexican', '', 'Modern Indian', 'Italian', 'Mexican', '', 'Modern Indian', 'Italian', 'Mexican', '', 'Modern Indian', 'Italian', 'Mexican', '', 'Modern Indian', 'Italian', 'Mexican', '', 'Modern Indian', 'Italian', 'Mexican', '', 'Modern Indian', 'Italian', 'Mexican', '', 'Modern Indian', 'Italian', 'Mexican', '', 'Modern Indian', 'Italian', 'Mexican', '', 'Modern Indian', 'Italian', 'Mexican', '', 'Modern Indian', 'Italian', 'Mexican', '', 'Modern Indian', 'Italian', 'Mexican', '', 'Modern Indian', 'Italian', 'Mexican', '', 'Modern Indian', 'Italian', 'Mexican', '', 'Bengali', '', 'Street Food', '', 'Desserts', 'North Indian', '', 'Rolls', 'Mughlai', 'North Indian', 'Assamese', 'Bengali', '', 'Maharashtrian', '', 'Fast Food', 'Pizza', 'Sandwich', 'Burger', '', 'Street Food', '', 'Malwani', 'Chinese', 'North Indian', 'Maharashtrian', '', 'Rolls', 'Biryani', 'Mughlai', 'Bengali', '', 'Fast Food', 'Bakery', 'Cafe', '', 'Beverages', 'Bakery', 'Fast Food', 'Tea', '', 'Kebab', 'Malwani', 'Fast Food', 'Continental', 'Chinese', 'North Indian', '', 'Beverages', 'Mughlai', 'Italian', 'Fast Food', 'North Indian', 'Continental', '', 'Street Food', '', 'Chinese', '', 'South Indian', '', 'South Indian', '', 'Street Food', '', 'Desserts', 'North Indian', '', 'Desserts', 'North Indian', '', 'Desserts', 'North Indian', '', 'Desserts', 'North Indian', '', 'Desserts', 'North Indian', '', 'Fast Food', 'Pizza', '', 'Pizza', 'Fast Food', '', 'Beverages', 'Sandwich', 'Burger', 'Pizza', 'Fast Food', '', 'Fast Food', 'Pizza', '', 'Fast Food', 'Pizza', 'Sandwich', 'Burger', '', 'Fast Food', 'Pizza', 'Sandwich', 'Burger', '', 'Fast Food', 'Pizza', 'Sandwich', 'Burger', '', 'Fast Food', '', 'Fast Food', 'Pizza', 'Sandwich', 'Burger', '', 'Fast Food', 'Pizza', 'Sandwich', 'Burger', '', 'Beverages', 'Sandwich', 'Burger', 'Pizza', 'Fast Food', '', 'Beverages', 'Sandwich', 'Burger', 'Pizza', 'Fast Food', '', 'Fast Food', 'Pizza', 'Sandwich', 'Burger', '', 'Fast Food', 'Pizza', '', 'Beverages', 'Sandwich', 'Burger', 'Pizza', 'Fast Food', '', 'North Indian', '', 'Biryani', 'Malwani', 'North Indian', 'Chinese', '', 'Konkan', 'North Indian', 'Malwani', '', 'Chinese', '', 'Chinese', 'North Indian', '', 'Biryani', '', 'Street Food', 'Mithai', '', 'Chinese', 'Kebab', 'Mughlai', 'Seafood', 'North Indian', '', 'Bakery', '', 'Beverages', 'Desserts', 'Fast Food', 'Cafe', '', 'Chinese', 'Mughlai', 'North Indian', '', 'Fast Food', 'Rolls', 'North Indian', 'Chinese', '', 'Beverages', 'South Indian', 'Chinese', 'North Indian', '', 'Chinese', 'North Indian', '', 'Street Food', 'Mithai', '', 'Desserts', 'Cafe', '', 'Beverages', 'Desserts', 'Fast Food', 'Cafe', '', 'Beverages', '', 'Beverages', 'Desserts', 'Fast Food', 'Cafe', '', 'Beverages', 'Desserts', 'Fast Food', 'Cafe', '', 'Beverages', 'Desserts', 'Fast Food', 'Cafe', '', 'Beverages', 'Desserts', 'Fast Food', 'Cafe', '', 'Beverages', 'Desserts', 'Fast Food', 'Cafe', '', 'Beverages', 'Desserts', 'Fast Food', '', 'Beverages', 'Desserts', 'Fast Food', 'Cafe', '', 'Beverages', 'Desserts', 'Fast Food', 'Cafe', '', 'Beverages', 'Desserts', 'Fast Food', 'Cafe', '', 'Beverages', 'Desserts', '', 'Beverages', 'Desserts', 'Fast Food', 'Cafe', '', 'Healthy Food', '', 'Fast Food', '', 'Bengali', '', 'North Indian', '', 'Beverages', '', 'Fast Food', 'Chinese', 'Maharashtrian', 'North Indian', '', 'Continental', 'Chinese', 'South Indian', 'North Indian', '', 'Fast Food', 'Bakery', '', 'Chinese', 'Seafood', 'Singaporean', '', 'North Indian', '', 'Hyderabadi', 'Mughlai', 'Chinese', 'North Indian', '', 'Maharashtrian', 'Street Food', '', 'North Indian', 'Biryani', '', 'Beverages', 'Fast Food', 'Rolls', 'Chinese', 'Maharashtrian', '', 'North Indian', '', 'Bakery', '', 'Fast Food', 'Burger', '', 'Rolls', 'North Indian', 'Chinese', '', 'North Indian', 'Chinese', '', 'North Indian', '', 'Continental', 'Cafe', '', 'Biryani', '', 'North Indian', 'Maharashtrian', '', 'North Indian', 'Fast Food', 'Pizza', 'Sandwich', '', 'Beverages', 'Desserts', 'Ice Cream', '', 'North Indian', 'Finger Food', 'Continental', 'Asian', '', 'Chinese', 'North Indian', '', 'Beverages', 'Desserts', 'Rolls', 'Biryani', 'Continental', 'Chinese', 'North Indian', '', 'North Indian', 'Kebab', 'Chinese', 'Biryani', '', 'Seafood', 'Mughlai', 'Mangalorean', 'Chinese', 'North Indian', '', 'North Indian', 'Maharashtrian', '', 'North Indian', 'Maharashtrian', '', 'North Indian', 'Maharashtrian', '', 'Maharashtrian', '', 'Biryani', '', 'Fast Food', 'Mughlai', 'Chinese', 'North Indian', '', 'North Indian', 'Chinese', '', 'Chinese', 'North Indian', '', 'Maharashtrian', '', 'Beverages', 'Chinese', 'North Indian', 'Street Food', '', 'Desserts', 'Ice Cream', '', 'Street Food', 'Desserts', '', 'North Indian', 'Juices', '', 'Maharashtrian', 'North Indian', '', 'North Indian', 'European', 'Asian', '', 'Momos', 'Juices', 'Fast Food', '', 'Street Food', 'Maharashtrian', '', 'Kebab', 'Biryani', '', 'Chinese', 'North Indian', '', 'Beverages', 'Street Food', 'North Indian', '', 'Tea', '', 'North Indian', 'Street Food', '', 'Beverages', 'Sandwich', 'Pizza', 'Burger', 'Fast Food', '', 'Momos', '', 'Chinese', 'Biryani', 'North Indian', '', 'North Indian', 'Maharashtrian', 'Chinese', '', 'Kebab', 'Mughlai', 'Maharashtrian', 'Chinese', 'North Indian', 'Biryani', '', 'Desserts', 'Bakery', '', 'South Indian', '', 'North Indian', '', 'Bakery', 'Desserts', '', 'Street Food', 'Mithai', 'Bengali', '', 'Asian', 'Thai', 'Chinese', 'Pizza', 'Continental', 'Italian', '', 'South Indian', 'North Indian', '', 'Tea', '', 'Tea', '', 'Tea', '', 'Tea', '', 'Tea', '', 'Tea', '', 'Tea', '', 'Tea', '', 'Tea', '', 'Tea', '', 'Tea', '', 'Tea', '', 'Tea', '', 'Tea', '', 'Tea', '', 'Tea', '', 'Tea', '', 'Tea', '', 'Tea', '', 'Tea', '', 'Tea', '', 'Tea', '', 'Tea', '', 'Tea', '', 'Tea', '', 'Tea', '', 'Tea', '', 'Tea', '', 'Tea', '', 'Tea', '', 'Tea', '', 'Tea', '', 'Tea', '', 'Tea', '', 'Tea', '', 'Tea', '', 'Tea', '', 'Tea', '', 'Beverages', '', 'Tea', '', 'Tea', '', 'Desserts', 'Bakery', '', 'Desserts', 'Bakery', '', 'Bakery', '', 'Desserts', 'Bakery', '', 'Bar Food', 'Chinese', 'North Indian', '', 'Desserts', 'Beverages', 'Fast Food', 'Pizza', '', 'Healthy Food', 'Salad', 'Sandwich', 'Continental', 'European', 'Cafe', '', 'North Indian', 'Street Food', 'Maharashtrian', '', 'Beverages', 'Desserts', 'North Indian', 'Chinese', '', 'Biryani', 'Maharashtrian', 'North Indian', 'Chinese', '', 'Chinese', 'North Indian', '', 'Chinese', 'North Indian', 'Maharashtrian', '', 'Maharashtrian', 'Biryani', '', 'Biryani', 'Maharashtrian', 'Malwani', 'Fast Food', 'Chinese', 'North Indian', '', 'North Indian', 'Italian', 'Bar Food', '', 'Street Food', '', 'Fast Food', 'Pizza', '', 'Maharashtrian', 'Chinese', 'North Indian', '', 'Chinese', '', 'Desserts', 'Beverages', 'Fast Food', 'Pizza', '', 'Desserts', 'Beverages', 'Fast Food', 'Pizza', '', 'Desserts', 'Beverages', 'Fast Food', 'Pizza', '', 'Beverages', 'Desserts', 'North Indian', 'Chinese', '', 'Beverages', 'Desserts', 'North Indian', 'Chinese', '', 'Beverages', 'Desserts', 'North Indian', 'Chinese', '', 'Beverages', 'Desserts', 'North Indian', 'Chinese', '', 'Beverages', 'Desserts', 'North Indian', 'Chinese', '', 'Beverages', 'Desserts', 'North Indian', 'Chinese', '', 'Beverages', 'Desserts', 'North Indian', 'Chinese', '', 'Beverages', 'Desserts', 'North Indian', 'Chinese', '', 'Beverages', 'Desserts', 'North Indian', 'Chinese', '', 'Beverages', 'Desserts', 'North Indian', 'Chinese', '', 'Beverages', 'Desserts', 'North Indian', 'Chinese', '', 'Beverages', 'Desserts', 'North Indian', 'Chinese', '', 'Beverages', 'Desserts', 'North Indian', 'Chinese', '', 'Beverages', 'Desserts', 'North Indian', 'Chinese', '', 'Beverages', 'Desserts', 'North Indian', 'Chinese', '', 'Beverages', 'Desserts', 'North Indian', 'Chinese', '', 'Beverages', 'Desserts', 'North Indian', 'Chinese', '', 'Beverages', 'Desserts', 'North Indian', 'Chinese', '', 'Beverages', 'Desserts', 'North Indian', 'Chinese', '', 'Beverages', 'Desserts', 'North Indian', 'Chinese', '', 'Beverages', 'Desserts', 'North Indian', 'Chinese', '', 'Beverages', 'Desserts', 'North Indian', 'Chinese', '', 'Beverages', 'Desserts', 'North Indian', 'Chinese', '', 'Beverages', 'Desserts', 'North Indian', 'Chinese', '', 'Beverages', 'Desserts', 'North Indian', 'Chinese', '', 'Beverages', 'Desserts', 'North Indian', 'Chinese', '', 'Street Food', 'Beverages', 'South Indian', 'Chinese', 'North Indian', '', 'Sandwich', 'Pizza', '', 'Continental', 'Chinese', 'North Indian', '', 'Desserts', 'Beverages', 'Pizza', 'Burger', 'Fast Food', '', 'Seafood', 'Asian', 'Chinese', '', 'Desserts', 'South Indian', 'Biryani', 'Chinese', 'Mughlai', 'Fast Food', 'North Indian', '', 'Biryani', 'Chinese', 'North Indian', '', 'Street Food', 'North Indian', '', 'Fast Food', '', 'Chinese', '', 'Chinese', '', 'Beverages', 'Continental', 'Chinese', 'North Indian', '', 'Italian', 'Asian', 'Finger Food', 'Continental', '', 'Asian', '', 'Salad', 'Asian', 'Malaysian', 'Vietnamese', 'Thai', 'Chinese', '', 'Burger', 'Desserts', 'Fast Food', 'Italian', 'Pizza', '', 'Desserts', 'Cafe', '', 'Fast Food', 'Desserts', 'Ice Cream', 'Cafe', '', 'Beverages', 'Fast Food', 'Pizza', 'Cafe', '', 'Fast Food', 'Cafe', '', 'Desserts', 'Beverages', 'Chinese', 'Fast Food', '', 'Desserts', 'Tea', 'Beverages', 'Fast Food', 'Cafe', '', 'Burger', 'Desserts', 'Fast Food', 'Italian', 'Pizza', '', 'Beverages', 'Fast Food', '', 'Desserts', 'Beverages', 'Pizza', 'Burger', 'Fast Food', '', 'Tea', 'Beverages', 'Pizza', 'Fast Food', '', 'Burger', 'Desserts', 'Fast Food', 'Italian', 'Pizza', '', 'Beverages', 'Fast Food', '', 'Burger', 'Desserts', 'Fast Food', 'Italian', 'Pizza', '', 'Burger', 'Desserts', 'Fast Food', 'Italian', 'Pizza', '', 'Ice Cream', 'Fast Food', 'Cafe', '', 'Beverages', 'Desserts', 'Fast Food', 'Cafe', '', 'Fast Food', 'Beverages', '', 'Burger', 'Desserts', 'Fast Food', 'Italian', 'Pizza', '', 'Fast Food', 'Desserts', 'Ice Cream', 'Cafe', '', 'Burger', 'Desserts', 'Fast Food', 'Italian', 'Pizza', '', 'Burger', 'Desserts', 'Fast Food', 'Italian', 'Pizza', '', 'Beverages', 'Fast Food', 'Cafe', '', 'Chinese', '', 'Chinese', '', 'Chinese', '', 'Chinese', '', 'Chinese', '', 'Fast Food', 'Momos', '', 'Healthy Food', 'North Indian', '', 'South Indian', 'Chinese', 'Fast Food', 'Street Food', '', 'Malwani', 'North Indian', 'Maharashtrian', '', 'European', 'Asian', 'North Indian', '', 'Beverages', 'Sandwich', 'Street Food', '', 'Street Food', '', 'Street Food', 'Chinese', 'North Indian', '', 'Hyderabadi', 'Chinese', 'Biryani', 'Kebab', 'North Indian', '', 'Chinese', 'Maharashtrian', 'North Indian', '', 'North Indian', 'Fast Food', '', 'Healthy Food', 'Juices', 'Fast Food', '', 'Beverages', 'Street Food', 'Chinese', 'North Indian', '', 'Beverages', 'Desserts', 'Continental', 'Italian', 'Pizza', '', 'Beverages', 'Rolls', 'Pizza', 'Fast Food', 'Cafe', '', 'Fast Food', 'Tibetan', 'Momos', '', 'Tibetan', '', 'Tibetan', '', 'Tibetan', '', 'Tibetan', '', 'Tibetan', 'Momos', '', 'Chinese', '', 'Street Food', '', 'Continental', 'North Indian', '', 'Cafe', '', 'Desserts', 'Ice Cream', '', 'Maharashtrian', '', 'Chinese', 'North Indian', '', 'Beverages', 'Street Food', 'Fast Food', 'Chinese', 'North Indian', '', 'Street Food', 'Beverages', '', 'Chinese', 'North Indian', 'Hyderabadi', '', 'Beverages', 'Biryani', 'Charcoal Chicken', 'Salad', 'Desserts', 'North Indian', 'Italian', 'Continental', '', 'Salad', 'Continental', 'Finger Food', '', 'Beverages', 'Desserts', 'North Indian', '', 'Mughlai', 'Kebab', 'North Indian', 'Biryani', '', 'Asian', 'European', 'North Indian', '', 'Beverages', 'Sandwich', 'Burger', 'Rolls', 'Pizza', 'Cafe', '', 'Rajasthani', '', 'Desserts', 'Bakery', '', 'Beverages', 'Maharashtrian', 'Chinese', 'North Indian', '', 'Bakery', '', 'Biryani', 'Chinese', 'North Indian', '', 'Fast Food', 'Desserts', 'Bakery', '', 'Chinese', '', 'Rolls', '', 'Rajasthani', 'Gujarati', 'North Indian', '', 'Beverages', 'North Indian', 'Sandwich', 'Fast Food', '', 'Coffee', 'Italian', 'Fast Food', '', 'Desserts', '', 'Biryani', 'Kebab', 'North Indian', '', 'Maharashtrian', 'Chinese', 'North Indian', '', 'Desserts', 'Bakery', '', 'Desserts', 'Bakery', '', 'Desserts', 'Bakery', '', 'Biryani', 'Chinese', 'North Indian', '', 'Biryani', 'Chinese', 'North Indian', '', 'Biryani', 'Chinese', 'North Indian', '', 'Biryani', 'Chinese', 'North Indian', '', 'Biryani', 'Chinese', 'North Indian', '', 'North Indian', 'Biryani', '', 'Chinese', 'North Indian', '', 'Chinese', '', 'North Indian', '', 'Malwani', 'Maharashtrian', '', 'Malwani', 'Chinese', 'Biryani', 'North Indian', '', 'Odia', 'Chinese', 'North Indian', '', 'Chinese', '', 'Fast Food', 'South Indian', 'North Indian', '', 'Beverages', 'Maharashtrian', 'Chinese', 'North Indian', '', 'Street Food', 'Fast Food', 'Burger', 'Sandwich', 'Beverages', '', 'North Indian', 'Biryani', '', 'Kebab', 'Chinese', 'Goan', 'North Indian', 'Biryani', 'Maharashtrian', '', 'Chinese', 'North Indian', '', 'Fast Food', '', 'Beverages', 'Maharashtrian', 'Chinese', 'North Indian', '', 'Beverages', 'Maharashtrian', 'Chinese', 'North Indian', '', 'Beverages', 'Maharashtrian', 'Chinese', 'North Indian', '', 'Beverages', 'Maharashtrian', 'Chinese', 'North Indian', '', 'Seafood', 'Mughlai', 'Chinese', 'North Indian', '', 'Beverages', 'Desserts', 'Street Food', 'Fast Food', 'North Indian', 'South Indian', 'Chinese', '', 'Chinese', 'Momos', 'Rolls', '', 'Street Food', 'South Indian', 'Fast Food', '', 'Beverages', 'Lebanese', 'Fast Food', 'Cafe', '', 'Street Food', '', 'Maharashtrian', '', 'Bakery', '', 'Cafe', '', 'Street Food', 'South Indian', '', 'Fast Food', 'Street Food', 'South Indian', 'North Indian', '', 'Biryani', 'Kebab', 'North Indian', '', 'North Indian', 'Italian', '', 'Pizza', 'Italian', 'Cafe', '', 'Mughlai', 'South Indian', 'North Indian', '', 'North Indian', '', 'Fast Food', 'Chinese', '', 'Desserts', 'Bakery', '', 'Street Food', 'Bakery', 'Mithai', '', 'Desserts', 'Bakery', '', 'Fast Food', 'Momos', '', 'North Indian', '', 'Juices', 'South Indian', '', 'Chinese', '', 'Pizza', 'Beverages', 'Burger', 'Fast Food', '', 'Fast Food', 'Chinese', 'South Indian', 'North Indian', 'Maharashtrian', '', 'Finger Food', '', 'Coffee', 'Beverages', '', 'Street Food', '', 'Continental', 'Cafe', '', 'Desserts', 'Bakery', '', 'Desserts', 'Bakery', '', 'Desserts', 'Bakery', '', 'Desserts', 'Bakery', '', 'Desserts', 'Bakery', '', 'Desserts', 'Bakery', '', 'Desserts', 'Bakery', '', 'Bakery', '', 'Bakery', '', 'Desserts', 'Bakery', '', 'Bakery', '', 'Desserts', 'Bakery', '', 'Desserts', 'Bakery', '', 'Desserts', 'Bakery', '', 'Desserts', 'Bakery', '', 'Desserts', 'Bakery', '', 'Desserts', 'Bakery', '', 'Desserts', 'Bakery', '', 'Desserts', 'Bakery', '', 'Desserts', 'Bakery', '', 'Desserts', 'Bakery', '', 'Desserts', 'Bakery', '', 'Desserts', 'Bakery', '', 'Desserts', 'Bakery', '', 'Bakery', '', 'Desserts', 'Bakery', '', 'Desserts', 'Bakery', '', 'Desserts', 'Bakery', '', 'Desserts', 'Bakery', '', 'Desserts', 'Bakery', '', 'Desserts', 'Bakery', '', 'Desserts', 'Bakery', '', 'Fast Food', 'Momos', '', 'Fast Food', 'Momos', '', 'Fast Food', 'Momos', '', 'Fast Food', 'Momos', '', 'Fast Food', 'Beverages', '', 'Fast Food', 'Beverages', '', 'Fast Food', 'Beverages', '', 'Rolls', 'Chinese', 'North Indian', '', 'Chinese', 'Bengali', 'Assamese', '', 'Street Food', 'South Indian', '', 'Beverages', 'Desserts', 'Fast Food', 'Pizza', 'Sandwich', 'Cafe', '', 'Burger', 'Kebab', 'Beverages', 'Fast Food', 'Sandwich', 'Biryani', '', 'Desserts', 'Bakery', '', 'Fast Food', 'Seafood', 'Kebab', 'Malwani', 'Hyderabadi', 'Chinese', 'North Indian', '', 'Malwani', 'Mughlai', 'Chinese', 'North Indian', '', 'Street Food', 'Maharashtrian', '', 'Beverages', 'Fast Food', 'Sandwich', '', 'Chinese', 'North Indian', 'Rajasthani', '', 'Chinese', 'North Indian', 'Mughlai', '', 'Beverages', 'Mughlai', 'Continental', 'Chinese', 'North Indian', '', 'Lebanese', 'Chinese', 'Rolls', '', 'Fast Food', '', 'Beverages', 'Fast Food', 'Sandwich', '', 'Beverages', 'Fast Food', 'Sandwich', '', 'Beverages', 'Fast Food', 'Sandwich', '', 'Desserts', 'Bakery', '', 'Biryani', '', 'Chinese', '', 'Pizza', 'Fast Food', '', 'Desserts', 'Bakery', '', 'Kerala', '', 'Maharashtrian', 'Malwani', '', 'Thai', 'Chinese', '', 'Street Food', '', 'Fast Food', 'Italian', '', 'Fast Food', 'Chinese', 'North Indian', '', 'Beverages', 'Chinese', 'Continental', 'North Indian', '', 'Italian', 'Continental', 'Cafe', '', 'Salad', 'Japanese', 'Thai', 'Chinese', '', 'Mexican', 'Kebab', 'Bar Food', '', 'Mughlai', 'Chinese', 'North Indian', '', 'Beverages', 'Ice Cream', 'Fast Food', '', 'Desserts', '', 'Fast Food', 'Beverages', '', 'Burger', '', 'Malwani', 'Seafood', '', 'North Indian', '', 'Chinese', 'North Indian', '', 'Beverages', 'Fast Food', 'Sandwich', 'Burger', '', 'North Indian', '', 'North Indian', 'Malwani', 'Biryani', '', 'South Indian', 'North Indian', '', 'Mughlai', 'Biryani', 'North Indian', '', 'Street Food', 'Fast Food', '', 'Beverages', 'Desserts', '', 'Beverages', 'Desserts', '', 'Beverages', 'Desserts', '', 'Beverages', 'Desserts', '', 'Cafe', 'Desserts', 'Italian', 'Continental', 'American', '', 'North Indian', 'Biryani', '', 'Chinese', '', 'Thai', 'South Indian', 'North Indian', '', 'Ice Cream', 'Desserts', '', 'North Indian', 'Maharashtrian', '', 'Biryani', 'Malwani', 'Chinese', 'North Indian', '', 'North Indian', 'Street Food', '', 'Beverages', 'Fast Food', 'South Indian', '', 'Seafood', 'Chinese', '', 'Mughlai', 'Chinese', 'North Indian', '', 'Mughlai', 'Seafood', 'Chinese', 'North Indian', '', 'South Indian', 'Chinese', 'North Indian', '', 'Beverages', 'Healthy Food', 'Fast Food', '', 'Bakery', '', 'Continental', 'Mexican', 'North Indian', 'Asian', 'Italian', '', 'Malwani', 'Chinese', 'Italian', 'American', 'North Indian', '', 'Desserts', 'Bakery', 'Cafe', '', 'Beverages', 'Salad', 'Mexican', 'Italian', '', 'Cafe', '', 'North Indian', 'Continental', '', 'Street Food', '', 'Fast Food', '', 'Momos', 'Rolls', 'Fast Food', 'Chinese', '', 'Maharashtrian', '', 'North Indian', '', 'Fast Food', 'Street Food', '', 'North Indian', 'Biryani', '', 'Fast Food', 'Burger', '', 'Japanese', 'Chinese', 'Asian', '', 'Fast Food', '', 'Fast Food', '', 'Fast Food', '', 'Fast Food', '', 'Fast Food', '', 'Fast Food', '', 'Fast Food', '', 'Fast Food', '', 'Fast Food', '', 'Fast Food', '', 'Beverages', 'Fast Food', '', 'Bakery', '', 'Beverages', 'Desserts', 'Ice Cream', '', 'North Indian', '', 'Malwani', 'Hyderabadi', 'North Indian', 'Chinese', '', 'South Indian', '', 'North Indian', '', 'Chinese', 'South Indian', 'North Indian', '', 'Bakery', '', 'Mughlai', 'Chinese', 'North Indian', '', 'Maharashtrian', '', 'Biryani', 'North Indian', 'Kebab', 'Chinese', '', 'Chinese', '', 'Street Food', 'Ice Cream', 'Fast Food', '', 'Biryani', 'North Indian', 'Chinese', 'Kebab', '', 'Fast Food', 'North Indian', '', 'Desserts', 'Ice Cream', '', 'Beverages', 'Desserts', 'Ice Cream', '', 'Beverages', 'Desserts', 'Ice Cream', '', 'Desserts', 'Street Food', 'Sandwich', 'Burger', 'Italian', 'Beverages', 'Fast Food', '', 'Fast Food', '', 'Biryani', 'Mughlai', 'Chinese', 'North Indian', '', 'Beverages', 'Continental', 'Cafe', '', 'Beverages', 'Continental', 'Cafe', '', 'Beverages', 'Burger', 'Healthy Food', 'Fast Food', '', 'Chinese', '', 'Street Food', '', 'Rolls', 'Chinese', 'Biryani', 'North Indian', '', 'Chinese', 'Seafood', 'Mughlai', 'North Indian', '', 'Maharashtrian', '', 'Fast Food', 'Rolls', '', 'Street Food', 'Chinese', 'South Indian', 'North Indian', '', 'Beverages', 'North Indian', 'Fast Food', 'Sandwich', '', 'Beverages', 'Desserts', 'Pizza', 'Cafe', '', 'Kerala', 'Bengali', 'Beverages', 'Continental', 'Healthy Food', 'Asian', 'North Indian', '', 'Healthy Food', 'Fast Food', 'Parsi', '', 'Desserts', 'North Indian', 'Street Food', '', 'Beverages', 'Ice Cream', '', 'Chinese', '', 'South Indian', '', 'Bakery', '', 'Mughlai', 'South Indian', 'Fast Food', 'North Indian', '', 'Maharashtrian', '', 'Biryani', '', 'Bakery', '', 'Chinese', '', 'Fast Food', '', 'Bar Food', 'Seafood', 'Mughlai', 'North Indian', '', 'Italian', 'Continental', 'North Indian', '', 'Beverages', 'Ice Cream', '', 'Desserts', 'Ice Cream', '', 'Beverages', 'Ice Cream', '', 'Beverages', 'Ice Cream', '', 'Ice Cream', 'Desserts', '', 'Desserts', 'Ice Cream', '', 'Desserts', 'Ice Cream', '', 'Desserts', 'Ice Cream', '', 'Beverages', 'Ice Cream', '', 'Desserts', '', 'Beverages', 'Ice Cream', '', 'Beverages', 'Ice Cream', '', 'Beverages', 'Desserts', 'Ice Cream', '', 'Desserts', 'Ice Cream', '', 'Ice Cream', 'Desserts', '', 'Asian', 'North Indian', 'Mexican', '', 'Malwani', 'Mughlai', 'North Indian', 'Kebab', 'Chinese', '', 'Mughlai', 'North Indian', 'Kebab', '', 'Chinese', '', 'Chinese', 'Malwani', '', 'Street Food', 'Rajasthani', 'Gujarati', '', 'Maharashtrian', '', 'Fast Food', 'Chinese', 'South Indian', 'North Indian', '', 'South Indian', 'Street Food', '', 'Mithai', 'Desserts', 'Bengali', '', 'Fast Food', 'Desserts', 'Ice Cream', '', 'Beverages', 'North Indian', 'Desserts', '', 'Burger', '', 'Beverages', 'Mexican', 'North Indian', 'South Indian', '', 'North Indian', 'Maharashtrian', '', 'South Indian', 'Street Food', '', 'South Indian', 'Street Food', '', 'South Indian', 'Street Food', '', 'Ice Cream', 'South Indian', 'Street Food', '', 'South Indian', 'Street Food', '', 'South Indian', 'Street Food', '', 'South Indian', 'Street Food', '', 'North Indian', 'Maharashtrian', 'Seafood', 'Malwani', '', 'Rolls', 'Kebab', 'Middle Eastern', 'Lebanese', 'Arabian', '', 'Mughlai', 'Chinese', 'North Indian', '', 'Fast Food', 'South Indian', '', 'Hyderabadi', 'Chinese', 'North Indian', '', 'Chinese', 'Maharashtrian', 'Biryani', 'North Indian', '', 'Desserts', 'Fast Food', 'Burger', '', 'Street Food', 'Fast Food', 'South Indian', 'Chinese', 'North Indian', '', 'Street Food', 'Fast Food', '', 'Chinese', 'Maharashtrian', 'North Indian', '', 'Seafood', 'North Indian', 'Chinese', 'Fast Food', '', 'Beverages', 'Street Food', '', 'Biryani', 'Chinese', 'North Indian', '', 'Chinese', 'North Indian', '', 'Beverages', 'Desserts', 'Street Food', 'Chinese', 'North Indian', '', 'Hyderabadi', 'Chinese', 'North Indian', '', 'Hyderabadi', 'Chinese', 'North Indian', '', 'Hyderabadi', 'Chinese', 'North Indian', '', 'Hyderabadi', 'Chinese', 'North Indian', '', 'Hyderabadi', 'Chinese', 'North Indian', '', 'Fast Food', '', 'Maharashtrian', '', 'Beverages', 'Tea', 'Street Food', '', 'Chinese', 'South Indian', 'North Indian', '', 'Beverages', 'Fast Food', 'Desserts', '', 'Chinese', 'North Indian', '', 'Thai', 'Chinese', '', 'Mughlai', 'North Indian', '', 'Biryani', 'Seafood', 'Chinese', 'North Indian', '', 'South Indian', '', 'Fast Food', 'Malwani', 'North Indian', 'Continental', '', 'Beverages', 'Seafood', 'South Indian', 'Chinese', 'North Indian', '', 'Beverages', 'Ice Cream', 'Desserts', '', 'Desserts', 'Bakery', '', 'South Indian', 'North Indian', '', 'Thai', 'Chinese', '', 'Thai', 'Asian', 'Chinese', 'Fast Food', '', 'Thai', 'Asian', 'Chinese', 'Fast Food', '', 'Beverages', '', 'Biryani', 'Mughlai', 'North Indian', '', 'Fast Food', '', 'Fast Food', '', 'Desserts', 'Fast Food', 'Beverages', 'Ice Cream', '', 'Cafe', '', 'Momos', 'Chinese', '', 'Sandwich', 'Beverages', 'Ice Cream', '', 'Beverages', 'Sandwich', 'Fast Food', '', 'Fast Food', 'Rolls', '', 'Chinese', 'North Indian', '', 'Beverages', 'Chinese', 'South Indian', 'North Indian', '', 'Mithai', '', 'Kebab', 'North Indian', '', 'Biryani', 'Chinese', 'North Indian', '', 'North Indian', '', 'Malwani', 'Seafood', '', 'Desserts', 'Street Food', 'Rolls', 'Chinese', 'North Indian', '', 'Chinese', '', 'Mughlai', 'North Indian', 'Maharashtrian', '', 'Ice Cream', 'Desserts', '', 'Chinese', 'North Indian', '', 'Sandwich', 'Street Food', '', 'North Indian', '', 'Beverages', 'Street Food', '', 'Maharashtrian', 'North Indian', '', 'Italian', 'Fast Food', 'Chinese', '', 'Thai', '', 'Italian', 'Mughlai', 'Chinese', 'North Indian', '', 'Fast Food', 'Sandwich', 'Burger', 'Pizza', '', 'Beverages', 'Mughlai', 'Chinese', 'North Indian', '', 'Kebab', '', 'Desserts', 'Fast Food', 'Modern Indian', 'North Indian', '', 'Beverages', 'Desserts', 'Fast Food', 'Italian', 'Salad', 'Continental', 'Cafe', '', 'Thai', 'Salad', 'Continental', 'Italian', '', 'Mexican', 'South Indian', 'Continental', 'Chinese', 'North Indian', '', 'Desserts', 'Burger', 'Sandwich', 'Fast Food', 'Salad', 'Italian', '', 'Street Food', 'Maharashtrian', '', 'Bakery', '', 'North Indian', 'Chinese', '', 'North Indian', '', 'Bakery', '', 'Bakery', '', 'Biryani', 'Mughlai', 'North Indian', 'Maharashtrian', '', 'Chinese', '', 'Juices', 'Chinese', 'Continental', 'North Indian', '', 'Chinese', 'Rajasthani', 'Bihari', '', 'Beverages', 'Fast Food', 'Cafe', '', 'BBQ', 'Chinese', 'North Indian', '', 'Desserts', 'Street Food', '', 'Beverages', 'Desserts', 'Seafood', 'Biryani', 'Chinese', 'North Indian', 'Hyderabadi', '', 'Street Food', '', 'Biryani', 'Rolls', 'Bengali', '', 'Malwani', '', 'Bakery', 'Beverages', 'Sandwich', 'Desserts', '', 'Fast Food', 'Burger', '', 'Beverages', 'Fast Food', 'Street Food', '', 'Biryani', 'Mughlai', '', 'Chinese', 'Maharashtrian', 'North Indian', '', 'Beverages', 'Momos', '', 'Street Food', 'South Indian', 'North Indian', '', 'Chinese', 'Mughlai', '', 'Chinese', 'North Indian', '', 'Street Food', '', 'Kashmiri', 'North Indian', '', 'Maharashtrian', '', 'South Indian', '', 'Desserts', 'Ice Cream', '', 'Chinese', 'Fast Food', '', 'Chinese', 'North Indian', '', 'Street Food', 'Mithai', '', 'Gujarati', 'Mithai', '', 'South Indian', 'Chinese', 'Fast Food', '', 'South Indian', 'Street Food', '', 'Italian', 'North Indian', 'Asian', '', 'Chinese', 'North Indian', 'South Indian', 'Mangalorean', '', 'Street Food', 'Fast Food', 'North Indian', '', 'Fast Food', '', 'South Indian', 'North Indian', '', 'Fast Food', 'Desserts', 'Bakery', '', 'Chinese', 'Asian', '', 'Desserts', '', 'Maharashtrian', '', 'Beverages', 'Fast Food', 'Mughlai', 'South Indian', 'Chinese', 'North Indian', '', 'Ice Cream', '', 'Biryani', 'Chinese', 'North Indian', 'Maharashtrian', '', 'Fast Food', 'Pizza', 'Chinese', '', 'Beverages', 'Fast Food', 'Pizza', 'Sandwich', '', 'Beverages', 'Desserts', 'American', 'Italian', 'Cafe', '', 'Beverages', 'Fast Food', 'Continental', 'Bakery', '', 'Fast Food', 'Desserts', 'Bakery', '', 'Fast Food', 'Desserts', 'Bakery', '', 'Fast Food', 'Desserts', 'Bakery', '', 'Fast Food', 'Desserts', 'Bakery', '', 'Fast Food', 'Desserts', 'Bakery', '', 'Fast Food', 'Desserts', 'Bakery', '', 'Fast Food', 'Desserts', 'Bakery', '', 'Fast Food', 'Desserts', 'Bakery', '', 'Fast Food', 'Desserts', 'Bakery', '', 'Fast Food', 'Desserts', 'Bakery', '', 'Fast Food', 'Desserts', 'Bakery', '', 'Fast Food', 'Desserts', 'Bakery', '', 'Fast Food', 'Desserts', 'Bakery', '', 'Fast Food', 'Desserts', 'Bakery', '', 'Fast Food', 'Desserts', 'Bakery', '', 'Fast Food', 'Desserts', 'Bakery', '', 'Fast Food', 'Desserts', 'Bakery', '', 'Fast Food', 'Desserts', 'Bakery', '', 'Fast Food', 'Desserts', 'Bakery', '', 'Fast Food', 'Desserts', 'Bakery', '', 'Fast Food', 'Desserts', 'Bakery', '', 'Fast Food', 'Desserts', 'Bakery', '', 'Fast Food', 'Desserts', 'Bakery', '', 'Fast Food', 'Desserts', 'Bakery', '', 'Fast Food', 'Desserts', 'Bakery', '', 'Fast Food', 'Desserts', 'Bakery', '', 'Fast Food', 'Desserts', 'Bakery', '', 'Fast Food', 'Desserts', 'Bakery', '', 'Fast Food', 'Desserts', 'Bakery', '', 'Fast Food', 'Desserts', 'Bakery', '', 'Fast Food', 'Desserts', 'Bakery', '', 'Fast Food', 'Desserts', 'Bakery', '', 'Fast Food', 'Desserts', 'Bakery', '', 'Fast Food', 'Desserts', 'Bakery', '', 'Fast Food', 'Desserts', 'Bakery', '', 'Fast Food', 'Desserts', 'Bakery', '', 'Fast Food', 'Desserts', 'Bakery', '', 'Fast Food', 'Desserts', 'Bakery', '', 'Fast Food', 'Desserts', 'Bakery', '', 'Fast Food', 'Desserts', 'Bakery', '', 'Fast Food', 'Desserts', 'Bakery', '', 'Biryani', 'Chinese', 'North Indian', 'Maharashtrian', '', 'Biryani', 'Chinese', 'North Indian', 'Maharashtrian', '', 'Biryani', 'Chinese', 'North Indian', 'Maharashtrian', '', 'Biryani', 'Chinese', 'North Indian', 'Maharashtrian', '', 'Fast Food', 'Bakery', 'Cafe', '', 'Beverages', 'Fast Food', 'Continental', 'Bakery', '', 'Beverages', 'Fast Food', 'Continental', 'Bakery', '', 'Beverages', 'Fast Food', 'Continental', 'Bakery', '', 'Fast Food', 'Bakery', 'Cafe', '', 'Beverages', 'Fast Food', 'Continental', 'Bakery', '', 'Fast Food', 'Bakery', 'Cafe', '', 'Beverages', 'Fast Food', 'Continental', 'Bakery', '', 'Fast Food', 'Desserts', 'Bakery', '', 'Fast Food', 'Bakery', 'Cafe', '', 'Fast Food', 'Bakery', 'Cafe', '', 'Beverages', 'Fast Food', 'Continental', 'Bakery', '', 'Beverages', 'Fast Food', 'Bakery', 'Cafe', '', 'Beverages', 'Fast Food', 'Continental', 'Bakery', '', 'Beverages', 'Fast Food', 'Continental', 'Bakery', '', 'Fast Food', 'Bakery', 'Cafe', '', 'Beverages', 'Fast Food', 'Continental', 'Bakery', '', 'Beverages', 'Fast Food', 'Continental', 'Bakery', '', 'Beverages', 'Fast Food', 'Bakery', 'Cafe', '', 'Beverages', 'Fast Food', 'Bakery', 'Cafe', '', 'Fast Food', 'Desserts', 'Bakery', '', 'Beverages', 'Fast Food', 'Bakery', 'Cafe', '', 'Beverages', 'Fast Food', 'Continental', 'Bakery', '', 'Beverages', 'Fast Food', 'Continental', 'Bakery', '', 'Beverages', 'Fast Food', 'Continental', 'Bakery', '', 'Beverages', 'Fast Food', 'Continental', 'Bakery', '', 'Beverages', 'Fast Food', 'Continental', 'Bakery', '', 'Beverages', 'Fast Food', 'Continental', 'Bakery', '', 'Beverages', 'Fast Food', 'Continental', 'Bakery', '', 'Beverages', 'Fast Food', 'Bakery', 'Cafe', '', 'Beverages', 'Fast Food', 'Continental', 'Bakery', '', 'Fast Food', 'Bakery', 'Cafe', '', 'Beverages', 'Fast Food', 'Continental', 'Bakery', '', 'Beverages', 'Fast Food', 'Continental', 'Bakery', '', 'Beverages', 'Fast Food', 'Continental', 'Bakery', '', 'Beverages', 'Fast Food', 'Bakery', 'Cafe', '', 'Beverages', 'Fast Food', 'Continental', 'Bakery', '', 'Fast Food', 'Bakery', 'Cafe', '', 'Beverages', 'Fast Food', 'Continental', 'Bakery', '', 'Fast Food', 'Bakery', 'Cafe', '', 'Beverages', 'Fast Food', 'Continental', 'Bakery', '', 'Beverages', 'Fast Food', 'Continental', 'Bakery', '', 'Fast Food', 'Bakery', 'Cafe', '', 'Fast Food', 'Desserts', 'Bakery', '', 'Beverages', 'Fast Food', 'Continental', 'Bakery', '', 'Beverages', 'Fast Food', 'Continental', 'Bakery', '', 'Beverages', 'Fast Food', 'Continental', 'Bakery', '', 'Beverages', 'Fast Food', 'Continental', 'Bakery', '', 'Beverages', 'Fast Food', 'Continental', 'Bakery', '', 'Beverages', 'Fast Food', 'Continental', 'Bakery', '', 'Beverages', 'Fast Food', 'Continental', 'Bakery', '', 'Fast Food', 'Bakery', 'Cafe', '', 'Fast Food', 'Bakery', 'Cafe', '', 'Fast Food', 'Bakery', 'Cafe', '', 'Bakery', '', 'Beverages', 'Fast Food', 'Continental', 'Bakery', '', 'Maharashtrian', '', 'Beverages', 'Street Food', 'South Indian', 'Fast Food', '', 'Beverages', 'Desserts', '', 'Maharashtrian', '', 'Beverages', 'Pizza', 'Wraps', 'Sandwich', 'Burger', 'Fast Food', '', 'Beverages', 'Fast Food', 'Burger', '', 'Chinese', 'South Indian', '', 'Beverages', 'Fast Food', '', 'Biryani', 'Chinese', 'Maharashtrian', 'Kebab', 'Fast Food', 'North Indian', '', 'Chinese', 'Biryani', 'North Indian', '', 'North Indian', 'Maharashtrian', 'Chinese', '', 'Beverages', 'Fast Food', 'American', 'Sandwich', 'Burger', '', 'Pizza', 'Goan', 'Healthy Food', 'Burger', 'Fast Food', '', 'Chinese', '', 'North Indian', 'Maharashtrian', 'Chinese', '', 'Biryani', 'Chinese', 'Maharashtrian', 'Kebab', 'Fast Food', 'North Indian', '', 'Biryani', 'Chinese', 'Maharashtrian', 'Kebab', 'Fast Food', 'North Indian', '', 'Biryani', 'Chinese', 'Maharashtrian', 'Kebab', 'Fast Food', 'North Indian', '', 'Biryani', 'Chinese', 'Maharashtrian', 'Kebab', 'Fast Food', 'North Indian', '', 'Biryani', 'Chinese', 'Maharashtrian', 'Kebab', 'Fast Food', 'North Indian', '', 'Chinese', 'North Indian', '', 'North Indian', 'Maharashtrian', '', 'Healthy Food', 'Cafe', '', 'Maharashtrian', 'North Indian', '', 'Chinese', 'North Indian', '', 'Beverages', 'Ice Cream', 'Chinese', 'Street Food', 'North Indian', 'Fast Food', 'South Indian', '', 'Beverages', 'Fast Food', 'Pizza', '', 'Beverages', 'Desserts', 'Fast Food', '', 'Biryani', 'Maharashtrian', '', 'South Indian', '', 'Chinese', 'North Indian', '', 'Rolls', '', 'Mughlai', 'Asian', 'Italian', 'Mexican', 'Lebanese', 'Continental', '', 'Sushi', 'Chinese', 'Asian', 'Beverages', '', 'Beverages', 'Continental', 'Fast Food', 'North Indian', 'Italian', '', 'Ice Cream', 'Fast Food', 'Chinese', 'North Indian', 'South Indian', 'Maharashtrian', '', 'North Indian', '', 'Chinese', 'Seafood', 'Mangalorean', 'North Indian', '', 'Seafood', 'Chinese', 'Mughlai', 'North Indian', '', 'Continental', 'North Indian', '', 'North Indian', 'Chinese', '', 'Desserts', 'Beverages', 'Cafe', '', 'Desserts', '', 'Biryani', 'North Indian', 'Chinese', '', 'Bakery', '', 'Bakery', '', 'Desserts', 'Bakery', '', 'Biryani', '', 'Desserts', '', 'Beverages', 'Desserts', 'South Indian', 'Chinese', 'Fast Food', 'North Indian', '', 'Desserts', 'Beverages', 'Cafe', '', 'Desserts', 'Beverages', 'Cafe', '', 'Desserts', 'Beverages', 'Cafe', '', 'Desserts', 'Beverages', 'Cafe', '', 'Tea', 'Desserts', 'Beverages', 'Cafe', 'Coffee', '', 'Desserts', 'Beverages', 'Cafe', '', 'Desserts', 'Beverages', 'Cafe', '', 'Desserts', 'Beverages', 'Cafe', '', 'Desserts', 'Beverages', 'Cafe', '', 'Desserts', 'Beverages', 'Cafe', '', 'Desserts', 'Beverages', 'Cafe', '', 'Desserts', 'Beverages', 'Cafe', '', 'Desserts', 'Beverages', 'Cafe', '', 'Desserts', 'Beverages', 'Cafe', '', 'Desserts', 'Beverages', 'Cafe', '', 'Desserts', 'Beverages', 'Cafe', '', 'Desserts', 'Beverages', 'Cafe', '', 'Desserts', 'Beverages', 'Cafe', '', 'Bakery', '', 'Bakery', '', 'Bakery', '', 'Bakery', '', 'Bakery', '', 'Bakery', '', 'Bakery', '', 'Bakery', '', 'Bakery', '', 'Bakery', '', 'Bakery', '', 'Bakery', '', 'Bakery', '', 'Bakery', '', 'Bakery', '', 'Bakery', '', 'Bakery', '', 'Bakery', '', 'Bakery', '', 'Bakery', '', 'Bakery', '', 'Bakery', '', 'Bakery', '', 'Bakery', '', 'Bakery', '', 'Bakery', '', 'Bakery', '', 'Bakery', '', 'Bakery', '', 'Bakery', '', 'Bakery', '', 'Bakery', '', 'Bakery', '', 'Bakery', '', 'Bakery', '', 'Bakery', '', 'Bakery', '', 'Bakery', '', 'Bakery', '', 'Bakery', '', 'Bakery', '', 'Bakery', '', 'Bakery', '', 'Desserts', 'Modern Indian', 'European', 'Cafe', '', 'Gujarati', '', 'Desserts', 'Beverages', 'Continental', 'Fast Food', 'Salad', 'Italian', '', 'Japanese', 'Fast Food', 'Tibetan', 'Chinese', '', 'Juices', 'Beverages', 'South Indian', '', 'Mughlai', 'Chinese', 'North Indian', '', 'Street Food', 'Fast Food', 'Chinese', 'South Indian', 'North Indian', '', 'Chinese', 'Thai', 'North Indian', '', 'Street Food', 'North Indian', '', 'Salad', 'Italian', 'Fast Food', 'Cafe', '', 'North Indian', '', 'Bakery', 'Desserts', '', 'Chinese', 'South Indian', '', 'Bar Food', 'North Indian', 'Mexican', 'Italian', '', 'Continental', 'Asian', 'North Indian', 'Italian', 'Bar Food', 'Finger Food', '', 'Desserts', 'Bakery', '', 'Bakery', '', 'Desserts', 'Bakery', '', 'Desserts', 'Bakery', '', 'Beverages', 'Italian', 'Continental', 'Chinese', 'North Indian', '', 'Thai', 'Japanese', 'Chinese', '', 'Asian', 'Continental', 'North Indian', '', 'Street Food', '', 'Bakery', '', 'Desserts', 'Ice Cream', '', 'Biryani', 'Chinese', 'North Indian', '', 'Chinese', '', 'North Indian', '', 'Desserts', '', 'Rolls', 'North Indian', 'Biryani', '', 'Street Food', 'North Indian', '', 'Chinese', 'North Indian', '', 'Beverages', 'Ice Cream', '', 'Momos', '', 'Biryani', 'Chinese', 'North Indian', '', 'Biryani', 'Chinese', 'North Indian', '', 'Biryani', 'Chinese', 'North Indian', '', 'Biryani', 'Chinese', 'North Indian', '', 'Biryani', 'Chinese', 'North Indian', '', 'Biryani', 'Chinese', 'North Indian', '', 'North Indian', 'Biryani', '', 'Biryani', 'Chinese', 'North Indian', '', 'Beverages', 'Finger Food', 'Fast Food', '', 'Fast Food', 'Lebanese', 'Burger', 'Pizza', '', 'Continental', 'Italian', 'North Indian', 'Finger Food', '', 'Andhra', 'North Indian', 'Mughlai', 'Biryani', 'Hyderabadi', '', 'North Indian', '', 'Chinese', '', 'Seafood', 'Chinese', 'North Indian', '', 'Desserts', 'South Indian', 'Maharashtrian', 'North Indian', '', 'Biryani', 'Maharashtrian', 'North Indian', '', 'Seafood', 'Thai', 'Chinese', '', 'Italian', 'North Indian', 'Continental', '', 'Chinese', 'Seafood', 'Hyderabadi', 'North Indian', '', 'Beverages', 'Italian', 'Fast Food', '', 'Street Food', '', 'Mangalorean', 'Mughlai', 'North Indian', 'Chinese', 'European', '', 'Andhra', 'North Indian', 'Mughlai', 'Biryani', 'Hyderabadi', '', 'Andhra', 'North Indian', 'Mughlai', 'Biryani', 'Hyderabadi', '', 'Andhra', 'North Indian', 'Mughlai', 'Biryani', 'Hyderabadi', '', 'Tea', 'Street Food', '', 'Street Food', '', 'Street Food', '', 'Maharashtrian', '', 'Street Food', '', 'Street Food', '', 'Street Food', '', 'South Indian', 'Street Food', '', 'Street Food', '', 'Street Food', '', 'Street Food', '', 'Street Food', '', 'Street Food', '', 'Street Food', '', 'Street Food', '', 'Beverages', 'Biryani', 'Malwani', 'North Indian', 'Chinese', '', 'Beverages', 'Fast Food', '', 'Beverages', 'Street Food', '', 'Street Food', 'Mithai', '', 'Beverages', 'Seafood', 'North Indian', 'Chinese', '', 'Mithai', '', 'North Indian', 'Biryani', '', 'Chinese', 'Mughlai', 'North Indian', '', 'Mughlai', 'Chinese', 'North Indian', '', 'Malwani', 'Chinese', 'North Indian', '', 'Fast Food', '', 'Mughlai', 'Chinese', 'North Indian', '', 'Biryani', 'Chinese', '', 'Fast Food', 'American', '', 'Beverages', 'Chinese', 'North Indian', '', 'North Indian', '', 'Chinese', '', 'Salad', 'Steak', 'Continental', '', 'Maharashtrian', 'Continental', 'Chinese', 'Finger Food', 'North Indian', '', 'Italian', 'Continental', '', 'European', 'Asian', 'North Indian', '', 'Chinese', 'North Indian', 'American', '', 'Fast Food', '', 'Beverages', 'Chinese', 'South Indian', 'Street Food', '', 'Fast Food', 'North Indian', 'Chinese', '', 'Maharashtrian', 'North Indian', '', 'Chinese', 'Maharashtrian', 'North Indian', '', 'Bakery', '', 'Fast Food', 'American', '', 'Italian', '', 'American', 'Beverages', 'Fast Food', 'Salad', 'Burger', '', 'Italian', '', 'Chinese', 'Maharashtrian', 'North Indian', '', 'Chinese', 'Maharashtrian', 'North Indian', '', 'Chinese', 'Maharashtrian', 'North Indian', '', 'Chinese', 'Maharashtrian', 'North Indian', '', 'Chinese', 'Maharashtrian', 'North Indian', '', 'Chinese', 'Maharashtrian', 'North Indian', '', 'Momos', 'Chinese', '', 'Desserts', 'Bakery', '', 'Biryani', '', 'Chinese', 'Maharashtrian', '', 'Beverages', 'Chinese', 'Asian', 'Thai', '', 'North Indian', '', 'North Indian', '', 'South Indian', '', 'European', 'French', '', 'Fast Food', 'Rolls', 'North Indian', '', 'Street Food', '', 'Maharashtrian', 'North Indian', 'Chinese', 'Kebab', '', 'Chinese', 'Mughlai', 'North Indian', '', 'Biryani', 'Maharashtrian', 'Fast Food', 'Chinese', 'North Indian', '', 'Maharashtrian', '', 'Beverages', 'Chinese', 'Asian', 'Thai', '', 'Beverages', 'Chinese', 'Asian', 'Thai', '', 'Beverages', 'Chinese', 'Asian', 'Thai', '', 'Beverages', 'Chinese', 'Asian', 'Thai', '', 'Beverages', 'Chinese', 'Asian', 'Thai', '', 'Beverages', 'Chinese', 'Asian', 'Thai', '', 'Beverages', 'Chinese', 'Asian', 'Thai', '', 'Beverages', 'Chinese', 'Asian', 'Thai', '', 'Beverages', 'Chinese', 'Asian', 'Thai', '', 'Beverages', 'Chinese', 'Asian', 'Thai', '', 'Beverages', 'Chinese', 'Asian', 'Thai', '', 'Beverages', 'Chinese', 'Asian', 'Thai', '', 'Beverages', 'Chinese', 'Asian', 'Thai', '', 'Beverages', 'Chinese', 'Asian', 'Thai', '', 'Beverages', 'Chinese', 'Asian', 'Thai', '', 'Beverages', 'Chinese', 'Asian', 'Thai', '', 'Beverages', 'Chinese', 'Asian', 'Thai', '', 'Beverages', 'Chinese', 'Asian', 'Thai', '', 'Beverages', 'Chinese', 'Asian', 'Thai', '', 'Beverages', 'Chinese', 'Asian', 'Thai', '', 'Beverages', 'Chinese', 'Asian', 'Thai', '', 'Beverages', 'Chinese', 'Asian', 'Thai', '', 'Beverages', 'Chinese', 'Asian', 'Thai', '', 'Biryani', 'Fast Food', 'North Indian', '', 'Biryani', 'Fast Food', 'North Indian', '', 'Biryani', 'Fast Food', 'North Indian', '', 'Chinese', '', 'Maharashtrian', '', 'Fast Food', '', 'Maharashtrian', '', 'Maharashtrian', 'Mughlai', 'Kebab', 'Seafood', 'Chinese', '', 'Beverages', 'Fast Food', '', 'South Indian', '', 'Biryani', 'Malwani', 'Kebab', 'Chinese', 'Seafood', 'North Indian', 'Maharashtrian', '', 'Beverages', 'Fast Food', 'Chinese', 'South Indian', 'North Indian', '', 'Street Food', 'Maharashtrian', '', 'North Indian', 'Rajasthani', 'Gujarati', '', 'Desserts', 'Ice Cream', '', 'Chinese', 'North Indian', '', 'Mughlai', 'Kebab', 'Chinese', 'North Indian', '', 'Beverages', 'Street Food', 'Fast Food', '', 'Maharashtrian', '', 'Seafood', 'Fast Food', 'Rolls', '', 'Street Food', '', 'Thai', 'Continental', 'Italian', 'Chinese', 'North Indian', '', 'Healthy Food', 'Salad', 'North Indian', 'Italian', '', 'North Indian', 'Maharashtrian', 'Seafood', '', 'North Indian', 'Finger Food', '', 'Desserts', 'Bakery', '', 'Fast Food', 'Burger', '', 'Fast Food', 'Street Food', '', 'Biryani', '', 'Beverages', 'Street Food', 'North Indian', 'Maharashtrian', 'Fast Food', '', 'Chinese', 'North Indian', '', 'North Indian', '', 'Beverages', 'Desserts', 'Fast Food', 'Street Food', 'Sandwich', '', 'Beverages', 'Desserts', 'Fast Food', 'Street Food', 'Sandwich', '', 'Beverages', 'Desserts', 'Fast Food', 'Street Food', 'Sandwich', '', 'Beverages', 'Desserts', 'Fast Food', 'Street Food', 'Sandwich', '', 'Beverages', 'Desserts', 'Fast Food', 'Street Food', 'Sandwich', '', 'Chinese', 'South Indian', '', 'Chinese', '', 'Malwani', 'Mughlai', 'North Indian', 'Chinese', '', 'BBQ', 'Fast Food', '', 'Fast Food', 'South Indian', 'Chinese', 'North Indian', '', 'Maharashtrian', '', 'Desserts', 'Chinese', 'Street Food', 'North Indian', '', 'Beverages', 'Fast Food', 'Desserts', '', 'Seafood', 'Chinese', 'North Indian', '', 'Street Food', '', 'Fast Food', 'Cafe', '', 'Beverages', 'Maharashtrian', 'Kebab', 'South Indian', 'Chinese', 'North Indian', '', 'Mithai', '', 'North Indian', 'Biryani', '', 'Fast Food', 'North Indian', 'Chinese', '', 'Beverages', 'Fast Food', 'Burger', '', 'Beverages', 'Fast Food', 'Burger', '', 'Beverages', 'Fast Food', 'Burger', '', 'Beverages', 'Fast Food', 'Burger', '', 'Ice Cream', 'Fast Food', 'Desserts', '', 'Beverages', 'Fast Food', 'Desserts', '', 'Beverages', 'Fast Food', 'Desserts', '', 'Fast Food', 'Beverages', '', 'Fast Food', 'North Indian', 'Chinese', '', 'Fast Food', 'North Indian', 'Chinese', '', 'Fast Food', 'North Indian', 'Chinese', '', 'North Indian', 'Street Food', '', 'Beverages', 'Fast Food', '', 'Mughlai', 'Chinese', 'North Indian', '', 'North Indian', 'Maharashtrian', '', 'Street Food', '', 'Maharashtrian', '', 'North Indian', 'Chinese', '', 'Malwani', 'Chinese', 'North Indian', '', 'North Indian', '', 'Burger', '', 'Chinese', 'Maharashtrian', 'Malwani', 'North Indian', '', 'Malwani', 'North Indian', '', 'Street Food', 'Fast Food', 'Chinese', 'South Indian', 'North Indian', '', 'North Indian', '', 'Biryani', 'North Indian', 'Maharashtrian', '', 'Street Food', 'Chinese', 'North Indian', '', 'Maharashtrian', '', 'Desserts', 'Chinese', 'North Indian', 'South Indian', '', 'Bakery', '', 'Beverages', 'Ice Cream', 'Chinese', 'Fast Food', 'South Indian', 'North Indian', '', 'Beverages', 'Fast Food', 'South Indian', '', 'Beverages', 'Fast Food', 'Chinese', 'North Indian', 'Maharashtrian', 'South Indian', '', 'Cafe', 'Continental', 'Modern Indian', 'Asian', '', 'Mughlai', 'Malwani', 'North Indian', 'Chinese', '', 'Beverages', 'Fast Food', '', 'Italian', 'Seafood', 'Continental', 'South Indian', 'North Indian', 'Asian', '', 'North Indian', 'Malwani', 'Chinese', 'Asian', '', 'Italian', 'Continental', 'Chinese', 'North Indian', '', 'Italian', 'North Indian', 'Chinese', '', 'Desserts', '', 'Bakery', '', 'Bakery', '', 'Bakery', '', 'Bakery', '', 'Desserts', 'Cafe', 'Bakery', '', 'Bakery', '', 'Bakery', '', 'Gujarati', 'South Indian', 'Chinese', 'Fast Food', '', 'Maharashtrian', '', 'Fast Food', 'Chinese', '', 'Malwani', 'Seafood', '', 'Cafe', '', 'Beverages', 'Juices', '', 'Maharashtrian', '', 'Fast Food', '', 'Beverages', 'North Indian', 'Street Food', '', 'European', 'Cafe', '', 'Street Food', '', 'Maharashtrian', '', 'South Indian', 'North Indian', 'Fast Food', '', 'Biryani', 'Malwani', 'North Indian', '', 'Beverages', 'Street Food', 'North Indian', '', 'Fast Food', 'Chinese', '', 'Beverages', 'Chinese', 'Fast Food', 'Street Food', '', 'Beverages', 'Sandwich', 'Burger', '', 'Sandwich', 'Beverages', 'Desserts', 'Fast Food', 'Cafe', '', 'Salad', 'Healthy Food', '', 'Fast Food', 'Street Food', '', 'Maharashtrian', 'Street Food', '', 'Rolls', 'Fast Food', 'Cafe', '', 'Chinese', 'North Indian', '', 'North Indian', '', 'Fast Food', 'Pizza', '', 'Ice Cream', 'Desserts', '', 'Biryani', 'North Indian', '', 'Beverages', 'Biryani', 'Rolls', 'North Indian', 'Maharashtrian', 'Kerala', 'Chinese', '', 'Chinese', '', 'Sandwich', 'Beverages', 'Desserts', 'Fast Food', 'Cafe', '', 'Sandwich', 'Beverages', 'Desserts', 'Fast Food', 'Cafe', '', 'Sandwich', 'Beverages', 'Desserts', 'Fast Food', 'Cafe', '', 'Sandwich', 'Beverages', 'Desserts', 'Fast Food', 'Cafe', '', 'Sandwich', 'Beverages', 'Desserts', 'Fast Food', 'Cafe', '', 'Sandwich', 'Beverages', 'Desserts', 'Fast Food', 'Cafe', '', 'Sandwich', 'Beverages', 'Desserts', 'Fast Food', 'Cafe', '', 'Sandwich', 'Beverages', 'Desserts', 'Fast Food', 'Cafe', '', 'Sandwich', 'Beverages', 'Desserts', 'Fast Food', 'Cafe', '', 'Sandwich', 'Beverages', 'Desserts', 'Fast Food', 'Cafe', '', 'Sandwich', 'Beverages', 'Desserts', 'Fast Food', 'Cafe', '', 'Sandwich', 'Beverages', 'Desserts', 'Fast Food', 'Cafe', '', 'Sandwich', 'Beverages', 'Desserts', 'Fast Food', 'Cafe', '', 'Sandwich', 'Beverages', 'Desserts', 'Fast Food', 'Cafe', '', 'Sandwich', 'Beverages', 'Desserts', 'Fast Food', 'Cafe', '', 'Sandwich', 'Beverages', 'Desserts', 'Fast Food', 'Cafe', '', 'Sandwich', 'Beverages', 'Desserts', 'Fast Food', 'Cafe', '', 'Sandwich', 'Beverages', 'Desserts', 'Fast Food', 'Cafe', '', 'Sandwich', 'Beverages', 'Desserts', 'Fast Food', 'Cafe', '', 'Sandwich', 'Beverages', 'Desserts', 'Fast Food', 'Cafe', '', 'Sandwich', 'Beverages', 'Desserts', 'Fast Food', 'Cafe', '', 'Sandwich', 'Beverages', 'Desserts', 'Fast Food', 'Cafe', '', 'Sandwich', 'Beverages', 'Desserts', 'Fast Food', 'Cafe', '', 'Sandwich', 'Beverages', 'Desserts', 'Fast Food', 'Cafe', '', 'Sandwich', 'Beverages', 'Desserts', 'Fast Food', 'Cafe', '', 'Sandwich', 'Beverages', 'Desserts', 'Fast Food', 'Cafe', '', 'Sandwich', 'Beverages', 'Desserts', 'Fast Food', 'Cafe', '', 'Sandwich', 'Beverages', 'Desserts', 'Fast Food', 'Cafe', '', 'Sandwich', 'Beverages', 'Desserts', 'Fast Food', 'Cafe', '', 'Sandwich', 'Beverages', 'Desserts', 'Fast Food', 'Cafe', '', 'Sandwich', 'Beverages', 'Desserts', 'Fast Food', 'Cafe', '', 'Sandwich', 'Beverages', 'Desserts', 'Fast Food', 'Cafe', '', 'Sandwich', 'Beverages', 'Desserts', 'Fast Food', 'Cafe', '', 'Sandwich', 'Beverages', 'Desserts', 'Fast Food', 'Cafe', '', 'Sandwich', 'Beverages', 'Desserts', 'Fast Food', 'Cafe', '', 'Sandwich', 'Beverages', 'Desserts', 'Fast Food', 'Cafe', '', 'Sandwich', 'Beverages', 'Desserts', 'Fast Food', 'Cafe', '', 'Sandwich', 'Beverages', 'Desserts', 'Fast Food', 'Cafe', '', 'Sandwich', 'Beverages', 'Desserts', 'Fast Food', 'Cafe', '', 'Sandwich', 'Beverages', 'Desserts', 'Fast Food', 'Cafe', '', 'Sandwich', 'Beverages', 'Desserts', 'Fast Food', 'Cafe', '', 'Sandwich', 'Beverages', 'Desserts', 'Fast Food', 'Cafe', '', 'Sandwich', 'Beverages', 'Desserts', 'Fast Food', 'Cafe', '', 'Sandwich', 'Beverages', 'Desserts', 'Fast Food', 'Cafe', '', 'Sandwich', 'Beverages', 'Desserts', 'Fast Food', 'Cafe', '', 'Sandwich', 'Beverages', 'Desserts', 'Fast Food', 'Cafe', '', 'Sandwich', 'Beverages', 'Desserts', 'Fast Food', 'Cafe', '', 'Sandwich', 'Beverages', 'Desserts', 'Fast Food', 'Cafe', '', 'Sandwich', 'Beverages', 'Desserts', 'Fast Food', 'Cafe', '', 'Sandwich', 'Beverages', 'Desserts', 'Fast Food', 'Cafe', '', 'Sandwich', 'Beverages', 'Desserts', 'Fast Food', 'Cafe', '', 'Sandwich', 'Beverages', 'Desserts', 'Fast Food', 'Cafe', '', 'Sandwich', 'Beverages', 'Desserts', 'Fast Food', 'Cafe', '', 'Sandwich', 'Beverages', 'Desserts', 'Fast Food', 'Cafe', '', 'Sandwich', 'Beverages', 'Desserts', 'Fast Food', 'Cafe', '', 'Sandwich', 'Beverages', 'Desserts', 'Fast Food', 'Cafe', '', 'Sandwich', 'Beverages', 'Desserts', 'Fast Food', 'Cafe', '', 'Sandwich', 'Beverages', 'Desserts', 'Fast Food', 'Cafe', '', 'Sandwich', 'Beverages', 'Desserts', 'Fast Food', 'Cafe', '', 'Sandwich', 'Beverages', 'Desserts', 'Fast Food', 'Cafe', '', 'Sandwich', 'Beverages', 'Desserts', 'Fast Food', 'Cafe', '', 'Fast Food', 'Street Food', '', 'Fast Food', 'Street Food', '', 'Fast Food', 'Street Food', '', 'Fast Food', 'Street Food', '', 'Fast Food', 'Street Food', '', 'Fast Food', 'Street Food', '', 'Fast Food', 'Street Food', '', 'Fast Food', 'Street Food', '', 'Fast Food', 'Street Food', '', 'Fast Food', 'Street Food', '', 'Fast Food', 'Street Food', '', 'Fast Food', 'Street Food', '', 'Fast Food', 'Street Food', '', 'Fast Food', 'Street Food', '', 'Fast Food', 'Street Food', '', 'Fast Food', 'Street Food', '', 'Fast Food', 'Street Food', '', 'Fast Food', 'Street Food', '', 'Fast Food', 'Street Food', '', 'Fast Food', 'Street Food', '', 'North Indian', 'Street Food', '', 'Chinese', 'North Indian', '', 'Street Food', 'South Indian', '', 'Chinese', '', 'Malwani', 'Maharashtrian', 'Coffee', 'Charcoal Chicken', 'Biryani', 'BBQ', 'Chinese', 'North Indian', '', 'Beverages', 'Biryani', 'Chinese', 'North Indian', 'Fast Food', 'South Indian', '', 'Street Food', '', 'Beverages', 'Street Food', '', 'Fast Food', '', 'Maharashtrian', '', 'Beverages', 'Street Food', 'Fast Food', 'Chinese', 'South Indian', 'North Indian', '', 'North Indian', '', 'Salad', 'Fast Food', 'Continental', '', 'Asian', 'Continental', 'Salad', 'Fast Food', 'Finger Food', 'European', '', 'Beverages', 'Continental', 'North Indian', 'Chinese', '', 'Beverages', 'Street Food', '', 'Beverages', 'Street Food', '', 'Beverages', 'Street Food', '', 'Beverages', 'Street Food', '', 'Seafood', 'Goan', '', 'Biryani', 'Malwani', 'Chinese', 'North Indian', '', 'Street Food', 'Biryani', '', 'Chinese', 'North Indian', '', 'Street Food', '', 'Chinese', '', 'Ice Cream', 'Desserts', '', 'Biryani', 'Chinese', 'North Indian', 'Mughlai', '', 'Beverages', 'Fast Food', 'South Indian', '', 'Malwani', 'Chinese', 'North Indian', '', 'Fast Food', 'Salad', 'Italian', 'Mughlai', 'Chinese', 'North Indian', '', 'Maharashtrian', 'Chinese', 'North Indian', '', 'Maharashtrian', 'Chinese', 'North Indian', '', 'Pizza', 'Italian', '', 'Beverages', 'Maharashtrian', '', 'Chinese', '', 'Chinese', '', 'Chinese', '', 'Chinese', '', 'Chinese', '', 'Chinese', '', 'Chinese', '', 'Mughlai', 'Chinese', 'North Indian', '', 'Seafood', 'Chinese', '', 'North Indian', '', 'Beverages', 'Italian', 'Continental', 'Sushi', 'Cafe', '', 'Chinese', '', 'Fast Food', 'Burger', '', 'Beverages', 'Maharashtrian', '', 'North Indian', 'Bengali', '', 'Maharashtrian', 'North Indian', '', 'Chinese', '', 'Street Food', '', 'Momos', 'Thai', 'Chinese', '', 'Beverages', 'Street Food', 'Burger', 'Rolls', 'Fast Food', '', 'Chinese', 'Thai', '', 'Beverages', 'Maharashtrian', 'Chinese', 'North Indian', '', 'Seafood', 'Chinese', 'Goan', 'Mughlai', 'Continental', 'Cuisine Varies', 'Cafe', '', 'Continental', 'Finger Food', 'Beverages', 'Healthy Food', 'Steak', 'European', 'Salad', '', 'Asian', 'Italian', 'North Indian', 'Continental', '', 'Beverages', 'Fast Food', 'Asian', 'North Indian', 'Continental', '', 'South Indian', '', 'Kebab', 'Biryani', 'Afghan', 'Mughlai', 'North Indian', '', 'Maharashtrian', '', 'Beverages', 'Fast Food', '', 'North Indian', 'Fast Food', '', 'Street Food', '', 'Biryani', 'North Indian', '', 'Chinese', '', 'North Indian', '', 'Fast Food', 'Cafe', '', 'Fast Food', 'Chinese', 'South Indian', 'North Indian', '', 'Biryani', 'North Indian', '', 'Rolls', 'Chinese', 'North Indian', '', 'Mughlai', 'Rolls', 'North Indian', 'Biryani', '', 'Biryani', 'Chinese', 'Mughlai', 'North Indian', '', 'Biryani', '', 'Beverages', 'Chinese', 'North Indian', '', 'Maharashtrian', 'North Indian', '', 'Italian', 'Continental', 'European', '', 'North Indian', 'Chinese', 'Fast Food', '', 'Street Food', 'Fast Food', '', 'American', 'Italian', 'European', '', 'Street Food', 'South Indian', '', 'Fast Food', 'Street Food', 'Chinese', 'North Indian', '', 'Mughlai', 'North Indian', 'Chinese', 'Biryani', '', 'Maharashtrian', '', 'Biryani', 'Malwani', 'Maharashtrian', 'North Indian', '', 'Chinese', 'North Indian', '', 'Maharashtrian', 'North Indian', '', 'Beverages', 'Pizza', 'Sandwich', 'Burger', 'Fast Food', '', 'North Indian', 'Chinese', 'Italian', 'Continental', 'Cafe', '', 'Chinese', 'North Indian', 'Italian', 'Burger', 'Sandwich', '', 'North Indian', 'Maharashtrian', '', 'South Indian', 'Street Food', '', 'North Indian', 'Chinese', 'Rolls', '', 'Healthy Food', 'Fast Food', 'Burger', 'Panini', 'Pizza', '', 'Street Food', 'Chinese', 'North Indian', '', 'Street Food', 'North Indian', '', 'Beverages', 'Desserts', 'Fast Food', 'Chinese', 'South Indian', 'North Indian', '', 'Maharashtrian', 'North Indian', 'Chinese', '', 'Sandwich', 'Beverages', 'Fast Food', '', 'Goan', 'Mangalorean', 'Seafood', '', 'Biryani', 'Rolls', 'Chinese', '', 'Mughlai', 'Chinese', 'North Indian', '', 'South Indian', 'Street Food', '', 'South Indian', 'Street Food', '', 'South Indian', 'Street Food', '', 'South Indian', 'Street Food', '', 'Maharashtrian', '', 'South Indian', 'Street Food', '', 'South Indian', 'Street Food', '', 'South Indian', 'Street Food', '', 'South Indian', 'Street Food', '', 'South Indian', 'Street Food', '', 'South Indian', 'Street Food', '', 'South Indian', 'Maharashtrian', '', 'Healthy Food', 'Fast Food', 'Burger', 'Panini', 'Pizza', '', 'Healthy Food', 'Fast Food', 'Burger', 'Panini', 'Pizza', '', 'Healthy Food', 'Fast Food', 'Burger', 'Panini', 'Pizza', '', 'Healthy Food', 'Fast Food', 'Burger', 'Panini', 'Pizza', '', 'Desserts', 'Bakery', '', 'Biryani', '', 'Chinese', 'North Indian', 'Biryani', '', 'Chinese', 'North Indian', 'South Indian', '', 'Chettinad', 'Kerala', 'Mangalorean', 'South Indian', '', 'Beverages', 'Chinese', 'North Indian', '', 'Japanese', '', 'Desserts', 'Ice Cream', '', 'Mughlai', 'North Indian', 'Asian', 'Continental', '', 'Rolls', 'Chinese', 'North Indian', '', 'Chinese', 'North Indian', '', 'Fast Food', '', 'Bakery', 'Mithai', '', 'North Indian', '', 'Fast Food', '', 'Desserts', 'Ice Cream', '', 'Desserts', 'Ice Cream', '', 'Desserts', 'Ice Cream', '', 'Desserts', 'Ice Cream', '', 'Desserts', 'Ice Cream', '', 'Desserts', 'Ice Cream', '', 'Desserts', 'Ice Cream', '', 'Desserts', 'Ice Cream', '', 'Desserts', 'Ice Cream', '', 'Desserts', 'Ice Cream', '', 'Desserts', 'Ice Cream', '', 'Desserts', 'Ice Cream', '', 'Desserts', 'Ice Cream', '', 'Desserts', 'Ice Cream', '', 'Desserts', 'Ice Cream', '', 'Desserts', 'Ice Cream', '', 'Desserts', 'Ice Cream', '', 'Desserts', 'Ice Cream', '', 'Desserts', 'Ice Cream', '', 'Ice Cream', 'Desserts', '', 'Desserts', 'Ice Cream', '', 'Desserts', 'Ice Cream', '', 'Desserts', 'Ice Cream', '', 'Desserts', 'Ice Cream', '', 'Desserts', 'Ice Cream', '', 'Desserts', 'Ice Cream', '', 'Desserts', 'Ice Cream', '', 'Desserts', 'Ice Cream', '', 'Lucknowi', 'Mughlai', 'Biryani', 'North Indian', 'Chinese', '', 'Healthy Food', 'Salad', '', 'Chinese', 'Mughlai', 'North Indian', 'Seafood', '', 'Beverages', 'Desserts', 'Ice Cream', '', 'Street Food', '', 'Chinese', 'North Indian', '', 'South Indian', 'Chinese', 'North Indian', '', 'Maharashtrian', 'North Indian', '', 'Maharashtrian', '', 'Chinese', 'Mughlai', 'North Indian', '', 'Fast Food', 'Burger', '', 'Beverages', 'Desserts', 'Ice Cream', '', 'South Indian', 'Fast Food', '', 'North Indian', 'Continental', 'Chinese', '', 'Maharashtrian', 'Street Food', '', 'Street Food', '', 'Street Food', '', 'Street Food', '', 'Street Food', '', 'Maharashtrian', 'Biryani', 'North Indian', 'Chinese', '', 'Chinese', 'South Indian', 'North Indian', '', 'Biryani', 'Chinese', 'North Indian', '', 'Fast Food', 'Burger', '', 'Fast Food', 'Burger', '', 'Fast Food', 'Burger', '', 'Fast Food', 'Burger', '', 'Fast Food', 'Burger', '', 'Fast Food', 'Burger', '', 'Fast Food', 'Burger', '', 'Fast Food', 'Burger', '', 'Fast Food', 'Burger', '', 'Fast Food', 'Burger', '', 'Fast Food', 'Burger', '', 'Fast Food', 'Burger', '', 'Fast Food', '', 'Fast Food', 'Pizza', '', 'Maharashtrian', '', 'Desserts', 'Bakery', '', 'Fast Food', '', 'Maharashtrian', '', 'Beverages', 'Fast Food', '', 'Chinese', 'North Indian', '', 'Malwani', 'Maharashtrian', 'Mughlai', 'Rolls', 'South Indian', 'Chinese', 'North Indian', '', 'Street Food', '', 'Fast Food', 'South Indian', 'North Indian', '', 'Street Food', 'Maharashtrian', '', 'Continental', 'Maharashtrian', 'Italian', 'Chinese', 'North Indian', '', 'Beverages', 'Desserts', 'Salad', 'Fast Food', 'Wraps', 'Sandwich', 'Burger', 'Cafe', '', 'North Indian', 'Maharashtrian', '', 'Fast Food', 'Rolls', 'Lebanese', '', 'Bakery', 'Desserts', '', 'Bakery', '', 'Italian', '', 'Street Food', '', 'Fast Food', 'Pizza', 'Sandwich', '', 'Maharashtrian', '', 'Street Food', '', 'Street Food', '', 'Fast Food', 'Cafe', 'Beverages', '', 'Chinese', 'Mughlai', 'North Indian', '', 'Desserts', 'Bakery', '', 'Lebanese', 'Rolls', 'North Indian', '', 'North Indian', '', 'Beverages', 'Italian', 'Mexican', 'Street Food', 'Sandwich', 'Chinese', 'South Indian', 'North Indian', '', 'Desserts', '', 'Desserts', 'Bakery', '', 'Desserts', 'Bakery', '', 'Desserts', 'Bakery', '', 'Desserts', 'Bakery', '', 'Beverages', 'Desserts', 'Thai', 'Italian', 'Fast Food', 'Mexican', '', 'Mithai', '', 'Chinese', 'North Indian', 'Fast Food', '', 'Street Food', 'North Indian', 'Bengali', 'Mishti', '', 'Fast Food', 'Street Food', '', 'Maharashtrian', '', 'Fast Food', 'Continental', '', 'Chinese', 'North Indian', '', 'Fast Food', '', 'Chinese', '', 'Maharashtrian', '', 'Fast Food', 'South Indian', 'Maharashtrian', '', 'Malwani', 'Maharashtrian', 'Chinese', 'North Indian', '', 'Italian', '', 'Maharashtrian', '', 'Street Food', 'Mithai', '', 'Street Food', 'Mithai', '', 'Street Food', 'Mithai', '', 'Street Food', 'Mithai', '', 'Street Food', 'Mithai', '', 'Beverages', 'Street Food', 'Maharashtrian', '', 'Rolls', 'Street Food', 'Bengali', 'North Indian', '', 'Beverages', 'Fast Food', 'Continental', 'Italian', 'Chinese', 'North Indian', '', 'Mughlai', 'North Indian', '', 'Salad', 'Parsi', 'Continental', '', 'Malwani', 'North Indian', 'Maharashtrian', '', 'Beverages', 'Pizza', 'Sandwich', 'Fast Food', 'Cafe', '', 'Fast Food', 'North Indian', '', 'Bengali', '', 'South Indian', 'Chinese', 'North Indian', '', 'Beverages', 'Desserts', 'Ice Cream', '', 'Beverages', 'Street Food', '', 'Fast Food', '', 'North Indian', 'Chinese', '', 'Ice Cream', 'Beverages', '', 'Beverages', 'Street Food', 'Maharashtrian', '', 'Beverages', 'Street Food', 'Maharashtrian', '', 'Beverages', 'Street Food', 'Maharashtrian', '', 'Street Food', '', 'Beverages', 'Fast Food', '', 'Andhra', 'South Indian', 'Biryani', '', 'Chinese', '', 'Bakery', '', 'Fast Food', 'Chinese', 'Street Food', 'North Indian', '', 'Street Food', 'Chinese', 'North Indian', '', 'North Indian', 'Maharashtrian', '', 'Kebab', 'Chinese', '', 'Chinese', 'North Indian', '', 'North Indian', '', 'Desserts', '', 'Bakery', 'Desserts', '', 'Maharashtrian', '', 'Fast Food', 'Desserts', 'Bakery', '', 'Fast Food', 'Desserts', 'Bakery', '', 'Fast Food', 'Desserts', 'Bakery', '', 'Fast Food', 'Desserts', 'Bakery', '', 'Fast Food', 'Desserts', 'Bakery', '', 'Fast Food', 'Desserts', 'Bakery', '', 'Fast Food', 'Desserts', 'Bakery', '', 'Fast Food', 'Desserts', 'Bakery', '', 'Fast Food', 'Desserts', 'Bakery', '', 'Fast Food', 'Desserts', 'Bakery', '', 'Fast Food', 'Desserts', 'Bakery', '', 'Fast Food', 'Desserts', 'Bakery', '', 'Fast Food', 'Desserts', 'Bakery', '', 'Fast Food', 'Desserts', 'Bakery', '', 'Street Food', 'Ice Cream', '', 'Maharashtrian', '', 'Beverages', 'Cafe', '', 'Malwani', 'Chinese', 'Fast Food', 'North Indian', 'Biryani', '', 'Chinese', '', 'North Indian', 'Mediterranean', 'Asian', '', 'Beverages', 'Sushi', 'Thai', 'Asian', '', 'Finger Food', 'Pizza', 'Continental', '', 'Chinese', 'Malwani', 'North Indian', '', 'European', 'Finger Food', 'North Indian', 'Italian', 'Continental', '', 'Seafood', 'Mughlai', 'North Indian', 'Kashmiri', '', 'Beverages', 'Chinese', 'North Indian', '', 'North Indian', 'Asian', 'Italian', 'Continental', 'Bar Food', '', 'North Indian', 'Maharashtrian', '', 'Chinese', 'Maharashtrian', 'North Indian', '', 'North Indian', 'Sandwich', 'Street Food', '', 'Beverages', 'Ice Cream', '', 'Maharashtrian', '', 'North Indian', '', 'Chinese', '', 'Fast Food', 'Cafe', '', 'Fast Food', 'North Indian', '', 'North Indian', '', 'Biryani', '', 'Rolls', '', 'Street Food', '', 'Fast Food', 'North Indian', '', 'Pizza', '', 'Finger Food', 'Fast Food', 'Chinese', 'North Indian', '', 'Beverages', 'Fast Food', 'Chinese', '', 'Street Food', '', 'Street Food', '', 'Street Food', '', 'Street Food', '', 'Chinese', 'Malwani', 'North Indian', '', 'North Indian', 'Maharashtrian', 'Street Food', 'Chinese', '', 'Beverages', 'Chinese', 'North Indian', 'South Indian', '', 'Chinese', 'North Indian', '', 'Healthy Food', 'Salad', '', 'Finger Food', 'Bar Food', 'Ice Cream', 'Biryani', 'Continental', 'Mughlai', 'Chinese', 'North Indian', '', 'Desserts', 'Ice Cream', 'Biryani', 'Street Food', 'Fast Food', 'Chinese', 'North Indian', '', 'North Indian', '', 'Mughlai', 'Maharashtrian', 'Chinese', 'North Indian', '', 'Street Food', 'Maharashtrian', '', 'Maharashtrian', 'North Indian', '', 'Kebab', 'Chinese', 'Mughlai', 'North Indian', '', 'Mexican', 'Italian', 'European', '', 'Beverages', 'North Indian', 'Fast Food', 'European', 'Italian', 'Continental', '', 'South Indian', 'Malwani', 'Kebab', 'Chinese', 'North Indian', '', 'Biryani', 'North Indian', '', 'Fast Food', 'Maharashtrian', '', 'Biryani', 'Maharashtrian', '', 'Street Food', 'Mithai', '', 'Seafood', 'North Indian', 'Chinese', '', 'North Indian', '', 'Italian', '', 'Mithai', '', 'Street Food', '', 'Chinese', 'North Indian', 'Fast Food', 'South Indian', 'Maharashtrian', '', 'Street Food', '', 'Fast Food', 'North Indian', '', 'Beverages', 'Burger', 'Fast Food', '', 'Desserts', 'Bakery', '', 'Pizza', 'Burger', 'Fast Food', '', 'Beverages', 'Fast Food', '', 'Maharashtrian', '', 'Street Food', '', 'Malwani', '', 'Beverages', 'Chinese', 'North Indian', '', 'Bakery', '', 'Rolls', 'Lebanese', '', 'Maharashtrian', 'Chinese', 'Fast Food', 'South Indian', '', 'North Indian', 'Burger', 'Fast Food', 'Lebanese', '', 'Desserts', 'Bakery', '', 'Biryani', 'Fast Food', 'Street Food', 'Chinese', 'North Indian', '', 'Bakery', '', 'North Indian', 'Biryani', 'Maharashtrian', '', 'Street Food', '', 'Chinese', 'South Indian', 'North Indian', '', 'Street Food', '', 'Street Food', '', 'Street Food', '', 'Street Food', '', 'Street Food', '', 'Beverages', 'Rolls', 'Lebanese', '', 'Beverages', 'Rolls', 'Lebanese', '', 'Beverages', 'Rolls', 'Lebanese', '', 'Rolls', 'Lebanese', '', 'Fast Food', 'Rolls', 'Lebanese', '', 'Beverages', 'Rolls', 'Lebanese', '', 'Desserts', 'Bakery', '', 'Desserts', 'Bakery', '', 'Desserts', 'Bakery', '', 'Desserts', 'Bakery', '', 'Desserts', 'Bakery', '', 'Desserts', 'Bakery', '', 'Desserts', 'Bakery', '', 'Desserts', 'Bakery', '', 'Desserts', 'Bakery', '', 'Desserts', 'Bakery', '', 'Desserts', 'Bakery', '', 'Desserts', 'Bakery', '', 'Desserts', 'Bakery', '', 'Desserts', 'Bakery', '', 'Desserts', 'Bakery', '', 'Desserts', 'Bakery', '', 'Desserts', 'Bakery', '', 'Desserts', 'Bakery', '', 'Desserts', 'Bakery', '', 'Desserts', 'Bakery', '', 'Desserts', 'Bakery', '', 'Desserts', 'Bakery', '', 'Desserts', 'Bakery', '', 'Desserts', 'Bakery', '', 'Desserts', 'Bakery', '', 'Desserts', 'Bakery', '', 'Desserts', 'Bakery', '', 'Desserts', 'Bakery', '', 'Desserts', 'Bakery', '', 'Desserts', 'Bakery', '', 'Desserts', 'Bakery', '', 'Desserts', 'Bakery', '', 'Desserts', 'Bakery', '', 'Desserts', 'Bakery', '', 'Desserts', 'Bakery', '', 'Desserts', 'Bakery', '', 'Desserts', 'Bakery', '', 'Seafood', 'Mughlai', 'North Indian', 'Chinese', '', 'North Indian', '', 'Biryani', '', 'Lebanese', 'Fast Food', 'Rolls', '', 'Chinese', '', 'Street Food', 'Mithai', '', 'Continental', 'Chinese', 'North Indian', '', 'North Indian', '', 'Biryani', 'Malwani', 'Maharashtrian', 'North Indian', 'Chinese', '', 'Maharashtrian', 'South Indian', '', 'Bakery', '', 'Chinese', 'North Indian', 'South Indian', '', 'Sandwich', 'Fast Food', '', 'Beverages', 'North Indian', 'Street Food', 'Fast Food', 'South Indian', 'Chinese', '', 'Biryani', 'North Indian', 'Wraps', 'Rolls', '', 'Beverages', 'Street Food', '', 'Street Food', '', 'Desserts', 'Bakery', '', 'Fast Food', 'Pizza', '', 'Beverages', 'Fast Food', '', 'Beverages', 'Ice Cream', 'Desserts', '', 'Fast Food', 'Chinese', 'Mughlai', 'North Indian', '', 'Bar Food', 'North Indian', '', 'Beverages', 'Desserts', 'Mughlai', 'North Indian', 'Asian', 'Chinese', 'Continental', '', 'Chinese', 'North Indian', 'Seafood', '', 'Chinese', 'European', 'North Indian', 'Asian', 'Continental', '', 'Mughlai', 'Maharashtrian', 'Chinese', 'North Indian', '', 'Maharashtrian', 'Biryani', 'Chinese', 'North Indian', '', 'Chinese', '', 'Chinese', '', 'Italian', 'Beverages', 'Fast Food', '', 'Lebanese', 'Chinese', '', 'Beverages', 'Fast Food', 'Salad', '', 'Bakery', '', 'Mughlai', 'Seafood', 'Chinese', 'North Indian', '', 'Continental', 'Asian', 'Chinese', 'North Indian', '', 'Maharashtrian', '', 'Asian', '', 'Fast Food', 'American', 'Sandwich', '', 'Chinese', 'South Indian', 'North Indian', '', 'North Indian', 'Biryani', 'Chinese', 'Maharashtrian', 'Andhra', '', 'Chinese', '', 'Street Food', '', 'Beverages', 'Chinese', '', 'Beverages', 'Juices', '', 'Fast Food', 'American', 'Sandwich', '', 'Fast Food', 'American', 'Sandwich', '', 'Fast Food', 'American', 'Sandwich', '', 'Fast Food', 'American', 'Sandwich', '', 'Sandwich', 'Fast Food', '', 'Fast Food', 'American', 'Sandwich', '', 'Fast Food', 'American', 'Sandwich', '', 'Fast Food', 'American', 'Sandwich', '', 'Fast Food', 'American', 'Sandwich', '', 'North Indian', 'Kebab', '', 'Malwani', 'North Indian', 'Chinese', '', 'Street Food', 'Mithai', '', 'Biryani', 'Chinese', 'North Indian', '', 'Fast Food', '', 'Maharashtrian', 'South Indian', 'Street Food', 'Chinese', 'North Indian', '', 'South Indian', 'Beverages', 'Fast Food', '', 'Chinese', 'Maharashtrian', 'North Indian', '', 'Lebanese', '', 'Seafood', 'Chinese', 'Thai', '', 'Beverages', 'Fast Food', 'South Indian', 'North Indian', 'Chinese', '', 'Beverages', 'Ice Cream', 'Bakery', '', 'Biryani', 'Malwani', 'North Indian', '', 'South Indian', 'Continental', 'North Indian', '', 'Beverages', 'Fast Food', 'Chinese', 'North Indian', 'Maharashtrian', '', 'Chinese', '', 'North Indian', 'Chinese', 'Hyderabadi', '', 'Biryani', 'Malwani', 'Chinese', 'North Indian', '', 'North Indian', '', 'Asian', 'Japanese', 'Korean', '', 'Beverages', 'Mughlai', 'Salad', 'Continental', 'Seafood', 'Chinese', 'North Indian', '', 'Mughlai', 'Chinese', 'North Indian', '', 'Ice Cream', 'Fast Food', 'Street Food', 'Beverages', 'Juices', '', 'North Indian', 'Biryani', '', 'Desserts', 'Bakery', '', 'Chinese', 'North Indian', '', 'Continental', 'South Indian', 'North Indian', '', 'North Indian', '', 'North Indian', 'Maharashtrian', '', 'South Indian', 'North Indian', '', 'Desserts', 'Ice Cream', '', 'South Indian', '', 'Cafe', '', 'Fast Food', 'Chinese', 'North Indian', '', 'Chinese', 'South Indian', 'Fast Food', 'North Indian', '', 'North Indian', 'Biryani', '', 'Street Food', 'Fast Food', 'Sandwich', 'North Indian', '', 'Seafood', 'Chinese', 'North Indian', '', 'Beverages', 'Kebab', 'Chinese', 'North Indian', '', 'Mughlai', 'Seafood', 'Chinese', 'North Indian', '', 'Seafood', 'Konkan', 'North Indian', 'Biryani', '', 'Finger Food', '', 'Seafood', 'Chinese', 'North Indian', '', 'Desserts', 'Beverages', 'Goan', 'Maharashtrian', '', 'Fast Food', 'Continental', '', 'Desserts', 'Ice Cream', '', 'Desserts', 'Ice Cream', '', 'Desserts', 'Ice Cream', '', 'North Indian', '', 'Street Food', '', 'Biryani', 'Mughlai', 'Chinese', 'North Indian', '', 'Beverages', 'Fast Food', 'Sandwich', 'Burger', '', 'North Indian', '', 'Bakery', '', 'Bakery', '', 'Juices', 'Continental', 'North Indian', 'South Indian', 'Healthy Food', '', 'Rajasthani', '', 'Beverages', 'Salad', 'Healthy Food', '', 'Street Food', '', 'Pizza', 'Desserts', 'Italian', 'Continental', 'Chinese', 'Biryani', 'Salad', 'Cafe', '', 'Chinese', 'North Indian', 'Maharashtrian', 'Kebab', 'Street Food', '', 'Chinese', '', 'Seafood', '', 'Maharashtrian', 'Rajasthani', 'Gujarati', '', 'Desserts', 'Biryani', 'Chinese', 'Mughlai', 'North Indian', '', 'Mughlai', 'Beverages', 'North Indian', 'Chinese', 'South Indian', 'Fast Food', 'Street Food', '', 'North Indian', '', 'Momos', 'Chinese', '', 'Beverages', 'Fast Food', 'Pizza', 'Sandwich', '', 'Maharashtrian', '', 'Seafood', 'Kerala', 'South Indian', '', 'Seafood', 'Chinese', 'North Indian', '', 'North Indian', 'Biryani', '', 'Beverages', 'North Indian', 'South Indian', 'Sandwich', 'Street Food', '', 'Desserts', '', 'Seafood', 'South Indian', 'Kerala', '', 'North Indian', 'Biryani', 'Chinese', '', 'Maharashtrian', '', 'Beverages', 'Desserts', 'Fast Food', 'Healthy Food', 'Cafe', '', 'South Indian', '', 'Beverages', 'Maharashtrian', 'Street Food', 'North Indian', 'Chinese', '', 'Fast Food', 'Maharashtrian', 'North Indian', 'Chinese', '', 'Maharashtrian', 'North Indian', '', 'Chinese', 'Street Food', 'North Indian', '', 'Beverages', 'Rolls', 'Burger', 'Pizza', 'Sandwich', 'Fast Food', '', 'North Indian', '', 'Singaporean', 'Indonesian', 'Japanese', 'Thai', 'Malaysian', 'Chinese', '', 'Momos', 'Fast Food', 'North Indian', '', 'Mughlai', 'Chinese', 'North Indian', '', 'Pizza', 'Fast Food', '', 'North Indian', 'Healthy Food', '', 'Beverages', '', 'Beverages', 'Italian', 'Fast Food', 'North Indian', 'Burger', 'Chinese', 'Sandwich', '', 'Beverages', 'Desserts', 'Fast Food', 'Healthy Food', 'Cafe', '', 'Beverages', 'Desserts', 'Fast Food', 'Healthy Food', 'Cafe', '', 'Beverages', 'Desserts', 'Fast Food', 'Healthy Food', 'Cafe', '', 'Biryani', 'Beverages', 'Burger', 'Fast Food', '', 'Street Food', '', 'Maharashtrian', 'North Indian', '', 'Beverages', 'Fast Food', 'North Indian', 'Bengali', '', 'Mughlai', 'Biryani', 'Bengali', '', 'Seafood', 'Chinese', 'North Indian', '', 'Biryani', 'Mughlai', 'Fast Food', 'Maharashtrian', 'Chinese', 'North Indian', '', 'Fast Food', '', 'South Indian', 'Beverages', 'Chinese', 'Fast Food', 'North Indian', '', 'Chinese', 'North Indian', '', 'Momos', '', 'Street Food', '', 'Desserts', 'Bakery', '', 'Maharashtrian', 'Chinese', 'North Indian', '', 'Fast Food', 'Chinese', 'North Indian', '', 'Bakery', '', 'Chinese', 'Thai', '', 'Mughlai', 'Chinese', 'North Indian', '', 'Maharashtrian', '', 'Asian', 'Fast Food', 'North Indian', '', 'Kebab', 'Mughlai', 'North Indian', 'Chinese', '', 'Biryani', 'Chinese', 'BBQ', 'North Indian', '', 'Maharashtrian', '', 'Street Food', '', 'Chinese', '', 'North Indian', 'Cafe', '', 'Fast Food', 'Chinese', 'North Indian', '', 'North Indian', '', 'Biryani', '', 'Biryani', 'Malwani', 'Kebab', 'Mughlai', 'Chinese', 'North Indian', '', 'Fast Food', 'Rajasthani', '', 'Beverages', 'Chinese', 'North Indian', 'South Indian', 'Fast Food', '', 'North Indian', '', 'Chinese', 'North Indian', '', 'Beverages', 'Ice Cream', 'Biryani', 'Fast Food', 'Chinese', 'Street Food', 'North Indian', '', 'South Indian', 'Maharashtrian', 'Chinese', 'North Indian', '', 'Fast Food', 'Pizza', '', 'Chinese', '', 'Beverages', 'Ice Cream', 'Chinese', 'North Indian', 'Street Food', 'South Indian', '', 'Continental', 'South Indian', 'North Indian', '', 'Burger', 'Fast Food', '', 'Finger Food', 'North Indian', 'Fast Food', '', 'North Indian', 'Maharashtrian', '', 'Chinese', 'Fast Food', 'North Indian', '', 'Chinese', 'Arabian', '', 'Maharashtrian', '', 'North Indian', 'Chinese', '', 'Bakery', '', 'Healthy Food', 'North Indian', '', 'Bakery', '', 'Lebanese', 'Fast Food', 'Rolls', '', 'Mithai', 'Street Food', '', 'Beverages', 'Street Food', 'South Indian', '', 'Italian', 'Burger', '', 'Maharashtrian', 'North Indian', '', 'Malwani', 'Chinese', 'North Indian', '', 'Desserts', 'Bakery', 'Tea', 'Cafe', '', 'Maharashtrian', 'Biryani', '', 'Mughlai', 'North Indian', '', 'Salad', 'Chinese', 'Italian', 'Continental', 'North Indian', '', 'Kebab', 'Biryani', 'Chinese', 'North Indian', '', 'Maharashtrian', 'Chinese', 'Italian', 'Asian', 'North Indian', '', 'Beverages', 'Fast Food', 'Pizza', '', 'Fast Food', 'Chinese', 'North Indian', '', 'Chinese', 'North Indian', '', 'Beverages', 'Fast Food', '', 'North Indian', 'Thai', 'Continental', 'Chinese', '', 'Sandwich', 'Fast Food', 'Pizza', 'Burger', '', 'Desserts', 'Bakery', '', 'Desserts', 'Bakery', '', 'Maharashtrian', 'North Indian', '', 'Fast Food', 'Street Food', 'North Indian', '', 'Street Food', 'Mithai', '', 'Chinese', '', 'Beverages', 'Fast Food', 'Sandwich', 'Desserts', '', 'Chinese', 'Momos', '', 'Fast Food', 'North Indian', 'Chinese', '', 'Ice Cream', '', 'Biryani', 'Chinese', 'Bengali', '', 'Cafe', '', 'Rolls', 'Fast Food', 'Desserts', 'Bakery', '', 'Seafood', 'North Indian', 'Maharashtrian', '', 'Mughlai', 'Chinese', 'North Indian', '', 'Street Food', 'Mithai', '', 'Street Food', '', 'Fast Food', '', 'North Indian', '', 'Malwani', 'Fast Food', 'Chinese', 'North Indian', '', 'Beverages', 'Desserts', 'Cafe', '', 'Chinese', 'North Indian', 'Maharashtrian', '', 'Ice Cream', '', 'Ice Cream', '', 'Ice Cream', '', 'Ice Cream', '', 'Ice Cream', '', 'Ice Cream', '', 'Ice Cream', '', 'Ice Cream', '', 'Ice Cream', '', 'Ice Cream', '', 'Ice Cream', '', 'Ice Cream', '', 'Ice Cream', '', 'Ice Cream', '', 'Desserts', 'Fast Food', 'Chinese', 'North Indian', '', 'Chinese', 'Naga', 'Mughlai', 'North Indian', '', 'Chinese', 'North Indian', '', 'South Indian', '', 'Beverages', 'Ice Cream', 'Fast Food', 'Desserts', 'Bakery', '', 'Bakery', 'Cafe', '', 'Biryani', 'Mughlai', 'Maharashtrian', 'Chinese', 'North Indian', '', 'Beverages', 'Fast Food', '', 'Beverages', 'Maharashtrian', 'Street Food', '', 'Biryani', '', 'Mughlai', 'Chinese', 'North Indian', '', 'South Indian', '', 'Beverages', 'Fast Food', 'Chinese', 'South Indian', 'North Indian', '', 'North Indian', '', 'Fast Food', 'North Indian', 'Seafood', 'Chinese', '', 'Biryani', 'North Indian', 'Chinese', '', 'Mughlai', 'North Indian', 'Chinese', 'Asian', '', 'Maharashtrian', 'Biryani', 'Fast Food', 'South Indian', 'Chinese', 'North Indian', '', 'Beverages', 'Fast Food', '', 'Mughlai', 'Chinese', 'North Indian', 'Biryani', '', 'Beverages', 'Thai', 'Maharashtrian', 'Chinese', 'North Indian', 'South Indian', '', 'Kebab', 'Mughlai', 'North Indian', '', 'Biryani', '', 'South Indian', 'Fast Food', 'North Indian', 'Maharashtrian', 'Chinese', '', 'Burger', 'Fast Food', '', 'Street Food', '', 'Malwani', 'Chinese', 'Mughlai', 'North Indian', '', 'Lebanese', 'Mughlai', 'North Indian', '', 'Seafood', 'Chinese', 'North Indian', '', 'Chinese', '', 'Continental', 'Chinese', 'North Indian', '', 'Mangalorean', 'Seafood', 'Chinese', 'North Indian', '', 'Italian', 'Chinese', 'North Indian', '', 'Beverages', 'Desserts', 'Continental', 'Fast Food', '', 'Bakery', '', 'Biryani', 'North Indian', '', 'Italian', 'Asian', 'European', 'North Indian', '', 'Seafood', 'Thai', '', 'Maharashtrian', 'Biryani', 'North Indian', '', 'Burger', '', 'Mughlai', 'Fast Food', 'Chinese', 'North Indian', '', 'Desserts', 'Ice Cream', '', 'Mithai', 'Street Food', '', 'Desserts', 'Cafe', 'Bakery', '', 'Rajasthani', 'Gujarati', '', 'Biryani', 'North Indian', '', 'Biryani', 'North Indian', '', 'Biryani', 'North Indian', '', 'Biryani', 'North Indian', '', 'Biryani', 'North Indian', '', 'Biryani', 'North Indian', '', 'Fast Food', 'South Indian', '', 'Beverages', 'Fast Food', '', 'Mughlai', 'Maharashtrian', 'Chinese', 'North Indian', '', 'Chinese', 'Mughlai', 'Maharashtrian', '', 'South Indian', 'Hyderabadi', 'North Indian', '', 'Fast Food', 'Desserts', '', 'Beverages', 'Malwani', 'Chinese', 'North Indian', '', 'Chinese', '', 'Street Food', 'North Indian', 'Chinese', 'Maharashtrian', '', 'Biryani', 'North Indian', 'Rolls', 'Chinese', '', 'Maharashtrian', '', 'North Indian', '', 'Malwani', 'Fast Food', 'Mangalorean', 'Chinese', 'North Indian', '', 'North Indian', 'Maharashtrian', '', 'Street Food', 'Mithai', '', 'Fast Food', '', 'South Indian', '', 'Mughlai', 'Biryani', '', 'Fast Food', 'Cafe', '', 'Chinese', 'North Indian', '', 'North Indian', 'Maharashtrian', '', 'Mughlai', 'Kebab', 'Chinese', 'North Indian', '', 'North Indian', 'Chinese', '', 'Fast Food', '', 'Fast Food', 'Chinese', '', 'North Indian', 'Maharashtrian', 'Chinese', '', 'Mexican', 'Cafe', '', 'Fast Food', 'Tea', '', 'Mughlai', 'North Indian', '', 'Bakery', '', 'Maharashtrian', 'Fast Food', 'Seafood', 'North Indian', '', 'Beverages', 'Chinese', 'Rolls', '', 'Maharashtrian', 'North Indian', 'Chinese', '', 'Maharashtrian', 'North Indian', '', 'Chinese', '', 'North Indian', 'Chinese', '', 'Malwani', 'Chinese', 'North Indian', 'Fast Food', 'Street Food', '', 'Chinese', '', 'Maharashtrian', '', 'Chinese', 'North Indian', 'Fast Food', '', 'Kebab', 'Chinese', 'North Indian', '', 'Chinese', 'North Indian', 'Bengali', 'Biryani', '', 'Biryani', '', 'Fast Food', 'North Indian', '', 'BBQ', 'Brazilian', 'Finger Food', '', 'Malwani', 'Maharashtrian', 'North Indian', '', 'Fast Food', 'North Indian', 'Afghan', '', 'Chinese', 'Fast Food', 'South Indian', 'North Indian', '', 'Mughlai', 'North Indian', 'Chinese', '', 'Biryani', '', 'Fast Food', 'Maharashtrian', 'Chinese', 'North Indian', '', 'Beverages', 'Street Food', 'Fast Food', 'Chinese', '', 'Street Food', 'North Indian', '', 'Maharashtrian', '', 'Beverages', 'Maharashtrian', 'North Indian', 'Street Food', 'South Indian', '', 'Chinese', '', 'Chinese', 'Mughlai', 'Seafood', 'North Indian', '', 'Gujarati', 'Rajasthani', 'North Indian', '', 'Chinese', '', 'South Indian', 'North Indian', 'Fast Food', '', 'Asian', 'Thai', 'Chinese', '', 'Ice Cream', 'Momos', '', 'Chinese', 'North Indian', '', 'Street Food', 'Fast Food', 'South Indian', 'North Indian', '', 'Chinese', '', 'Sandwich', 'Fast Food', 'Desserts', 'Bakery', '', 'Chinese', 'North Indian', '', 'North Indian', 'Chinese', '', 'Biryani', '', 'Beverages', 'Healthy Food', 'Salad', '', 'Mughlai', 'North Indian', 'Chinese', '', 'Chinese', 'Maharashtrian', 'South Indian', 'North Indian', '', 'Seafood', 'North Indian', 'Malwani', '', 'Konkan', 'Seafood', 'Goan', 'Mangalorean', '', 'Malwani', 'Konkan', 'Goan', 'Seafood', '', 'Salad', 'North Indian', 'Mughlai', 'Asian', '', 'Seafood', 'Asian', 'North Indian', 'Modern Indian', 'Fast Food', '', 'Italian', 'Continental', 'Chinese', 'North Indian', '', 'Italian', '', 'Sandwich', '', 'Biryani', 'Malwani', '', 'Malwani', 'Maharashtrian', 'Mughlai', 'North Indian', '', 'Fast Food', '', 'Desserts', 'Beverages', 'North Indian', 'Mughlai', 'Chinese', '', 'Chinese', 'Continental', 'North Indian', '', 'Mughlai', 'Malwani', 'Chinese', 'North Indian', 'Biryani', '', 'Maharashtrian', '', 'Beverages', 'South Indian', 'Street Food', '', 'Mughlai', 'Maharashtrian', 'Chinese', 'North Indian', '', 'Sandwich', 'Fast Food', '', 'American', '', 'Lucknowi', 'Biryani', 'Mughlai', 'Awadhi', '', 'Mughlai', 'Chinese', 'North Indian', '', 'Street Food', '', 'Beverages', 'Fast Food', '', 'Fast Food', 'Pizza', '', 'Beverages', '', 'Desserts', 'Fast Food', 'Pizza', '', 'Salad', 'Cafe', 'Italian', '', 'Mughlai', 'Biryani', '', 'Beverages', 'Sandwich', 'Biryani', 'Italian', 'Pizza', '', 'Mexican', 'Continental', 'Asian', '', 'Fast Food', 'Sandwich', 'Pizza', '', 'Biryani', 'Fast Food', 'Chinese', '', 'North Indian', '', 'Bakery', '', 'North Indian', '', 'Burger', 'Sandwich', 'Beverages', 'Rolls', 'Lebanese', '', 'South Indian', '', 'Biryani', 'Awadhi', 'North Indian', 'Lucknowi', '', 'Thai', 'Chinese', '', 'Maharashtrian', '', 'North Indian', '', 'North Indian', '', 'Lebanese', 'Afghan', '', 'South Indian', 'Chinese', 'North Indian', '', 'Mughlai', 'Iranian', '', 'Chinese', 'Fast Food', 'North Indian', '', 'Beverages', 'Chinese', 'Street Food', 'Fast Food', '', 'Thai', 'Chinese', '']\n"
     ]
    }
   ],
   "source": [
    "list_res=[]\n",
    "d={}\n",
    "for i in df[\"cuisine\"]:\n",
    "    for j in i.split(\",\"):\n",
    "        list_res.append(j)\n",
    "print(list_res)"
   ]
  },
  {
   "cell_type": "markdown",
   "metadata": {},
   "source": [
    "# Feature-4(loc-location where the restaurant is situated)"
   ]
  },
  {
   "cell_type": "code",
   "execution_count": 24,
   "metadata": {},
   "outputs": [
    {
     "name": "stdout",
     "output_type": "stream",
     "text": [
      "Kothrud            264\n",
      "Wakad              225\n",
      "Viman Nagar        224\n",
      "Baner              219\n",
      "Hinjawadi          213\n",
      "Hadapsar           183\n",
      "Kharadi            180\n",
      "Sinhgad Road       142\n",
      "Pimple Saudagar    134\n",
      "Koregaon Park      123\n",
      "Name: loc, dtype: int64\n"
     ]
    }
   ],
   "source": [
    "total_locations=df['loc'].value_counts()\n",
    "top_total_locations=df['loc'].value_counts()[:10]\n",
    "print(top_total_locations)\n",
    "\n",
    "places=top_total_locations.index\n",
    "\n",
    "#these are the location with the maximum number of restaurants in pune"
   ]
  },
  {
   "cell_type": "code",
   "execution_count": 25,
   "metadata": {},
   "outputs": [
    {
     "data": {
      "text/plain": [
       "<AxesSubplot:xlabel='loc'>"
      ]
     },
     "execution_count": 25,
     "metadata": {},
     "output_type": "execute_result"
    },
    {
     "data": {
      "image/png": "[encoded data removed]",
      "text/plain": [
       "<Figure size 432x288 with 1 Axes>"
      ]
     },
     "metadata": {
      "needs_background": "light"
     },
     "output_type": "display_data"
    }
   ],
   "source": [
    "sns.barplot(top_total_locations,places)"
   ]
  },
  {
   "cell_type": "markdown",
   "metadata": {},
   "source": [
    "# Observation\n",
    "\n",
    "Kothrud has the maximum number of restaurants followed by wakad and viman nagar"
   ]
  },
  {
   "cell_type": "code",
   "execution_count": 26,
   "metadata": {},
   "outputs": [
    {
     "data": {
      "text/plain": [
       "(-1.106081493738245,\n",
       " 1.1002895949399165,\n",
       " -1.1035496093886763,\n",
       " 1.1045536352361645)"
      ]
     },
     "execution_count": 26,
     "metadata": {},
     "output_type": "execute_result"
    },
    {
     "data": {
      "image/png": "[encoded data removed]",
      "text/plain": [
       "<Figure size 432x288 with 1 Axes>"
      ]
     },
     "metadata": {},
     "output_type": "display_data"
    }
   ],
   "source": [
    "labels = top_total_locations.index\n",
    "sizes =top_total_locations.values \n",
    "\n",
    "plt.pie(sizes, labels=labels, autopct='%1.1f%%',\n",
    "        shadow=True)\n",
    "plt.axis('equal')"
   ]
  },
  {
   "cell_type": "markdown",
   "metadata": {},
   "source": [
    "# Observation\n",
    "\n",
    "1. Kothrud covers 13.8% of top 10 locations in pune.\n",
    "\n",
    "\n",
    "2. Viman Nagar and Baner covers almost 11.5% of the top 10 locations in pune"
   ]
  },
  {
   "cell_type": "markdown",
   "metadata": {},
   "source": [
    "# FEATURE-5(delivery_rating)"
   ]
  },
  {
   "cell_type": "code",
   "execution_count": 27,
   "metadata": {},
   "outputs": [
    {
     "data": {
      "text/plain": [
       "3.9    446\n",
       "3.8    280\n",
       "4.0    242\n",
       "4.1    227\n",
       "3.7    212\n",
       "4.2    172\n",
       "3.6    164\n",
       "3.5    123\n",
       "4.3     96\n",
       "3.4     90\n",
       "3.3     88\n",
       "4.4     58\n",
       "3.2     58\n",
       "3.1     37\n",
       "4.5     36\n",
       "3.0     24\n",
       "4.6     18\n",
       "2.9     13\n",
       "2.7      7\n",
       "2.6      6\n",
       "2.8      6\n",
       "4.7      3\n",
       "4.8      1\n",
       "2.0      1\n",
       "2.2      1\n",
       "Name: delivery_rating, dtype: int64"
      ]
     },
     "execution_count": 27,
     "metadata": {},
     "output_type": "execute_result"
    }
   ],
   "source": [
    "deliver=df['delivery_rating'].value_counts()\n",
    "deliver"
   ]
  },
  {
   "cell_type": "code",
   "execution_count": 28,
   "metadata": {},
   "outputs": [
    {
     "data": {
      "text/plain": [
       "<AxesSubplot:ylabel='delivery_rating'>"
      ]
     },
     "execution_count": 28,
     "metadata": {},
     "output_type": "execute_result"
    },
    {
     "data": {
      "image/png": "[encoded data removed]",
      "text/plain": [
       "<Figure size 1080x576 with 1 Axes>"
      ]
     },
     "metadata": {
      "needs_background": "light"
     },
     "output_type": "display_data"
    }
   ],
   "source": [
    "plt.figure(figsize=(15,8))\n",
    "\n",
    "\n",
    "sns.barplot(deliver.index,deliver)"
   ]
  },
  {
   "cell_type": "markdown",
   "metadata": {},
   "source": [
    "# Observation\n",
    "\n",
    "1.Most of the restaurant gets 3.9 delievery rating\n",
    "\n",
    "2.There are very few restaurants who get less than 2.5 rating.\n",
    "\n"
   ]
  },
  {
   "cell_type": "code",
   "execution_count": 35,
   "metadata": {},
   "outputs": [
    {
     "data": {
      "text/plain": [
       "Text(0, 0.5, 'count of restaurants')"
      ]
     },
     "execution_count": 35,
     "metadata": {},
     "output_type": "execute_result"
    },
    {
     "data": {
      "image/png": "[encoded data removed]",
      "text/plain": [
       "<Figure size 640x480 with 1 Axes>"
      ]
     },
     "metadata": {},
     "output_type": "display_data"
    }
   ],
   "source": [
    "#lets plot the histogram\n",
    "plt.hist(df['delivery_rating'])\n",
    "plt.xlabel(\"delivery_rating\")\n",
    "plt.ylabel(\"count of restaurants\")\n",
    "\n"
   ]
  },
  {
   "cell_type": "code",
   "execution_count": 30,
   "metadata": {},
   "outputs": [
    {
     "data": {
      "text/plain": [
       "<AxesSubplot:xlabel='delivery_rating'>"
      ]
     },
     "execution_count": 30,
     "metadata": {},
     "output_type": "execute_result"
    },
    {
     "data": {
      "image/png": "[encoded data removed]",
      "text/plain": [
       "<Figure size 432x288 with 1 Axes>"
      ]
     },
     "metadata": {
      "needs_background": "light"
     },
     "output_type": "display_data"
    }
   ],
   "source": [
    "#box plot\n",
    "\n",
    "sns.boxplot(df['delivery_rating'])"
   ]
  },
  {
   "cell_type": "markdown",
   "metadata": {},
   "source": [
    "# Observation\n",
    "\n",
    "1. 25% of the delivery rating is less than 3.5\n",
    "\n",
    "\n",
    "2. 50% of the delivery rating is less than 2.9\n",
    "\n",
    "\n",
    "3. 75% of the delivery rating is less than 4.2\n",
    "\n",
    "\n",
    "4. We can clearly observe that 50% of the delivery rating lies between 3.6 to 4.1 and thats a good news for Zomato."
   ]
  },
  {
   "cell_type": "code",
   "execution_count": 31,
   "metadata": {},
   "outputs": [
    {
     "data": {
      "text/plain": [
       "Index(['rest_name', 'rest_type', 'loc', 'dine_rating', 'dine_reviews',\n",
       "       'delivery_rating', 'delivery_reviews', 'cuisine', 'Cost (RS)', 'cost',\n",
       "       'liked'],\n",
       "      dtype='object')"
      ]
     },
     "execution_count": 31,
     "metadata": {},
     "output_type": "execute_result"
    }
   ],
   "source": [
    "df.columns"
   ]
  },
  {
   "cell_type": "markdown",
   "metadata": {
    "scrolled": true
   },
   "source": [
    "# Feature-5 Cost (RS)\n",
    "\n",
    "We are assuming that this is the average cost of 2 people.\n"
   ]
  },
  {
   "cell_type": "code",
   "execution_count": 37,
   "metadata": {},
   "outputs": [
    {
     "data": {
      "text/plain": [
       "300     795\n",
       "400     667\n",
       "500     548\n",
       "200     371\n",
       "600     333\n",
       "350     331\n",
       "250     227\n",
       "150     219\n",
       "700     194\n",
       "550     180\n",
       "1200    179\n",
       "1000    176\n",
       "450     157\n",
       "1500    142\n",
       "800     141\n",
       "100     115\n",
       "1300    105\n",
       "1100     72\n",
       "2000     65\n",
       "1600     64\n",
       "1400     63\n",
       "900      47\n",
       "1800     44\n",
       "1700     37\n",
       "650      37\n",
       "750      26\n",
       "2500     17\n",
       "3000     12\n",
       "2200      9\n",
       "2100      9\n",
       "2300      6\n",
       "950       6\n",
       "850       6\n",
       "3200      4\n",
       "1900      4\n",
       "2900      3\n",
       "2600      3\n",
       "2400      2\n",
       "2700      2\n",
       "1050      2\n",
       "1150      2\n",
       "1950      2\n",
       "50        2\n",
       "499       1\n",
       "4300      1\n",
       "1250      1\n",
       "3500      1\n",
       "1650      1\n",
       "3100      1\n",
       "1350      1\n",
       "Name: Cost (RS), dtype: int64"
      ]
     },
     "execution_count": 37,
     "metadata": {},
     "output_type": "execute_result"
    }
   ],
   "source": [
    "cost=df['Cost (RS)'].value_counts()\n",
    "cost\n"
   ]
  },
  {
   "cell_type": "code",
   "execution_count": 45,
   "metadata": {},
   "outputs": [
    {
     "ename": "TypeError",
     "evalue": "barplot() takes from 0 to 1 positional arguments but 2 were given",
     "output_type": "error",
     "traceback": [
      "\u001b[1;31m---------------------------------------------------------------------------\u001b[0m",
      "\u001b[1;31mTypeError\u001b[0m                                 Traceback (most recent call last)",
      "Cell \u001b[1;32mIn[45], line 4\u001b[0m\n\u001b[0;32m      1\u001b[0m plt\u001b[38;5;241m.\u001b[39mfigure(figsize\u001b[38;5;241m=\u001b[39m(\u001b[38;5;241m15\u001b[39m,\u001b[38;5;241m8\u001b[39m))\n\u001b[1;32m----> 4\u001b[0m sns\u001b[38;5;241m.\u001b[39mbarplot(cost\u001b[38;5;241m.\u001b[39mindex,cost)\n",
      "\u001b[1;31mTypeError\u001b[0m: barplot() takes from 0 to 1 positional arguments but 2 were given"
     ]
    },
    {
     "data": {
      "text/plain": [
       "<Figure size 1500x800 with 0 Axes>"
      ]
     },
     "metadata": {},
     "output_type": "display_data"
    }
   ],
   "source": [
    "plt.figure(figsize=(15,8))\n",
    "\n",
    "\n",
    "sns.barplot(cost.index,cost)"
   ]
  },
  {
   "cell_type": "markdown",
   "metadata": {},
   "source": [
    "# Observation\n",
    "\n",
    "1. There are 759 restaurants which that cost Rs300 for 2 people.\n",
    "\n",
    "\n",
    "2. There are 624 restaurants which that cost Rs400 for 2 people."
   ]
  },
  {
   "cell_type": "code",
   "execution_count": 34,
   "metadata": {},
   "outputs": [
    {
     "data": {
      "text/plain": [
       "(array([2.717e+03, 1.404e+03, 5.750e+02, 3.060e+02, 1.200e+02, 3.400e+01,\n",
       "        2.000e+01, 5.000e+00, 1.000e+00, 1.000e+00]),\n",
       " array([  50.,  475.,  900., 1325., 1750., 2175., 2600., 3025., 3450.,\n",
       "        3875., 4300.]),\n",
       " <BarContainer object of 10 artists>)"
      ]
     },
     "execution_count": 34,
     "metadata": {},
     "output_type": "execute_result"
    },
    {
     "data": {
      "image/png": "[encoded data removed]",
      "text/plain": [
       "<Figure size 432x288 with 1 Axes>"
      ]
     },
     "metadata": {
      "needs_background": "light"
     },
     "output_type": "display_data"
    }
   ],
   "source": [
    "#lets plot the histogram\n",
    "plt.hist(df['Cost (RS)'])\n",
    "\n",
    "\n"
   ]
  },
  {
   "cell_type": "code",
   "execution_count": 35,
   "metadata": {},
   "outputs": [
    {
     "data": {
      "text/plain": [
       "<AxesSubplot:xlabel='Cost (RS)'>"
      ]
     },
     "execution_count": 35,
     "metadata": {},
     "output_type": "execute_result"
    },
    {
     "data": {
      "image/png": "[encoded data removed]",
      "text/plain": [
       "<Figure size 432x288 with 1 Axes>"
      ]
     },
     "metadata": {
      "needs_background": "light"
     },
     "output_type": "display_data"
    }
   ],
   "source": [
    "sns.boxplot(df['Cost (RS)'])"
   ]
  },
  {
   "cell_type": "markdown",
   "metadata": {},
   "source": [
    "# Observation\n",
    "\n",
    "1. 25% of the restaurants cost less than 300 rupees for 2 people.\n",
    "\n",
    "\n",
    "2. 50% of the restaurants cost less than 400 rupees for 2 people.\n",
    "\n",
    "\n",
    "3. 75% of the restaurants cost less than 850 rupees for 2 people.\n",
    "\n",
    "\n",
    "4. Obviously there are some outliers restaurants which cost more than 2000 , some even cost 5000.\n"
   ]
  },
  {
   "cell_type": "code",
   "execution_count": 36,
   "metadata": {},
   "outputs": [
    {
     "data": {
      "text/plain": [
       "<AxesSubplot:xlabel='Cost (RS)', ylabel='delivery_rating'>"
      ]
     },
     "execution_count": 36,
     "metadata": {},
     "output_type": "execute_result"
    },
    {
     "data": {
      "image/png": "[encoded data removed]",
      "text/plain": [
       "<Figure size 432x288 with 1 Axes>"
      ]
     },
     "metadata": {
      "needs_background": "light"
     },
     "output_type": "display_data"
    }
   ],
   "source": [
    "#scatter plot\n",
    "sns.scatterplot(df[\"Cost (RS)\"],df[\"delivery_rating\"])"
   ]
  },
  {
   "cell_type": "markdown",
   "metadata": {},
   "source": [
    "# Observation\n",
    "\n",
    "1. There are obviously more ratings for the food which cost less than Rs500.\n",
    "\n",
    "\n",
    "2. There are also restaurants which cost almost 2000 but has delivery_rating less than 3."
   ]
  },
  {
   "cell_type": "code",
   "execution_count": 37,
   "metadata": {},
   "outputs": [
    {
     "data": {
      "text/plain": [
       "<AxesSubplot:xlabel='Cost (RS)', ylabel='dine_rating'>"
      ]
     },
     "execution_count": 37,
     "metadata": {},
     "output_type": "execute_result"
    },
    {
     "data": {
      "image/png": "[encoded data removed]",
      "text/plain": [
       "<Figure size 432x288 with 1 Axes>"
      ]
     },
     "metadata": {
      "needs_background": "light"
     },
     "output_type": "display_data"
    }
   ],
   "source": [
    "sns.scatterplot(df[\"Cost (RS)\"],df[\"dine_rating\"])"
   ]
  },
  {
   "cell_type": "markdown",
   "metadata": {},
   "source": [
    "# Observation\n",
    "\n",
    "1. Obviosly there are more ratings for the food which cost less than 1000.\n",
    "\n",
    "\n",
    "2. There are restaurants which does have rating irrespective of cost.\n",
    "\n",
    "\n",
    "3. As cost increases, rating moves to 3 to 5, it means people are rating high to costly restaurnts."
   ]
  },
  {
   "cell_type": "markdown",
   "metadata": {},
   "source": [
    "# Let's do some more Questions\n",
    "\n",
    "Q1. Create a dataframe for all the restaurants\n",
    "    which belong to KOTHRUD?\n",
    "    \n",
    "Q2. Which are the highly rated restaurants in BANER?\n",
    "\n",
    "Q3. Which are restaurtants which got 0 rating \n",
    "    the city PUNE?\n",
    "    \n",
    "Q4. Return the location in pune with the best restaurants?\n",
    "\n",
    "Q5. Plot the bar chart of top 10 locations rating wise in \n",
    "    pune?\n",
    "\n"
   ]
  },
  {
   "cell_type": "markdown",
   "metadata": {},
   "source": [
    "# Dataframe for all the restaurants which belong to KOTHRUD?"
   ]
  },
  {
   "cell_type": "code",
   "execution_count": 39,
   "metadata": {
    "scrolled": true
   },
   "outputs": [
    {
     "data": {
      "text/html": [
       "<div>\n",
       "<style scoped>\n",
       "    .dataframe tbody tr th:only-of-type {\n",
       "        vertical-align: middle;\n",
       "    }\n",
       "\n",
       "    .dataframe tbody tr th {\n",
       "        vertical-align: top;\n",
       "    }\n",
       "\n",
       "    .dataframe thead th {\n",
       "        text-align: right;\n",
       "    }\n",
       "</style>\n",
       "<table border=\"1\" class=\"dataframe\">\n",
       "  <thead>\n",
       "    <tr style=\"text-align: right;\">\n",
       "      <th></th>\n",
       "      <th>rest_name</th>\n",
       "      <th>rest_type</th>\n",
       "      <th>loc</th>\n",
       "      <th>dine_rating</th>\n",
       "      <th>dine_reviews</th>\n",
       "      <th>delivery_rating</th>\n",
       "      <th>delivery_reviews</th>\n",
       "      <th>cuisine</th>\n",
       "      <th>Cost (RS)</th>\n",
       "      <th>cost</th>\n",
       "      <th>liked</th>\n",
       "    </tr>\n",
       "  </thead>\n",
       "  <tbody>\n",
       "    <tr>\n",
       "      <th>223</th>\n",
       "      <td>Yana Sizzlers &amp; Wok\\r\\r\\n                     ...</td>\n",
       "      <td>Casual Dining</td>\n",
       "      <td>FC Road</td>\n",
       "      <td>4.4</td>\n",
       "      <td>(2,497 Reviews)</td>\n",
       "      <td>NaN</td>\n",
       "      <td>NaN</td>\n",
       "      <td>Beverages,Cuisine Varies,Seafood,Continental,C...</td>\n",
       "      <td>1500</td>\n",
       "      <td>Rs. 1500</td>\n",
       "      <td>Mocktails, Tomato Soup, Brownie, Prawn Sizzler...</td>\n",
       "    </tr>\n",
       "    <tr>\n",
       "      <th>377</th>\n",
       "      <td>Culture - पुणे\\r\\r\\n                          ...</td>\n",
       "      <td>Bar,Casual Dining</td>\n",
       "      <td>FC Road</td>\n",
       "      <td>4.2</td>\n",
       "      <td>-3,564</td>\n",
       "      <td>3.8</td>\n",
       "      <td>-201</td>\n",
       "      <td>Continental,North Indian,Bar Food,</td>\n",
       "      <td>1300</td>\n",
       "      <td>Rs. 1300</td>\n",
       "      <td>Cocktails, Pizza, Pasta, Beer, Brownie, Butter...</td>\n",
       "    </tr>\n",
       "    <tr>\n",
       "      <th>505</th>\n",
       "      <td>FC Grill House\\r\\r\\n                          ...</td>\n",
       "      <td>Bar,Casual Dining</td>\n",
       "      <td>FC Road</td>\n",
       "      <td>4.2</td>\n",
       "      <td>(2,033 Reviews)</td>\n",
       "      <td>NaN</td>\n",
       "      <td>NaN</td>\n",
       "      <td>Salad,Chinese,Italian,Continental,North Indian,</td>\n",
       "      <td>1200</td>\n",
       "      <td>Rs. 1200</td>\n",
       "      <td>Pasta, Cocktails, Pizza, Brownie, Chai, Mockta...</td>\n",
       "    </tr>\n",
       "    <tr>\n",
       "      <th>661</th>\n",
       "      <td>द Vege टेबल\\r\\r\\n                             ...</td>\n",
       "      <td>Casual Dining</td>\n",
       "      <td>FC Road</td>\n",
       "      <td>4.3</td>\n",
       "      <td>-1,154</td>\n",
       "      <td>4.2</td>\n",
       "      <td>-1,258</td>\n",
       "      <td>Italian,Continental,North Indian,</td>\n",
       "      <td>1000</td>\n",
       "      <td>Rs. 1000</td>\n",
       "      <td>Pizza, Pasta, Mocktails, Cheesecake, Veg Platt...</td>\n",
       "    </tr>\n",
       "    <tr>\n",
       "      <th>772</th>\n",
       "      <td>Vaishali\\r\\n</td>\n",
       "      <td>Casual Dining</td>\n",
       "      <td>FC Road</td>\n",
       "      <td>4.5</td>\n",
       "      <td>-5,745</td>\n",
       "      <td>4.6</td>\n",
       "      <td>-9,562</td>\n",
       "      <td>Beverages,Fast Food,Sandwich,South Indian,</td>\n",
       "      <td>500</td>\n",
       "      <td>Rs. 500</td>\n",
       "      <td>Mysore Masala Dosa, Filtered Coffee, Idli, Upm...</td>\n",
       "    </tr>\n",
       "    <tr>\n",
       "      <th>995</th>\n",
       "      <td>Surve's Pure Non-Veg\\r\\n                      ...</td>\n",
       "      <td>Casual Dining</td>\n",
       "      <td>FC Road</td>\n",
       "      <td>4.5</td>\n",
       "      <td>-1,143</td>\n",
       "      <td>4.3</td>\n",
       "      <td>-1,265</td>\n",
       "      <td>Desserts,Maharashtrian,</td>\n",
       "      <td>550</td>\n",
       "      <td>Rs. 550</td>\n",
       "      <td>Chicken Thali, Mutton Thali, Chicken Rassa, Mu...</td>\n",
       "    </tr>\n",
       "    <tr>\n",
       "      <th>1007</th>\n",
       "      <td>Starbucks Coffee\\r\\n                          ...</td>\n",
       "      <td>Café</td>\n",
       "      <td>FC Road</td>\n",
       "      <td>4.4</td>\n",
       "      <td>-791</td>\n",
       "      <td>4.4</td>\n",
       "      <td>-748</td>\n",
       "      <td>Desserts,Tea,Coffee,Cafe,</td>\n",
       "      <td>700</td>\n",
       "      <td>Rs. 700</td>\n",
       "      <td>Hot Chocolate, Sandwich, Hazelnut Latte, Brewe...</td>\n",
       "    </tr>\n",
       "    <tr>\n",
       "      <th>1307</th>\n",
       "      <td>Culture - पुणे\\r\\n                            ...</td>\n",
       "      <td>Bar,Casual Dining</td>\n",
       "      <td>FC Road</td>\n",
       "      <td>4.2</td>\n",
       "      <td>-3,564</td>\n",
       "      <td>3.8</td>\n",
       "      <td>-201</td>\n",
       "      <td>Continental,North Indian,Bar Food,</td>\n",
       "      <td>1300</td>\n",
       "      <td>Rs. 1300</td>\n",
       "      <td>Cocktails, Pizza, Pasta, Beer, Brownie, Butter...</td>\n",
       "    </tr>\n",
       "    <tr>\n",
       "      <th>1308</th>\n",
       "      <td>Chaitanya Paranthas\\r\\n                       ...</td>\n",
       "      <td>Casual Dining</td>\n",
       "      <td>FC Road</td>\n",
       "      <td>4.2</td>\n",
       "      <td>-2,599</td>\n",
       "      <td>3.8</td>\n",
       "      <td>(15.9K)</td>\n",
       "      <td>Chinese,North Indian,</td>\n",
       "      <td>400</td>\n",
       "      <td>Rs. 400</td>\n",
       "      <td>Paratha, Cabbage Salad, Amritsari Paneer, Pati...</td>\n",
       "    </tr>\n",
       "    <tr>\n",
       "      <th>1513</th>\n",
       "      <td>Falahaar\\r\\n</td>\n",
       "      <td>Quick Bites,Beverage Shop</td>\n",
       "      <td>FC Road</td>\n",
       "      <td>4.1</td>\n",
       "      <td>-378</td>\n",
       "      <td>4.2</td>\n",
       "      <td>-2,214</td>\n",
       "      <td>Juices,Beverages,Street Food,Fast Food,</td>\n",
       "      <td>600</td>\n",
       "      <td>Rs. 600</td>\n",
       "      <td>Sandwich, Jamun Shots, Mango Blast, Pav Bhaji,...</td>\n",
       "    </tr>\n",
       "    <tr>\n",
       "      <th>1713</th>\n",
       "      <td>Wadeshwar\\r\\n</td>\n",
       "      <td>Quick Bites</td>\n",
       "      <td>FC Road</td>\n",
       "      <td>4.1</td>\n",
       "      <td>(2,019 Reviews)</td>\n",
       "      <td>NaN</td>\n",
       "      <td>NaN</td>\n",
       "      <td>Beverages,Fast Food,Sandwich,South Indian,</td>\n",
       "      <td>400</td>\n",
       "      <td>Rs. 400</td>\n",
       "      <td>Pav Bhaji, Ghee Idli, Filtered Coffee, Set Dos...</td>\n",
       "    </tr>\n",
       "    <tr>\n",
       "      <th>1757</th>\n",
       "      <td>The Chocolate Room\\r\\n                        ...</td>\n",
       "      <td>Café,Dessert Parlor</td>\n",
       "      <td>FC Road</td>\n",
       "      <td>4.3</td>\n",
       "      <td>-1,483</td>\n",
       "      <td>4.1</td>\n",
       "      <td>-2,726</td>\n",
       "      <td>Italian,Bakery,Desserts,Cafe,</td>\n",
       "      <td>600</td>\n",
       "      <td>Rs. 600</td>\n",
       "      <td>Hot Chocolate, Brownie, Sandwich, Waffles, Cof...</td>\n",
       "    </tr>\n",
       "    <tr>\n",
       "      <th>1862</th>\n",
       "      <td>Venky's Xprs\\r\\n                              ...</td>\n",
       "      <td>Quick Bites</td>\n",
       "      <td>FC Road</td>\n",
       "      <td>4.2</td>\n",
       "      <td>-393</td>\n",
       "      <td>4.5</td>\n",
       "      <td>-1,145</td>\n",
       "      <td>Fast Food,</td>\n",
       "      <td>400</td>\n",
       "      <td>Rs. 400</td>\n",
       "      <td>Burgers, Tandoori Chicken, Grilled Chicken Bur...</td>\n",
       "    </tr>\n",
       "    <tr>\n",
       "      <th>2313</th>\n",
       "      <td>द Vege टेबल\\r\\n                               ...</td>\n",
       "      <td>Casual Dining</td>\n",
       "      <td>FC Road</td>\n",
       "      <td>4.3</td>\n",
       "      <td>-1,154</td>\n",
       "      <td>4.3</td>\n",
       "      <td>-1,257</td>\n",
       "      <td>Italian,Continental,North Indian,</td>\n",
       "      <td>1000</td>\n",
       "      <td>Rs. 1000</td>\n",
       "      <td>Pizza, Pasta, Mocktails, Cheesecake, Veg Platt...</td>\n",
       "    </tr>\n",
       "    <tr>\n",
       "      <th>2314</th>\n",
       "      <td>Yana Sizzlers &amp; Wok\\r\\n                       ...</td>\n",
       "      <td>Casual Dining</td>\n",
       "      <td>FC Road</td>\n",
       "      <td>4.4</td>\n",
       "      <td>(2,497 Reviews)</td>\n",
       "      <td>NaN</td>\n",
       "      <td>NaN</td>\n",
       "      <td>Beverages,Cuisine Varies,Seafood,Continental,C...</td>\n",
       "      <td>1500</td>\n",
       "      <td>Rs. 1500</td>\n",
       "      <td>Mocktails, Tomato Soup, Brownie, Prawn Sizzler...</td>\n",
       "    </tr>\n",
       "    <tr>\n",
       "      <th>2654</th>\n",
       "      <td>Roopali Restaurant\\r\\n                        ...</td>\n",
       "      <td>Quick Bites</td>\n",
       "      <td>FC Road</td>\n",
       "      <td>4.2</td>\n",
       "      <td>-882</td>\n",
       "      <td>4.4</td>\n",
       "      <td>-1,335</td>\n",
       "      <td>Beverages,North Indian,South Indian,Fast Food,</td>\n",
       "      <td>400</td>\n",
       "      <td>Rs. 400</td>\n",
       "      <td>Filtered Coffee, Thali, Tea, Upma, Sandwich, M...</td>\n",
       "    </tr>\n",
       "    <tr>\n",
       "      <th>2750</th>\n",
       "      <td>Frozen Bottle\\r\\n                             ...</td>\n",
       "      <td>Beverage Shop,Dessert Parlor</td>\n",
       "      <td>FC Road</td>\n",
       "      <td>4.3</td>\n",
       "      <td>-759</td>\n",
       "      <td>4.5</td>\n",
       "      <td>-3,273</td>\n",
       "      <td>Desserts,Beverages,</td>\n",
       "      <td>500</td>\n",
       "      <td>Rs. 500</td>\n",
       "      <td>Ferrero Rocher Milkshake, Milk Shake, Cheeseca...</td>\n",
       "    </tr>\n",
       "    <tr>\n",
       "      <th>2775</th>\n",
       "      <td>The Cake &amp; Cream Factory\\r\\n                  ...</td>\n",
       "      <td>Bakery</td>\n",
       "      <td>FC Road</td>\n",
       "      <td>4.4</td>\n",
       "      <td>(447 Reviews)</td>\n",
       "      <td>NaN</td>\n",
       "      <td>NaN</td>\n",
       "      <td>Desserts,Bakery,</td>\n",
       "      <td>200</td>\n",
       "      <td>Rs. 200</td>\n",
       "      <td>NaN</td>\n",
       "    </tr>\n",
       "    <tr>\n",
       "      <th>2817</th>\n",
       "      <td>IceKraft\\r\\n</td>\n",
       "      <td>Dessert Parlor</td>\n",
       "      <td>FC Road</td>\n",
       "      <td>4.2</td>\n",
       "      <td>-550</td>\n",
       "      <td>3.8</td>\n",
       "      <td>-190</td>\n",
       "      <td>Beverages,Fast Food,Desserts,Ice Cream,</td>\n",
       "      <td>300</td>\n",
       "      <td>Rs. 300</td>\n",
       "      <td>Fries, Freak Shake, Waffles, Tiramisu, Freaksh...</td>\n",
       "    </tr>\n",
       "    <tr>\n",
       "      <th>3298</th>\n",
       "      <td>Cream California\\r\\n                          ...</td>\n",
       "      <td>Dessert Parlor</td>\n",
       "      <td>FC Road</td>\n",
       "      <td>4.1</td>\n",
       "      <td>(291 Reviews)</td>\n",
       "      <td>NaN</td>\n",
       "      <td>NaN</td>\n",
       "      <td>Desserts,Ice Cream,</td>\n",
       "      <td>250</td>\n",
       "      <td>Rs. 250</td>\n",
       "      <td>Thick Shakes, Mango Shake, Kulfi, Thick Cold C...</td>\n",
       "    </tr>\n",
       "    <tr>\n",
       "      <th>3716</th>\n",
       "      <td>UFO Fries &amp; Corn\\r\\n                          ...</td>\n",
       "      <td>Quick Bites</td>\n",
       "      <td>FC Road</td>\n",
       "      <td>4.1</td>\n",
       "      <td>-790</td>\n",
       "      <td>3.9</td>\n",
       "      <td>-5,879</td>\n",
       "      <td>Fast Food,</td>\n",
       "      <td>700</td>\n",
       "      <td>Rs. 700</td>\n",
       "      <td>Nachos, Kit Kat Shake, Burgers, Mint Cooler, P...</td>\n",
       "    </tr>\n",
       "    <tr>\n",
       "      <th>3742</th>\n",
       "      <td>Cafe Kathaa\\r\\n                               ...</td>\n",
       "      <td>Café</td>\n",
       "      <td>FC Road</td>\n",
       "      <td>4.1</td>\n",
       "      <td>-346</td>\n",
       "      <td>3.9</td>\n",
       "      <td>-95</td>\n",
       "      <td>Beverages,Continental,Cafe,</td>\n",
       "      <td>700</td>\n",
       "      <td>Rs. 700</td>\n",
       "      <td>Hot Chocolate, Sandwich, Bruschettas, Salad, P...</td>\n",
       "    </tr>\n",
       "    <tr>\n",
       "      <th>5212</th>\n",
       "      <td>FC Grill House\\r\\n                            ...</td>\n",
       "      <td>Bar,Casual Dining</td>\n",
       "      <td>FC Road</td>\n",
       "      <td>4.2</td>\n",
       "      <td>(2,033 Reviews)</td>\n",
       "      <td>NaN</td>\n",
       "      <td>NaN</td>\n",
       "      <td>Salad,Chinese,Italian,Continental,North Indian,</td>\n",
       "      <td>1200</td>\n",
       "      <td>Rs. 1200</td>\n",
       "      <td>Pasta, Cocktails, Pizza, Brownie, Chai, Mockta...</td>\n",
       "    </tr>\n",
       "  </tbody>\n",
       "</table>\n",
       "</div>"
      ],
      "text/plain": [
       "                                              rest_name  \\\n",
       "223   Yana Sizzlers & Wok\\r\\r\\n                     ...   \n",
       "377   Culture - पुणे\\r\\r\\n                          ...   \n",
       "505   FC Grill House\\r\\r\\n                          ...   \n",
       "661   द Vege टेबल\\r\\r\\n                             ...   \n",
       "772    Vaishali\\r\\n                                       \n",
       "995   Surve's Pure Non-Veg\\r\\n                      ...   \n",
       "1007  Starbucks Coffee\\r\\n                          ...   \n",
       "1307  Culture - पुणे\\r\\n                            ...   \n",
       "1308  Chaitanya Paranthas\\r\\n                       ...   \n",
       "1513   Falahaar\\r\\n                                       \n",
       "1713  Wadeshwar\\r\\n                                       \n",
       "1757  The Chocolate Room\\r\\n                        ...   \n",
       "1862  Venky's Xprs\\r\\n                              ...   \n",
       "2313  द Vege टेबल\\r\\n                               ...   \n",
       "2314  Yana Sizzlers & Wok\\r\\n                       ...   \n",
       "2654  Roopali Restaurant\\r\\n                        ...   \n",
       "2750  Frozen Bottle\\r\\n                             ...   \n",
       "2775  The Cake & Cream Factory\\r\\n                  ...   \n",
       "2817   IceKraft\\r\\n                                       \n",
       "3298  Cream California\\r\\n                          ...   \n",
       "3716  UFO Fries & Corn\\r\\n                          ...   \n",
       "3742  Cafe Kathaa\\r\\n                               ...   \n",
       "5212  FC Grill House\\r\\n                            ...   \n",
       "\n",
       "                         rest_type      loc  dine_rating     dine_reviews  \\\n",
       "223                  Casual Dining  FC Road          4.4  (2,497 Reviews)   \n",
       "377              Bar,Casual Dining  FC Road          4.2           -3,564   \n",
       "505              Bar,Casual Dining  FC Road          4.2  (2,033 Reviews)   \n",
       "661                  Casual Dining  FC Road          4.3           -1,154   \n",
       "772                  Casual Dining  FC Road          4.5           -5,745   \n",
       "995                  Casual Dining  FC Road          4.5           -1,143   \n",
       "1007                          Café  FC Road          4.4             -791   \n",
       "1307             Bar,Casual Dining  FC Road          4.2           -3,564   \n",
       "1308                 Casual Dining  FC Road          4.2           -2,599   \n",
       "1513     Quick Bites,Beverage Shop  FC Road          4.1             -378   \n",
       "1713                   Quick Bites  FC Road          4.1  (2,019 Reviews)   \n",
       "1757           Café,Dessert Parlor  FC Road          4.3           -1,483   \n",
       "1862                   Quick Bites  FC Road          4.2             -393   \n",
       "2313                 Casual Dining  FC Road          4.3           -1,154   \n",
       "2314                 Casual Dining  FC Road          4.4  (2,497 Reviews)   \n",
       "2654                   Quick Bites  FC Road          4.2             -882   \n",
       "2750  Beverage Shop,Dessert Parlor  FC Road          4.3             -759   \n",
       "2775                        Bakery  FC Road          4.4    (447 Reviews)   \n",
       "2817                Dessert Parlor  FC Road          4.2             -550   \n",
       "3298                Dessert Parlor  FC Road          4.1    (291 Reviews)   \n",
       "3716                   Quick Bites  FC Road          4.1             -790   \n",
       "3742                          Café  FC Road          4.1             -346   \n",
       "5212             Bar,Casual Dining  FC Road          4.2  (2,033 Reviews)   \n",
       "\n",
       "      delivery_rating delivery_reviews  \\\n",
       "223               NaN              NaN   \n",
       "377               3.8             -201   \n",
       "505               NaN              NaN   \n",
       "661               4.2           -1,258   \n",
       "772               4.6           -9,562   \n",
       "995               4.3           -1,265   \n",
       "1007              4.4             -748   \n",
       "1307              3.8             -201   \n",
       "1308              3.8          (15.9K)   \n",
       "1513              4.2           -2,214   \n",
       "1713              NaN              NaN   \n",
       "1757              4.1           -2,726   \n",
       "1862              4.5           -1,145   \n",
       "2313              4.3           -1,257   \n",
       "2314              NaN              NaN   \n",
       "2654              4.4           -1,335   \n",
       "2750              4.5           -3,273   \n",
       "2775              NaN              NaN   \n",
       "2817              3.8             -190   \n",
       "3298              NaN              NaN   \n",
       "3716              3.9           -5,879   \n",
       "3742              3.9              -95   \n",
       "5212              NaN              NaN   \n",
       "\n",
       "                                                cuisine  Cost (RS)      cost  \\\n",
       "223   Beverages,Cuisine Varies,Seafood,Continental,C...       1500  Rs. 1500   \n",
       "377                  Continental,North Indian,Bar Food,       1300  Rs. 1300   \n",
       "505     Salad,Chinese,Italian,Continental,North Indian,       1200  Rs. 1200   \n",
       "661                   Italian,Continental,North Indian,       1000  Rs. 1000   \n",
       "772          Beverages,Fast Food,Sandwich,South Indian,        500   Rs. 500   \n",
       "995                             Desserts,Maharashtrian,        550   Rs. 550   \n",
       "1007                          Desserts,Tea,Coffee,Cafe,        700   Rs. 700   \n",
       "1307                 Continental,North Indian,Bar Food,       1300  Rs. 1300   \n",
       "1308                              Chinese,North Indian,        400   Rs. 400   \n",
       "1513            Juices,Beverages,Street Food,Fast Food,        600   Rs. 600   \n",
       "1713         Beverages,Fast Food,Sandwich,South Indian,        400   Rs. 400   \n",
       "1757                      Italian,Bakery,Desserts,Cafe,        600   Rs. 600   \n",
       "1862                                         Fast Food,        400   Rs. 400   \n",
       "2313                  Italian,Continental,North Indian,       1000  Rs. 1000   \n",
       "2314  Beverages,Cuisine Varies,Seafood,Continental,C...       1500  Rs. 1500   \n",
       "2654     Beverages,North Indian,South Indian,Fast Food,        400   Rs. 400   \n",
       "2750                                Desserts,Beverages,        500   Rs. 500   \n",
       "2775                                   Desserts,Bakery,        200   Rs. 200   \n",
       "2817            Beverages,Fast Food,Desserts,Ice Cream,        300   Rs. 300   \n",
       "3298                                Desserts,Ice Cream,        250   Rs. 250   \n",
       "3716                                         Fast Food,        700   Rs. 700   \n",
       "3742                        Beverages,Continental,Cafe,        700   Rs. 700   \n",
       "5212    Salad,Chinese,Italian,Continental,North Indian,       1200  Rs. 1200   \n",
       "\n",
       "                                                  liked  \n",
       "223   Mocktails, Tomato Soup, Brownie, Prawn Sizzler...  \n",
       "377   Cocktails, Pizza, Pasta, Beer, Brownie, Butter...  \n",
       "505   Pasta, Cocktails, Pizza, Brownie, Chai, Mockta...  \n",
       "661   Pizza, Pasta, Mocktails, Cheesecake, Veg Platt...  \n",
       "772   Mysore Masala Dosa, Filtered Coffee, Idli, Upm...  \n",
       "995   Chicken Thali, Mutton Thali, Chicken Rassa, Mu...  \n",
       "1007  Hot Chocolate, Sandwich, Hazelnut Latte, Brewe...  \n",
       "1307  Cocktails, Pizza, Pasta, Beer, Brownie, Butter...  \n",
       "1308  Paratha, Cabbage Salad, Amritsari Paneer, Pati...  \n",
       "1513  Sandwich, Jamun Shots, Mango Blast, Pav Bhaji,...  \n",
       "1713  Pav Bhaji, Ghee Idli, Filtered Coffee, Set Dos...  \n",
       "1757  Hot Chocolate, Brownie, Sandwich, Waffles, Cof...  \n",
       "1862  Burgers, Tandoori Chicken, Grilled Chicken Bur...  \n",
       "2313  Pizza, Pasta, Mocktails, Cheesecake, Veg Platt...  \n",
       "2314  Mocktails, Tomato Soup, Brownie, Prawn Sizzler...  \n",
       "2654  Filtered Coffee, Thali, Tea, Upma, Sandwich, M...  \n",
       "2750  Ferrero Rocher Milkshake, Milk Shake, Cheeseca...  \n",
       "2775                                                NaN  \n",
       "2817  Fries, Freak Shake, Waffles, Tiramisu, Freaksh...  \n",
       "3298  Thick Shakes, Mango Shake, Kulfi, Thick Cold C...  \n",
       "3716  Nachos, Kit Kat Shake, Burgers, Mint Cooler, P...  \n",
       "3742  Hot Chocolate, Sandwich, Bruschettas, Salad, P...  \n",
       "5212  Pasta, Cocktails, Pizza, Brownie, Chai, Mockta...  "
      ]
     },
     "execution_count": 39,
     "metadata": {},
     "output_type": "execute_result"
    }
   ],
   "source": [
    "#q-1  Create a dataframe for all the restaurants which belong to KOTHRUD?\n",
    "#ques-2 create a dataframe which have all the restaurants which belongs to Fc\n",
    "#road and rating is greater than 4.\n",
    "df_kothrud=df[(df['loc']=='FC Road') & (df['dine_rating']>4) ]\n",
    "df_kothrud "
   ]
  },
  {
   "cell_type": "code",
   "execution_count": 41,
   "metadata": {},
   "outputs": [
    {
     "data": {
      "text/plain": [
       "(264, 11)"
      ]
     },
     "execution_count": 41,
     "metadata": {},
     "output_type": "execute_result"
    }
   ],
   "source": [
    "df_kothrud.shape"
   ]
  },
  {
   "cell_type": "markdown",
   "metadata": {},
   "source": [
    "# HOW MANY RESTAURANTS IN KOTHRUD HAVE MORE THAN 4.2 RATING?\n",
    "\n"
   ]
  },
  {
   "cell_type": "code",
   "execution_count": 42,
   "metadata": {},
   "outputs": [
    {
     "data": {
      "text/html": [
       "<div>\n",
       "<style scoped>\n",
       "    .dataframe tbody tr th:only-of-type {\n",
       "        vertical-align: middle;\n",
       "    }\n",
       "\n",
       "    .dataframe tbody tr th {\n",
       "        vertical-align: top;\n",
       "    }\n",
       "\n",
       "    .dataframe thead th {\n",
       "        text-align: right;\n",
       "    }\n",
       "</style>\n",
       "<table border=\"1\" class=\"dataframe\">\n",
       "  <thead>\n",
       "    <tr style=\"text-align: right;\">\n",
       "      <th></th>\n",
       "      <th>rest_name</th>\n",
       "      <th>rest_type</th>\n",
       "      <th>loc</th>\n",
       "      <th>dine_rating</th>\n",
       "      <th>dine_reviews</th>\n",
       "      <th>delivery_rating</th>\n",
       "      <th>delivery_reviews</th>\n",
       "      <th>cuisine</th>\n",
       "      <th>Cost (RS)</th>\n",
       "      <th>cost</th>\n",
       "      <th>liked</th>\n",
       "    </tr>\n",
       "  </thead>\n",
       "  <tbody>\n",
       "    <tr>\n",
       "      <th>214</th>\n",
       "      <td>Barometer\\r\\r\\n                               ...</td>\n",
       "      <td>Casual Dining</td>\n",
       "      <td>Kothrud</td>\n",
       "      <td>4.6</td>\n",
       "      <td>-1,591</td>\n",
       "      <td>4.3</td>\n",
       "      <td>-1,797</td>\n",
       "      <td>Finger Food,North Indian,Asian,Continental,</td>\n",
       "      <td>1500</td>\n",
       "      <td>Rs. 1500</td>\n",
       "      <td>Cocktails, Pizza, Pasta, Filtered Coffee, Nach...</td>\n",
       "    </tr>\n",
       "    <tr>\n",
       "      <th>462</th>\n",
       "      <td>La Gustosa\\r\\r\\n                              ...</td>\n",
       "      <td>Casual Dining</td>\n",
       "      <td>Kothrud</td>\n",
       "      <td>4.5</td>\n",
       "      <td>-1,855</td>\n",
       "      <td>4.3</td>\n",
       "      <td>-251</td>\n",
       "      <td>Italian,</td>\n",
       "      <td>1200</td>\n",
       "      <td>Rs. 1200</td>\n",
       "      <td>Pasta, Pizza, Garlic Bread, Chocolate Cheeseca...</td>\n",
       "    </tr>\n",
       "    <tr>\n",
       "      <th>472</th>\n",
       "      <td>Yin Yang\\r\\r\\n                                ...</td>\n",
       "      <td>Casual Dining</td>\n",
       "      <td>Kothrud</td>\n",
       "      <td>4.5</td>\n",
       "      <td>-413</td>\n",
       "      <td>4.3</td>\n",
       "      <td>-719</td>\n",
       "      <td>Indonesian,Burmese,Japanese,Malaysian,Thai,</td>\n",
       "      <td>1200</td>\n",
       "      <td>Rs. 1200</td>\n",
       "      <td>Sushi, Dumplings, Khau Suey, Thai Green Curry,...</td>\n",
       "    </tr>\n",
       "    <tr>\n",
       "      <th>776</th>\n",
       "      <td>Barometer\\r\\n</td>\n",
       "      <td>Casual Dining</td>\n",
       "      <td>Kothrud</td>\n",
       "      <td>4.6</td>\n",
       "      <td>-1,591</td>\n",
       "      <td>4.4</td>\n",
       "      <td>-1,790</td>\n",
       "      <td>Finger Food,North Indian,Asian,Continental,</td>\n",
       "      <td>1500</td>\n",
       "      <td>Rs. 1500</td>\n",
       "      <td>Cocktails, Pizza, Pasta, Filtered Coffee, Nach...</td>\n",
       "    </tr>\n",
       "    <tr>\n",
       "      <th>847</th>\n",
       "      <td>Theobroma\\r\\n</td>\n",
       "      <td>Bakery</td>\n",
       "      <td>Kothrud</td>\n",
       "      <td>3.8</td>\n",
       "      <td>-60</td>\n",
       "      <td>4.5</td>\n",
       "      <td>-286</td>\n",
       "      <td>Beverages,Fast Food,Desserts,Bakery,</td>\n",
       "      <td>900</td>\n",
       "      <td>Rs. 900</td>\n",
       "      <td>NaN</td>\n",
       "    </tr>\n",
       "    <tr>\n",
       "      <th>1238</th>\n",
       "      <td>The Momo Panda\\r\\n                            ...</td>\n",
       "      <td>Quick Bites</td>\n",
       "      <td>Kothrud</td>\n",
       "      <td>4.3</td>\n",
       "      <td>-507</td>\n",
       "      <td>4.5</td>\n",
       "      <td>-7,862</td>\n",
       "      <td>Momos,</td>\n",
       "      <td>300</td>\n",
       "      <td>Rs. 300</td>\n",
       "      <td>Paneer Momos, Chicken Tandoori Momos, Iced Pea...</td>\n",
       "    </tr>\n",
       "    <tr>\n",
       "      <th>1253</th>\n",
       "      <td>La Gustosa\\r\\n                                ...</td>\n",
       "      <td>Casual Dining</td>\n",
       "      <td>Kothrud</td>\n",
       "      <td>4.5</td>\n",
       "      <td>-1,854</td>\n",
       "      <td>4.3</td>\n",
       "      <td>-249</td>\n",
       "      <td>Italian,</td>\n",
       "      <td>1200</td>\n",
       "      <td>Rs. 1200</td>\n",
       "      <td>Pasta, Pizza, Garlic Bread, Chocolate Cheeseca...</td>\n",
       "    </tr>\n",
       "    <tr>\n",
       "      <th>1524</th>\n",
       "      <td>Le Petit Amour Patisserie &amp; Bistro\\r\\n        ...</td>\n",
       "      <td>Café,Dessert Parlor</td>\n",
       "      <td>Kothrud</td>\n",
       "      <td>4.6</td>\n",
       "      <td>-881</td>\n",
       "      <td>4.3</td>\n",
       "      <td>-473</td>\n",
       "      <td>Salad,Desserts,European,French,Cafe,</td>\n",
       "      <td>800</td>\n",
       "      <td>Rs. 800</td>\n",
       "      <td>Pasta, Sandwich, Salad, Fries, Cheesecake, Fis...</td>\n",
       "    </tr>\n",
       "    <tr>\n",
       "      <th>1690</th>\n",
       "      <td>Cake Cart\\r\\n</td>\n",
       "      <td>Dessert Parlor</td>\n",
       "      <td>Kothrud</td>\n",
       "      <td>4.0</td>\n",
       "      <td>-109</td>\n",
       "      <td>4.4</td>\n",
       "      <td>-229</td>\n",
       "      <td>Bakery,</td>\n",
       "      <td>250</td>\n",
       "      <td>Rs. 250</td>\n",
       "      <td>Chips, Dutch Truffle</td>\n",
       "    </tr>\n",
       "    <tr>\n",
       "      <th>1701</th>\n",
       "      <td>Natural Ice Cream\\r\\n                         ...</td>\n",
       "      <td>Dessert Parlor</td>\n",
       "      <td>Kothrud</td>\n",
       "      <td>4.3</td>\n",
       "      <td>-524</td>\n",
       "      <td>4.5</td>\n",
       "      <td>-5,228</td>\n",
       "      <td>Desserts,Ice Cream,</td>\n",
       "      <td>150</td>\n",
       "      <td>Rs. 150</td>\n",
       "      <td>Waffle Cone, Mango Ice Cream, Tender Coconut I...</td>\n",
       "    </tr>\n",
       "    <tr>\n",
       "      <th>1737</th>\n",
       "      <td>Midnight Kakery\\r\\n                           ...</td>\n",
       "      <td>Bakery</td>\n",
       "      <td>Kothrud</td>\n",
       "      <td>4.2</td>\n",
       "      <td>-178</td>\n",
       "      <td>4.8</td>\n",
       "      <td>-127</td>\n",
       "      <td>Fast Food,Desserts,Bakery,</td>\n",
       "      <td>300</td>\n",
       "      <td>Rs. 300</td>\n",
       "      <td>Macaroon, Tiramisu, Cupcake, Coffee, Red Velve...</td>\n",
       "    </tr>\n",
       "    <tr>\n",
       "      <th>1773</th>\n",
       "      <td>Apsara Ice Creams\\r\\n                         ...</td>\n",
       "      <td>Dessert Parlor</td>\n",
       "      <td>Kothrud</td>\n",
       "      <td>3.8</td>\n",
       "      <td>-12</td>\n",
       "      <td>4.4</td>\n",
       "      <td>-93</td>\n",
       "      <td>Desserts,Ice Cream,</td>\n",
       "      <td>400</td>\n",
       "      <td>Rs. 400</td>\n",
       "      <td>NaN</td>\n",
       "    </tr>\n",
       "    <tr>\n",
       "      <th>1874</th>\n",
       "      <td>Venky's Xprs\\r\\n                              ...</td>\n",
       "      <td>Quick Bites</td>\n",
       "      <td>Kothrud</td>\n",
       "      <td>3.1</td>\n",
       "      <td>-93</td>\n",
       "      <td>4.3</td>\n",
       "      <td>-243</td>\n",
       "      <td>Fast Food,</td>\n",
       "      <td>400</td>\n",
       "      <td>Rs. 400</td>\n",
       "      <td>Grilled Chicken Burger, Chicken Cheese Nuggets...</td>\n",
       "    </tr>\n",
       "    <tr>\n",
       "      <th>1993</th>\n",
       "      <td>Baker's Basket\\r\\n                            ...</td>\n",
       "      <td>Bakery,Quick Bites</td>\n",
       "      <td>Kothrud</td>\n",
       "      <td>3.9</td>\n",
       "      <td>-80</td>\n",
       "      <td>4.3</td>\n",
       "      <td>-203</td>\n",
       "      <td>Fast Food,Desserts,Bakery,</td>\n",
       "      <td>400</td>\n",
       "      <td>Rs. 400</td>\n",
       "      <td>Chocolate Cake, Pineapple Cake</td>\n",
       "    </tr>\n",
       "    <tr>\n",
       "      <th>2238</th>\n",
       "      <td>The Belgian Waffle Co.\\r\\n                    ...</td>\n",
       "      <td>Dessert Parlor</td>\n",
       "      <td>Kothrud</td>\n",
       "      <td>3.9</td>\n",
       "      <td>-112</td>\n",
       "      <td>4.3</td>\n",
       "      <td>-1,189</td>\n",
       "      <td>Fast Food,Beverages,Desserts,</td>\n",
       "      <td>300</td>\n",
       "      <td>Rs. 300</td>\n",
       "      <td>Oreo Shake, Triple Chocolate, Nutella Waffle, ...</td>\n",
       "    </tr>\n",
       "    <tr>\n",
       "      <th>2289</th>\n",
       "      <td>Yin Yang\\r\\n</td>\n",
       "      <td>Casual Dining</td>\n",
       "      <td>Kothrud</td>\n",
       "      <td>4.5</td>\n",
       "      <td>-413</td>\n",
       "      <td>4.3</td>\n",
       "      <td>-717</td>\n",
       "      <td>Indonesian,Burmese,Japanese,Malaysian,Thai,</td>\n",
       "      <td>1200</td>\n",
       "      <td>Rs. 1200</td>\n",
       "      <td>Sushi, Dumplings, Khau Suey, Thai Green Curry,...</td>\n",
       "    </tr>\n",
       "    <tr>\n",
       "      <th>2710</th>\n",
       "      <td>Frozen Bottle\\r\\n                             ...</td>\n",
       "      <td>Beverage Shop</td>\n",
       "      <td>Kothrud</td>\n",
       "      <td>3.6</td>\n",
       "      <td>-192</td>\n",
       "      <td>4.4</td>\n",
       "      <td>-3,010</td>\n",
       "      <td>Desserts,Beverages,</td>\n",
       "      <td>500</td>\n",
       "      <td>Rs. 500</td>\n",
       "      <td>Mango Ice Cream, Oreo Cheesecake</td>\n",
       "    </tr>\n",
       "    <tr>\n",
       "      <th>4643</th>\n",
       "      <td>Haveli Unlimited\\r\\n                          ...</td>\n",
       "      <td>Casual Dining</td>\n",
       "      <td>Kothrud</td>\n",
       "      <td>4.0</td>\n",
       "      <td>-139</td>\n",
       "      <td>4.4</td>\n",
       "      <td>-804</td>\n",
       "      <td>Biryani,Malwani,Maharashtrian,North Indian,</td>\n",
       "      <td>600</td>\n",
       "      <td>Rs. 600</td>\n",
       "      <td>Mutton Thali, Crab Thali</td>\n",
       "    </tr>\n",
       "  </tbody>\n",
       "</table>\n",
       "</div>"
      ],
      "text/plain": [
       "                                              rest_name            rest_type  \\\n",
       "214   Barometer\\r\\r\\n                               ...        Casual Dining   \n",
       "462   La Gustosa\\r\\r\\n                              ...        Casual Dining   \n",
       "472   Yin Yang\\r\\r\\n                                ...        Casual Dining   \n",
       "776   Barometer\\r\\n                                            Casual Dining   \n",
       "847   Theobroma\\r\\n                                                   Bakery   \n",
       "1238  The Momo Panda\\r\\n                            ...          Quick Bites   \n",
       "1253  La Gustosa\\r\\n                                ...        Casual Dining   \n",
       "1524  Le Petit Amour Patisserie & Bistro\\r\\n        ...  Café,Dessert Parlor   \n",
       "1690  Cake Cart\\r\\n                                           Dessert Parlor   \n",
       "1701  Natural Ice Cream\\r\\n                         ...       Dessert Parlor   \n",
       "1737  Midnight Kakery\\r\\n                           ...               Bakery   \n",
       "1773  Apsara Ice Creams\\r\\n                         ...       Dessert Parlor   \n",
       "1874  Venky's Xprs\\r\\n                              ...          Quick Bites   \n",
       "1993  Baker's Basket\\r\\n                            ...   Bakery,Quick Bites   \n",
       "2238  The Belgian Waffle Co.\\r\\n                    ...       Dessert Parlor   \n",
       "2289   Yin Yang\\r\\n                                            Casual Dining   \n",
       "2710  Frozen Bottle\\r\\n                             ...        Beverage Shop   \n",
       "4643  Haveli Unlimited\\r\\n                          ...        Casual Dining   \n",
       "\n",
       "          loc  dine_rating dine_reviews  delivery_rating delivery_reviews  \\\n",
       "214   Kothrud          4.6       -1,591              4.3           -1,797   \n",
       "462   Kothrud          4.5       -1,855              4.3             -251   \n",
       "472   Kothrud          4.5         -413              4.3             -719   \n",
       "776   Kothrud          4.6       -1,591              4.4           -1,790   \n",
       "847   Kothrud          3.8          -60              4.5             -286   \n",
       "1238  Kothrud          4.3         -507              4.5           -7,862   \n",
       "1253  Kothrud          4.5       -1,854              4.3             -249   \n",
       "1524  Kothrud          4.6         -881              4.3             -473   \n",
       "1690  Kothrud          4.0         -109              4.4             -229   \n",
       "1701  Kothrud          4.3         -524              4.5           -5,228   \n",
       "1737  Kothrud          4.2         -178              4.8             -127   \n",
       "1773  Kothrud          3.8          -12              4.4              -93   \n",
       "1874  Kothrud          3.1          -93              4.3             -243   \n",
       "1993  Kothrud          3.9          -80              4.3             -203   \n",
       "2238  Kothrud          3.9         -112              4.3           -1,189   \n",
       "2289  Kothrud          4.5         -413              4.3             -717   \n",
       "2710  Kothrud          3.6         -192              4.4           -3,010   \n",
       "4643  Kothrud          4.0         -139              4.4             -804   \n",
       "\n",
       "                                          cuisine  Cost (RS)      cost  \\\n",
       "214   Finger Food,North Indian,Asian,Continental,       1500  Rs. 1500   \n",
       "462                                      Italian,       1200  Rs. 1200   \n",
       "472   Indonesian,Burmese,Japanese,Malaysian,Thai,       1200  Rs. 1200   \n",
       "776   Finger Food,North Indian,Asian,Continental,       1500  Rs. 1500   \n",
       "847          Beverages,Fast Food,Desserts,Bakery,        900   Rs. 900   \n",
       "1238                                       Momos,        300   Rs. 300   \n",
       "1253                                     Italian,       1200  Rs. 1200   \n",
       "1524         Salad,Desserts,European,French,Cafe,        800   Rs. 800   \n",
       "1690                                      Bakery,        250   Rs. 250   \n",
       "1701                          Desserts,Ice Cream,        150   Rs. 150   \n",
       "1737                   Fast Food,Desserts,Bakery,        300   Rs. 300   \n",
       "1773                          Desserts,Ice Cream,        400   Rs. 400   \n",
       "1874                                   Fast Food,        400   Rs. 400   \n",
       "1993                   Fast Food,Desserts,Bakery,        400   Rs. 400   \n",
       "2238                Fast Food,Beverages,Desserts,        300   Rs. 300   \n",
       "2289  Indonesian,Burmese,Japanese,Malaysian,Thai,       1200  Rs. 1200   \n",
       "2710                          Desserts,Beverages,        500   Rs. 500   \n",
       "4643  Biryani,Malwani,Maharashtrian,North Indian,        600   Rs. 600   \n",
       "\n",
       "                                                  liked  \n",
       "214   Cocktails, Pizza, Pasta, Filtered Coffee, Nach...  \n",
       "462   Pasta, Pizza, Garlic Bread, Chocolate Cheeseca...  \n",
       "472   Sushi, Dumplings, Khau Suey, Thai Green Curry,...  \n",
       "776   Cocktails, Pizza, Pasta, Filtered Coffee, Nach...  \n",
       "847                                                 NaN  \n",
       "1238  Paneer Momos, Chicken Tandoori Momos, Iced Pea...  \n",
       "1253  Pasta, Pizza, Garlic Bread, Chocolate Cheeseca...  \n",
       "1524  Pasta, Sandwich, Salad, Fries, Cheesecake, Fis...  \n",
       "1690                               Chips, Dutch Truffle  \n",
       "1701  Waffle Cone, Mango Ice Cream, Tender Coconut I...  \n",
       "1737  Macaroon, Tiramisu, Cupcake, Coffee, Red Velve...  \n",
       "1773                                                NaN  \n",
       "1874  Grilled Chicken Burger, Chicken Cheese Nuggets...  \n",
       "1993                     Chocolate Cake, Pineapple Cake  \n",
       "2238  Oreo Shake, Triple Chocolate, Nutella Waffle, ...  \n",
       "2289  Sushi, Dumplings, Khau Suey, Thai Green Curry,...  \n",
       "2710                   Mango Ice Cream, Oreo Cheesecake  \n",
       "4643                           Mutton Thali, Crab Thali  "
      ]
     },
     "execution_count": 42,
     "metadata": {},
     "output_type": "execute_result"
    }
   ],
   "source": [
    "df_kothrud[df_kothrud['delivery_rating']>4.2]"
   ]
  },
  {
   "cell_type": "markdown",
   "metadata": {},
   "source": [
    "# TOP RATED RESTAURANTS IN BANER"
   ]
  },
  {
   "cell_type": "code",
   "execution_count": 43,
   "metadata": {},
   "outputs": [
    {
     "data": {
      "text/html": [
       "<div>\n",
       "<style scoped>\n",
       "    .dataframe tbody tr th:only-of-type {\n",
       "        vertical-align: middle;\n",
       "    }\n",
       "\n",
       "    .dataframe tbody tr th {\n",
       "        vertical-align: top;\n",
       "    }\n",
       "\n",
       "    .dataframe thead th {\n",
       "        text-align: right;\n",
       "    }\n",
       "</style>\n",
       "<table border=\"1\" class=\"dataframe\">\n",
       "  <thead>\n",
       "    <tr style=\"text-align: right;\">\n",
       "      <th></th>\n",
       "      <th>rest_name</th>\n",
       "      <th>rest_type</th>\n",
       "      <th>loc</th>\n",
       "      <th>dine_rating</th>\n",
       "      <th>dine_reviews</th>\n",
       "      <th>delivery_rating</th>\n",
       "      <th>delivery_reviews</th>\n",
       "      <th>cuisine</th>\n",
       "      <th>Cost (RS)</th>\n",
       "      <th>cost</th>\n",
       "      <th>liked</th>\n",
       "    </tr>\n",
       "  </thead>\n",
       "  <tbody>\n",
       "    <tr>\n",
       "      <th>58</th>\n",
       "      <td>Effingut\\r\\r\\n                                ...</td>\n",
       "      <td>Pub</td>\n",
       "      <td>Baner</td>\n",
       "      <td>4.7</td>\n",
       "      <td>-2,894</td>\n",
       "      <td>4.5</td>\n",
       "      <td>-649</td>\n",
       "      <td>Asian,Italian,Mughlai,North Indian,Continental,</td>\n",
       "      <td>2000</td>\n",
       "      <td>Rs. 2000</td>\n",
       "      <td>Apple Cider, Craft Beer, Nachos, Cocktails, Bu...</td>\n",
       "    </tr>\n",
       "    <tr>\n",
       "      <th>72</th>\n",
       "      <td>The K Factory\\r\\r\\n                           ...</td>\n",
       "      <td>Casual Dining,Lounge</td>\n",
       "      <td>Baner</td>\n",
       "      <td>4.6</td>\n",
       "      <td>-3,742</td>\n",
       "      <td>3.9</td>\n",
       "      <td>-252</td>\n",
       "      <td>Beverages,Biryani,Charcoal Chicken,Salad,Desse...</td>\n",
       "      <td>2000</td>\n",
       "      <td>Rs. 2000</td>\n",
       "      <td>Pasta, Salad, Cheesecake, Cocktails, Pizza, Pe...</td>\n",
       "    </tr>\n",
       "    <tr>\n",
       "      <th>120</th>\n",
       "      <td>Mr Rabbit's Bar &amp; Burrow\\r\\r\\n                ...</td>\n",
       "      <td>Bar,Casual Dining</td>\n",
       "      <td>Baner</td>\n",
       "      <td>4.5</td>\n",
       "      <td>(633 Reviews)</td>\n",
       "      <td>NaN</td>\n",
       "      <td>NaN</td>\n",
       "      <td>South Indian,European,Continental,Finger Food,</td>\n",
       "      <td>1800</td>\n",
       "      <td>Rs. 1800</td>\n",
       "      <td>Cocktails, Tiramisu, Ravioli, Beer, Murgh Ghee...</td>\n",
       "    </tr>\n",
       "    <tr>\n",
       "      <th>142</th>\n",
       "      <td>Urbo\\r\\r\\n</td>\n",
       "      <td>Lounge,Casual Dining</td>\n",
       "      <td>Baner</td>\n",
       "      <td>4.2</td>\n",
       "      <td>(952 Reviews)</td>\n",
       "      <td>NaN</td>\n",
       "      <td>NaN</td>\n",
       "      <td>North Indian,Continental,</td>\n",
       "      <td>1700</td>\n",
       "      <td>Rs. 1700</td>\n",
       "      <td>Pizza, Cocktails, Mocktails, Brownie, Paneer T...</td>\n",
       "    </tr>\n",
       "    <tr>\n",
       "      <th>166</th>\n",
       "      <td>The Urban Foundry\\r\\r\\n                       ...</td>\n",
       "      <td>Bar,Casual Dining</td>\n",
       "      <td>Baner</td>\n",
       "      <td>4.6</td>\n",
       "      <td>(3,912 Reviews)</td>\n",
       "      <td>NaN</td>\n",
       "      <td>NaN</td>\n",
       "      <td>Fast Food,Asian,North Indian,Bar Food,</td>\n",
       "      <td>1600</td>\n",
       "      <td>Rs. 1600</td>\n",
       "      <td>Cocktails, Pizza, Beer, Soya Chaap, Mocktails,...</td>\n",
       "    </tr>\n",
       "    <tr>\n",
       "      <th>...</th>\n",
       "      <td>...</td>\n",
       "      <td>...</td>\n",
       "      <td>...</td>\n",
       "      <td>...</td>\n",
       "      <td>...</td>\n",
       "      <td>...</td>\n",
       "      <td>...</td>\n",
       "      <td>...</td>\n",
       "      <td>...</td>\n",
       "      <td>...</td>\n",
       "      <td>...</td>\n",
       "    </tr>\n",
       "    <tr>\n",
       "      <th>5386</th>\n",
       "      <td>I'm Lion, Strictly Non-Veg\\r\\n                ...</td>\n",
       "      <td>Casual Dining</td>\n",
       "      <td>Baner</td>\n",
       "      <td>4.2</td>\n",
       "      <td>-271</td>\n",
       "      <td>4.0</td>\n",
       "      <td>-355</td>\n",
       "      <td>Konkan,Seafood,Goan,Mangalorean,</td>\n",
       "      <td>800</td>\n",
       "      <td>Rs. 800</td>\n",
       "      <td>Sea Food, Neer Dosa, Sol Kadhi, Fry Prawns, Su...</td>\n",
       "    </tr>\n",
       "    <tr>\n",
       "      <th>5390</th>\n",
       "      <td>The Curious Kitchen &amp; Bar\\r\\n                 ...</td>\n",
       "      <td>Casual Dining,Bar</td>\n",
       "      <td>Baner</td>\n",
       "      <td>4.2</td>\n",
       "      <td>-248</td>\n",
       "      <td>3.6</td>\n",
       "      <td>-842</td>\n",
       "      <td>Italian,Continental,Chinese,North Indian,</td>\n",
       "      <td>900</td>\n",
       "      <td>Rs. 900</td>\n",
       "      <td>Mocktails, Brownie, Caramel Custard, Paan Moji...</td>\n",
       "    </tr>\n",
       "    <tr>\n",
       "      <th>5417</th>\n",
       "      <td>Punjabi Rasoi\\r\\n                             ...</td>\n",
       "      <td>NaN</td>\n",
       "      <td>Baner</td>\n",
       "      <td>4.0</td>\n",
       "      <td>(137 Reviews)</td>\n",
       "      <td>NaN</td>\n",
       "      <td>NaN</td>\n",
       "      <td>North Indian,</td>\n",
       "      <td>300</td>\n",
       "      <td>Rs. 300</td>\n",
       "      <td>NaN</td>\n",
       "    </tr>\n",
       "    <tr>\n",
       "      <th>5418</th>\n",
       "      <td>Tokyo Bakery\\r\\n                              ...</td>\n",
       "      <td>Bakery</td>\n",
       "      <td>Baner</td>\n",
       "      <td>4.0</td>\n",
       "      <td>(49 Reviews)</td>\n",
       "      <td>NaN</td>\n",
       "      <td>NaN</td>\n",
       "      <td>Bakery,</td>\n",
       "      <td>150</td>\n",
       "      <td>Rs. 150</td>\n",
       "      <td>NaN</td>\n",
       "    </tr>\n",
       "    <tr>\n",
       "      <th>5420</th>\n",
       "      <td>Shawarma, Meals &amp; More\\r\\n                    ...</td>\n",
       "      <td>NaN</td>\n",
       "      <td>Baner</td>\n",
       "      <td>2.6</td>\n",
       "      <td>-42</td>\n",
       "      <td>3.4</td>\n",
       "      <td>-343</td>\n",
       "      <td>Burger,Sandwich,Beverages,Rolls,Lebanese,</td>\n",
       "      <td>300</td>\n",
       "      <td>Rs. 300</td>\n",
       "      <td>NaN</td>\n",
       "    </tr>\n",
       "  </tbody>\n",
       "</table>\n",
       "<p>219 rows × 11 columns</p>\n",
       "</div>"
      ],
      "text/plain": [
       "                                              rest_name             rest_type  \\\n",
       "58    Effingut\\r\\r\\n                                ...                   Pub   \n",
       "72    The K Factory\\r\\r\\n                           ...  Casual Dining,Lounge   \n",
       "120   Mr Rabbit's Bar & Burrow\\r\\r\\n                ...     Bar,Casual Dining   \n",
       "142      Urbo\\r\\r\\n                                      Lounge,Casual Dining   \n",
       "166   The Urban Foundry\\r\\r\\n                       ...     Bar,Casual Dining   \n",
       "...                                                 ...                   ...   \n",
       "5386  I'm Lion, Strictly Non-Veg\\r\\n                ...         Casual Dining   \n",
       "5390  The Curious Kitchen & Bar\\r\\n                 ...     Casual Dining,Bar   \n",
       "5417  Punjabi Rasoi\\r\\n                             ...                   NaN   \n",
       "5418  Tokyo Bakery\\r\\n                              ...                Bakery   \n",
       "5420  Shawarma, Meals & More\\r\\n                    ...                   NaN   \n",
       "\n",
       "        loc  dine_rating     dine_reviews  delivery_rating delivery_reviews  \\\n",
       "58    Baner          4.7           -2,894              4.5             -649   \n",
       "72    Baner          4.6           -3,742              3.9             -252   \n",
       "120   Baner          4.5    (633 Reviews)              NaN              NaN   \n",
       "142   Baner          4.2    (952 Reviews)              NaN              NaN   \n",
       "166   Baner          4.6  (3,912 Reviews)              NaN              NaN   \n",
       "...     ...          ...              ...              ...              ...   \n",
       "5386  Baner          4.2             -271              4.0             -355   \n",
       "5390  Baner          4.2             -248              3.6             -842   \n",
       "5417  Baner          4.0    (137 Reviews)              NaN              NaN   \n",
       "5418  Baner          4.0     (49 Reviews)              NaN              NaN   \n",
       "5420  Baner          2.6              -42              3.4             -343   \n",
       "\n",
       "                                                cuisine  Cost (RS)      cost  \\\n",
       "58      Asian,Italian,Mughlai,North Indian,Continental,       2000  Rs. 2000   \n",
       "72    Beverages,Biryani,Charcoal Chicken,Salad,Desse...       2000  Rs. 2000   \n",
       "120      South Indian,European,Continental,Finger Food,       1800  Rs. 1800   \n",
       "142                           North Indian,Continental,       1700  Rs. 1700   \n",
       "166              Fast Food,Asian,North Indian,Bar Food,       1600  Rs. 1600   \n",
       "...                                                 ...        ...       ...   \n",
       "5386                   Konkan,Seafood,Goan,Mangalorean,        800   Rs. 800   \n",
       "5390          Italian,Continental,Chinese,North Indian,        900   Rs. 900   \n",
       "5417                                      North Indian,        300   Rs. 300   \n",
       "5418                                            Bakery,        150   Rs. 150   \n",
       "5420          Burger,Sandwich,Beverages,Rolls,Lebanese,        300   Rs. 300   \n",
       "\n",
       "                                                  liked  \n",
       "58    Apple Cider, Craft Beer, Nachos, Cocktails, Bu...  \n",
       "72    Pasta, Salad, Cheesecake, Cocktails, Pizza, Pe...  \n",
       "120   Cocktails, Tiramisu, Ravioli, Beer, Murgh Ghee...  \n",
       "142   Pizza, Cocktails, Mocktails, Brownie, Paneer T...  \n",
       "166   Cocktails, Pizza, Beer, Soya Chaap, Mocktails,...  \n",
       "...                                                 ...  \n",
       "5386  Sea Food, Neer Dosa, Sol Kadhi, Fry Prawns, Su...  \n",
       "5390  Mocktails, Brownie, Caramel Custard, Paan Moji...  \n",
       "5417                                                NaN  \n",
       "5418                                                NaN  \n",
       "5420                                                NaN  \n",
       "\n",
       "[219 rows x 11 columns]"
      ]
     },
     "execution_count": 43,
     "metadata": {},
     "output_type": "execute_result"
    }
   ],
   "source": [
    "df_baner=df[df['loc']=='Baner']\n",
    "df_baner"
   ]
  },
  {
   "cell_type": "code",
   "execution_count": 44,
   "metadata": {},
   "outputs": [
    {
     "data": {
      "text/html": [
       "<div>\n",
       "<style scoped>\n",
       "    .dataframe tbody tr th:only-of-type {\n",
       "        vertical-align: middle;\n",
       "    }\n",
       "\n",
       "    .dataframe tbody tr th {\n",
       "        vertical-align: top;\n",
       "    }\n",
       "\n",
       "    .dataframe thead th {\n",
       "        text-align: right;\n",
       "    }\n",
       "</style>\n",
       "<table border=\"1\" class=\"dataframe\">\n",
       "  <thead>\n",
       "    <tr style=\"text-align: right;\">\n",
       "      <th></th>\n",
       "      <th>rest_name</th>\n",
       "      <th>rest_type</th>\n",
       "      <th>loc</th>\n",
       "      <th>dine_rating</th>\n",
       "      <th>dine_reviews</th>\n",
       "      <th>delivery_rating</th>\n",
       "      <th>delivery_reviews</th>\n",
       "      <th>cuisine</th>\n",
       "      <th>Cost (RS)</th>\n",
       "      <th>cost</th>\n",
       "      <th>liked</th>\n",
       "    </tr>\n",
       "  </thead>\n",
       "  <tbody>\n",
       "    <tr>\n",
       "      <th>58</th>\n",
       "      <td>Effingut\\r\\r\\n                                ...</td>\n",
       "      <td>Pub</td>\n",
       "      <td>Baner</td>\n",
       "      <td>4.7</td>\n",
       "      <td>-2,894</td>\n",
       "      <td>4.5</td>\n",
       "      <td>-649</td>\n",
       "      <td>Asian,Italian,Mughlai,North Indian,Continental,</td>\n",
       "      <td>2000</td>\n",
       "      <td>Rs. 2000</td>\n",
       "      <td>Apple Cider, Craft Beer, Nachos, Cocktails, Bu...</td>\n",
       "    </tr>\n",
       "    <tr>\n",
       "      <th>72</th>\n",
       "      <td>The K Factory\\r\\r\\n                           ...</td>\n",
       "      <td>Casual Dining,Lounge</td>\n",
       "      <td>Baner</td>\n",
       "      <td>4.6</td>\n",
       "      <td>-3,742</td>\n",
       "      <td>3.9</td>\n",
       "      <td>-252</td>\n",
       "      <td>Beverages,Biryani,Charcoal Chicken,Salad,Desse...</td>\n",
       "      <td>2000</td>\n",
       "      <td>Rs. 2000</td>\n",
       "      <td>Pasta, Salad, Cheesecake, Cocktails, Pizza, Pe...</td>\n",
       "    </tr>\n",
       "    <tr>\n",
       "      <th>120</th>\n",
       "      <td>Mr Rabbit's Bar &amp; Burrow\\r\\r\\n                ...</td>\n",
       "      <td>Bar,Casual Dining</td>\n",
       "      <td>Baner</td>\n",
       "      <td>4.5</td>\n",
       "      <td>(633 Reviews)</td>\n",
       "      <td>NaN</td>\n",
       "      <td>NaN</td>\n",
       "      <td>South Indian,European,Continental,Finger Food,</td>\n",
       "      <td>1800</td>\n",
       "      <td>Rs. 1800</td>\n",
       "      <td>Cocktails, Tiramisu, Ravioli, Beer, Murgh Ghee...</td>\n",
       "    </tr>\n",
       "    <tr>\n",
       "      <th>166</th>\n",
       "      <td>The Urban Foundry\\r\\r\\n                       ...</td>\n",
       "      <td>Bar,Casual Dining</td>\n",
       "      <td>Baner</td>\n",
       "      <td>4.6</td>\n",
       "      <td>(3,912 Reviews)</td>\n",
       "      <td>NaN</td>\n",
       "      <td>NaN</td>\n",
       "      <td>Fast Food,Asian,North Indian,Bar Food,</td>\n",
       "      <td>1600</td>\n",
       "      <td>Rs. 1600</td>\n",
       "      <td>Cocktails, Pizza, Beer, Soya Chaap, Mocktails,...</td>\n",
       "    </tr>\n",
       "    <tr>\n",
       "      <th>221</th>\n",
       "      <td>Elephant &amp; Co.\\r\\r\\n                          ...</td>\n",
       "      <td>Microbrewery</td>\n",
       "      <td>Baner</td>\n",
       "      <td>4.3</td>\n",
       "      <td>-471</td>\n",
       "      <td>4.1</td>\n",
       "      <td>-238</td>\n",
       "      <td>Salad,Continental,Finger Food,</td>\n",
       "      <td>1500</td>\n",
       "      <td>Rs. 1500</td>\n",
       "      <td>Cocktails, Popcorn, Sangria, Beer, Mushroom Cr...</td>\n",
       "    </tr>\n",
       "    <tr>\n",
       "      <th>257</th>\n",
       "      <td>TTF - The Tenth Floor\\r\\r\\n                   ...</td>\n",
       "      <td>Bar,Casual Dining</td>\n",
       "      <td>Baner</td>\n",
       "      <td>4.4</td>\n",
       "      <td>(708 Reviews)</td>\n",
       "      <td>NaN</td>\n",
       "      <td>NaN</td>\n",
       "      <td>Finger Food,Continental,North Indian,</td>\n",
       "      <td>1500</td>\n",
       "      <td>Rs. 1500</td>\n",
       "      <td>NaN</td>\n",
       "    </tr>\n",
       "    <tr>\n",
       "      <th>384</th>\n",
       "      <td>Linkin Barrel\\r\\r\\n                           ...</td>\n",
       "      <td>Bar</td>\n",
       "      <td>Baner</td>\n",
       "      <td>4.4</td>\n",
       "      <td>(1,219 Reviews)</td>\n",
       "      <td>NaN</td>\n",
       "      <td>NaN</td>\n",
       "      <td>North Indian,Italian,Modern Indian,Continental,</td>\n",
       "      <td>1300</td>\n",
       "      <td>Rs. 1300</td>\n",
       "      <td>Cocktails, Pizza, Nachos, Mocktails, Long Isla...</td>\n",
       "    </tr>\n",
       "    <tr>\n",
       "      <th>388</th>\n",
       "      <td>Bhairavee Pure Veg Restaurant\\r\\r\\n           ...</td>\n",
       "      <td>Casual Dining</td>\n",
       "      <td>Baner</td>\n",
       "      <td>4.3</td>\n",
       "      <td>-948</td>\n",
       "      <td>3.9</td>\n",
       "      <td>-1,947</td>\n",
       "      <td>Beverages,Desserts,Rolls,Biryani,Continental,C...</td>\n",
       "      <td>1300</td>\n",
       "      <td>Rs. 1300</td>\n",
       "      <td>Pasta, Naan, Brownie, Paneer Romanchak, Parath...</td>\n",
       "    </tr>\n",
       "    <tr>\n",
       "      <th>420</th>\n",
       "      <td>The Asian Box Resto Bar\\r\\r\\n                 ...</td>\n",
       "      <td>Casual Dining</td>\n",
       "      <td>Baner</td>\n",
       "      <td>4.3</td>\n",
       "      <td>-465</td>\n",
       "      <td>4.1</td>\n",
       "      <td>-492</td>\n",
       "      <td>Singaporean,Indonesian,Japanese,Thai,Malaysian...</td>\n",
       "      <td>1300</td>\n",
       "      <td>Rs. 1300</td>\n",
       "      <td>Khao Suey, Khau Suey, Noodle, Cocktails, Sushi...</td>\n",
       "    </tr>\n",
       "    <tr>\n",
       "      <th>599</th>\n",
       "      <td>Maratha Samrat\\r\\r\\n                          ...</td>\n",
       "      <td>Casual Dining</td>\n",
       "      <td>Baner</td>\n",
       "      <td>4.4</td>\n",
       "      <td>-1,072</td>\n",
       "      <td>4.2</td>\n",
       "      <td>-2,684</td>\n",
       "      <td>Maharashtrian,</td>\n",
       "      <td>1100</td>\n",
       "      <td>Rs. 1100</td>\n",
       "      <td>Chicken Thali, Mutton Thali, Pandhra Rassa, No...</td>\n",
       "    </tr>\n",
       "    <tr>\n",
       "      <th>975</th>\n",
       "      <td>7th Heaven\\r\\n                                ...</td>\n",
       "      <td>Bakery</td>\n",
       "      <td>Baner</td>\n",
       "      <td>4.3</td>\n",
       "      <td>-484</td>\n",
       "      <td>4.0</td>\n",
       "      <td>-2,331</td>\n",
       "      <td>Desserts,Bakery,</td>\n",
       "      <td>400</td>\n",
       "      <td>Rs. 400</td>\n",
       "      <td>Belgium Chocolate Cake, Chocolava Cake, Cream ...</td>\n",
       "    </tr>\n",
       "    <tr>\n",
       "      <th>1243</th>\n",
       "      <td>The Urban Foundry\\r\\n                         ...</td>\n",
       "      <td>Bar,Casual Dining</td>\n",
       "      <td>Baner</td>\n",
       "      <td>4.6</td>\n",
       "      <td>(3,912 Reviews)</td>\n",
       "      <td>NaN</td>\n",
       "      <td>NaN</td>\n",
       "      <td>Fast Food,Asian,North Indian,Bar Food,</td>\n",
       "      <td>1600</td>\n",
       "      <td>Rs. 1600</td>\n",
       "      <td>Cocktails, Pizza, Beer, Soya Chaap, Mocktails,...</td>\n",
       "    </tr>\n",
       "    <tr>\n",
       "      <th>1305</th>\n",
       "      <td>Maratha Samrat\\r\\n                            ...</td>\n",
       "      <td>Casual Dining</td>\n",
       "      <td>Baner</td>\n",
       "      <td>4.4</td>\n",
       "      <td>-1,072</td>\n",
       "      <td>4.2</td>\n",
       "      <td>-2,684</td>\n",
       "      <td>Maharashtrian,</td>\n",
       "      <td>1100</td>\n",
       "      <td>Rs. 1100</td>\n",
       "      <td>Chicken Thali, Mutton Thali, Pandhra Rassa, No...</td>\n",
       "    </tr>\n",
       "    <tr>\n",
       "      <th>1573</th>\n",
       "      <td>Effingut\\r\\n</td>\n",
       "      <td>Pub</td>\n",
       "      <td>Baner</td>\n",
       "      <td>4.7</td>\n",
       "      <td>-2,894</td>\n",
       "      <td>4.5</td>\n",
       "      <td>-649</td>\n",
       "      <td>Asian,Italian,Mughlai,North Indian,Continental,</td>\n",
       "      <td>2000</td>\n",
       "      <td>Rs. 2000</td>\n",
       "      <td>Apple Cider, Craft Beer, Nachos, Cocktails, Bu...</td>\n",
       "    </tr>\n",
       "    <tr>\n",
       "      <th>2046</th>\n",
       "      <td>Andaground\\r\\n                                ...</td>\n",
       "      <td>Quick Bites</td>\n",
       "      <td>Baner</td>\n",
       "      <td>4.8</td>\n",
       "      <td>-763</td>\n",
       "      <td>4.2</td>\n",
       "      <td>-243</td>\n",
       "      <td>Beverages,Healthy Food,Fast Food,</td>\n",
       "      <td>600</td>\n",
       "      <td>Rs. 600</td>\n",
       "      <td>Chicken Keema, Iced Tea, Omelette, Sandwich, K...</td>\n",
       "    </tr>\n",
       "    <tr>\n",
       "      <th>2165</th>\n",
       "      <td>Elephant &amp; Co.\\r\\n                            ...</td>\n",
       "      <td>Microbrewery</td>\n",
       "      <td>Baner</td>\n",
       "      <td>4.3</td>\n",
       "      <td>-471</td>\n",
       "      <td>4.1</td>\n",
       "      <td>-238</td>\n",
       "      <td>Salad,Continental,Finger Food,</td>\n",
       "      <td>1500</td>\n",
       "      <td>Rs. 1500</td>\n",
       "      <td>Cocktails, Popcorn, Sangria, Beer, Mushroom Cr...</td>\n",
       "    </tr>\n",
       "    <tr>\n",
       "      <th>2219</th>\n",
       "      <td>FatCook\\r\\n</td>\n",
       "      <td>Casual Dining</td>\n",
       "      <td>Baner</td>\n",
       "      <td>4.3</td>\n",
       "      <td>-823</td>\n",
       "      <td>4.0</td>\n",
       "      <td>-1,199</td>\n",
       "      <td>Thai,Chinese,Italian,North Indian,</td>\n",
       "      <td>800</td>\n",
       "      <td>Rs. 800</td>\n",
       "      <td>Pasta, Pizza, Nachos, Tom Kha Soup, Garlic Bre...</td>\n",
       "    </tr>\n",
       "    <tr>\n",
       "      <th>2277</th>\n",
       "      <td>Cream Stone\\r\\n                               ...</td>\n",
       "      <td>Dessert Parlor</td>\n",
       "      <td>Baner</td>\n",
       "      <td>4.5</td>\n",
       "      <td>-1,441</td>\n",
       "      <td>4.2</td>\n",
       "      <td>-3,972</td>\n",
       "      <td>Desserts,Ice Cream,</td>\n",
       "      <td>400</td>\n",
       "      <td>Rs. 400</td>\n",
       "      <td>Ferrero Rocher, Chocolate Overdose, Waffles, D...</td>\n",
       "    </tr>\n",
       "    <tr>\n",
       "      <th>2439</th>\n",
       "      <td>Idlicious\\r\\n</td>\n",
       "      <td>Quick Bites</td>\n",
       "      <td>Baner</td>\n",
       "      <td>4.5</td>\n",
       "      <td>-1,025</td>\n",
       "      <td>4.3</td>\n",
       "      <td>-357</td>\n",
       "      <td>South Indian,</td>\n",
       "      <td>250</td>\n",
       "      <td>Rs. 250</td>\n",
       "      <td>Idli, Filtered Coffee, Vada, Mysore Masala Dos...</td>\n",
       "    </tr>\n",
       "    <tr>\n",
       "      <th>2561</th>\n",
       "      <td>Linkin Barrel\\r\\n                             ...</td>\n",
       "      <td>Bar</td>\n",
       "      <td>Baner</td>\n",
       "      <td>4.4</td>\n",
       "      <td>(1,219 Reviews)</td>\n",
       "      <td>NaN</td>\n",
       "      <td>NaN</td>\n",
       "      <td>North Indian,Italian,Modern Indian,Continental,</td>\n",
       "      <td>1300</td>\n",
       "      <td>Rs. 1300</td>\n",
       "      <td>Cocktails, Pizza, Nachos, Mocktails, Long Isla...</td>\n",
       "    </tr>\n",
       "    <tr>\n",
       "      <th>3284</th>\n",
       "      <td>Bhairavee Pure Veg Restaurant\\r\\n             ...</td>\n",
       "      <td>Casual Dining</td>\n",
       "      <td>Baner</td>\n",
       "      <td>4.3</td>\n",
       "      <td>-948</td>\n",
       "      <td>3.9</td>\n",
       "      <td>-1,947</td>\n",
       "      <td>Beverages,Desserts,Rolls,Biryani,Continental,C...</td>\n",
       "      <td>1300</td>\n",
       "      <td>Rs. 1300</td>\n",
       "      <td>Pasta, Naan, Brownie, Paneer Romanchak, Parath...</td>\n",
       "    </tr>\n",
       "    <tr>\n",
       "      <th>3501</th>\n",
       "      <td>The K Factory\\r\\n                             ...</td>\n",
       "      <td>Casual Dining,Lounge</td>\n",
       "      <td>Baner</td>\n",
       "      <td>4.6</td>\n",
       "      <td>-3,742</td>\n",
       "      <td>3.9</td>\n",
       "      <td>-252</td>\n",
       "      <td>Beverages,Biryani,Charcoal Chicken,Salad,Desse...</td>\n",
       "      <td>2000</td>\n",
       "      <td>Rs. 2000</td>\n",
       "      <td>Pasta, Salad, Cheesecake, Cocktails, Pizza, Pe...</td>\n",
       "    </tr>\n",
       "    <tr>\n",
       "      <th>4047</th>\n",
       "      <td>World of Desserts\\r\\n                         ...</td>\n",
       "      <td>Dessert Parlor</td>\n",
       "      <td>Baner</td>\n",
       "      <td>4.3</td>\n",
       "      <td>(414 Reviews)</td>\n",
       "      <td>NaN</td>\n",
       "      <td>NaN</td>\n",
       "      <td>Beverages,Desserts,</td>\n",
       "      <td>400</td>\n",
       "      <td>Rs. 400</td>\n",
       "      <td>Waffles, Churros, Freak Shake, Vanilla Ice Cre...</td>\n",
       "    </tr>\n",
       "    <tr>\n",
       "      <th>4617</th>\n",
       "      <td>Makkhan Maar Ke\\r\\n                           ...</td>\n",
       "      <td>NaN</td>\n",
       "      <td>Baner</td>\n",
       "      <td>4.3</td>\n",
       "      <td>(3,618 Reviews)</td>\n",
       "      <td>NaN</td>\n",
       "      <td>NaN</td>\n",
       "      <td>Kebab,Biryani,Afghan,Mughlai,North Indian,</td>\n",
       "      <td>700</td>\n",
       "      <td>Rs. 700</td>\n",
       "      <td>Butter Chicken, Dal Makhani, Paneer Lababdar, ...</td>\n",
       "    </tr>\n",
       "    <tr>\n",
       "      <th>5142</th>\n",
       "      <td>The Asian Box Resto Bar\\r\\n                   ...</td>\n",
       "      <td>Casual Dining</td>\n",
       "      <td>Baner</td>\n",
       "      <td>4.3</td>\n",
       "      <td>-465</td>\n",
       "      <td>4.1</td>\n",
       "      <td>-492</td>\n",
       "      <td>Singaporean,Indonesian,Japanese,Thai,Malaysian...</td>\n",
       "      <td>1300</td>\n",
       "      <td>Rs. 1300</td>\n",
       "      <td>Khao Suey, Khau Suey, Noodle, Cocktails, Sushi...</td>\n",
       "    </tr>\n",
       "  </tbody>\n",
       "</table>\n",
       "</div>"
      ],
      "text/plain": [
       "                                              rest_name             rest_type  \\\n",
       "58    Effingut\\r\\r\\n                                ...                   Pub   \n",
       "72    The K Factory\\r\\r\\n                           ...  Casual Dining,Lounge   \n",
       "120   Mr Rabbit's Bar & Burrow\\r\\r\\n                ...     Bar,Casual Dining   \n",
       "166   The Urban Foundry\\r\\r\\n                       ...     Bar,Casual Dining   \n",
       "221   Elephant & Co.\\r\\r\\n                          ...          Microbrewery   \n",
       "257   TTF - The Tenth Floor\\r\\r\\n                   ...     Bar,Casual Dining   \n",
       "384   Linkin Barrel\\r\\r\\n                           ...                   Bar   \n",
       "388   Bhairavee Pure Veg Restaurant\\r\\r\\n           ...         Casual Dining   \n",
       "420   The Asian Box Resto Bar\\r\\r\\n                 ...         Casual Dining   \n",
       "599   Maratha Samrat\\r\\r\\n                          ...         Casual Dining   \n",
       "975   7th Heaven\\r\\n                                ...                Bakery   \n",
       "1243  The Urban Foundry\\r\\n                         ...     Bar,Casual Dining   \n",
       "1305  Maratha Samrat\\r\\n                            ...         Casual Dining   \n",
       "1573   Effingut\\r\\n                                                       Pub   \n",
       "2046  Andaground\\r\\n                                ...           Quick Bites   \n",
       "2165  Elephant & Co.\\r\\n                            ...          Microbrewery   \n",
       "2219    FatCook\\r\\n                                             Casual Dining   \n",
       "2277  Cream Stone\\r\\n                               ...        Dessert Parlor   \n",
       "2439  Idlicious\\r\\n                                               Quick Bites   \n",
       "2561  Linkin Barrel\\r\\n                             ...                   Bar   \n",
       "3284  Bhairavee Pure Veg Restaurant\\r\\n             ...         Casual Dining   \n",
       "3501  The K Factory\\r\\n                             ...  Casual Dining,Lounge   \n",
       "4047  World of Desserts\\r\\n                         ...        Dessert Parlor   \n",
       "4617  Makkhan Maar Ke\\r\\n                           ...                   NaN   \n",
       "5142  The Asian Box Resto Bar\\r\\n                   ...         Casual Dining   \n",
       "\n",
       "        loc  dine_rating     dine_reviews  delivery_rating delivery_reviews  \\\n",
       "58    Baner          4.7           -2,894              4.5             -649   \n",
       "72    Baner          4.6           -3,742              3.9             -252   \n",
       "120   Baner          4.5    (633 Reviews)              NaN              NaN   \n",
       "166   Baner          4.6  (3,912 Reviews)              NaN              NaN   \n",
       "221   Baner          4.3             -471              4.1             -238   \n",
       "257   Baner          4.4    (708 Reviews)              NaN              NaN   \n",
       "384   Baner          4.4  (1,219 Reviews)              NaN              NaN   \n",
       "388   Baner          4.3             -948              3.9           -1,947   \n",
       "420   Baner          4.3             -465              4.1             -492   \n",
       "599   Baner          4.4           -1,072              4.2           -2,684   \n",
       "975   Baner          4.3             -484              4.0           -2,331   \n",
       "1243  Baner          4.6  (3,912 Reviews)              NaN              NaN   \n",
       "1305  Baner          4.4           -1,072              4.2           -2,684   \n",
       "1573  Baner          4.7           -2,894              4.5             -649   \n",
       "2046  Baner          4.8             -763              4.2             -243   \n",
       "2165  Baner          4.3             -471              4.1             -238   \n",
       "2219  Baner          4.3             -823              4.0           -1,199   \n",
       "2277  Baner          4.5           -1,441              4.2           -3,972   \n",
       "2439  Baner          4.5           -1,025              4.3             -357   \n",
       "2561  Baner          4.4  (1,219 Reviews)              NaN              NaN   \n",
       "3284  Baner          4.3             -948              3.9           -1,947   \n",
       "3501  Baner          4.6           -3,742              3.9             -252   \n",
       "4047  Baner          4.3    (414 Reviews)              NaN              NaN   \n",
       "4617  Baner          4.3  (3,618 Reviews)              NaN              NaN   \n",
       "5142  Baner          4.3             -465              4.1             -492   \n",
       "\n",
       "                                                cuisine  Cost (RS)      cost  \\\n",
       "58      Asian,Italian,Mughlai,North Indian,Continental,       2000  Rs. 2000   \n",
       "72    Beverages,Biryani,Charcoal Chicken,Salad,Desse...       2000  Rs. 2000   \n",
       "120      South Indian,European,Continental,Finger Food,       1800  Rs. 1800   \n",
       "166              Fast Food,Asian,North Indian,Bar Food,       1600  Rs. 1600   \n",
       "221                      Salad,Continental,Finger Food,       1500  Rs. 1500   \n",
       "257               Finger Food,Continental,North Indian,       1500  Rs. 1500   \n",
       "384     North Indian,Italian,Modern Indian,Continental,       1300  Rs. 1300   \n",
       "388   Beverages,Desserts,Rolls,Biryani,Continental,C...       1300  Rs. 1300   \n",
       "420   Singaporean,Indonesian,Japanese,Thai,Malaysian...       1300  Rs. 1300   \n",
       "599                                      Maharashtrian,       1100  Rs. 1100   \n",
       "975                                    Desserts,Bakery,        400   Rs. 400   \n",
       "1243             Fast Food,Asian,North Indian,Bar Food,       1600  Rs. 1600   \n",
       "1305                                     Maharashtrian,       1100  Rs. 1100   \n",
       "1573    Asian,Italian,Mughlai,North Indian,Continental,       2000  Rs. 2000   \n",
       "2046                  Beverages,Healthy Food,Fast Food,        600   Rs. 600   \n",
       "2165                     Salad,Continental,Finger Food,       1500  Rs. 1500   \n",
       "2219                 Thai,Chinese,Italian,North Indian,        800   Rs. 800   \n",
       "2277                                Desserts,Ice Cream,        400   Rs. 400   \n",
       "2439                                      South Indian,        250   Rs. 250   \n",
       "2561    North Indian,Italian,Modern Indian,Continental,       1300  Rs. 1300   \n",
       "3284  Beverages,Desserts,Rolls,Biryani,Continental,C...       1300  Rs. 1300   \n",
       "3501  Beverages,Biryani,Charcoal Chicken,Salad,Desse...       2000  Rs. 2000   \n",
       "4047                                Beverages,Desserts,        400   Rs. 400   \n",
       "4617         Kebab,Biryani,Afghan,Mughlai,North Indian,        700   Rs. 700   \n",
       "5142  Singaporean,Indonesian,Japanese,Thai,Malaysian...       1300  Rs. 1300   \n",
       "\n",
       "                                                  liked  \n",
       "58    Apple Cider, Craft Beer, Nachos, Cocktails, Bu...  \n",
       "72    Pasta, Salad, Cheesecake, Cocktails, Pizza, Pe...  \n",
       "120   Cocktails, Tiramisu, Ravioli, Beer, Murgh Ghee...  \n",
       "166   Cocktails, Pizza, Beer, Soya Chaap, Mocktails,...  \n",
       "221   Cocktails, Popcorn, Sangria, Beer, Mushroom Cr...  \n",
       "257                                                 NaN  \n",
       "384   Cocktails, Pizza, Nachos, Mocktails, Long Isla...  \n",
       "388   Pasta, Naan, Brownie, Paneer Romanchak, Parath...  \n",
       "420   Khao Suey, Khau Suey, Noodle, Cocktails, Sushi...  \n",
       "599   Chicken Thali, Mutton Thali, Pandhra Rassa, No...  \n",
       "975   Belgium Chocolate Cake, Chocolava Cake, Cream ...  \n",
       "1243  Cocktails, Pizza, Beer, Soya Chaap, Mocktails,...  \n",
       "1305  Chicken Thali, Mutton Thali, Pandhra Rassa, No...  \n",
       "1573  Apple Cider, Craft Beer, Nachos, Cocktails, Bu...  \n",
       "2046  Chicken Keema, Iced Tea, Omelette, Sandwich, K...  \n",
       "2165  Cocktails, Popcorn, Sangria, Beer, Mushroom Cr...  \n",
       "2219  Pasta, Pizza, Nachos, Tom Kha Soup, Garlic Bre...  \n",
       "2277  Ferrero Rocher, Chocolate Overdose, Waffles, D...  \n",
       "2439  Idli, Filtered Coffee, Vada, Mysore Masala Dos...  \n",
       "2561  Cocktails, Pizza, Nachos, Mocktails, Long Isla...  \n",
       "3284  Pasta, Naan, Brownie, Paneer Romanchak, Parath...  \n",
       "3501  Pasta, Salad, Cheesecake, Cocktails, Pizza, Pe...  \n",
       "4047  Waffles, Churros, Freak Shake, Vanilla Ice Cre...  \n",
       "4617  Butter Chicken, Dal Makhani, Paneer Lababdar, ...  \n",
       "5142  Khao Suey, Khau Suey, Noodle, Cocktails, Sushi...  "
      ]
     },
     "execution_count": 44,
     "metadata": {},
     "output_type": "execute_result"
    }
   ],
   "source": [
    "df_baner_top=df_baner[df_baner[\"dine_rating\"]>4.2]\n",
    "df_baner_top"
   ]
  },
  {
   "cell_type": "code",
   "execution_count": 45,
   "metadata": {},
   "outputs": [
    {
     "name": "stdout",
     "output_type": "stream",
     "text": [
      "['Effingut\\r\\r\\n                                    '\n",
      " 'The K Factory\\r\\r\\n                                    '\n",
      " \"Mr Rabbit's Bar & Burrow\\r\\r\\n                                    \"\n",
      " 'The Urban Foundry\\r\\r\\n                                    '\n",
      " 'Elephant & Co.\\r\\r\\n                                    '\n",
      " 'TTF - The Tenth Floor\\r\\r\\n                                    '\n",
      " 'Linkin Barrel\\r\\r\\n                                    '\n",
      " 'Bhairavee Pure Veg Restaurant\\r\\r\\n                                    '\n",
      " 'The Asian Box Resto Bar\\r\\r\\n                                    '\n",
      " 'Maratha Samrat\\r\\r\\n                                    '\n",
      " '7th Heaven\\r\\n                                    '\n",
      " 'The Urban Foundry\\r\\n                                    '\n",
      " 'Maratha Samrat\\r\\n                                    '\n",
      " 'Effingut\\r\\n                                    '\n",
      " 'Andaground\\r\\n                                    '\n",
      " 'Elephant & Co.\\r\\n                                    '\n",
      " 'FatCook\\r\\n                                    '\n",
      " 'Cream Stone\\r\\n                                    '\n",
      " 'Idlicious\\r\\n                                    '\n",
      " 'Linkin Barrel\\r\\n                                    '\n",
      " 'Bhairavee Pure Veg Restaurant\\r\\n                                    '\n",
      " 'The K Factory\\r\\n                                    '\n",
      " 'World of Desserts\\r\\n                                    '\n",
      " 'Makkhan Maar Ke\\r\\n                                    '\n",
      " 'The Asian Box Resto Bar\\r\\n                                    ']\n"
     ]
    }
   ],
   "source": [
    "print((df_baner_top['rest_name'].unique()))\n",
    "#there are duplicate restaurants\""
   ]
  },
  {
   "cell_type": "markdown",
   "metadata": {},
   "source": [
    "we can see that some restaurants names are almost same but they are repeating.\n"
   ]
  },
  {
   "cell_type": "code",
   "execution_count": 46,
   "metadata": {},
   "outputs": [],
   "source": [
    "#lets clean the strings\n",
    "baner_top_rest=[]\n",
    "for i in df_baner_top['rest_name'].unique():\n",
    "    i=i.strip()\n",
    "    baner_top_rest.append(i)\n",
    "\n"
   ]
  },
  {
   "cell_type": "code",
   "execution_count": 47,
   "metadata": {},
   "outputs": [
    {
     "data": {
      "text/plain": [
       "['Effingut',\n",
       " 'The K Factory',\n",
       " \"Mr Rabbit's Bar & Burrow\",\n",
       " 'The Urban Foundry',\n",
       " 'Elephant & Co.',\n",
       " 'TTF - The Tenth Floor',\n",
       " 'Linkin Barrel',\n",
       " 'Bhairavee Pure Veg Restaurant',\n",
       " 'The Asian Box Resto Bar',\n",
       " 'Maratha Samrat',\n",
       " '7th Heaven',\n",
       " 'The Urban Foundry',\n",
       " 'Maratha Samrat',\n",
       " 'Effingut',\n",
       " 'Andaground',\n",
       " 'Elephant & Co.',\n",
       " 'FatCook',\n",
       " 'Cream Stone',\n",
       " 'Idlicious',\n",
       " 'Linkin Barrel',\n",
       " 'Bhairavee Pure Veg Restaurant',\n",
       " 'The K Factory',\n",
       " 'World of Desserts',\n",
       " 'Makkhan Maar Ke',\n",
       " 'The Asian Box Resto Bar']"
      ]
     },
     "execution_count": 47,
     "metadata": {},
     "output_type": "execute_result"
    }
   ],
   "source": [
    "baner_top_rest\n",
    "#still there are duplicates in this, lets remove the duplicate values"
   ]
  },
  {
   "cell_type": "code",
   "execution_count": 48,
   "metadata": {},
   "outputs": [
    {
     "name": "stdout",
     "output_type": "stream",
     "text": [
      "['Effingut', 'The K Factory', \"Mr Rabbit's Bar & Burrow\", 'The Urban Foundry', 'Elephant & Co.', 'TTF - The Tenth Floor', 'Linkin Barrel', 'Bhairavee Pure Veg Restaurant', 'The Asian Box Resto Bar', 'Maratha Samrat', '7th Heaven', 'Andaground', 'FatCook', 'Cream Stone', 'Idlicious', 'World of Desserts', 'Makkhan Maar Ke']\n",
      "17\n"
     ]
    }
   ],
   "source": [
    "#lets remove duplicates from the list\n",
    "baner_rest_top=[]\n",
    "for i in baner_top_rest:\n",
    "    if i not in baner_rest_top:\n",
    "        baner_rest_top.append(i)\n",
    "\n",
    "print(baner_rest_top)\n",
    "print(len(baner_rest_top))"
   ]
  },
  {
   "cell_type": "markdown",
   "metadata": {},
   "source": [
    "There are 17 restaurants in baner which got rating more than 4.2"
   ]
  },
  {
   "cell_type": "markdown",
   "metadata": {},
   "source": [
    "# Restaurants which got 0 rating on Zomato in Pune."
   ]
  },
  {
   "cell_type": "code",
   "execution_count": 49,
   "metadata": {},
   "outputs": [
    {
     "data": {
      "text/html": [
       "<div>\n",
       "<style scoped>\n",
       "    .dataframe tbody tr th:only-of-type {\n",
       "        vertical-align: middle;\n",
       "    }\n",
       "\n",
       "    .dataframe tbody tr th {\n",
       "        vertical-align: top;\n",
       "    }\n",
       "\n",
       "    .dataframe thead th {\n",
       "        text-align: right;\n",
       "    }\n",
       "</style>\n",
       "<table border=\"1\" class=\"dataframe\">\n",
       "  <thead>\n",
       "    <tr style=\"text-align: right;\">\n",
       "      <th></th>\n",
       "      <th>rest_name</th>\n",
       "      <th>rest_type</th>\n",
       "      <th>loc</th>\n",
       "      <th>dine_rating</th>\n",
       "      <th>dine_reviews</th>\n",
       "      <th>delivery_rating</th>\n",
       "      <th>delivery_reviews</th>\n",
       "      <th>cuisine</th>\n",
       "      <th>Cost (RS)</th>\n",
       "      <th>cost</th>\n",
       "      <th>liked</th>\n",
       "    </tr>\n",
       "  </thead>\n",
       "  <tbody>\n",
       "    <tr>\n",
       "      <th>36</th>\n",
       "      <td>Zen Bar\\r\\r\\n</td>\n",
       "      <td>Bar</td>\n",
       "      <td>Hotel Mercure, Lavasa</td>\n",
       "      <td>0.0</td>\n",
       "      <td>NaN</td>\n",
       "      <td>NaN</td>\n",
       "      <td>NaN</td>\n",
       "      <td>Finger Food,</td>\n",
       "      <td>2400</td>\n",
       "      <td>Rs. 2400</td>\n",
       "      <td>NaN</td>\n",
       "    </tr>\n",
       "    <tr>\n",
       "      <th>96</th>\n",
       "      <td>The Chinese Restaurant\\r\\r\\n                  ...</td>\n",
       "      <td>Fine Dining</td>\n",
       "      <td>Mundhwa</td>\n",
       "      <td>0.0</td>\n",
       "      <td>NaN</td>\n",
       "      <td>NaN</td>\n",
       "      <td>NaN</td>\n",
       "      <td>Cantonese,Chinese,</td>\n",
       "      <td>2000</td>\n",
       "      <td>Rs. 2000</td>\n",
       "      <td>NaN</td>\n",
       "    </tr>\n",
       "    <tr>\n",
       "      <th>100</th>\n",
       "      <td>Fusion Fantasea\\r\\r\\n                         ...</td>\n",
       "      <td>Bar,Casual Dining</td>\n",
       "      <td>Erandwane</td>\n",
       "      <td>0.0</td>\n",
       "      <td>NaN</td>\n",
       "      <td>NaN</td>\n",
       "      <td>NaN</td>\n",
       "      <td>Chinese,Mughlai,Malwani,North Indian,Continental,</td>\n",
       "      <td>2000</td>\n",
       "      <td>Rs. 2000</td>\n",
       "      <td>NaN</td>\n",
       "    </tr>\n",
       "    <tr>\n",
       "      <th>102</th>\n",
       "      <td>The Bar Stock Exchange\\r\\r\\n                  ...</td>\n",
       "      <td>Pub,Casual Dining</td>\n",
       "      <td>FC Road</td>\n",
       "      <td>0.0</td>\n",
       "      <td>NaN</td>\n",
       "      <td>NaN</td>\n",
       "      <td>NaN</td>\n",
       "      <td>Italian,North Indian,Chinese,Continental,</td>\n",
       "      <td>1900</td>\n",
       "      <td>Rs. 1900</td>\n",
       "      <td>NaN</td>\n",
       "    </tr>\n",
       "    <tr>\n",
       "      <th>116</th>\n",
       "      <td>Asia Kitchen By Mainland China\\r\\r\\n          ...</td>\n",
       "      <td>NaN</td>\n",
       "      <td>Senapati Bapat Road</td>\n",
       "      <td>0.0</td>\n",
       "      <td>NaN</td>\n",
       "      <td>NaN</td>\n",
       "      <td>NaN</td>\n",
       "      <td>Chinese,Asian,</td>\n",
       "      <td>1800</td>\n",
       "      <td>Rs. 1800</td>\n",
       "      <td>NaN</td>\n",
       "    </tr>\n",
       "    <tr>\n",
       "      <th>...</th>\n",
       "      <td>...</td>\n",
       "      <td>...</td>\n",
       "      <td>...</td>\n",
       "      <td>...</td>\n",
       "      <td>...</td>\n",
       "      <td>...</td>\n",
       "      <td>...</td>\n",
       "      <td>...</td>\n",
       "      <td>...</td>\n",
       "      <td>...</td>\n",
       "      <td>...</td>\n",
       "    </tr>\n",
       "    <tr>\n",
       "      <th>5312</th>\n",
       "      <td>Super Meal\\r\\n                                ...</td>\n",
       "      <td>NaN</td>\n",
       "      <td>Shivaji Nagar</td>\n",
       "      <td>0.0</td>\n",
       "      <td>NaN</td>\n",
       "      <td>NaN</td>\n",
       "      <td>NaN</td>\n",
       "      <td>Biryani,North Indian,</td>\n",
       "      <td>350</td>\n",
       "      <td>Rs. 350</td>\n",
       "      <td>NaN</td>\n",
       "    </tr>\n",
       "    <tr>\n",
       "      <th>5355</th>\n",
       "      <td>Garawa Biryani\\r\\n                            ...</td>\n",
       "      <td>Quick Bites</td>\n",
       "      <td>Sadashiv Peth</td>\n",
       "      <td>0.0</td>\n",
       "      <td>NaN</td>\n",
       "      <td>NaN</td>\n",
       "      <td>NaN</td>\n",
       "      <td>Biryani,</td>\n",
       "      <td>250</td>\n",
       "      <td>Rs. 250</td>\n",
       "      <td>NaN</td>\n",
       "    </tr>\n",
       "    <tr>\n",
       "      <th>5399</th>\n",
       "      <td>Janta Khanaval\\r\\n                            ...</td>\n",
       "      <td>NaN</td>\n",
       "      <td>Narhe</td>\n",
       "      <td>0.0</td>\n",
       "      <td>NaN</td>\n",
       "      <td>NaN</td>\n",
       "      <td>NaN</td>\n",
       "      <td>Maharashtrian,</td>\n",
       "      <td>300</td>\n",
       "      <td>Rs. 300</td>\n",
       "      <td>NaN</td>\n",
       "    </tr>\n",
       "    <tr>\n",
       "      <th>5400</th>\n",
       "      <td>Taj 24/7\\r\\n</td>\n",
       "      <td>NaN</td>\n",
       "      <td>Kothrud</td>\n",
       "      <td>0.0</td>\n",
       "      <td>NaN</td>\n",
       "      <td>NaN</td>\n",
       "      <td>NaN</td>\n",
       "      <td>Beverages,South Indian,Street Food,</td>\n",
       "      <td>200</td>\n",
       "      <td>Rs. 200</td>\n",
       "      <td>NaN</td>\n",
       "    </tr>\n",
       "    <tr>\n",
       "      <th>5419</th>\n",
       "      <td>Homemade Meal Box - Snigdha\\r\\n               ...</td>\n",
       "      <td>NaN</td>\n",
       "      <td>Kondhwa</td>\n",
       "      <td>0.0</td>\n",
       "      <td>NaN</td>\n",
       "      <td>NaN</td>\n",
       "      <td>NaN</td>\n",
       "      <td>North Indian,</td>\n",
       "      <td>300</td>\n",
       "      <td>Rs. 300</td>\n",
       "      <td>NaN</td>\n",
       "    </tr>\n",
       "  </tbody>\n",
       "</table>\n",
       "<p>566 rows × 11 columns</p>\n",
       "</div>"
      ],
      "text/plain": [
       "                                              rest_name          rest_type  \\\n",
       "36    Zen Bar\\r\\r\\n                                                    Bar   \n",
       "96    The Chinese Restaurant\\r\\r\\n                  ...        Fine Dining   \n",
       "100   Fusion Fantasea\\r\\r\\n                         ...  Bar,Casual Dining   \n",
       "102   The Bar Stock Exchange\\r\\r\\n                  ...  Pub,Casual Dining   \n",
       "116   Asia Kitchen By Mainland China\\r\\r\\n          ...                NaN   \n",
       "...                                                 ...                ...   \n",
       "5312  Super Meal\\r\\n                                ...                NaN   \n",
       "5355  Garawa Biryani\\r\\n                            ...        Quick Bites   \n",
       "5399  Janta Khanaval\\r\\n                            ...                NaN   \n",
       "5400   Taj 24/7\\r\\n                                                    NaN   \n",
       "5419  Homemade Meal Box - Snigdha\\r\\n               ...                NaN   \n",
       "\n",
       "                        loc  dine_rating dine_reviews  delivery_rating  \\\n",
       "36    Hotel Mercure, Lavasa          0.0          NaN              NaN   \n",
       "96                  Mundhwa          0.0          NaN              NaN   \n",
       "100               Erandwane          0.0          NaN              NaN   \n",
       "102                 FC Road          0.0          NaN              NaN   \n",
       "116     Senapati Bapat Road          0.0          NaN              NaN   \n",
       "...                     ...          ...          ...              ...   \n",
       "5312          Shivaji Nagar          0.0          NaN              NaN   \n",
       "5355          Sadashiv Peth          0.0          NaN              NaN   \n",
       "5399                  Narhe          0.0          NaN              NaN   \n",
       "5400                Kothrud          0.0          NaN              NaN   \n",
       "5419                Kondhwa          0.0          NaN              NaN   \n",
       "\n",
       "     delivery_reviews                                            cuisine  \\\n",
       "36                NaN                                       Finger Food,   \n",
       "96                NaN                                 Cantonese,Chinese,   \n",
       "100               NaN  Chinese,Mughlai,Malwani,North Indian,Continental,   \n",
       "102               NaN          Italian,North Indian,Chinese,Continental,   \n",
       "116               NaN                                     Chinese,Asian,   \n",
       "...               ...                                                ...   \n",
       "5312              NaN                              Biryani,North Indian,   \n",
       "5355              NaN                                           Biryani,   \n",
       "5399              NaN                                     Maharashtrian,   \n",
       "5400              NaN                Beverages,South Indian,Street Food,   \n",
       "5419              NaN                                      North Indian,   \n",
       "\n",
       "      Cost (RS)      cost liked  \n",
       "36         2400  Rs. 2400   NaN  \n",
       "96         2000  Rs. 2000   NaN  \n",
       "100        2000  Rs. 2000   NaN  \n",
       "102        1900  Rs. 1900   NaN  \n",
       "116        1800  Rs. 1800   NaN  \n",
       "...         ...       ...   ...  \n",
       "5312        350   Rs. 350   NaN  \n",
       "5355        250   Rs. 250   NaN  \n",
       "5399        300   Rs. 300   NaN  \n",
       "5400        200   Rs. 200   NaN  \n",
       "5419        300   Rs. 300   NaN  \n",
       "\n",
       "[566 rows x 11 columns]"
      ]
     },
     "execution_count": 49,
     "metadata": {},
     "output_type": "execute_result"
    }
   ],
   "source": [
    "df_zero_rating=df[df['dine_rating']==0]\n",
    "df_zero_rating"
   ]
  },
  {
   "cell_type": "code",
   "execution_count": 50,
   "metadata": {},
   "outputs": [
    {
     "data": {
      "text/plain": [
       "(566, 11)"
      ]
     },
     "execution_count": 50,
     "metadata": {},
     "output_type": "execute_result"
    }
   ],
   "source": [
    "df_zero_rating.shape"
   ]
  },
  {
   "cell_type": "markdown",
   "metadata": {},
   "source": [
    "There are 566 restaurants which got 0 ratings on zomato, may be these are new restaurants or may be not very popular."
   ]
  },
  {
   "cell_type": "markdown",
   "metadata": {},
   "source": [
    "# TOP 10 RESTAURANTS LOCATION IN PUNE"
   ]
  },
  {
   "cell_type": "code",
   "execution_count": 64,
   "metadata": {},
   "outputs": [
    {
     "data": {
      "text/html": [
       "<div>\n",
       "<style scoped>\n",
       "    .dataframe tbody tr th:only-of-type {\n",
       "        vertical-align: middle;\n",
       "    }\n",
       "\n",
       "    .dataframe tbody tr th {\n",
       "        vertical-align: top;\n",
       "    }\n",
       "\n",
       "    .dataframe thead th {\n",
       "        text-align: right;\n",
       "    }\n",
       "</style>\n",
       "<table border=\"1\" class=\"dataframe\">\n",
       "  <thead>\n",
       "    <tr style=\"text-align: right;\">\n",
       "      <th></th>\n",
       "      <th>dine_rating</th>\n",
       "      <th>loc</th>\n",
       "    </tr>\n",
       "  </thead>\n",
       "  <tbody>\n",
       "    <tr>\n",
       "      <th>0</th>\n",
       "      <td>4.2</td>\n",
       "      <td>The Westin, Mundhwa</td>\n",
       "    </tr>\n",
       "    <tr>\n",
       "      <th>1</th>\n",
       "      <td>4.1</td>\n",
       "      <td>The Westin, Mundhwa</td>\n",
       "    </tr>\n",
       "    <tr>\n",
       "      <th>2</th>\n",
       "      <td>4.5</td>\n",
       "      <td>Conrad Pune, Bund Garden Road</td>\n",
       "    </tr>\n",
       "    <tr>\n",
       "      <th>3</th>\n",
       "      <td>4.0</td>\n",
       "      <td>The Westin, Mundhwa</td>\n",
       "    </tr>\n",
       "    <tr>\n",
       "      <th>4</th>\n",
       "      <td>3.9</td>\n",
       "      <td>Vivanta Pune, Hinjewadi</td>\n",
       "    </tr>\n",
       "    <tr>\n",
       "      <th>...</th>\n",
       "      <td>...</td>\n",
       "      <td>...</td>\n",
       "    </tr>\n",
       "    <tr>\n",
       "      <th>5428</th>\n",
       "      <td>3.1</td>\n",
       "      <td>Sinhgad Road</td>\n",
       "    </tr>\n",
       "    <tr>\n",
       "      <th>5429</th>\n",
       "      <td>2.9</td>\n",
       "      <td>Viman Nagar</td>\n",
       "    </tr>\n",
       "    <tr>\n",
       "      <th>5430</th>\n",
       "      <td>3.8</td>\n",
       "      <td>Pimpri</td>\n",
       "    </tr>\n",
       "    <tr>\n",
       "      <th>5431</th>\n",
       "      <td>3.1</td>\n",
       "      <td>Sadashiv Peth</td>\n",
       "    </tr>\n",
       "    <tr>\n",
       "      <th>5432</th>\n",
       "      <td>3.6</td>\n",
       "      <td>B.T. Kawade Road</td>\n",
       "    </tr>\n",
       "  </tbody>\n",
       "</table>\n",
       "<p>5183 rows × 2 columns</p>\n",
       "</div>"
      ],
      "text/plain": [
       "      dine_rating                            loc\n",
       "0             4.2            The Westin, Mundhwa\n",
       "1             4.1            The Westin, Mundhwa\n",
       "2             4.5  Conrad Pune, Bund Garden Road\n",
       "3             4.0            The Westin, Mundhwa\n",
       "4             3.9        Vivanta Pune, Hinjewadi\n",
       "...           ...                            ...\n",
       "5428          3.1                   Sinhgad Road\n",
       "5429          2.9                    Viman Nagar\n",
       "5430          3.8                         Pimpri\n",
       "5431          3.1                  Sadashiv Peth\n",
       "5432          3.6               B.T. Kawade Road\n",
       "\n",
       "[5183 rows x 2 columns]"
      ]
     },
     "execution_count": 64,
     "metadata": {},
     "output_type": "execute_result"
    }
   ],
   "source": [
    "df_locations=df[['dine_rating','loc']]\n",
    "df_locations"
   ]
  },
  {
   "cell_type": "code",
   "execution_count": 65,
   "metadata": {},
   "outputs": [
    {
     "data": {
      "text/html": [
       "<div>\n",
       "<style scoped>\n",
       "    .dataframe tbody tr th:only-of-type {\n",
       "        vertical-align: middle;\n",
       "    }\n",
       "\n",
       "    .dataframe tbody tr th {\n",
       "        vertical-align: top;\n",
       "    }\n",
       "\n",
       "    .dataframe thead th {\n",
       "        text-align: right;\n",
       "    }\n",
       "</style>\n",
       "<table border=\"1\" class=\"dataframe\">\n",
       "  <thead>\n",
       "    <tr style=\"text-align: right;\">\n",
       "      <th></th>\n",
       "      <th>dine_rating</th>\n",
       "      <th>loc</th>\n",
       "    </tr>\n",
       "  </thead>\n",
       "  <tbody>\n",
       "    <tr>\n",
       "      <th>2</th>\n",
       "      <td>4.5</td>\n",
       "      <td>Conrad Pune, Bund Garden Road</td>\n",
       "    </tr>\n",
       "    <tr>\n",
       "      <th>5</th>\n",
       "      <td>4.5</td>\n",
       "      <td>Hyatt Pune, Nagar Road</td>\n",
       "    </tr>\n",
       "    <tr>\n",
       "      <th>8</th>\n",
       "      <td>4.5</td>\n",
       "      <td>Sheraton Grand, Bund Garden Road</td>\n",
       "    </tr>\n",
       "    <tr>\n",
       "      <th>18</th>\n",
       "      <td>4.3</td>\n",
       "      <td>The Hyatt Regency, Nagar Road</td>\n",
       "    </tr>\n",
       "    <tr>\n",
       "      <th>21</th>\n",
       "      <td>4.8</td>\n",
       "      <td>JW Marriott Pune, Senapati Bapat Road</td>\n",
       "    </tr>\n",
       "    <tr>\n",
       "      <th>22</th>\n",
       "      <td>4.3</td>\n",
       "      <td>Crowne Plaza Pune City Centre, Bund Garden Road</td>\n",
       "    </tr>\n",
       "    <tr>\n",
       "      <th>25</th>\n",
       "      <td>4.4</td>\n",
       "      <td>JW Marriott Pune, Senapati Bapat Road</td>\n",
       "    </tr>\n",
       "    <tr>\n",
       "      <th>29</th>\n",
       "      <td>4.3</td>\n",
       "      <td>Blue Diamond, Koregaon Park</td>\n",
       "    </tr>\n",
       "    <tr>\n",
       "      <th>38</th>\n",
       "      <td>4.8</td>\n",
       "      <td>Koregaon Park</td>\n",
       "    </tr>\n",
       "    <tr>\n",
       "      <th>39</th>\n",
       "      <td>4.6</td>\n",
       "      <td>Mundhwa</td>\n",
       "    </tr>\n",
       "    <tr>\n",
       "      <th>40</th>\n",
       "      <td>4.3</td>\n",
       "      <td>Vivanta Pune, Hinjewadi</td>\n",
       "    </tr>\n",
       "    <tr>\n",
       "      <th>42</th>\n",
       "      <td>4.5</td>\n",
       "      <td>JW Marriott Pune, Senapati Bapat Road</td>\n",
       "    </tr>\n",
       "    <tr>\n",
       "      <th>43</th>\n",
       "      <td>4.4</td>\n",
       "      <td>East Street</td>\n",
       "    </tr>\n",
       "    <tr>\n",
       "      <th>49</th>\n",
       "      <td>4.9</td>\n",
       "      <td>Koregaon Park</td>\n",
       "    </tr>\n",
       "    <tr>\n",
       "      <th>52</th>\n",
       "      <td>4.4</td>\n",
       "      <td>Marriott Suites Pune</td>\n",
       "    </tr>\n",
       "    <tr>\n",
       "      <th>53</th>\n",
       "      <td>4.4</td>\n",
       "      <td>Della Adventure Resort</td>\n",
       "    </tr>\n",
       "    <tr>\n",
       "      <th>58</th>\n",
       "      <td>4.7</td>\n",
       "      <td>Baner</td>\n",
       "    </tr>\n",
       "    <tr>\n",
       "      <th>61</th>\n",
       "      <td>4.5</td>\n",
       "      <td>Bund Garden Road</td>\n",
       "    </tr>\n",
       "    <tr>\n",
       "      <th>63</th>\n",
       "      <td>4.5</td>\n",
       "      <td>Shivaji Nagar</td>\n",
       "    </tr>\n",
       "    <tr>\n",
       "      <th>65</th>\n",
       "      <td>4.4</td>\n",
       "      <td>ABC Farms,Mundhwa</td>\n",
       "    </tr>\n",
       "  </tbody>\n",
       "</table>\n",
       "</div>"
      ],
      "text/plain": [
       "    dine_rating                                              loc\n",
       "2           4.5                    Conrad Pune, Bund Garden Road\n",
       "5           4.5                           Hyatt Pune, Nagar Road\n",
       "8           4.5                 Sheraton Grand, Bund Garden Road\n",
       "18          4.3                    The Hyatt Regency, Nagar Road\n",
       "21          4.8            JW Marriott Pune, Senapati Bapat Road\n",
       "22          4.3  Crowne Plaza Pune City Centre, Bund Garden Road\n",
       "25          4.4            JW Marriott Pune, Senapati Bapat Road\n",
       "29          4.3                      Blue Diamond, Koregaon Park\n",
       "38          4.8                                    Koregaon Park\n",
       "39          4.6                                          Mundhwa\n",
       "40          4.3                          Vivanta Pune, Hinjewadi\n",
       "42          4.5            JW Marriott Pune, Senapati Bapat Road\n",
       "43          4.4                                      East Street\n",
       "49          4.9                                    Koregaon Park\n",
       "52          4.4                             Marriott Suites Pune\n",
       "53          4.4                           Della Adventure Resort\n",
       "58          4.7                                            Baner\n",
       "61          4.5                                 Bund Garden Road\n",
       "63          4.5                                    Shivaji Nagar\n",
       "65          4.4                                ABC Farms,Mundhwa"
      ]
     },
     "execution_count": 65,
     "metadata": {},
     "output_type": "execute_result"
    }
   ],
   "source": [
    "best_rest=df_locations[df_locations[\"dine_rating\"]>4.2]\n",
    "best_rest.head(20)"
   ]
  },
  {
   "cell_type": "code",
   "execution_count": 54,
   "metadata": {},
   "outputs": [
    {
     "data": {
      "text/plain": [
       "(439, 2)"
      ]
     },
     "execution_count": 54,
     "metadata": {},
     "output_type": "execute_result"
    }
   ],
   "source": [
    "best_rest.shape"
   ]
  },
  {
   "cell_type": "code",
   "execution_count": 66,
   "metadata": {},
   "outputs": [
    {
     "name": "stdout",
     "output_type": "stream",
     "text": [
      "<pandas.core.groupby.generic.DataFrameGroupBy object at 0x000001A7FD6DA490>\n"
     ]
    }
   ],
   "source": [
    "a=best_rest.groupby(\"loc\")\n",
    "print(a)"
   ]
  },
  {
   "cell_type": "code",
   "execution_count": 67,
   "metadata": {},
   "outputs": [
    {
     "name": "stdout",
     "output_type": "stream",
     "text": [
      "loc\n",
      "ABC Farms,Mundhwa                 2\n",
      "Akurdi                            1\n",
      "Amanora Town Centre, Hadapsar     4\n",
      "Aundh                            17\n",
      "Balewadi                          3\n",
      "                                 ..\n",
      "Wagholi                           1\n",
      "Wakad                            11\n",
      "Wanowrie                          2\n",
      "Warje                             1\n",
      "Yerawada                          1\n",
      "Length: 91, dtype: int64\n",
      "<class 'pandas.core.series.Series'>\n"
     ]
    }
   ],
   "source": [
    "location_wise_best_Restaurant=a.size()\n",
    "print(location_wise_best_Restaurant)\n",
    "print(type(location_wise_best_Restaurant))"
   ]
  },
  {
   "cell_type": "code",
   "execution_count": 68,
   "metadata": {
    "scrolled": true
   },
   "outputs": [
    {
     "data": {
      "text/plain": [
       "loc\n",
       "Koregaon Park       47\n",
       "Kothrud             26\n",
       "Baner               25\n",
       "Kalyani Nagar       23\n",
       "Viman Nagar         21\n",
       "Aundh               17\n",
       "Erandwane           15\n",
       "Wakad               11\n",
       "FC Road             10\n",
       "Dhole Patil Road     9\n",
       "dtype: int64"
      ]
     },
     "execution_count": 68,
     "metadata": {},
     "output_type": "execute_result"
    }
   ],
   "source": [
    "location_wise_best=location_wise_best_Restaurant.sort_values(ascending=False)\n",
    "a=location_wise_best[:10]\n",
    "\n",
    "a"
   ]
  },
  {
   "cell_type": "code",
   "execution_count": 58,
   "metadata": {},
   "outputs": [
    {
     "data": {
      "text/plain": [
       "<AxesSubplot:ylabel='loc'>"
      ]
     },
     "execution_count": 58,
     "metadata": {},
     "output_type": "execute_result"
    },
    {
     "data": {
      "image/png": "[encoded data removed]",
      "text/plain": [
       "<Figure size 432x288 with 1 Axes>"
      ]
     },
     "metadata": {
      "needs_background": "light"
     },
     "output_type": "display_data"
    }
   ],
   "source": [
    "#bar plot\n",
    "\n",
    "sns.barplot(x=a,y=a.index)\n",
    "\n"
   ]
  },
  {
   "cell_type": "code",
   "execution_count": 59,
   "metadata": {},
   "outputs": [],
   "source": [
    "#total number of restaurant by location\n",
    "\n",
    "Number_of_location=df[['loc','dine_rating']]\n",
    "a=Number_of_location.groupby(\"loc\")\n",
    "rest_per_location=a.size()\n",
    "\n"
   ]
  },
  {
   "cell_type": "code",
   "execution_count": 60,
   "metadata": {},
   "outputs": [
    {
     "data": {
      "text/plain": [
       "loc\n",
       "Kothrud                           264\n",
       "Wakad                             225\n",
       "Viman Nagar                       224\n",
       "Baner                             219\n",
       "Hinjawadi                         213\n",
       "                                 ... \n",
       "Rahul Complex, Kothrud              1\n",
       "Bopkhel                             1\n",
       "St Laurn Hotel, Koregaon Park       1\n",
       "Super Mall                          1\n",
       " Hotel Satish Executive, Wakad      1\n",
       "Length: 193, dtype: int64"
      ]
     },
     "execution_count": 60,
     "metadata": {},
     "output_type": "execute_result"
    }
   ],
   "source": [
    "rest_per_location=rest_per_location.sort_values(ascending=False)\n",
    "rest_per_location"
   ]
  },
  {
   "cell_type": "code",
   "execution_count": 61,
   "metadata": {},
   "outputs": [
    {
     "data": {
      "text/plain": [
       "loc\n",
       "Kothrud            264\n",
       "Wakad              225\n",
       "Viman Nagar        224\n",
       "Baner              219\n",
       "Hinjawadi          213\n",
       "Hadapsar           183\n",
       "Kharadi            180\n",
       "Sinhgad Road       142\n",
       "Pimple Saudagar    134\n",
       "Koregaon Park      123\n",
       "dtype: int64"
      ]
     },
     "execution_count": 61,
     "metadata": {},
     "output_type": "execute_result"
    }
   ],
   "source": [
    "rest_per_location[:10]"
   ]
  },
  {
   "cell_type": "code",
   "execution_count": 62,
   "metadata": {},
   "outputs": [],
   "source": [
    "#now we want to find \n",
    "#(number of rest which got more than 4.2/ total number of rest) per location\n",
    "#we are concatinating two series together\n",
    "frames=[rest_per_location,location_wise_best]\n",
    "data_n=pd.concat(\n",
    "    frames,\n",
    "    axis=1,\n",
    "    join=\"inner\",\n",
    "    ignore_index=False,\n",
    "    copy=True,\n",
    ")"
   ]
  },
  {
   "cell_type": "code",
   "execution_count": 63,
   "metadata": {},
   "outputs": [
    {
     "data": {
      "text/html": [
       "<div>\n",
       "<style scoped>\n",
       "    .dataframe tbody tr th:only-of-type {\n",
       "        vertical-align: middle;\n",
       "    }\n",
       "\n",
       "    .dataframe tbody tr th {\n",
       "        vertical-align: top;\n",
       "    }\n",
       "\n",
       "    .dataframe thead th {\n",
       "        text-align: right;\n",
       "    }\n",
       "</style>\n",
       "<table border=\"1\" class=\"dataframe\">\n",
       "  <thead>\n",
       "    <tr style=\"text-align: right;\">\n",
       "      <th></th>\n",
       "      <th>0</th>\n",
       "      <th>1</th>\n",
       "    </tr>\n",
       "    <tr>\n",
       "      <th>loc</th>\n",
       "      <th></th>\n",
       "      <th></th>\n",
       "    </tr>\n",
       "  </thead>\n",
       "  <tbody>\n",
       "    <tr>\n",
       "      <th>Kothrud</th>\n",
       "      <td>264</td>\n",
       "      <td>26</td>\n",
       "    </tr>\n",
       "    <tr>\n",
       "      <th>Wakad</th>\n",
       "      <td>225</td>\n",
       "      <td>11</td>\n",
       "    </tr>\n",
       "    <tr>\n",
       "      <th>Viman Nagar</th>\n",
       "      <td>224</td>\n",
       "      <td>21</td>\n",
       "    </tr>\n",
       "    <tr>\n",
       "      <th>Baner</th>\n",
       "      <td>219</td>\n",
       "      <td>25</td>\n",
       "    </tr>\n",
       "    <tr>\n",
       "      <th>Hinjawadi</th>\n",
       "      <td>213</td>\n",
       "      <td>7</td>\n",
       "    </tr>\n",
       "    <tr>\n",
       "      <th>...</th>\n",
       "      <td>...</td>\n",
       "      <td>...</td>\n",
       "    </tr>\n",
       "    <tr>\n",
       "      <th>The Mills, Bund Garden Road</th>\n",
       "      <td>1</td>\n",
       "      <td>1</td>\n",
       "    </tr>\n",
       "    <tr>\n",
       "      <th>The E-Square Hotel, Shivaji Nagar</th>\n",
       "      <td>1</td>\n",
       "      <td>1</td>\n",
       "    </tr>\n",
       "    <tr>\n",
       "      <th>Creaticity Mall, Yerawada</th>\n",
       "      <td>1</td>\n",
       "      <td>1</td>\n",
       "    </tr>\n",
       "    <tr>\n",
       "      <th>Panchshil Tech Park, Yerawada</th>\n",
       "      <td>1</td>\n",
       "      <td>1</td>\n",
       "    </tr>\n",
       "    <tr>\n",
       "      <th>Parichay Hotel, FC Road</th>\n",
       "      <td>1</td>\n",
       "      <td>1</td>\n",
       "    </tr>\n",
       "  </tbody>\n",
       "</table>\n",
       "<p>91 rows × 2 columns</p>\n",
       "</div>"
      ],
      "text/plain": [
       "                                     0   1\n",
       "loc                                       \n",
       "Kothrud                            264  26\n",
       "Wakad                              225  11\n",
       "Viman Nagar                        224  21\n",
       "Baner                              219  25\n",
       "Hinjawadi                          213   7\n",
       "...                                ...  ..\n",
       "The Mills, Bund Garden Road          1   1\n",
       "The E-Square Hotel, Shivaji Nagar    1   1\n",
       "Creaticity Mall, Yerawada            1   1\n",
       "Panchshil Tech Park, Yerawada        1   1\n",
       "Parichay Hotel, FC Road              1   1\n",
       "\n",
       "[91 rows x 2 columns]"
      ]
     },
     "execution_count": 63,
     "metadata": {},
     "output_type": "execute_result"
    }
   ],
   "source": [
    "data_n"
   ]
  },
  {
   "cell_type": "code",
   "execution_count": 64,
   "metadata": {},
   "outputs": [
    {
     "data": {
      "text/plain": [
       "loc\n",
       "Kothrud                              264\n",
       "Wakad                                225\n",
       "Viman Nagar                          224\n",
       "Baner                                219\n",
       "Hinjawadi                            213\n",
       "                                    ... \n",
       "The Mills, Bund Garden Road            1\n",
       "The E-Square Hotel, Shivaji Nagar      1\n",
       "Creaticity Mall, Yerawada              1\n",
       "Panchshil Tech Park, Yerawada          1\n",
       "Parichay Hotel, FC Road                1\n",
       "Name: 0, Length: 91, dtype: int64"
      ]
     },
     "execution_count": 64,
     "metadata": {},
     "output_type": "execute_result"
    }
   ],
   "source": [
    "data_n[0]"
   ]
  },
  {
   "cell_type": "code",
   "execution_count": 65,
   "metadata": {},
   "outputs": [
    {
     "name": "stdout",
     "output_type": "stream",
     "text": [
      "91\n"
     ]
    }
   ],
   "source": [
    "print(len(data_n[0].values))"
   ]
  },
  {
   "cell_type": "code",
   "execution_count": 66,
   "metadata": {},
   "outputs": [],
   "source": [
    "data_n['popularity_percentage']=list(map(lambda t: (t[1]/t[0])*100, zip(data_n[0], data_n[1])))\n"
   ]
  },
  {
   "cell_type": "code",
   "execution_count": 67,
   "metadata": {},
   "outputs": [
    {
     "data": {
      "text/html": [
       "<div>\n",
       "<style scoped>\n",
       "    .dataframe tbody tr th:only-of-type {\n",
       "        vertical-align: middle;\n",
       "    }\n",
       "\n",
       "    .dataframe tbody tr th {\n",
       "        vertical-align: top;\n",
       "    }\n",
       "\n",
       "    .dataframe thead th {\n",
       "        text-align: right;\n",
       "    }\n",
       "</style>\n",
       "<table border=\"1\" class=\"dataframe\">\n",
       "  <thead>\n",
       "    <tr style=\"text-align: right;\">\n",
       "      <th></th>\n",
       "      <th>0</th>\n",
       "      <th>1</th>\n",
       "      <th>popularity_percentage</th>\n",
       "    </tr>\n",
       "    <tr>\n",
       "      <th>loc</th>\n",
       "      <th></th>\n",
       "      <th></th>\n",
       "      <th></th>\n",
       "    </tr>\n",
       "  </thead>\n",
       "  <tbody>\n",
       "    <tr>\n",
       "      <th>Kothrud</th>\n",
       "      <td>264</td>\n",
       "      <td>26</td>\n",
       "      <td>9.848485</td>\n",
       "    </tr>\n",
       "    <tr>\n",
       "      <th>Wakad</th>\n",
       "      <td>225</td>\n",
       "      <td>11</td>\n",
       "      <td>4.888889</td>\n",
       "    </tr>\n",
       "    <tr>\n",
       "      <th>Viman Nagar</th>\n",
       "      <td>224</td>\n",
       "      <td>21</td>\n",
       "      <td>9.375000</td>\n",
       "    </tr>\n",
       "    <tr>\n",
       "      <th>Baner</th>\n",
       "      <td>219</td>\n",
       "      <td>25</td>\n",
       "      <td>11.415525</td>\n",
       "    </tr>\n",
       "    <tr>\n",
       "      <th>Hinjawadi</th>\n",
       "      <td>213</td>\n",
       "      <td>7</td>\n",
       "      <td>3.286385</td>\n",
       "    </tr>\n",
       "    <tr>\n",
       "      <th>...</th>\n",
       "      <td>...</td>\n",
       "      <td>...</td>\n",
       "      <td>...</td>\n",
       "    </tr>\n",
       "    <tr>\n",
       "      <th>The Mills, Bund Garden Road</th>\n",
       "      <td>1</td>\n",
       "      <td>1</td>\n",
       "      <td>100.000000</td>\n",
       "    </tr>\n",
       "    <tr>\n",
       "      <th>The E-Square Hotel, Shivaji Nagar</th>\n",
       "      <td>1</td>\n",
       "      <td>1</td>\n",
       "      <td>100.000000</td>\n",
       "    </tr>\n",
       "    <tr>\n",
       "      <th>Creaticity Mall, Yerawada</th>\n",
       "      <td>1</td>\n",
       "      <td>1</td>\n",
       "      <td>100.000000</td>\n",
       "    </tr>\n",
       "    <tr>\n",
       "      <th>Panchshil Tech Park, Yerawada</th>\n",
       "      <td>1</td>\n",
       "      <td>1</td>\n",
       "      <td>100.000000</td>\n",
       "    </tr>\n",
       "    <tr>\n",
       "      <th>Parichay Hotel, FC Road</th>\n",
       "      <td>1</td>\n",
       "      <td>1</td>\n",
       "      <td>100.000000</td>\n",
       "    </tr>\n",
       "  </tbody>\n",
       "</table>\n",
       "<p>91 rows × 3 columns</p>\n",
       "</div>"
      ],
      "text/plain": [
       "                                     0   1  popularity_percentage\n",
       "loc                                                              \n",
       "Kothrud                            264  26               9.848485\n",
       "Wakad                              225  11               4.888889\n",
       "Viman Nagar                        224  21               9.375000\n",
       "Baner                              219  25              11.415525\n",
       "Hinjawadi                          213   7               3.286385\n",
       "...                                ...  ..                    ...\n",
       "The Mills, Bund Garden Road          1   1             100.000000\n",
       "The E-Square Hotel, Shivaji Nagar    1   1             100.000000\n",
       "Creaticity Mall, Yerawada            1   1             100.000000\n",
       "Panchshil Tech Park, Yerawada        1   1             100.000000\n",
       "Parichay Hotel, FC Road              1   1             100.000000\n",
       "\n",
       "[91 rows x 3 columns]"
      ]
     },
     "execution_count": 67,
     "metadata": {},
     "output_type": "execute_result"
    }
   ],
   "source": [
    "data_n"
   ]
  },
  {
   "cell_type": "code",
   "execution_count": 68,
   "metadata": {},
   "outputs": [],
   "source": [
    "data_updated=data_n[data_n[0]>100]"
   ]
  },
  {
   "cell_type": "code",
   "execution_count": 69,
   "metadata": {},
   "outputs": [
    {
     "data": {
      "text/html": [
       "<div>\n",
       "<style scoped>\n",
       "    .dataframe tbody tr th:only-of-type {\n",
       "        vertical-align: middle;\n",
       "    }\n",
       "\n",
       "    .dataframe tbody tr th {\n",
       "        vertical-align: top;\n",
       "    }\n",
       "\n",
       "    .dataframe thead th {\n",
       "        text-align: right;\n",
       "    }\n",
       "</style>\n",
       "<table border=\"1\" class=\"dataframe\">\n",
       "  <thead>\n",
       "    <tr style=\"text-align: right;\">\n",
       "      <th></th>\n",
       "      <th>0</th>\n",
       "      <th>1</th>\n",
       "      <th>popularity_percentage</th>\n",
       "    </tr>\n",
       "    <tr>\n",
       "      <th>loc</th>\n",
       "      <th></th>\n",
       "      <th></th>\n",
       "      <th></th>\n",
       "    </tr>\n",
       "  </thead>\n",
       "  <tbody>\n",
       "    <tr>\n",
       "      <th>Kothrud</th>\n",
       "      <td>264</td>\n",
       "      <td>26</td>\n",
       "      <td>9.848485</td>\n",
       "    </tr>\n",
       "    <tr>\n",
       "      <th>Wakad</th>\n",
       "      <td>225</td>\n",
       "      <td>11</td>\n",
       "      <td>4.888889</td>\n",
       "    </tr>\n",
       "    <tr>\n",
       "      <th>Viman Nagar</th>\n",
       "      <td>224</td>\n",
       "      <td>21</td>\n",
       "      <td>9.375000</td>\n",
       "    </tr>\n",
       "    <tr>\n",
       "      <th>Baner</th>\n",
       "      <td>219</td>\n",
       "      <td>25</td>\n",
       "      <td>11.415525</td>\n",
       "    </tr>\n",
       "    <tr>\n",
       "      <th>Hinjawadi</th>\n",
       "      <td>213</td>\n",
       "      <td>7</td>\n",
       "      <td>3.286385</td>\n",
       "    </tr>\n",
       "    <tr>\n",
       "      <th>Hadapsar</th>\n",
       "      <td>183</td>\n",
       "      <td>3</td>\n",
       "      <td>1.639344</td>\n",
       "    </tr>\n",
       "    <tr>\n",
       "      <th>Kharadi</th>\n",
       "      <td>180</td>\n",
       "      <td>8</td>\n",
       "      <td>4.444444</td>\n",
       "    </tr>\n",
       "    <tr>\n",
       "      <th>Sinhgad Road</th>\n",
       "      <td>142</td>\n",
       "      <td>6</td>\n",
       "      <td>4.225352</td>\n",
       "    </tr>\n",
       "    <tr>\n",
       "      <th>Pimple Saudagar</th>\n",
       "      <td>134</td>\n",
       "      <td>7</td>\n",
       "      <td>5.223881</td>\n",
       "    </tr>\n",
       "    <tr>\n",
       "      <th>Koregaon Park</th>\n",
       "      <td>123</td>\n",
       "      <td>47</td>\n",
       "      <td>38.211382</td>\n",
       "    </tr>\n",
       "    <tr>\n",
       "      <th>Chinchwad</th>\n",
       "      <td>114</td>\n",
       "      <td>2</td>\n",
       "      <td>1.754386</td>\n",
       "    </tr>\n",
       "    <tr>\n",
       "      <th>Aundh</th>\n",
       "      <td>113</td>\n",
       "      <td>17</td>\n",
       "      <td>15.044248</td>\n",
       "    </tr>\n",
       "    <tr>\n",
       "      <th>Kondhwa</th>\n",
       "      <td>104</td>\n",
       "      <td>4</td>\n",
       "      <td>3.846154</td>\n",
       "    </tr>\n",
       "  </tbody>\n",
       "</table>\n",
       "</div>"
      ],
      "text/plain": [
       "                   0   1  popularity_percentage\n",
       "loc                                            \n",
       "Kothrud          264  26               9.848485\n",
       "Wakad            225  11               4.888889\n",
       "Viman Nagar      224  21               9.375000\n",
       "Baner            219  25              11.415525\n",
       "Hinjawadi        213   7               3.286385\n",
       "Hadapsar         183   3               1.639344\n",
       "Kharadi          180   8               4.444444\n",
       "Sinhgad Road     142   6               4.225352\n",
       "Pimple Saudagar  134   7               5.223881\n",
       "Koregaon Park    123  47              38.211382\n",
       "Chinchwad        114   2               1.754386\n",
       "Aundh            113  17              15.044248\n",
       "Kondhwa          104   4               3.846154"
      ]
     },
     "execution_count": 69,
     "metadata": {},
     "output_type": "execute_result"
    }
   ],
   "source": [
    "data_updated"
   ]
  },
  {
   "cell_type": "code",
   "execution_count": 70,
   "metadata": {},
   "outputs": [],
   "source": [
    "data_updated=data_updated.sort_values(by=\"popularity_percentage\",ascending=False)"
   ]
  },
  {
   "cell_type": "code",
   "execution_count": 71,
   "metadata": {},
   "outputs": [
    {
     "data": {
      "text/html": [
       "<div>\n",
       "<style scoped>\n",
       "    .dataframe tbody tr th:only-of-type {\n",
       "        vertical-align: middle;\n",
       "    }\n",
       "\n",
       "    .dataframe tbody tr th {\n",
       "        vertical-align: top;\n",
       "    }\n",
       "\n",
       "    .dataframe thead th {\n",
       "        text-align: right;\n",
       "    }\n",
       "</style>\n",
       "<table border=\"1\" class=\"dataframe\">\n",
       "  <thead>\n",
       "    <tr style=\"text-align: right;\">\n",
       "      <th></th>\n",
       "      <th>0</th>\n",
       "      <th>1</th>\n",
       "      <th>popularity_percentage</th>\n",
       "    </tr>\n",
       "    <tr>\n",
       "      <th>loc</th>\n",
       "      <th></th>\n",
       "      <th></th>\n",
       "      <th></th>\n",
       "    </tr>\n",
       "  </thead>\n",
       "  <tbody>\n",
       "    <tr>\n",
       "      <th>Koregaon Park</th>\n",
       "      <td>123</td>\n",
       "      <td>47</td>\n",
       "      <td>38.211382</td>\n",
       "    </tr>\n",
       "    <tr>\n",
       "      <th>Aundh</th>\n",
       "      <td>113</td>\n",
       "      <td>17</td>\n",
       "      <td>15.044248</td>\n",
       "    </tr>\n",
       "    <tr>\n",
       "      <th>Baner</th>\n",
       "      <td>219</td>\n",
       "      <td>25</td>\n",
       "      <td>11.415525</td>\n",
       "    </tr>\n",
       "    <tr>\n",
       "      <th>Kothrud</th>\n",
       "      <td>264</td>\n",
       "      <td>26</td>\n",
       "      <td>9.848485</td>\n",
       "    </tr>\n",
       "    <tr>\n",
       "      <th>Viman Nagar</th>\n",
       "      <td>224</td>\n",
       "      <td>21</td>\n",
       "      <td>9.375000</td>\n",
       "    </tr>\n",
       "    <tr>\n",
       "      <th>Pimple Saudagar</th>\n",
       "      <td>134</td>\n",
       "      <td>7</td>\n",
       "      <td>5.223881</td>\n",
       "    </tr>\n",
       "    <tr>\n",
       "      <th>Wakad</th>\n",
       "      <td>225</td>\n",
       "      <td>11</td>\n",
       "      <td>4.888889</td>\n",
       "    </tr>\n",
       "    <tr>\n",
       "      <th>Kharadi</th>\n",
       "      <td>180</td>\n",
       "      <td>8</td>\n",
       "      <td>4.444444</td>\n",
       "    </tr>\n",
       "    <tr>\n",
       "      <th>Sinhgad Road</th>\n",
       "      <td>142</td>\n",
       "      <td>6</td>\n",
       "      <td>4.225352</td>\n",
       "    </tr>\n",
       "    <tr>\n",
       "      <th>Kondhwa</th>\n",
       "      <td>104</td>\n",
       "      <td>4</td>\n",
       "      <td>3.846154</td>\n",
       "    </tr>\n",
       "    <tr>\n",
       "      <th>Hinjawadi</th>\n",
       "      <td>213</td>\n",
       "      <td>7</td>\n",
       "      <td>3.286385</td>\n",
       "    </tr>\n",
       "    <tr>\n",
       "      <th>Chinchwad</th>\n",
       "      <td>114</td>\n",
       "      <td>2</td>\n",
       "      <td>1.754386</td>\n",
       "    </tr>\n",
       "    <tr>\n",
       "      <th>Hadapsar</th>\n",
       "      <td>183</td>\n",
       "      <td>3</td>\n",
       "      <td>1.639344</td>\n",
       "    </tr>\n",
       "  </tbody>\n",
       "</table>\n",
       "</div>"
      ],
      "text/plain": [
       "                   0   1  popularity_percentage\n",
       "loc                                            \n",
       "Koregaon Park    123  47              38.211382\n",
       "Aundh            113  17              15.044248\n",
       "Baner            219  25              11.415525\n",
       "Kothrud          264  26               9.848485\n",
       "Viman Nagar      224  21               9.375000\n",
       "Pimple Saudagar  134   7               5.223881\n",
       "Wakad            225  11               4.888889\n",
       "Kharadi          180   8               4.444444\n",
       "Sinhgad Road     142   6               4.225352\n",
       "Kondhwa          104   4               3.846154\n",
       "Hinjawadi        213   7               3.286385\n",
       "Chinchwad        114   2               1.754386\n",
       "Hadapsar         183   3               1.639344"
      ]
     },
     "execution_count": 71,
     "metadata": {},
     "output_type": "execute_result"
    }
   ],
   "source": [
    "data_updated"
   ]
  },
  {
   "cell_type": "code",
   "execution_count": 72,
   "metadata": {
    "scrolled": false
   },
   "outputs": [
    {
     "data": {
      "text/plain": [
       "<AxesSubplot:xlabel='popularity_percentage', ylabel='loc'>"
      ]
     },
     "execution_count": 72,
     "metadata": {},
     "output_type": "execute_result"
    },
    {
     "data": {
      "image/png": "[encoded data removed]",
      "text/plain": [
       "<Figure size 432x288 with 1 Axes>"
      ]
     },
     "metadata": {
      "needs_background": "light"
     },
     "output_type": "display_data"
    }
   ],
   "source": [
    "sns.barplot(data_updated['popularity_percentage'],data_updated.index)"
   ]
  },
  {
   "cell_type": "markdown",
   "metadata": {},
   "source": [
    "These are the best locations in pune where find the high rated restaurants\n",
    "\n",
    "Koregaun Park has the highest popuarity percentage out of all the locations in pune"
   ]
  },
  {
   "cell_type": "markdown",
   "metadata": {},
   "source": [
    "# THE END\n"
   ]
  },
  {
   "cell_type": "code",
   "execution_count": null,
   "metadata": {},
   "outputs": [],
   "source": []
  }
 ],
 "metadata": {
  "kernelspec": {
   "display_name": "Python 3 (ipykernel)",
   "language": "python",
   "name": "python3"
  },
  "language_info": {
   "codemirror_mode": {
    "name": "ipython",
    "version": 3
   },
   "file_extension": ".py",
   "mimetype": "text/x-python",
   "name": "python",
   "nbconvert_exporter": "python",
   "pygments_lexer": "ipython3",
   "version": "3.11.3"
  }
 },
 "nbformat": 4,
 "nbformat_minor": 4
}
